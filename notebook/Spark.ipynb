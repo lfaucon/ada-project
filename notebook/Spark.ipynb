{
 "cells": [
  {
   "cell_type": "markdown",
   "metadata": {},
   "source": [
    "# ADA - Project\n",
    "## With Spark"
   ]
  },
  {
   "cell_type": "markdown",
   "metadata": {},
   "source": [
    "## Getting started"
   ]
  },
  {
   "cell_type": "code",
   "execution_count": 1,
   "metadata": {
    "collapsed": true
   },
   "outputs": [],
   "source": [
    "from pyspark import SparkContext"
   ]
  },
  {
   "cell_type": "code",
   "execution_count": 2,
   "metadata": {
    "collapsed": true
   },
   "outputs": [],
   "source": [
    "sc = SparkContext(\"local\", \"ADA\")"
   ]
  },
  {
   "cell_type": "code",
   "execution_count": 3,
   "metadata": {
    "collapsed": false
   },
   "outputs": [
    {
     "data": {
      "text/plain": [
       "4950"
      ]
     },
     "execution_count": 3,
     "metadata": {},
     "output_type": "execute_result"
    }
   ],
   "source": [
    "data = sc.parallelize(range(100))\n",
    "data.sum()"
   ]
  },
  {
   "cell_type": "markdown",
   "metadata": {},
   "source": [
    "If you received 4950 as a result, your spark is working well :) Good job !"
   ]
  },
  {
   "cell_type": "markdown",
   "metadata": {},
   "source": [
    "## Importing and parsing the data"
   ]
  },
  {
   "cell_type": "code",
   "execution_count": 4,
   "metadata": {
    "collapsed": false
   },
   "outputs": [
    {
     "name": "stdout",
     "output_type": "stream",
     "text": [
      "\n",
      "--- PROBLEM_EVENTS ---\n",
      "\n",
      "0 EventID / 1 ForumUserID / 2 MaximumSubmissions / 3 AccountUserID / 4 SubmissionNumber / 5 Grade / 6 TimeStamp / 7 DataPackageID / 8 ProblemID / 9 SoftCloseTime / 10 ProblemType / 11 HardCloseTime / 12 Platform / 13 OpenTime / 14 EventType / 15 Title / 16 SessionUserID / 17 UniqueProblemID / 18 UniqueUserID / \n",
      "--- VIDEO_EVENTS ---\n",
      "\n",
      "0 EventID / 1 ForumUserID / 2 OldTime / 3 AccountUserID / 4 CurrentTime / 5 SeekType / 6 TimeStamp / 7 DataPackageID / 8 UniqueRowID / 9 TableName / 10 VideoID / 11 Platform / 12 NewSpeed / 13 EventSource / 14 EventType / 15 SessionUserID / 16 NewTime / 17 OldSpeed / \n",
      "--- FORUM_EVENTS ---\n",
      "\n",
      "0 EventID / 1 ForumUserID / 2 PostID / 3 AccountUserID / 4 TimeStamp / 5 DataPackageID / 6 UniqueRowID / 7 TableName / 8 Platform / 9 EventSource / 10 PostType / 11 EventType / 12 JoinID / 13 SessionUserID / "
     ]
    }
   ],
   "source": [
    "# Reading csv files: Create RDD () with one string entry per line in the file\n",
    "rdd_problem_events = sc.textFile(\"../data/progfun-002_Problem_Events_with_Info.csv\")\n",
    "rdd_video_events = sc.textFile(\"../data/progfun-002_Video_Events.csv\")\n",
    "rdd_forum_events = sc.textFile(\"../data/progfun-002_Forum_Events.csv\")\n",
    "\n",
    "# Prints the first along with indices for each table\n",
    "print(\"\\n--- PROBLEM_EVENTS ---\\n\")\n",
    "for idx,field in enumerate(rdd_problem_events.take(1)[0].split(\",\")): \n",
    "    print(idx,field, end=\" / \")\n",
    "\n",
    "print(\"\\n--- VIDEO_EVENTS ---\\n\")\n",
    "for idx,field in enumerate(rdd_video_events.take(1)[0].split(\",\")): \n",
    "    print(idx,field, end=\" / \")\n",
    "\n",
    "print(\"\\n--- FORUM_EVENTS ---\\n\")\n",
    "for idx,field in enumerate(rdd_forum_events.take(1)[0].split(\",\")): \n",
    "    print(idx,field, end=\" / \")"
   ]
  },
  {
   "cell_type": "code",
   "execution_count": 5,
   "metadata": {
    "collapsed": false
   },
   "outputs": [
    {
     "name": "stdout",
     "output_type": "stream",
     "text": [
      "3bcd1a54ed6ddb04b4a6fb2906110a01,None,0,None,7,None,1365344171,progfun-002,7,2147483640,Video,2147483640,Coursera,32400,Problem.Check,Lecture 1.2 - Elements of Programming (14:25),c4d4e5fcd2feba9f3234ee8d852dc7b22fbc07e4,f322944718b2ee0e53292118111533c7,21f13b3f6b50a83343b57d2f1d07dbdf \n",
      "\n",
      "db75adce6b87e7ab79242ea0af4b82d4,None,154.696,None,154.697,None,1372391638,progfun-002,00000078c0f0685cc50a25a8d5734a88,Video_Events,33,coursera,1.0,None,Video.Play,ef64fb7b096008f7eaf8441684afdf99af9af54a,None,1.0 \n",
      "\n",
      "f3fdb52859b2511308aee554a573194e,None,17,4108315,1376254235,progfun-002,000006c12322ca29c7013dac42ef1a6a,Forum_Events,coursera,None,Thread,Forum.Thread.View,03b1fa287de5ef57d9c8482195b5167f,None \n",
      "\n"
     ]
    }
   ],
   "source": [
    "# Use the filter method to remove the first line\n",
    "rdd_problem_events = rdd_problem_events.filter(lambda x: not x.startswith('EventID'))\n",
    "rdd_video_events = rdd_video_events.filter(lambda x: not x.startswith('EventID'))\n",
    "rdd_forum_events = rdd_forum_events.filter(lambda x: not x.startswith('EventID'))\n",
    "\n",
    "# Prints first record for each table\n",
    "print(rdd_problem_events.take(1)[0],\"\\n\") \n",
    "print(rdd_video_events.take(1)[0],\"\\n\") \n",
    "print(rdd_forum_events.take(1)[0],\"\\n\")"
   ]
  },
  {
   "cell_type": "code",
   "execution_count": 6,
   "metadata": {
    "collapsed": false
   },
   "outputs": [
    {
     "name": "stdout",
     "output_type": "stream",
     "text": [
      "458888\n",
      "{'ProblemType': 'Video', 'TimeStamp': '1365344171', 'EventSubType': 'Check', 'Grade': 'None', 'ProblemID': '7', 'SessionUserID': 'c4d4e5fcd2feba9f3234ee8d852dc7b22fbc07e4', 'EventType': 'Problem'} \n",
      "\n",
      "3471666\n",
      "{'TimeStamp': '1372391638', 'VideoID': '33', 'EventSubType': 'Play', 'SessionUserID': 'ef64fb7b096008f7eaf8441684afdf99af9af54a', 'EventType': 'Video'} \n",
      "\n",
      "297650\n",
      "{'AccountUserID': '4108315', 'EventSubType': 'Thread', 'TimeStamp': '1376254235', 'EventType': 'Forum'} \n",
      "\n"
     ]
    }
   ],
   "source": [
    "# Function to parse the string entries from previous dataset\n",
    "def parse_problems(x):\n",
    "    data = x.split(',')\n",
    "    return {\n",
    "        'Grade':data[5],\n",
    "        'TimeStamp':data[6],\n",
    "        'ProblemID':data[8],\n",
    "        'ProblemType':data[10],\n",
    "        'EventType':data[14].split('.')[0],\n",
    "        'EventSubType':data[14].split('.')[1],\n",
    "        'SessionUserID':data[16]\n",
    "    }\n",
    "\n",
    "def parse_videos(x):\n",
    "    data = x.split(',')\n",
    "    return {\n",
    "        'TimeStamp':data[6],\n",
    "        'VideoID':data[10],\n",
    "        'EventType':data[14].split('.')[0],\n",
    "        'EventSubType':data[14].split('.')[1],\n",
    "        'SessionUserID':data[15]\n",
    "    }\n",
    "\n",
    "def parse_forums(x):\n",
    "    data = x.split(',')\n",
    "    return {\n",
    "        'AccountUserID':data[3],\n",
    "        'TimeStamp':data[4],\n",
    "        'EventType':data[11].split('.')[0],\n",
    "        'EventSubType':data[11].split('.')[1]\n",
    "    }\n",
    "\n",
    "# Use the map method to have more workable data\n",
    "rdd_problem_events_parsed = rdd_problem_events.map(parse_problems)\n",
    "rdd_video_events_parsed = rdd_video_events.map(parse_videos)\n",
    "rdd_forum_events_parsed = rdd_forum_events.map(parse_forums)\n",
    "\n",
    "# Prints the count of elements along with the first element of each table\n",
    "print(rdd_problem_events_parsed.count())\n",
    "print(rdd_problem_events_parsed.take(1)[0],\"\\n\") \n",
    "print(rdd_video_events_parsed.count()) \n",
    "print(rdd_video_events_parsed.take(1)[0],\"\\n\") \n",
    "print(rdd_forum_events_parsed.count()) \n",
    "print(rdd_forum_events_parsed.take(1)[0],\"\\n\") \n"
   ]
  },
  {
   "cell_type": "code",
   "execution_count": 7,
   "metadata": {
    "collapsed": false
   },
   "outputs": [
    {
     "name": "stdout",
     "output_type": "stream",
     "text": [
      "ForumUserID,AccountUserID,DataPackageID,UniqueRowID,TableName,Platform,SessionUserID\n",
      "('2751555', '3b578c343cf9c2ab6526e12d047403d18182f01a')\n",
      "('1932792', ('a97848d806f0d88cf80dd154845693af40cf559f', {'AccountUserID': '1932792', 'EventSubType': 'ThreadSubscribe', 'TimeStamp': '1364416322', 'EventType': 'Forum'}))\n",
      "297650\n",
      "{'AccountUserID': '1932792', 'TimeStamp': '1364416322', 'EventSubType': 'ThreadSubscribe', 'SessionUserID': 'a97848d806f0d88cf80dd154845693af40cf559f', 'EventType': 'Forum'} \n",
      "\n"
     ]
    }
   ],
   "source": [
    "# Handles problem with the forum events table having 'AccountUserID' instead of 'SessionUserID'\n",
    "# Using the table progfun-002_User_Hash_Mapping\n",
    "rdd_user_mapping = sc.textFile(\"../data/progfun-002_User_Hash_Mapping.csv\")\n",
    "print(rdd_user_mapping.take(1)[0])\n",
    "\n",
    "rdd_user_mapping = (rdd_user_mapping\n",
    "    .filter(lambda x: not x.startswith(\"ForumUserID\"))\n",
    "    .map(lambda x:(x.split(\",\")[1],x.split(\",\")[6]))\n",
    ")\n",
    "print(rdd_user_mapping.take(1)[0])\n",
    "\n",
    "rdd_user_mapping = (rdd_user_mapping\n",
    "    .join(rdd_forum_events_parsed\n",
    "        .map(lambda x: (x['AccountUserID'],x))\n",
    "    )\n",
    ")\n",
    "print(rdd_user_mapping.take(1)[0])\n",
    "\n",
    "def f(x):\n",
    "    x[1][1]['SessionUserID']=x[1][0] \n",
    "    return x[1][1]\n",
    "rdd_forum_events_parsed = rdd_user_mapping.map(f)\n",
    "print(rdd_forum_events_parsed.count())\n",
    "print(rdd_forum_events_parsed.take(1)[0],\"\\n\")"
   ]
  },
  {
   "cell_type": "code",
   "execution_count": 8,
   "metadata": {
    "collapsed": false
   },
   "outputs": [
    {
     "name": "stdout",
     "output_type": "stream",
     "text": [
      "4228204\n",
      "{'ProblemType': 'Video', 'SessionUserID': 'c4d4e5fcd2feba9f3234ee8d852dc7b22fbc07e4', 'TimeStamp': '1365344171', 'Grade': 'None', 'EventSubType': 'Check', 'ProblemID': '7', 'EventType': 'Problem'} \n",
      "\n"
     ]
    }
   ],
   "source": [
    "# Concatenantes all three table into one big table\n",
    "rdd_events = (rdd_problem_events_parsed\n",
    "    .union(rdd_video_events_parsed)\n",
    "    .union(rdd_forum_events_parsed)\n",
    ")\n",
    "print(rdd_events.count())\n",
    "print(rdd_events.take(1)[0],\"\\n\")"
   ]
  },
  {
   "cell_type": "code",
   "execution_count": null,
   "metadata": {
    "collapsed": true
   },
   "outputs": [],
   "source": []
  },
  {
   "cell_type": "code",
   "execution_count": null,
   "metadata": {
    "collapsed": true
   },
   "outputs": [],
   "source": []
  },
  {
   "cell_type": "code",
   "execution_count": null,
   "metadata": {
    "collapsed": true
   },
   "outputs": [],
   "source": []
  },
  {
   "cell_type": "code",
   "execution_count": null,
   "metadata": {
    "collapsed": true
   },
   "outputs": [],
   "source": []
  }
 ],
 "metadata": {
  "anaconda-cloud": {},
  "kernelspec": {
   "display_name": "Python [Root]",
   "language": "python",
   "name": "Python [Root]"
  },
  "language_info": {
   "codemirror_mode": {
    "name": "ipython",
    "version": 3
   },
   "file_extension": ".py",
   "mimetype": "text/x-python",
   "name": "python",
   "nbconvert_exporter": "python",
   "pygments_lexer": "ipython3",
   "version": "3.5.2"
  }
 },
 "nbformat": 4,
 "nbformat_minor": 0
}
