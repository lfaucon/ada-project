{
 "cells": [
  {
   "cell_type": "markdown",
   "metadata": {},
   "source": [
    "# ADA - Project\n",
    "## With Spark"
   ]
  },
  {
   "cell_type": "markdown",
   "metadata": {},
   "source": [
    "## Getting started"
   ]
  },
  {
   "cell_type": "code",
   "execution_count": 1,
   "metadata": {
    "collapsed": true
   },
   "outputs": [],
   "source": [
    "from pyspark import SparkContext"
   ]
  },
  {
   "cell_type": "code",
   "execution_count": 2,
   "metadata": {
    "collapsed": true
   },
   "outputs": [],
   "source": [
    "sc = SparkContext(\"local\", \"ADA\")"
   ]
  },
  {
   "cell_type": "code",
   "execution_count": 3,
   "metadata": {
    "collapsed": false
   },
   "outputs": [
    {
     "data": {
      "text/plain": [
       "4950"
      ]
     },
     "execution_count": 3,
     "metadata": {},
     "output_type": "execute_result"
    }
   ],
   "source": [
    "data = sc.parallelize(range(100))\n",
    "data.sum()"
   ]
  },
  {
   "cell_type": "markdown",
   "metadata": {},
   "source": [
    "If you received 4950 as a result, your spark is working well :) Good job !"
   ]
  },
  {
   "cell_type": "markdown",
   "metadata": {},
   "source": [
    "## Configuration"
   ]
  },
  {
   "cell_type": "code",
   "execution_count": 4,
   "metadata": {
    "collapsed": true
   },
   "outputs": [],
   "source": [
    "config = {\n",
    "    \"session\":\"progfun-002\"\n",
    "}"
   ]
  },
  {
   "cell_type": "markdown",
   "metadata": {},
   "source": [
    "## Importing and parsing the data"
   ]
  },
  {
   "cell_type": "code",
   "execution_count": 5,
   "metadata": {
    "collapsed": false
   },
   "outputs": [
    {
     "name": "stdout",
     "output_type": "stream",
     "text": [
      "--- PROBLEM_EVENTS ---\n",
      "0 EventID / 1 ForumUserID / 2 MaximumSubmissions / 3 AccountUserID / 4 SubmissionNumber / 5 Grade / 6 TimeStamp / 7 DataPackageID / 8 ProblemID / 9 SoftCloseTime / 10 ProblemType / 11 HardCloseTime / 12 Platform / 13 OpenTime / 14 EventType / 15 Title / 16 SessionUserID / 17 UniqueProblemID / 18 UniqueUserID / \n",
      "\n",
      "--- VIDEO_EVENTS ---\n",
      "0 EventID / 1 ForumUserID / 2 OldTime / 3 AccountUserID / 4 CurrentTime / 5 SeekType / 6 TimeStamp / 7 DataPackageID / 8 UniqueRowID / 9 TableName / 10 VideoID / 11 Platform / 12 NewSpeed / 13 EventSource / 14 EventType / 15 SessionUserID / 16 NewTime / 17 OldSpeed / \n",
      "\n",
      "--- FORUM_EVENTS ---\n",
      "0 EventID / 1 ForumUserID / 2 PostID / 3 AccountUserID / 4 TimeStamp / 5 DataPackageID / 6 UniqueRowID / 7 TableName / 8 Platform / 9 EventSource / 10 PostType / 11 EventType / 12 JoinID / 13 SessionUserID / "
     ]
    }
   ],
   "source": [
    "# Reading csv files: Create RDD () with one string entry per line in the file\n",
    "rdd_problem_events = sc.textFile(\"../data/\"+config['session']+\"_Problem_Events_with_Info.csv\")\n",
    "rdd_video_events = sc.textFile(\"../data/\"+config['session']+\"_Video_Events.csv\")\n",
    "rdd_forum_events = sc.textFile(\"../data/\"+config['session']+\"_Forum_Events.csv\")\n",
    "\n",
    "# Prints the first line (header) along with indices for each table\n",
    "print(\"--- PROBLEM_EVENTS ---\")\n",
    "for idx,field in enumerate(rdd_problem_events.take(1)[0].split(\",\")): \n",
    "    print(idx,field, end=\" / \")\n",
    "\n",
    "print(\"\\n\\n--- VIDEO_EVENTS ---\")\n",
    "for idx,field in enumerate(rdd_video_events.take(1)[0].split(\",\")): \n",
    "    print(idx,field, end=\" / \")\n",
    "\n",
    "print(\"\\n\\n--- FORUM_EVENTS ---\")\n",
    "for idx,field in enumerate(rdd_forum_events.take(1)[0].split(\",\")): \n",
    "    print(idx,field, end=\" / \")"
   ]
  },
  {
   "cell_type": "code",
   "execution_count": 6,
   "metadata": {
    "collapsed": false
   },
   "outputs": [
    {
     "name": "stdout",
     "output_type": "stream",
     "text": [
      "3bcd1a54ed6ddb04b4a6fb2906110a01,None,0,None,7,None,1365344171,progfun-002,7,2147483640,Video,2147483640,Coursera,32400,Problem.Check,Lecture 1.2 - Elements of Programming (14:25),c4d4e5fcd2feba9f3234ee8d852dc7b22fbc07e4,f322944718b2ee0e53292118111533c7,21f13b3f6b50a83343b57d2f1d07dbdf \n",
      "\n",
      "db75adce6b87e7ab79242ea0af4b82d4,None,154.696,None,154.697,None,1372391638,progfun-002,00000078c0f0685cc50a25a8d5734a88,Video_Events,33,coursera,1.0,None,Video.Play,ef64fb7b096008f7eaf8441684afdf99af9af54a,None,1.0 \n",
      "\n",
      "f3fdb52859b2511308aee554a573194e,None,17,4108315,1376254235,progfun-002,000006c12322ca29c7013dac42ef1a6a,Forum_Events,coursera,None,Thread,Forum.Thread.View,03b1fa287de5ef57d9c8482195b5167f,None \n",
      "\n"
     ]
    }
   ],
   "source": [
    "# Use the filter method to remove the first line\n",
    "rdd_problem_events = rdd_problem_events.filter(lambda x: not x.startswith('EventID'))\n",
    "rdd_video_events = rdd_video_events.filter(lambda x: not x.startswith('EventID'))\n",
    "rdd_forum_events = rdd_forum_events.filter(lambda x: not x.startswith('EventID'))\n",
    "\n",
    "# Prints first record for each table\n",
    "print(rdd_problem_events.take(1)[0],\"\\n\") \n",
    "print(rdd_video_events.take(1)[0],\"\\n\") \n",
    "print(rdd_forum_events.take(1)[0],\"\\n\")"
   ]
  },
  {
   "cell_type": "code",
   "execution_count": 7,
   "metadata": {
    "collapsed": false
   },
   "outputs": [
    {
     "name": "stdout",
     "output_type": "stream",
     "text": [
      "458888\n",
      "{'Grade': 'None', 'EventSubType': 'Check', 'TimeStamp': '1365344171', 'EventType': 'Problem', 'SessionUserID': 'c4d4e5fcd2feba9f3234ee8d852dc7b22fbc07e4', 'ProblemID': '7', 'ProblemType': 'Video'} \n",
      "\n",
      "3471666\n",
      "{'EventType': 'Video', 'VideoID': '33', 'EventSubType': 'Play', 'SessionUserID': 'ef64fb7b096008f7eaf8441684afdf99af9af54a', 'TimeStamp': '1372391638'} \n",
      "\n",
      "297650\n",
      "{'EventSubType': 'Thread', 'AccountUserID': '4108315', 'EventType': 'Forum', 'TimeStamp': '1376254235'} \n",
      "\n"
     ]
    }
   ],
   "source": [
    "# Function to parse the string entries from previous dataset\n",
    "def parse_problems(x):\n",
    "    data = x.split(',')\n",
    "    return {\n",
    "        'Grade':data[5],\n",
    "        'TimeStamp':data[6],\n",
    "        'ProblemID':data[8],\n",
    "        'ProblemType':data[10],\n",
    "        'EventType':data[14].split('.')[0],\n",
    "        'EventSubType':data[14].split('.')[1],\n",
    "        'SessionUserID':data[16]\n",
    "    }\n",
    "\n",
    "def parse_videos(x):\n",
    "    data = x.split(',')\n",
    "    return {\n",
    "        'TimeStamp':data[6],\n",
    "        'VideoID':data[10],\n",
    "        'EventType':data[14].split('.')[0],\n",
    "        'EventSubType':data[14].split('.')[1],\n",
    "        'SessionUserID':data[15]\n",
    "    }\n",
    "\n",
    "def parse_forums(x):\n",
    "    data = x.split(',')\n",
    "    return {\n",
    "        'AccountUserID':data[3],\n",
    "        'TimeStamp':data[4],\n",
    "        'EventType':data[11].split('.')[0],\n",
    "        'EventSubType':data[11].split('.')[1]\n",
    "    }\n",
    "\n",
    "# Use the map method to have more workable data\n",
    "rdd_problem_events_parsed = rdd_problem_events.map(parse_problems)\n",
    "rdd_video_events_parsed = rdd_video_events.map(parse_videos)\n",
    "rdd_forum_events_parsed = rdd_forum_events.map(parse_forums)\n",
    "\n",
    "# Prints the count of elements along with the first element of each table\n",
    "print(rdd_problem_events_parsed.count())\n",
    "print(rdd_problem_events_parsed.take(1)[0],\"\\n\") \n",
    "print(rdd_video_events_parsed.count()) \n",
    "print(rdd_video_events_parsed.take(1)[0],\"\\n\") \n",
    "print(rdd_forum_events_parsed.count()) \n",
    "print(rdd_forum_events_parsed.take(1)[0],\"\\n\") \n"
   ]
  },
  {
   "cell_type": "code",
   "execution_count": 8,
   "metadata": {
    "collapsed": false
   },
   "outputs": [
    {
     "name": "stdout",
     "output_type": "stream",
     "text": [
      "ForumUserID,AccountUserID,DataPackageID,UniqueRowID,TableName,Platform,SessionUserID \n",
      "\n",
      "297650\n",
      "{'EventSubType': 'ThreadSubscribe', 'AccountUserID': '1932792', 'EventType': 'Forum', 'SessionUserID': 'a97848d806f0d88cf80dd154845693af40cf559f', 'TimeStamp': '1364416322'}\n"
     ]
    }
   ],
   "source": [
    "# Handles problem with the forum events table having 'AccountUserID' instead of 'SessionUserID'\n",
    "# Using the table progfun-002_User_Hash_Mapping\n",
    "rdd_user_mapping = sc.textFile(\"../data/\"+config['session']+\"_User_Hash_Mapping.csv\")\n",
    "print(rdd_user_mapping.take(1)[0],\"\\n\")\n",
    "\n",
    "def f(x):\n",
    "    x[1][1]['SessionUserID']=x[1][0] \n",
    "    return x[1][1]\n",
    "\n",
    "rdd_forum_events_parsed = (rdd_user_mapping\n",
    "    # removes header\n",
    "    .filter(lambda x: not x.startswith(\"ForumUserID\"))\n",
    "    # maps to have the format (Key=AccountUserID,Value=SessionUserID)\n",
    "    .map(lambda x:(x.split(\",\")[1],x.split(\",\")[6]))\n",
    "    # join with rdd_forum_event to get format (map to have the (Key=AccountUserID,Value=(SessionUserID,EventObject)) format)\n",
    "    .join(rdd_forum_events_parsed\n",
    "        # map to have the (Key=AccountUserID,Value=EventObject) format\n",
    "        .map(lambda x: (x['AccountUserID'],x))\n",
    "    )\n",
    "    # Use the function f to update EventObject with the joined SessionUserID\n",
    "    .map(f)\n",
    ")\n",
    "\n",
    "print(rdd_forum_events_parsed.count())\n",
    "print(rdd_forum_events_parsed.take(1)[0])"
   ]
  },
  {
   "cell_type": "code",
   "execution_count": 9,
   "metadata": {
    "collapsed": false
   },
   "outputs": [
    {
     "name": "stdout",
     "output_type": "stream",
     "text": [
      "105270\n",
      "{'Grade': '9.32999992371', 'EventSubType': 'Check', 'TimeStamp': '1366220878', 'EventType': 'Problem', 'SessionUserID': 'd8f79efa32a560b8a46ea2b12d9bed97c9e39b4b', 'ProblemID': '6', 'ProblemType': 'Assignment'}\n"
     ]
    }
   ],
   "source": [
    "# Filters only Problem events of type Assignment\n",
    "rdd_problem_events_parsed = rdd_problem_events_parsed.filter(lambda x: x['ProblemType']=='Assignment')\n",
    "print(rdd_problem_events_parsed.count())\n",
    "print(rdd_problem_events_parsed.take(1)[0])"
   ]
  },
  {
   "cell_type": "code",
   "execution_count": 10,
   "metadata": {
    "collapsed": false
   },
   "outputs": [
    {
     "name": "stdout",
     "output_type": "stream",
     "text": [
      "3874586\n",
      "{'EventSubType': 'Check', 'Grade': '9.32999992371', 'EventType': 'Problem', 'TimeStamp': '1366220878', 'ProblemType': 'Assignment', 'ProblemID': '6', 'SessionUserID': 'd8f79efa32a560b8a46ea2b12d9bed97c9e39b4b'}\n"
     ]
    }
   ],
   "source": [
    "# Concatenantes all three table into one big table\n",
    "rdd_events = (rdd_problem_events_parsed\n",
    "    .union(rdd_video_events_parsed)\n",
    "    .union(rdd_forum_events_parsed)\n",
    ")\n",
    "rdd_events.persist()\n",
    "print(rdd_events.count())\n",
    "print(rdd_events.take(1)[0])"
   ]
  },
  {
   "cell_type": "markdown",
   "metadata": {},
   "source": [
    "## Working the data"
   ]
  },
  {
   "cell_type": "markdown",
   "metadata": {},
   "source": [
    "### Grouping & Sorting"
   ]
  },
  {
   "cell_type": "code",
   "execution_count": 11,
   "metadata": {
    "collapsed": false
   },
   "outputs": [
    {
     "name": "stdout",
     "output_type": "stream",
     "text": [
      "31269\n",
      "('75046568bfb19ce33846e4b7c384db7a8809d578', <pyspark.resultiterable.ResultIterable object at 0x1098da588>)\n"
     ]
    }
   ],
   "source": [
    "# uses the function groupByKey on our events with the key 'SessionStudentID'\n",
    "rdd_events_by_students = (rdd_events\n",
    "    .map(lambda x: (x['SessionUserID'],x))\n",
    "    .groupByKey()\n",
    ")\n",
    "rdd_events_by_students.persist()\n",
    "print(rdd_events_by_students.count()) # This is our number of students\n",
    "print(rdd_events_by_students.take(1)[0])"
   ]
  },
  {
   "cell_type": "code",
   "execution_count": 12,
   "metadata": {
    "collapsed": false
   },
   "outputs": [],
   "source": [
    "# Function to have a friendly way to print the events\n",
    "def eventToString(event):\n",
    "    return {\n",
    "        \"Problem\": lambda x:\"(P \"+event['ProblemID']+\" \"+event['Grade']+\")\",\n",
    "        \"Video\": lambda x:\"(V \"+event['VideoID']+\")\",\n",
    "        \"Forum\": lambda x:\"(F)\",\n",
    "    }[event['EventType']](event)"
   ]
  },
  {
   "cell_type": "code",
   "execution_count": 13,
   "metadata": {
    "collapsed": false
   },
   "outputs": [
    {
     "name": "stdout",
     "output_type": "stream",
     "text": [
      "\n",
      " 75046568bfb19ce33846e4b7c384db7a8809d578 \n",
      "\n",
      "(V 6) (V 3) (V 27) (V 49) (V 47) (V 25) (V 29) (V 4) (V 39) (V 41) (V 5) (V 43) (V 33) (V 35) (V 37) (V 7) (V 8) \n",
      "\n",
      " 3a3aea293c5a658c4d2cc8c0aaf07694b985bbec \n",
      "\n",
      "(V 79) (V 101) (V 73) (V 89) (V 85) (V 8) (V 123) (V 127) (V 47) (V 23) (V 105) (V 4) (V 41) (V 23) (V 43) (V 29) (V 29) (V 119) (V 49) (V 125) (V 33) (V 21) (V 109) (V 113) (V 111) (V 75) (V 3) (V 51) (V 27) (V 81) (V 87) (V 27) (V 117) (V 7) (V 27) (V 71) (V 25) (V 77) (V 37) (V 95) (V 103) (V 107) (V 115) (V 91) (V 39) (V 35) (V 83) (V 121) (V 93) (V 97) (V 6) (V 5) (V 53) \n",
      "\n",
      " 03ca065880520199acd8dbd9c743212cf0ba8861 \n",
      "\n",
      "(V 21) (V 27) (V 5) (V 7) (V 3) (V 3) (V 5) (V 3) (V 21) (V 5) (V 3) (V 4) (V 25) (V 23) (V 5) (V 8) (V 5) (V 33) (V 23) (V 3) (V 6) (V 4) (V 29) (V 6) (V 4) (V 21) (V 21) (V 21) (V 23) (V 27) (V 6) (V 27) (V 8) (V 3) (V 6) (V 8) (V 27) (V 6) (V 33) (V 25) (V 21) (V 29) (V 25) (V 5) (V 3) (V 3) (V 21) (V 27) (V 6) (V 23) (V 29) (V 21) (V 6) (V 3) (V 23) (V 3) (V 3) (V 7) (V 3) (V 21) (V 6) (V 6) \n"
     ]
    }
   ],
   "source": [
    "# Looks at the data for a few students\n",
    "for studentID,events in rdd_events_by_students.take(3):\n",
    "    print(\"\\n\",studentID,\"\\n\")\n",
    "    for event in events:\n",
    "        print(eventToString(event), end=\" \")\n",
    "    print()"
   ]
  },
  {
   "cell_type": "code",
   "execution_count": 14,
   "metadata": {
    "collapsed": false
   },
   "outputs": [
    {
     "name": "stdout",
     "output_type": "stream",
     "text": [
      "31269\n",
      "('75046568bfb19ce33846e4b7c384db7a8809d578', ['Video', 'Video', 'Video', 'Video', 'Video', 'Video', 'Video', 'Video', 'Video', 'Video', 'Video', 'Video', 'Video', 'Video', 'Video', 'Video', 'Video'])\n"
     ]
    }
   ],
   "source": [
    "# Uses the map function to sort the events in each student activity list \n",
    "rdd_events_by_students_sorted = (rdd_events_by_students\n",
    "    .map(lambda x: (x[0],sorted(x[1], key=(lambda event: event['TimeStamp']))))\n",
    ")\n",
    "print(rdd_events_by_students_sorted.count())\n",
    "print((lambda x: (x[0],[y['EventType'] for y in x[1]]))(rdd_events_by_students_sorted.take(1)[0]))"
   ]
  },
  {
   "cell_type": "code",
   "execution_count": 15,
   "metadata": {
    "collapsed": false
   },
   "outputs": [
    {
     "name": "stdout",
     "output_type": "stream",
     "text": [
      "\n",
      " 6ea6949ca133acede360d3573f9d1168b3d70b51 \n",
      "\n",
      "(V 27) (V 27) (V 29) (V 29) (V 8) (V 3) (V 3) (P 5 7.32999992371) (V 4) (P 5 10.0) (V 5) (V 5) (V 6) (V 6) (V 6) (V 6) (V 6) (V 6) (V 6) (V 6) (V 6) (V 6) (V 6) (V 6) (V 7) (V 7) (V 7) (V 7) (V 33) (V 33) (V 33) (V 33) (P 7 9.92000007629) (V 35) (V 35) (V 35) (V 35) (V 35) (V 35) (V 35) (V 35) (V 35) (V 35) (V 35) (V 35) (V 35) (V 35) (V 35) (V 35) (V 35) (V 35) (V 35) (V 35) (V 35) (V 35) (V 35) (V 35) (V 37) (V 37) (V 37) (V 37) (V 37) (V 37) (V 37) (V 37) (V 37) (V 37) (V 37) (V 37) (V 37) (V 39) (V 39) (V 39) (V 39) (V 39) (V 39) (V 39) (V 39) (V 41) (V 41) (V 41) (V 41) (V 43) (V 47) (V 49) (P 6 9.67000007629) (P 6 9.32999992371) (P 6 10.0) (V 51) (V 51) (V 51) (V 51) (V 51) (V 51) (V 51) (V 53) (V 53) (V 53) (V 53) (V 53) (V 53) (V 53) (V 53) (V 53) (V 75) (V 75) (V 75) (V 75) (V 75) (V 75) (V 75) (V 75) (V 75) (V 75) (V 75) (V 75) (P 12 9.22999954224) (V 79) (V 77) (V 81) (V 83) (V 85) (V 87) (V 71) (P 14 4.5) (P 14 5.09000015259) (V 73) (V 89) (V 91) (V 93) (V 95) (V 95) (V 97) (V 101) (P 14 6.88000011444) (P 14 8.06999969482) (P 14 9.55000019073) (P 14 9.55000019073) (P 14 9.55000019073) (P 14 10.0) (P 14 10.0) (V 103) (V 105) (V 107) (V 109) (V 111) (V 113) (V 115) (F) (F) (F) (F) (F) (F) (F) (F) (P 17 5.57000017166) (V 109) (V 111) (V 113) (V 107) (V 117) (V 119) (V 121) (V 123) (V 125) (V 127) (V 125) (F) (F) (P 20 5.82999992371) (F) (F) (V 125) (V 125) (P 20 10.0) (F) \n"
     ]
    }
   ],
   "source": [
    "# Looks at the data for a student, now that it's sorted by TimeStamps\n",
    "for studentID,events in rdd_events_by_students_sorted.filter(lambda x:x[0]=='6ea6949ca133acede360d3573f9d1168b3d70b51').take(1):\n",
    "    print(\"\\n\",studentID,\"\\n\")\n",
    "    for event in events:\n",
    "        print(eventToString(event), end=\" \")\n",
    "    print()"
   ]
  },
  {
   "cell_type": "markdown",
   "metadata": {},
   "source": [
    "### Extracting learning patterns\n",
    "The goal is to extract what a students does between a failed attempt at an assignment and a successful attempt"
   ]
  },
  {
   "cell_type": "code",
   "execution_count": 16,
   "metadata": {
    "collapsed": false
   },
   "outputs": [],
   "source": [
    "# The goal is to extract the list of event in between the first and last attempts at each problem\n",
    "def extractPatterns(events):\n",
    "    problems = {}\n",
    "    # for each problem measure first and last entry\n",
    "    for i,event in enumerate(events):\n",
    "        if event['EventType']=='Problem':\n",
    "            problems[event['ProblemID']]=problems.get(event['ProblemID'],{'min':i})\n",
    "            problems[event['ProblemID']]['max']=i\n",
    "    patterns = {}\n",
    "    for problem in problems.keys():\n",
    "        patterns[problem]=events[problems[problem]['min']:(1+problems[problem]['max'])] \n",
    "    return patterns\n",
    "    "
   ]
  },
  {
   "cell_type": "code",
   "execution_count": 17,
   "metadata": {
    "collapsed": false,
    "scrolled": false
   },
   "outputs": [
    {
     "name": "stdout",
     "output_type": "stream",
     "text": [
      "6ea6949ca133acede360d3573f9d1168b3d70b51\n",
      "(P 14 4.5) (P 14 5.09000015259) (V 73) (V 89) (V 91) (V 93) (V 95) (V 95) (V 97) (V 101) (P 14 6.88000011444) (P 14 8.06999969482) (P 14 9.55000019073) (P 14 9.55000019073) (P 14 9.55000019073) (P 14 10.0) (P 14 10.0) \n",
      "(P 17 5.57000017166) \n",
      "(P 5 7.32999992371) (V 4) (P 5 10.0) \n",
      "(P 12 9.22999954224) \n",
      "(P 7 9.92000007629) \n",
      "(P 20 5.82999992371) (F) (F) (V 125) (V 125) (P 20 10.0) \n",
      "(P 6 9.67000007629) (P 6 9.32999992371) (P 6 10.0) \n",
      "\n",
      "67cdae6073d1089b695e2a615a01187586ad7ba6\n",
      "(P 14 10.0) \n",
      "(P 17 10.0) \n",
      "(P 12 8.55000019073) (P 12 8.55000019073) (V 79) (V 77) (V 81) (V 83) (V 85) (V 83) (V 85) (V 87) (V 87) (V 71) (V 71) (V 79) (V 77) (V 81) (V 85) (V 87) (P 14 10.0) (P 12 8.55000019073) (P 12 10.0) \n",
      "(P 7 10.0) \n",
      "(P 20 10.0) \n",
      "(P 6 10.0) \n",
      "\n",
      "5046ee71bc77983a0753d6e5ba98f5f1c685072e\n",
      "(P 5 8.63000011444) \n",
      "\n",
      "865981d5b40a693bafbadae4b1df769be03a25c3\n",
      "\n",
      "9625e050ef2326c12632c51aea7b5e49a20d6fc7\n",
      "(P 14 6.73000001907) (P 14 8.22000026703) (P 14 9.55000019073) \n",
      "(P 17 10.0) \n",
      "(P 5 8.67000007629) (P 7 10.0) (P 5 10.0) \n",
      "(P 12 10.0) \n",
      "(P 7 10.0) \n",
      "(P 20 8.93999958038) (P 20 10.0) \n",
      "(P 6 9.32999992371) \n",
      "\n",
      "3b305429f93de02637949578a5f9e23f13eb0726\n",
      "(P 6 10.0) \n",
      "(P 7 10.0) \n",
      "\n",
      "fb4c81b3df430d1f0fbb8d0ca3e470ac6bf92a2f\n",
      "(P 14 7.23000001907) (P 14 7.82000017166) (P 14 0.0) (P 14 8.72999954224) (V 73) (V 89) (V 91) (V 91) (V 93) (V 95) (V 97) (V 101) (P 14 8.40999984741) \n",
      "(P 17 0.0) (P 17 7.65000009537) (V 125) (V 127) (P 17 7.01000022888) (P 20 4.13000011444) (P 20 5.23000001907) (P 20 9.09000015259) (P 17 6.32000017166) (P 17 7.11000013351) (P 17 7.07000017166) (F) (F) (F) (F) (F) (F) (F) (F) (F) (F) (F) (F) (F) (F) (F) (F) (F) (F) (F) (F) (F) (F) (F) (F) (F) (F) (F) (F) (F) (F) (F) (F) (F) (F) (F) (F) (F) (F) (F) (F) (F) (F) (F) (F) (F) (F) (F) (F) (F) (F) (F) (F) (F) (F) (F) (F) (F) (F) (F) (F) (F) (F) (F) (F) (F) (F) (F) (F) (F) (F) (F) (F) (F) (F) (F) (F) (F) (F) (F) (F) (F) (F) (F) (F) (F) (F) (F) (F) (F) (F) (F) (F) (F) (F) (F) (F) (F) (F) (F) (F) (F) (F) (F) (F) (F) (F) (F) (P 7 8.0) (F) (F) (F) (F) (F) (F) (F) (F) (F) (P 7 9.39999961853) (F) (F) (F) (F) (F) (F) (F) (F) (F) (F) (P 17 7.44000005722) (P 17 7.84000015259) \n",
      "(P 5 8.60999965668) (P 7 2.0) (V 35) (V 35) (V 35) (V 35) (V 35) (V 35) (V 35) (V 35) (V 35) (V 35) (V 37) (V 37) (V 37) (V 37) (V 37) (V 37) (V 37) (V 37) (V 37) (V 37) (V 37) (V 37) (V 37) (V 37) (V 37) (V 37) (V 37) (V 37) (V 37) (V 37) (V 37) (V 39) (V 39) (V 39) (V 39) (V 39) (V 39) (V 39) (V 39) (V 39) (V 39) (V 39) (V 39) (V 39) (V 39) (V 41) (V 41) (V 41) (V 41) (V 41) (V 41) (V 41) (V 41) (V 41) (V 41) (V 41) (V 41) (V 43) (V 43) (V 43) (V 43) (V 43) (V 43) (V 43) (V 47) (V 47) (V 47) (V 47) (V 47) (V 47) (V 47) (V 47) (V 47) (V 47) (V 47) (V 47) (V 47) (V 47) (V 47) (V 47) (V 47) (V 47) (V 47) (V 49) (V 49) (V 49) (V 49) (V 49) (F) (F) (F) (P 5 8.60999965668) (F) (P 5 9.92000007629) \n",
      "(P 12 2.34999990463) (P 12 5.19999980927) (P 12 7.30000019073) (P 12 8.02999973297) (P 12 8.02999973297) (P 12 8.02999973297) (F) (F) (F) (F) (V 79) (V 79) (V 77) (V 81) (V 83) (V 85) (V 87) (V 71) (V 71) (P 12 8.05000019073) (P 12 8.78999996185) (P 12 8.78999996185) (P 12 8.02999973297) \n",
      "(P 7 2.0) (V 35) (V 35) (V 35) (V 35) (V 35) (V 35) (V 35) (V 35) (V 35) (V 35) (V 37) (V 37) (V 37) (V 37) (V 37) (V 37) (V 37) (V 37) (V 37) (V 37) (V 37) (V 37) (V 37) (V 37) (V 37) (V 37) (V 37) (V 37) (V 37) (V 37) (V 37) (V 39) (V 39) (V 39) (V 39) (V 39) (V 39) (V 39) (V 39) (V 39) (V 39) (V 39) (V 39) (V 39) (V 39) (V 41) (V 41) (V 41) (V 41) (V 41) (V 41) (V 41) (V 41) (V 41) (V 41) (V 41) (V 41) (V 43) (V 43) (V 43) (V 43) (V 43) (V 43) (V 43) (V 47) (V 47) (V 47) (V 47) (V 47) (V 47) (V 47) (V 47) (V 47) (V 47) (V 47) (V 47) (V 47) (V 47) (V 47) (V 47) (V 47) (V 47) (V 47) (V 49) (V 49) (V 49) (V 49) (V 49) (F) (F) (F) (P 5 8.60999965668) (F) (P 5 9.92000007629) (F) (P 7 5.59000015259) (P 7 5.59000015259) (P 7 6.42999982834) (F) (P 7 5.73000001907) (P 7 7.57999992371) (P 6 9.18999958038) (P 6 9.52999973297) (V 51) (V 51) (V 51) (V 51) (V 51) (V 51) (V 51) (V 51) (V 51) (V 51) (V 53) (V 53) (V 53) (V 53) (V 53) (V 53) (V 51) (V 51) (V 51) (V 51) (V 51) (V 51) (V 51) (V 51) (V 51) (V 51) (V 51) (V 51) (V 51) (V 51) (V 51) (V 51) (V 51) (V 51) (V 51) (V 51) (V 51) (V 53) (V 53) (V 53) (V 53) (V 75) (V 75) (V 75) (V 75) (V 75) (V 75) (V 75) (V 75) (P 12 2.34999990463) (P 12 5.19999980927) (P 12 7.30000019073) (P 12 8.02999973297) (P 12 8.02999973297) (P 12 8.02999973297) (F) (F) (F) (F) (V 79) (V 79) (V 77) (V 81) (V 83) (V 85) (V 87) (V 71) (V 71) (P 12 8.05000019073) (P 12 8.78999996185) (P 12 8.78999996185) (P 12 8.02999973297) (V 73) (V 73) (V 73) (P 14 7.23000001907) (P 14 7.82000017166) (P 14 0.0) (P 14 8.72999954224) (V 73) (V 89) (V 91) (V 91) (V 93) (V 95) (V 97) (V 101) (P 14 8.40999984741) (V 103) (V 103) (V 103) (V 103) (V 103) (V 103) (V 103) (V 103) (V 103) (V 105) (V 105) (V 105) (V 105) (V 105) (V 105) (V 105) (V 105) (V 107) (V 107) (V 107) (V 107) (V 107) (V 107) (V 107) (V 107) (V 107) (V 107) (V 107) (V 107) (V 107) (V 107) (V 107) (V 107) (V 107) (V 107) (V 107) (V 107) (V 107) (V 107) (V 107) (V 109) (V 109) (V 109) (V 109) (V 109) (V 109) (V 111) (V 111) (V 111) (V 111) (V 111) (V 111) (V 111) (V 111) (V 111) (V 111) (V 113) (V 113) (V 113) (V 113) (V 115) (V 115) (V 115) (V 115) (V 115) (V 115) (V 117) (V 119) (V 121) (V 121) (V 123) (P 17 0.0) (P 17 7.65000009537) (V 125) (V 127) (P 17 7.01000022888) (P 20 4.13000011444) (P 20 5.23000001907) (P 20 9.09000015259) (P 17 6.32000017166) (P 17 7.11000013351) (P 17 7.07000017166) (F) (F) (F) (F) (F) (F) (F) (F) (F) (F) (F) (F) (F) (F) (F) (F) (F) (F) (F) (F) (F) (F) (F) (F) (F) (F) (F) (F) (F) (F) (F) (F) (F) (F) (F) (F) (F) (F) (F) (F) (F) (F) (F) (F) (F) (F) (F) (F) (F) (F) (F) (F) (F) (F) (F) (F) (F) (F) (F) (F) (F) (F) (F) (F) (F) (F) (F) (F) (F) (F) (F) (F) (F) (F) (F) (F) (F) (F) (F) (F) (F) (F) (F) (F) (F) (F) (F) (F) (F) (F) (F) (F) (F) (F) (F) (F) (F) (F) (F) (F) (F) (F) (F) (F) (F) (F) (F) (P 7 8.0) (F) (F) (F) (F) (F) (F) (F) (F) (F) (P 7 9.39999961853) \n",
      "(P 20 4.13000011444) (P 20 5.23000001907) (P 20 9.09000015259) \n",
      "(P 6 9.18999958038) (P 6 9.52999973297) \n",
      "\n"
     ]
    }
   ],
   "source": [
    "rdd_events_by_students_extract = (rdd_events_by_students_sorted\n",
    "    .map(lambda x: (x[0],extractPatterns(x[1])))\n",
    ")\n",
    "\n",
    "rdd_events_by_students_extract.persist()\n",
    "\n",
    "DEBUG_STUDENTS=[\n",
    "    '6ea6949ca133acede360d3573f9d1168b3d70b51',\n",
    "    '5046ee71bc77983a0753d6e5ba98f5f1c685072e',\n",
    "    '3b305429f93de02637949578a5f9e23f13eb0726',\n",
    "    '9625e050ef2326c12632c51aea7b5e49a20d6fc7',\n",
    "    '865981d5b40a693bafbadae4b1df769be03a25c3',\n",
    "    '67cdae6073d1089b695e2a615a01187586ad7ba6',\n",
    "    'fb4c81b3df430d1f0fbb8d0ca3e470ac6bf92a2f'\n",
    "]\n",
    "\n",
    "# Looks at the data for a student, now that it's sorted by TimeStamps\n",
    "def displayStudentsPatterns(rdd,students):\n",
    "    for studentID,patterns in rdd.filter(lambda x:x[0] in students).take(len(students)):\n",
    "        print(studentID)\n",
    "        for pattern in patterns.values():\n",
    "            for event in pattern:\n",
    "                print(eventToString(event), end=\" \")\n",
    "            print()\n",
    "        print()\n",
    "\n",
    "displayStudentsPatterns(rdd_events_by_students_extract,DEBUG_STUDENTS)"
   ]
  },
  {
   "cell_type": "code",
   "execution_count": 18,
   "metadata": {
    "collapsed": true
   },
   "outputs": [],
   "source": [
    "# The goal is to concatenate small sub events into one big event\n",
    "# For example Play/Pause/Play/Pause/Play/Pause on a video counts as only a Video event\n",
    "def eventConcat(events):\n",
    "    if len(events)<2:\n",
    "        return events\n",
    "    res=[events[0]]\n",
    "    for event in events[1:-1]:\n",
    "        if (\n",
    "            event['EventType']!=res[-1]['EventType'] \n",
    "            #or event.get('VideoID',None)!=res[-1].get('VideoID',None)\n",
    "            #or event.get('ProblemID',None)!=res[-1].get('ProblemID',None)\n",
    "        ):\n",
    "            res.append(event)\n",
    "    res.append(events[-1])\n",
    "    return res\n",
    "\n",
    "def patternsConcat(patterns):\n",
    "    res = {}\n",
    "    for pattern in patterns.keys():\n",
    "        res[pattern]=eventConcat(patterns[pattern])\n",
    "    return res"
   ]
  },
  {
   "cell_type": "code",
   "execution_count": 19,
   "metadata": {
    "collapsed": false
   },
   "outputs": [
    {
     "name": "stdout",
     "output_type": "stream",
     "text": [
      "6ea6949ca133acede360d3573f9d1168b3d70b51\n",
      "(P 14 4.5) (V 73) (P 14 6.88000011444) (P 14 10.0) \n",
      "(P 17 5.57000017166) \n",
      "(P 5 7.32999992371) (V 4) (P 5 10.0) \n",
      "(P 12 9.22999954224) \n",
      "(P 7 9.92000007629) \n",
      "(P 20 5.82999992371) (F) (V 125) (P 20 10.0) \n",
      "(P 6 9.67000007629) (P 6 10.0) \n",
      "\n",
      "67cdae6073d1089b695e2a615a01187586ad7ba6\n",
      "(P 14 10.0) \n",
      "(P 17 10.0) \n",
      "(P 12 8.55000019073) (V 79) (P 14 10.0) (P 12 10.0) \n",
      "(P 7 10.0) \n",
      "(P 20 10.0) \n",
      "(P 6 10.0) \n",
      "\n",
      "5046ee71bc77983a0753d6e5ba98f5f1c685072e\n",
      "(P 5 8.63000011444) \n",
      "\n",
      "865981d5b40a693bafbadae4b1df769be03a25c3\n",
      "\n",
      "9625e050ef2326c12632c51aea7b5e49a20d6fc7\n",
      "(P 14 6.73000001907) (P 14 9.55000019073) \n",
      "(P 17 10.0) \n",
      "(P 5 8.67000007629) (P 5 10.0) \n",
      "(P 12 10.0) \n",
      "(P 7 10.0) \n",
      "(P 20 8.93999958038) (P 20 10.0) \n",
      "(P 6 9.32999992371) \n",
      "\n",
      "3b305429f93de02637949578a5f9e23f13eb0726\n",
      "(P 6 10.0) \n",
      "(P 7 10.0) \n",
      "\n",
      "fb4c81b3df430d1f0fbb8d0ca3e470ac6bf92a2f\n",
      "(P 14 7.23000001907) (V 73) (P 14 8.40999984741) \n",
      "(P 17 0.0) (V 125) (P 17 7.01000022888) (F) (P 7 8.0) (F) (P 7 9.39999961853) (F) (P 17 7.44000005722) (P 17 7.84000015259) \n",
      "(P 5 8.60999965668) (V 35) (F) (P 5 8.60999965668) (F) (P 5 9.92000007629) \n",
      "(P 12 2.34999990463) (F) (V 79) (P 12 8.05000019073) (P 12 8.02999973297) \n",
      "(P 7 2.0) (V 35) (F) (P 5 8.60999965668) (F) (P 5 9.92000007629) (F) (P 7 5.59000015259) (F) (P 7 5.73000001907) (V 51) (P 12 2.34999990463) (F) (V 79) (P 12 8.05000019073) (V 73) (P 14 7.23000001907) (V 73) (P 14 8.40999984741) (V 103) (P 17 0.0) (V 125) (P 17 7.01000022888) (F) (P 7 8.0) (F) (P 7 9.39999961853) \n",
      "(P 20 4.13000011444) (P 20 9.09000015259) \n",
      "(P 6 9.18999958038) (P 6 9.52999973297) \n",
      "\n"
     ]
    }
   ],
   "source": [
    "rdd_events_by_students_extract_concat = (rdd_events_by_students_extract\n",
    "    .map(lambda x: (x[0],patternsConcat(x[1])))\n",
    ")\n",
    "\n",
    "rdd_events_by_students_extract_concat.persist()\n",
    "\n",
    "# Looks at the data for two students\n",
    "displayStudentsPatterns(rdd_events_by_students_extract_concat,DEBUG_STUDENTS)"
   ]
  },
  {
   "cell_type": "code",
   "execution_count": 20,
   "metadata": {
    "collapsed": false,
    "scrolled": false
   },
   "outputs": [
    {
     "name": "stdout",
     "output_type": "stream",
     "text": [
      "PFP 1133\n",
      "\t {'from': '8.96000003815', 'id': '20', 'to': '10.0', 'student': 'c78a610dd94fd6b71665a2b6a7d236b6448ea2b5'}\n",
      "\n",
      "PVP 2267\n",
      "\t {'from': '8.67000007629', 'id': '5', 'to': '10.0', 'student': '7128643b0c9967d78bf21a2f062e280bc328a259'}\n",
      "\n",
      "PFPP 363\n",
      "\t {'from': '9.64999961853', 'id': '20', 'to': '5.82999992371', 'student': '9dcef769f4c3b8fc758904700e7a614c7aa32864'}\n",
      "\n",
      "PVFP 73\n",
      "\t {'from': '9.64999961853', 'id': '20', 'to': '10.0', 'student': 'af0f722c36ad0dded59bf27032ec414b4d7e6973'}\n",
      "\n",
      "PVPP 1352\n",
      "\t {'from': '4.5', 'id': '14', 'to': '10.0', 'student': '6ea6949ca133acede360d3573f9d1168b3d70b51'}\n",
      "\n",
      "PFVP 73\n",
      "\t {'from': '5.82999992371', 'id': '20', 'to': '10.0', 'student': '6ea6949ca133acede360d3573f9d1168b3d70b51'}\n",
      "\n",
      "PVPFP 24\n",
      "\t {'from': '7.21000003815', 'id': '17', 'to': '8.15999984741', 'student': '68a9f70b395697bde4205c406e4b9be601541008'}\n",
      "\n",
      "PFPFP 244\n",
      "\t {'from': '0.0', 'id': '6', 'to': '10.0', 'student': 'cba63263cf6f22245f80655bf0375b987b07a5c5'}\n",
      "\n",
      "PVPVP 280\n",
      "\t {'from': '8.67000007629', 'id': '5', 'to': '8.67000007629', 'student': '85a89edca81642b4bbddb10bfb304e35a916ef98'}\n",
      "\n",
      "PFPVP 21\n",
      "\t {'from': '8.31000041962', 'id': '17', 'to': '10.0', 'student': '3d211b1acf97cf2b4564c9d25c348b4eeb542015'}\n",
      "\n",
      "PFVFP 49\n",
      "\t {'from': '8.46000003815', 'id': '17', 'to': '10.0', 'student': '498c3604214a60cd5430a6a43605a5791e1cca0d'}\n",
      "\n",
      "PVFPP 36\n",
      "\t {'from': '10.0', 'id': '17', 'to': '9.68999958038', 'student': '148c39a6575d90e2db5e004e406801832e3e6d36'}\n",
      "\n",
      "PFVPP 32\n",
      "\t {'from': '4.09000015259', 'id': '20', 'to': '5.13000011444', 'student': 'c845cbe1644097d7a54e3bf97b1252874bdd7284'}\n",
      "\n",
      "PVFVP 25\n",
      "\t {'from': '0.0', 'id': '17', 'to': '7.17000007629', 'student': '6f6c6a31b48c3c82ad9d5266e1861c21cbb500d0'}\n",
      "\n"
     ]
    }
   ],
   "source": [
    "def eventToLetter(event):\n",
    "    return {\n",
    "        \"Problem\": lambda x:\"P\",\n",
    "        \"Video\": lambda x:\"V\",\n",
    "        \"Forum\": lambda x:\"F\",\n",
    "    }[event['EventType']](event)\n",
    "\n",
    "# Uses the method flatMap on the students patterns table to have a table of all the patterns\n",
    "rdd_patterns = (rdd_events_by_students_extract_concat\n",
    "    .flatMap(lambda x: [(x[0],pattern) for pattern in x[1].values()])\n",
    "    # -> (studentId str, pattern eventList)\n",
    "    .map(lambda x: (\n",
    "        \"\".join([eventToLetter(event) for event in x[1]]),\n",
    "        {\n",
    "            \"from\":x[1][0]['Grade'],\n",
    "            \"to\":x[1][-1]['Grade'],\n",
    "            \"id\":x[1][0]['ProblemID'],\n",
    "            \"student\":x[0]\n",
    "        }\n",
    "    ))\n",
    "    .groupByKey()\n",
    ")\n",
    "\n",
    "rdd_patterns.persist()\n",
    "\n",
    "# filters and shows the short (supposed most common) patterns \n",
    "for pattern in sorted(rdd_patterns.filter(lambda x: len(x[0])<6 and len(x[0])>2).take(100), key=(lambda x: len(x[0]))):\n",
    "    print(pattern[0],len(pattern[1]))\n",
    "    for student in list(pattern[1])[:1]:\n",
    "        print(\"\\t\",student)\n",
    "    print()"
   ]
  },
  {
   "cell_type": "code",
   "execution_count": null,
   "metadata": {
    "collapsed": true
   },
   "outputs": [],
   "source": []
  },
  {
   "cell_type": "code",
   "execution_count": null,
   "metadata": {
    "collapsed": true
   },
   "outputs": [],
   "source": []
  },
  {
   "cell_type": "code",
   "execution_count": null,
   "metadata": {
    "collapsed": true
   },
   "outputs": [],
   "source": []
  },
  {
   "cell_type": "code",
   "execution_count": null,
   "metadata": {
    "collapsed": true
   },
   "outputs": [],
   "source": []
  },
  {
   "cell_type": "code",
   "execution_count": null,
   "metadata": {
    "collapsed": true
   },
   "outputs": [],
   "source": []
  },
  {
   "cell_type": "code",
   "execution_count": null,
   "metadata": {
    "collapsed": true
   },
   "outputs": [],
   "source": []
  },
  {
   "cell_type": "code",
   "execution_count": null,
   "metadata": {
    "collapsed": true
   },
   "outputs": [],
   "source": []
  },
  {
   "cell_type": "code",
   "execution_count": null,
   "metadata": {
    "collapsed": true
   },
   "outputs": [],
   "source": []
  },
  {
   "cell_type": "code",
   "execution_count": null,
   "metadata": {
    "collapsed": true
   },
   "outputs": [],
   "source": []
  },
  {
   "cell_type": "code",
   "execution_count": null,
   "metadata": {
    "collapsed": true
   },
   "outputs": [],
   "source": []
  },
  {
   "cell_type": "code",
   "execution_count": null,
   "metadata": {
    "collapsed": true
   },
   "outputs": [],
   "source": []
  },
  {
   "cell_type": "code",
   "execution_count": null,
   "metadata": {
    "collapsed": true
   },
   "outputs": [],
   "source": []
  },
  {
   "cell_type": "code",
   "execution_count": null,
   "metadata": {
    "collapsed": true
   },
   "outputs": [],
   "source": []
  }
 ],
 "metadata": {
  "anaconda-cloud": {},
  "kernelspec": {
   "display_name": "Python [Root]",
   "language": "python",
   "name": "Python [Root]"
  },
  "language_info": {
   "codemirror_mode": {
    "name": "ipython",
    "version": 3
   },
   "file_extension": ".py",
   "mimetype": "text/x-python",
   "name": "python",
   "nbconvert_exporter": "python",
   "pygments_lexer": "ipython3",
   "version": "3.5.2"
  }
 },
 "nbformat": 4,
 "nbformat_minor": 0
}
