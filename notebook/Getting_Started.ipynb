{
 "cells": [
  {
   "cell_type": "markdown",
   "metadata": {},
   "source": [
    "# ADA - project\n",
    "# Scala MOOC - Extraction of Learning Patterns"
   ]
  },
  {
   "cell_type": "markdown",
   "metadata": {},
   "source": [
    "## Introduction"
   ]
  },
  {
   "cell_type": "markdown",
   "metadata": {},
   "source": [
    "### Project description\n",
    "\n",
    "bla bla bla"
   ]
  },
  {
   "cell_type": "markdown",
   "metadata": {},
   "source": [
    "### Team\n",
    "- Victor\n",
    "- Thibault\n",
    "- Louis"
   ]
  },
  {
   "cell_type": "markdown",
   "metadata": {},
   "source": [
    "## Data imports"
   ]
  },
  {
   "cell_type": "code",
   "execution_count": null,
   "metadata": {
    "collapsed": true
   },
   "outputs": [],
   "source": [
    "%matplotlib inline\n",
    "import pandas as pd\n",
    "import matplotlib.pyplot as plt\n",
    "import numpy as np\n",
    "import random\n",
    "import math"
   ]
  },
  {
   "cell_type": "code",
   "execution_count": null,
   "metadata": {
    "collapsed": false
   },
   "outputs": [],
   "source": [
    "config = {\n",
    "    'courseName': 'progfun-002',\n",
    "}"
   ]
  },
  {
   "cell_type": "code",
   "execution_count": null,
   "metadata": {
    "collapsed": false
   },
   "outputs": [],
   "source": [
    "df_User_Grades = pd.read_csv('../data/' + config['courseName'] + '_User_Grades.csv', index_col='SessionUserID')\n",
    "df_User_Grades = df_User_Grades[['Grade','AchievementLevel']]\n",
    "df_User_Grades.head()"
   ]
  },
  {
   "cell_type": "code",
   "execution_count": null,
   "metadata": {
    "collapsed": false
   },
   "outputs": [],
   "source": [
    "df_Problem_Event = pd.read_csv(\n",
    "    '../data/' + config['courseName'] + '_Problem_Events_with_Info.csv', \n",
    "    index_col='SessionUserID',\n",
    "    dtype={\"Grade\":np.float64},\n",
    "    na_values=['None']\n",
    ")\n",
    "df_Problem_Event = df_Problem_Event[['Grade','TimeStamp','ProblemID','ProblemType']]\n",
    "df_Problem_Event.head()"
   ]
  },
  {
   "cell_type": "code",
   "execution_count": null,
   "metadata": {
    "collapsed": false
   },
   "outputs": [],
   "source": [
    "df_Assignment_Event = df_Problem_Event[df_Problem_Event.ProblemType == \"Assignment\"].dropna()\n",
    "df_Assignment_Event.head()"
   ]
  },
  {
   "cell_type": "markdown",
   "metadata": {},
   "source": [
    "## Small stats"
   ]
  },
  {
   "cell_type": "code",
   "execution_count": null,
   "metadata": {
    "collapsed": false
   },
   "outputs": [],
   "source": [
    "successCounts = df_User_Grades.AchievementLevel.value_counts()\n",
    "successCounts"
   ]
  },
  {
   "cell_type": "code",
   "execution_count": null,
   "metadata": {
    "collapsed": false
   },
   "outputs": [],
   "source": [
    "df_User_Grades['NormalisedGrade'] = df_User_Grades.Grade / 100\n",
    "df_User_Grades['Prediction'] = df_User_Grades.NormalisedGrade.mean()\n",
    "df_User_Grades['SE'] = (df_User_Grades.NormalisedGrade - df_User_Grades.Prediction)**2\n",
    "\n",
    "{\n",
    "    \"MEAN\": df_User_Grades.NormalisedGrade.mean(),\n",
    "    \"RMSE\": df_User_Grades.SE.mean()**0.5\n",
    "}"
   ]
  },
  {
   "cell_type": "code",
   "execution_count": null,
   "metadata": {
    "collapsed": false
   },
   "outputs": [],
   "source": [
    "df_Assignment_Event.Grade.hist(bins=25)"
   ]
  },
  {
   "cell_type": "code",
   "execution_count": null,
   "metadata": {
    "collapsed": false
   },
   "outputs": [],
   "source": [
    "df_Assignment_Event.ProblemID.value_counts()"
   ]
  },
  {
   "cell_type": "code",
   "execution_count": null,
   "metadata": {
    "collapsed": false
   },
   "outputs": [],
   "source": [
    "print(df_Assignment_Event.shape)\n",
    "df_Assignment_Event = df_Assignment_Event[df_Assignment_Event.ProblemID>4]\n",
    "print(df_Assignment_Event.shape)"
   ]
  },
  {
   "cell_type": "code",
   "execution_count": null,
   "metadata": {
    "collapsed": false
   },
   "outputs": [],
   "source": [
    "df_Assignment_Event[df_Assignment_Event.TimeStamp<1.37e9].TimeStamp.hist(bins=50)"
   ]
  }
 ],
 "metadata": {
  "kernelspec": {
   "display_name": "Python [Root]",
   "language": "python",
   "name": "Python [Root]"
  },
  "language_info": {
   "codemirror_mode": {
    "name": "ipython",
    "version": 3
   },
   "file_extension": ".py",
   "mimetype": "text/x-python",
   "name": "python",
   "nbconvert_exporter": "python",
   "pygments_lexer": "ipython3",
   "version": "3.5.2"
  }
 },
 "nbformat": 4,
 "nbformat_minor": 0
}
