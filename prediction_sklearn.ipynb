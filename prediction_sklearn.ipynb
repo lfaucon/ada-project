{
 "cells": [
  {
   "cell_type": "markdown",
   "metadata": {},
   "source": [
    "# Prediction"
   ]
  },
  {
   "cell_type": "code",
   "execution_count": 1,
   "metadata": {
    "collapsed": false
   },
   "outputs": [
    {
     "data": {
      "text/plain": [
       "8"
      ]
     },
     "execution_count": 1,
     "metadata": {},
     "output_type": "execute_result"
    }
   ],
   "source": [
    "from pyspark import SparkContext\n",
    "import pandas as pd\n",
    "import matplotlib.pyplot as plt\n",
    "%matplotlib inline\n",
    "\n",
    "from sklearn.ensemble import RandomForestClassifier\n",
    "from sklearn import linear_model\n",
    "\n",
    "import json\n",
    "import utils\n",
    "import pprint\n",
    "pp = pprint.PrettyPrinter(indent=4)\n",
    "\n",
    "sc = SparkContext(\"local[*]\", \"ADA\")\n",
    "sc.defaultParallelism"
   ]
  },
  {
   "cell_type": "markdown",
   "metadata": {},
   "source": [
    "# Importing the data"
   ]
  },
  {
   "cell_type": "code",
   "execution_count": 2,
   "metadata": {
    "collapsed": false
   },
   "outputs": [
    {
     "name": "stdout",
     "output_type": "stream",
     "text": [
      "49344\n"
     ]
    },
    {
     "data": {
      "text/plain": [
       "{'firstProblemGrade': 9.68999958038,\n",
       " 'increaseGradeFromFirstToLastProblem': 1.0,\n",
       " 'lastProblemGrade': 10.0,\n",
       " 'percentageImprovedBetweenFirstAndLastProblem': 0.9999677430196963,\n",
       " 'proportionOfProblemEvents': 0.03389830508474576,\n",
       " 'repeatedVideoBeforeFirstProblem': 1.0,\n",
       " 'timeBetweenFirstAndLastProblem': 0.009236111111111112,\n",
       " 'timeBetweenStartAndFirstProblem': 8.520023148148148,\n",
       " 'timeBetweenStartAndLastProblem': 8.529259259259259,\n",
       " 'totalNumberOfProblemSubmissions': 2,\n",
       " 'totalNumberOfVideoWatched': 26,\n",
       " 'watchedAllVideosBeforeFirstProblem': True,\n",
       " 'watchedSomeVideoAfterFirstProblem': 0.0}"
      ]
     },
     "execution_count": 2,
     "metadata": {},
     "output_type": "execute_result"
    }
   ],
   "source": [
    "rdd_features = sc.textFile('data/spark/features/').map(json.loads).map(lambda x: x['features'])\n",
    "print(rdd_features.count())\n",
    "rdd_features.first()"
   ]
  },
  {
   "cell_type": "code",
   "execution_count": 3,
   "metadata": {
    "collapsed": false
   },
   "outputs": [
    {
     "data": {
      "text/html": [
       "<div>\n",
       "<table border=\"1\" class=\"dataframe\">\n",
       "  <thead>\n",
       "    <tr style=\"text-align: right;\">\n",
       "      <th></th>\n",
       "      <th>firstProblemGrade</th>\n",
       "      <th>increaseGradeFromFirstToLastProblem</th>\n",
       "      <th>lastProblemGrade</th>\n",
       "      <th>percentageImprovedBetweenFirstAndLastProblem</th>\n",
       "      <th>proportionOfProblemEvents</th>\n",
       "      <th>repeatedVideoBeforeFirstProblem</th>\n",
       "      <th>timeBetweenFirstAndLastProblem</th>\n",
       "      <th>timeBetweenStartAndFirstProblem</th>\n",
       "      <th>timeBetweenStartAndLastProblem</th>\n",
       "      <th>totalNumberOfProblemSubmissions</th>\n",
       "      <th>totalNumberOfVideoWatched</th>\n",
       "      <th>watchedAllVideosBeforeFirstProblem</th>\n",
       "      <th>watchedSomeVideoAfterFirstProblem</th>\n",
       "    </tr>\n",
       "  </thead>\n",
       "  <tbody>\n",
       "    <tr>\n",
       "      <th>0</th>\n",
       "      <td>9.69</td>\n",
       "      <td>1.0</td>\n",
       "      <td>10.0</td>\n",
       "      <td>0.999968</td>\n",
       "      <td>0.033898</td>\n",
       "      <td>1.0</td>\n",
       "      <td>0.009236</td>\n",
       "      <td>8.520023</td>\n",
       "      <td>8.529259</td>\n",
       "      <td>2</td>\n",
       "      <td>26</td>\n",
       "      <td>True</td>\n",
       "      <td>0.0</td>\n",
       "    </tr>\n",
       "    <tr>\n",
       "      <th>1</th>\n",
       "      <td>10.00</td>\n",
       "      <td>0.0</td>\n",
       "      <td>10.0</td>\n",
       "      <td>0.000000</td>\n",
       "      <td>0.015152</td>\n",
       "      <td>1.0</td>\n",
       "      <td>0.000000</td>\n",
       "      <td>4.715845</td>\n",
       "      <td>4.715845</td>\n",
       "      <td>1</td>\n",
       "      <td>57</td>\n",
       "      <td>True</td>\n",
       "      <td>0.0</td>\n",
       "    </tr>\n",
       "    <tr>\n",
       "      <th>2</th>\n",
       "      <td>10.00</td>\n",
       "      <td>0.0</td>\n",
       "      <td>10.0</td>\n",
       "      <td>0.000000</td>\n",
       "      <td>0.010526</td>\n",
       "      <td>1.0</td>\n",
       "      <td>0.000000</td>\n",
       "      <td>6.102060</td>\n",
       "      <td>6.102060</td>\n",
       "      <td>1</td>\n",
       "      <td>94</td>\n",
       "      <td>True</td>\n",
       "      <td>0.0</td>\n",
       "    </tr>\n",
       "    <tr>\n",
       "      <th>3</th>\n",
       "      <td>9.58</td>\n",
       "      <td>1.0</td>\n",
       "      <td>10.0</td>\n",
       "      <td>0.999976</td>\n",
       "      <td>0.039216</td>\n",
       "      <td>1.0</td>\n",
       "      <td>0.005590</td>\n",
       "      <td>2.375741</td>\n",
       "      <td>2.381331</td>\n",
       "      <td>2</td>\n",
       "      <td>49</td>\n",
       "      <td>True</td>\n",
       "      <td>0.0</td>\n",
       "    </tr>\n",
       "    <tr>\n",
       "      <th>4</th>\n",
       "      <td>7.09</td>\n",
       "      <td>1.0</td>\n",
       "      <td>10.0</td>\n",
       "      <td>0.999997</td>\n",
       "      <td>0.750000</td>\n",
       "      <td>0.0</td>\n",
       "      <td>6.030475</td>\n",
       "      <td>5.967859</td>\n",
       "      <td>11.998333</td>\n",
       "      <td>9</td>\n",
       "      <td>3</td>\n",
       "      <td>True</td>\n",
       "      <td>0.0</td>\n",
       "    </tr>\n",
       "  </tbody>\n",
       "</table>\n",
       "</div>"
      ],
      "text/plain": [
       "   firstProblemGrade  increaseGradeFromFirstToLastProblem  lastProblemGrade  \\\n",
       "0               9.69                                  1.0              10.0   \n",
       "1              10.00                                  0.0              10.0   \n",
       "2              10.00                                  0.0              10.0   \n",
       "3               9.58                                  1.0              10.0   \n",
       "4               7.09                                  1.0              10.0   \n",
       "\n",
       "   percentageImprovedBetweenFirstAndLastProblem  proportionOfProblemEvents  \\\n",
       "0                                      0.999968                   0.033898   \n",
       "1                                      0.000000                   0.015152   \n",
       "2                                      0.000000                   0.010526   \n",
       "3                                      0.999976                   0.039216   \n",
       "4                                      0.999997                   0.750000   \n",
       "\n",
       "   repeatedVideoBeforeFirstProblem  timeBetweenFirstAndLastProblem  \\\n",
       "0                              1.0                        0.009236   \n",
       "1                              1.0                        0.000000   \n",
       "2                              1.0                        0.000000   \n",
       "3                              1.0                        0.005590   \n",
       "4                              0.0                        6.030475   \n",
       "\n",
       "   timeBetweenStartAndFirstProblem  timeBetweenStartAndLastProblem  \\\n",
       "0                         8.520023                        8.529259   \n",
       "1                         4.715845                        4.715845   \n",
       "2                         6.102060                        6.102060   \n",
       "3                         2.375741                        2.381331   \n",
       "4                         5.967859                       11.998333   \n",
       "\n",
       "   totalNumberOfProblemSubmissions  totalNumberOfVideoWatched  \\\n",
       "0                                2                         26   \n",
       "1                                1                         57   \n",
       "2                                1                         94   \n",
       "3                                2                         49   \n",
       "4                                9                          3   \n",
       "\n",
       "  watchedAllVideosBeforeFirstProblem  watchedSomeVideoAfterFirstProblem  \n",
       "0                               True                                0.0  \n",
       "1                               True                                0.0  \n",
       "2                               True                                0.0  \n",
       "3                               True                                0.0  \n",
       "4                               True                                0.0  "
      ]
     },
     "execution_count": 3,
     "metadata": {},
     "output_type": "execute_result"
    }
   ],
   "source": [
    "df = pd.DataFrame(rdd_features.collect())\n",
    "df.head()"
   ]
  },
  {
   "cell_type": "code",
   "execution_count": 4,
   "metadata": {
    "collapsed": false
   },
   "outputs": [
    {
     "data": {
      "text/plain": [
       "Index(['firstProblemGrade', 'increaseGradeFromFirstToLastProblem',\n",
       "       'lastProblemGrade', 'percentageImprovedBetweenFirstAndLastProblem',\n",
       "       'proportionOfProblemEvents', 'repeatedVideoBeforeFirstProblem',\n",
       "       'timeBetweenFirstAndLastProblem', 'timeBetweenStartAndFirstProblem',\n",
       "       'timeBetweenStartAndLastProblem', 'totalNumberOfProblemSubmissions',\n",
       "       'totalNumberOfVideoWatched', 'watchedAllVideosBeforeFirstProblem',\n",
       "       'watchedSomeVideoAfterFirstProblem'],\n",
       "      dtype='object')"
      ]
     },
     "execution_count": 4,
     "metadata": {},
     "output_type": "execute_result"
    }
   ],
   "source": [
    "FEATURES = df.columns\n",
    "FEATURES"
   ]
  },
  {
   "cell_type": "code",
   "execution_count": 5,
   "metadata": {
    "collapsed": false
   },
   "outputs": [],
   "source": [
    "FEATURES_MEAN = {}\n",
    "FEATURES_STD = {}\n",
    "for feature in FEATURES:\n",
    "    FEATURES_MEAN[feature]=df[feature].mean()\n",
    "    FEATURES_STD[feature]=df[feature].std()"
   ]
  },
  {
   "cell_type": "markdown",
   "metadata": {},
   "source": [
    "# Random forest "
   ]
  },
  {
   "cell_type": "code",
   "execution_count": 6,
   "metadata": {
    "collapsed": false
   },
   "outputs": [
    {
     "name": "stdout",
     "output_type": "stream",
     "text": [
      "[9.68999958038, 0.03389830508474576, 1.0, 0.009236111111111112, 8.520023148148148, 8.529259259259259, 2, 26, True, 0.0]\n"
     ]
    }
   ],
   "source": [
    "RF_FEATURES = [f for f in FEATURES if not f in [\n",
    "    'lastProblemGrade',\n",
    "    'percentageImprovedBetweenFirstAndLastProblem', \n",
    "    'increaseGradeFromFirstToLastProblem'\n",
    "]]\n",
    "\n",
    "dataRF = (rdd_features\n",
    "    .filter(lambda x: x['totalNumberOfProblemSubmissions']>1 and x['firstProblemGrade']<10)\n",
    "    .map(lambda x: [x[feature] for feature in RF_FEATURES])\n",
    ").collect()\n",
    "\n",
    "print(dataRF[0])"
   ]
  },
  {
   "cell_type": "code",
   "execution_count": 7,
   "metadata": {
    "collapsed": false
   },
   "outputs": [
    {
     "name": "stdout",
     "output_type": "stream",
     "text": [
      "[True, True, True, True, True, True, True, True, False, False]\n",
      "0.7533275791577704\n"
     ]
    }
   ],
   "source": [
    "labelsRF = (rdd_features\n",
    "    .filter(lambda x: x['totalNumberOfProblemSubmissions']>1 and x['firstProblemGrade']<10)\n",
    "    .map(lambda x: x['lastProblemGrade']==10.)\n",
    ").collect()\n",
    "\n",
    "print(labelsRF[:10])\n",
    "print(sum(labelsRF)/len(labelsRF))"
   ]
  },
  {
   "cell_type": "code",
   "execution_count": 8,
   "metadata": {
    "collapsed": true
   },
   "outputs": [],
   "source": [
    "def getSplit(data,labels,proportion):\n",
    "    n = int(proportion * len(data))\n",
    "    Xtrain = data[:n]\n",
    "    Ytrain = labels[:n]\n",
    "    Xtest = data[n:]\n",
    "    Ytest = labels[n:]\n",
    "    return(Xtrain,Ytrain,Xtest,Ytest)"
   ]
  },
  {
   "cell_type": "code",
   "execution_count": 9,
   "metadata": {
    "collapsed": true
   },
   "outputs": [],
   "source": [
    "parameters = [2,4,8,12,16,24,32,48,64]"
   ]
  },
  {
   "cell_type": "code",
   "execution_count": 10,
   "metadata": {
    "collapsed": false
   },
   "outputs": [],
   "source": [
    "def computeScores(predictions,y):\n",
    "    measures = [ \n",
    "        (\n",
    "            'TP' if (predictions[index] and y[index]) else\n",
    "            'FP' if (predictions[index] and not y[index]) else \n",
    "            'TN' if (not predictions[index] and not y[index]) else \n",
    "            'FN'\n",
    "        \n",
    "        )\n",
    "        for index in range(len(y))\n",
    "    ]\n",
    "    TP = sum([measure == 'TP' for measure in measures])\n",
    "    FP = sum([measure == 'FP' for measure in measures])\n",
    "    TN = sum([measure == 'TN' for measure in measures])\n",
    "    FN = sum([measure == 'FN' for measure in measures])\n",
    "    \n",
    "    scores = {}\n",
    "    scores['TPr'] = TP / ( TP + FN )\n",
    "    scores['TNr'] = TN / ( TN + FP )\n",
    "    \n",
    "    scores['accuracy'] = ( TP + TN ) / ( TP + TN + FP + FN )\n",
    "    \n",
    "    scores['precision'] = TP / ( TP + FP )\n",
    "    scores['recall'] = TP / ( TP + FN )\n",
    "    \n",
    "    p = scores['precision']\n",
    "    r = scores['recall']\n",
    "    scores['Fscore'] = 2. * p * r / ( p + r )\n",
    "    \n",
    "    return scores"
   ]
  },
  {
   "cell_type": "code",
   "execution_count": 11,
   "metadata": {
    "collapsed": false
   },
   "outputs": [
    {
     "name": "stdout",
     "output_type": "stream",
     "text": [
      "{'accuracy': 0.6547808312514195, 'precision': 0.8302169035153328, 'recall': 0.6755934266585514, 'TPr': 0.6755934266585514, 'Fscore': 0.7449664429530202, 'TNr': 0.5935541629364369}\n",
      "{'accuracy': 0.7463093345446287, 'precision': 0.7463093345446287, 'recall': 1.0, 'TPr': 1.0, 'Fscore': 0.8547275328391208, 'TNr': 0.0}\n",
      "\n",
      "{'accuracy': 0.7101975925505337, 'precision': 0.8109529702970297, 'recall': 0.7976262933657943, 'TPr': 0.7976262933657943, 'Fscore': 0.80423442773857, 'TNr': 0.4529991047448523}\n",
      "{'accuracy': 0.7463093345446287, 'precision': 0.7463093345446287, 'recall': 1.0, 'TPr': 1.0, 'Fscore': 0.8547275328391208, 'TNr': 0.0}\n",
      "\n",
      "{'accuracy': 0.7426754485578015, 'precision': 0.8101411696917314, 'recall': 0.8557516737674985, 'TPr': 0.8557516737674985, 'Fscore': 0.8323220364066893, 'TNr': 0.41002685765443153}\n",
      "{'accuracy': 0.7463093345446287, 'precision': 0.7463093345446287, 'recall': 1.0, 'TPr': 1.0, 'Fscore': 0.8547275328391208, 'TNr': 0.0}\n",
      "\n",
      "{'accuracy': 0.7501703384056325, 'precision': 0.8022676991150443, 'recall': 0.8828362751065125, 'TPr': 0.8828362751065125, 'Fscore': 0.8406259055346277, 'TNr': 0.35989256938227393}\n",
      "{'accuracy': 0.7463093345446287, 'precision': 0.7463093345446287, 'recall': 1.0, 'TPr': 1.0, 'Fscore': 0.8547275328391208, 'TNr': 0.0}\n",
      "\n",
      "{'accuracy': 0.7594821712468771, 'precision': 0.8046511627906977, 'recall': 0.8950091296409007, 'TPr': 0.8950091296409007, 'Fscore': 0.8474283244489267, 'TNr': 0.36078782452999103}\n",
      "{'accuracy': 0.7463093345446287, 'precision': 0.7463093345446287, 'recall': 1.0, 'TPr': 1.0, 'Fscore': 0.8547275328391208, 'TNr': 0.0}\n",
      "\n",
      "{'accuracy': 0.7585736997501703, 'precision': 0.7983892617449665, 'recall': 0.9050517346317711, 'TPr': 0.9050517346317711, 'Fscore': 0.8483811153901012, 'TNr': 0.3276633840644584}\n",
      "{'accuracy': 0.7463093345446287, 'precision': 0.7463093345446287, 'recall': 1.0, 'TPr': 1.0, 'Fscore': 0.8547275328391208, 'TNr': 0.0}\n",
      "\n",
      "{'accuracy': 0.7572109925051101, 'precision': 0.7933315691982006, 'recall': 0.9123554473524041, 'TPr': 0.9123554473524041, 'Fscore': 0.848690728945506, 'TNr': 0.3008057296329454}\n",
      "{'accuracy': 0.7463093345446287, 'precision': 0.7463093345446287, 'recall': 1.0, 'TPr': 1.0, 'Fscore': 0.8547275328391208, 'TNr': 0.0}\n",
      "\n",
      "{'accuracy': 0.7590279354985238, 'precision': 0.7929944693178825, 'recall': 0.9163116250760803, 'TPr': 0.9163116250760803, 'Fscore': 0.8502047155160243, 'TNr': 0.2963294538943599}\n",
      "{'accuracy': 0.7463093345446287, 'precision': 0.7463093345446287, 'recall': 1.0, 'TPr': 1.0, 'Fscore': 0.8547275328391208, 'TNr': 0.0}\n",
      "\n",
      "{'accuracy': 0.7631160572337043, 'precision': 0.7952092655962095, 'recall': 0.9193548387096774, 'TPr': 0.9193548387096774, 'Fscore': 0.852787579393084, 'TNr': 0.3034914950760967}\n",
      "{'accuracy': 0.7463093345446287, 'precision': 0.7463093345446287, 'recall': 1.0, 'TPr': 1.0, 'Fscore': 0.8547275328391208, 'TNr': 0.0}\n",
      "\n"
     ]
    }
   ],
   "source": [
    "trainScores = []\n",
    "testScores = []\n",
    "for param in parameters: \n",
    "    (Xtrain,Ytrain,Xtest,Ytest) = getSplit(dataRF,labelsRF,0.8)\n",
    "    clf = RandomForestClassifier(n_estimators=param,class_weight='balanced_subsample')\n",
    "    clf.fit(Xtrain,Ytrain)\n",
    "    \n",
    "    testScore = computeScores(clf.predict(Xtest),Ytest)\n",
    "    trainScore = computeScores(clf.predict(Xtrain),Ytrain)\n",
    "    \n",
    "    print(testScore)\n",
    "    print(computeScores([True for _ in Ytest],Ytest))\n",
    "    print()\n",
    "    \n",
    "    trainScores.append(trainScore)\n",
    "    testScores.append(testScore)"
   ]
  },
  {
   "cell_type": "code",
   "execution_count": 12,
   "metadata": {
    "collapsed": false
   },
   "outputs": [
    {
     "data": {
      "text/html": [
       "<div>\n",
       "<table border=\"1\" class=\"dataframe\">\n",
       "  <thead>\n",
       "    <tr style=\"text-align: right;\">\n",
       "      <th></th>\n",
       "      <th>Fscore</th>\n",
       "      <th>TNr</th>\n",
       "      <th>TPr</th>\n",
       "      <th>accuracy</th>\n",
       "      <th>precision</th>\n",
       "      <th>recall</th>\n",
       "    </tr>\n",
       "  </thead>\n",
       "  <tbody>\n",
       "    <tr>\n",
       "      <th>0</th>\n",
       "      <td>0.744966</td>\n",
       "      <td>0.593554</td>\n",
       "      <td>0.675593</td>\n",
       "      <td>0.654781</td>\n",
       "      <td>0.830217</td>\n",
       "      <td>0.675593</td>\n",
       "    </tr>\n",
       "    <tr>\n",
       "      <th>1</th>\n",
       "      <td>0.804234</td>\n",
       "      <td>0.452999</td>\n",
       "      <td>0.797626</td>\n",
       "      <td>0.710198</td>\n",
       "      <td>0.810953</td>\n",
       "      <td>0.797626</td>\n",
       "    </tr>\n",
       "    <tr>\n",
       "      <th>2</th>\n",
       "      <td>0.832322</td>\n",
       "      <td>0.410027</td>\n",
       "      <td>0.855752</td>\n",
       "      <td>0.742675</td>\n",
       "      <td>0.810141</td>\n",
       "      <td>0.855752</td>\n",
       "    </tr>\n",
       "    <tr>\n",
       "      <th>3</th>\n",
       "      <td>0.840626</td>\n",
       "      <td>0.359893</td>\n",
       "      <td>0.882836</td>\n",
       "      <td>0.750170</td>\n",
       "      <td>0.802268</td>\n",
       "      <td>0.882836</td>\n",
       "    </tr>\n",
       "    <tr>\n",
       "      <th>4</th>\n",
       "      <td>0.847428</td>\n",
       "      <td>0.360788</td>\n",
       "      <td>0.895009</td>\n",
       "      <td>0.759482</td>\n",
       "      <td>0.804651</td>\n",
       "      <td>0.895009</td>\n",
       "    </tr>\n",
       "  </tbody>\n",
       "</table>\n",
       "</div>"
      ],
      "text/plain": [
       "     Fscore       TNr       TPr  accuracy  precision    recall\n",
       "0  0.744966  0.593554  0.675593  0.654781   0.830217  0.675593\n",
       "1  0.804234  0.452999  0.797626  0.710198   0.810953  0.797626\n",
       "2  0.832322  0.410027  0.855752  0.742675   0.810141  0.855752\n",
       "3  0.840626  0.359893  0.882836  0.750170   0.802268  0.882836\n",
       "4  0.847428  0.360788  0.895009  0.759482   0.804651  0.895009"
      ]
     },
     "execution_count": 12,
     "metadata": {},
     "output_type": "execute_result"
    }
   ],
   "source": [
    "dfTestScores = pd.DataFrame(testScores)\n",
    "dfTrainScores = pd.DataFrame(trainScores)\n",
    "dfTestScores.head()"
   ]
  },
  {
   "cell_type": "code",
   "execution_count": 13,
   "metadata": {
    "collapsed": false
   },
   "outputs": [
    {
     "name": "stdout",
     "output_type": "stream",
     "text": [
      "firstProblemGrade                        0.282151260337\n",
      "timeBetweenFirstAndLastProblem           0.16557569436\n",
      "timeBetweenStartAndLastProblem           0.159058659256\n",
      "timeBetweenStartAndFirstProblem          0.130725775467\n",
      "proportionOfProblemEvents                0.104070556808\n",
      "totalNumberOfVideoWatched                0.0900482498727\n",
      "totalNumberOfProblemSubmissions          0.0391852775217\n",
      "watchedAllVideosBeforeFirstProblem       0.0107063205617\n",
      "repeatedVideoBeforeFirstProblem          0.00988705369154\n",
      "watchedSomeVideoAfterFirstProblem        0.00859115212478\n"
     ]
    }
   ],
   "source": [
    "feature_importances = clf.feature_importances_\n",
    "\n",
    "for index in sorted(range(len(RF_FEATURES)),key=(lambda i: feature_importances[i]),reverse= True):\n",
    "    feature = RF_FEATURES[index]\n",
    "    print(feature + (40-len(feature))*' ',feature_importances[index])\n"
   ]
  },
  {
   "cell_type": "code",
   "execution_count": 14,
   "metadata": {
    "collapsed": false
   },
   "outputs": [
    {
     "data": {
      "image/png": "[encoded data removed]",
      "text/plain": [
       "<matplotlib.figure.Figure at 0x7fddb5792e10>"
      ]
     },
     "metadata": {},
     "output_type": "display_data"
    }
   ],
   "source": [
    "f, ax = plt.subplots(1)\n",
    "plt.title(\"RandomForestClassifier\")\n",
    "plt.xlabel(\"parameter\")\n",
    "plt.ylabel(\"Accuracy score\")\n",
    "plt.grid()\n",
    "ax.set_ylim(ymin=0,ymax=1.1)\n",
    "plt.plot(parameters, dfTestScores.Fscore, 'o-', color=\"g\", label=\"test Fscore\")\n",
    "plt.plot(parameters, dfTestScores.TPr, 'x-', color=\"g\", label=\"test TPr\")\n",
    "plt.plot(parameters, dfTestScores.accuracy, '.-', color=\"g\", label=\"test accuracy\")\n",
    "\n",
    "plt.plot(parameters, dfTrainScores.Fscore, 'o-', color=\"r\", label=\"train Fscore\")\n",
    "plt.plot(parameters, dfTrainScores.TPr, 'x-', color=\"r\", label=\"train TPr\")\n",
    "plt.plot(parameters, dfTrainScores.accuracy, '.-', color=\"r\", label=\"train accuracy\")\n",
    "\n",
    "plt.legend(loc=\"best\")\n",
    "\n",
    "plt.show()"
   ]
  },
  {
   "cell_type": "markdown",
   "metadata": {
    "collapsed": true
   },
   "source": [
    "# Logistic Regression"
   ]
  },
  {
   "cell_type": "code",
   "execution_count": 15,
   "metadata": {
    "collapsed": false
   },
   "outputs": [
    {
     "name": "stdout",
     "output_type": "stream",
     "text": [
      "[0.4158665459555137, -0.6299229124757464, 0.6349530291348382, -0.15382463910599103, 0.6599079925314141, 0.5323300262459776, 0.12557275969019144, -0.10784988792772118, 0.57578436303778735, -0.20088152823181604]\n"
     ]
    }
   ],
   "source": [
    "LR_FEATURES = [f for f in FEATURES if not f in [\n",
    "    'lastProblemGrade',\n",
    "    'percentageImprovedBetweenFirstAndLastProblem', \n",
    "    #'firstProblemGrade', \n",
    "    'increaseGradeFromFirstToLastProblem',\n",
    "    ''\n",
    "]]\n",
    "\n",
    "dataLR = (rdd_features\n",
    "    .filter(lambda x: x['totalNumberOfProblemSubmissions']>1 and x['firstProblemGrade']<10)\n",
    "    .map(lambda x: [(x[feature]-FEATURES_MEAN[feature])/FEATURES_STD[feature] for feature in LR_FEATURES])\n",
    ").collect()\n",
    "\n",
    "print(dataLR[0])"
   ]
  },
  {
   "cell_type": "code",
   "execution_count": 16,
   "metadata": {
    "collapsed": false
   },
   "outputs": [
    {
     "name": "stdout",
     "output_type": "stream",
     "text": [
      "[True, True, True, True, True, True, True, True, False, False]\n",
      "0.7533275791577704\n"
     ]
    }
   ],
   "source": [
    "labelsRF = (rdd_features\n",
    "    .filter(lambda x: x['totalNumberOfProblemSubmissions']>1 and x['firstProblemGrade']<10)\n",
    "    .map(lambda x: x['lastProblemGrade']==10.)\n",
    ").collect()\n",
    "\n",
    "print(labelsRF[:10])\n",
    "print(sum(labelsRF)/len(labelsRF))"
   ]
  },
  {
   "cell_type": "code",
   "execution_count": 17,
   "metadata": {
    "collapsed": true
   },
   "outputs": [],
   "source": [
    "parameters = [0.0001,0.001,0.01,0.1,1,10]"
   ]
  },
  {
   "cell_type": "code",
   "execution_count": 18,
   "metadata": {
    "collapsed": false
   },
   "outputs": [
    {
     "name": "stdout",
     "output_type": "stream",
     "text": [
      "{'accuracy': 0.7447195094253918, 'precision': 0.7710631895687061, 'recall': 0.9357881923311017, 'TPr': 0.9357881923311017, 'Fscore': 0.8454770415177345, 'TNr': 0.18263205013428827}\n",
      "\n",
      "{'accuracy': 0.7374517374517374, 'precision': 0.7694838056680162, 'recall': 0.9254412659768716, 'TPr': 0.9254412659768716, 'Fscore': 0.8402873722022659, 'TNr': 0.18442256042972247}\n",
      "\n",
      "{'accuracy': 0.7542584601408131, 'precision': 0.7731779871095686, 'recall': 0.9491783323189288, 'TPr': 0.9491783323189288, 'Fscore': 0.8521857923497268, 'TNr': 0.18084153983885407}\n",
      "\n",
      "{'accuracy': 0.7410856234385647, 'precision': 0.7633775159548355, 'recall': 0.9464394400486914, 'TPr': 0.9464394400486914, 'Fscore': 0.8451086956521738, 'TNr': 0.1369740376007162}\n",
      "\n",
      "{'accuracy': 0.7429025664319782, 'precision': 0.7494210282538212, 'recall': 0.9847839318320146, 'TPr': 0.9847839318320146, 'Fscore': 0.8511309836927932, 'TNr': 0.03133393017009848}\n",
      "\n",
      "{'accuracy': 0.7435839200545082, 'precision': 0.7487889273356402, 'recall': 0.9878271454656117, 'TPr': 0.9878271454656117, 'Fscore': 0.8518567117176225, 'TNr': 0.025067144136078783}\n",
      "\n"
     ]
    }
   ],
   "source": [
    "trainScores = []\n",
    "testScores = []\n",
    "for param in parameters: \n",
    "    (Xtrain,Ytrain,Xtest,Ytest) = getSplit(dataRF,labelsRF,0.8)\n",
    "    clf = linear_model.SGDClassifier(alpha=param, loss='log')\n",
    "    clf.fit(Xtrain,Ytrain)\n",
    "    \n",
    "    testScore = computeScores(clf.predict(Xtest),Ytest)\n",
    "    trainScore = computeScores(clf.predict(Xtrain),Ytrain)\n",
    "    \n",
    "    print(testScore)\n",
    "    print()\n",
    "    \n",
    "    trainScores.append(trainScore)\n",
    "    testScores.append(testScore)"
   ]
  },
  {
   "cell_type": "code",
   "execution_count": 19,
   "metadata": {
    "collapsed": false
   },
   "outputs": [
    {
     "data": {
      "text/html": [
       "<div>\n",
       "<table border=\"1\" class=\"dataframe\">\n",
       "  <thead>\n",
       "    <tr style=\"text-align: right;\">\n",
       "      <th></th>\n",
       "      <th>Fscore</th>\n",
       "      <th>TNr</th>\n",
       "      <th>TPr</th>\n",
       "      <th>accuracy</th>\n",
       "      <th>precision</th>\n",
       "      <th>recall</th>\n",
       "    </tr>\n",
       "  </thead>\n",
       "  <tbody>\n",
       "    <tr>\n",
       "      <th>0</th>\n",
       "      <td>0.845477</td>\n",
       "      <td>0.182632</td>\n",
       "      <td>0.935788</td>\n",
       "      <td>0.744720</td>\n",
       "      <td>0.771063</td>\n",
       "      <td>0.935788</td>\n",
       "    </tr>\n",
       "    <tr>\n",
       "      <th>1</th>\n",
       "      <td>0.840287</td>\n",
       "      <td>0.184423</td>\n",
       "      <td>0.925441</td>\n",
       "      <td>0.737452</td>\n",
       "      <td>0.769484</td>\n",
       "      <td>0.925441</td>\n",
       "    </tr>\n",
       "    <tr>\n",
       "      <th>2</th>\n",
       "      <td>0.852186</td>\n",
       "      <td>0.180842</td>\n",
       "      <td>0.949178</td>\n",
       "      <td>0.754258</td>\n",
       "      <td>0.773178</td>\n",
       "      <td>0.949178</td>\n",
       "    </tr>\n",
       "    <tr>\n",
       "      <th>3</th>\n",
       "      <td>0.845109</td>\n",
       "      <td>0.136974</td>\n",
       "      <td>0.946439</td>\n",
       "      <td>0.741086</td>\n",
       "      <td>0.763378</td>\n",
       "      <td>0.946439</td>\n",
       "    </tr>\n",
       "    <tr>\n",
       "      <th>4</th>\n",
       "      <td>0.851131</td>\n",
       "      <td>0.031334</td>\n",
       "      <td>0.984784</td>\n",
       "      <td>0.742903</td>\n",
       "      <td>0.749421</td>\n",
       "      <td>0.984784</td>\n",
       "    </tr>\n",
       "  </tbody>\n",
       "</table>\n",
       "</div>"
      ],
      "text/plain": [
       "     Fscore       TNr       TPr  accuracy  precision    recall\n",
       "0  0.845477  0.182632  0.935788  0.744720   0.771063  0.935788\n",
       "1  0.840287  0.184423  0.925441  0.737452   0.769484  0.925441\n",
       "2  0.852186  0.180842  0.949178  0.754258   0.773178  0.949178\n",
       "3  0.845109  0.136974  0.946439  0.741086   0.763378  0.946439\n",
       "4  0.851131  0.031334  0.984784  0.742903   0.749421  0.984784"
      ]
     },
     "execution_count": 19,
     "metadata": {},
     "output_type": "execute_result"
    }
   ],
   "source": [
    "dfTestScores = pd.DataFrame(testScores)\n",
    "dfTrainScores = pd.DataFrame(trainScores)\n",
    "dfTestScores.head()"
   ]
  },
  {
   "cell_type": "code",
   "execution_count": 20,
   "metadata": {
    "collapsed": false
   },
   "outputs": [
    {
     "data": {
      "image/png": "[encoded data removed]",
      "text/plain": [
       "<matplotlib.figure.Figure at 0x7fddb4681588>"
      ]
     },
     "metadata": {},
     "output_type": "display_data"
    }
   ],
   "source": [
    "f, ax = plt.subplots(1)\n",
    "plt.title(\"Logistic Regression\")\n",
    "plt.xlabel(\"parameter\")\n",
    "plt.ylabel(\"Accuracy score\")\n",
    "plt.grid()\n",
    "ax.set_ylim(ymin=0,ymax=1.1)\n",
    "plt.semilogx(parameters, dfTestScores.Fscore, 'o-', color=\"g\", label=\"test Fscore\")\n",
    "plt.semilogx(parameters, dfTestScores.TPr, 'x-', color=\"g\", label=\"test TPr\")\n",
    "plt.semilogx(parameters, dfTestScores.accuracy, '.-', color=\"g\", label=\"test accuracy\")\n",
    "\n",
    "plt.semilogx(parameters, dfTrainScores.Fscore, 'o-', color=\"r\", label=\"train Fscore\")\n",
    "plt.semilogx(parameters, dfTrainScores.TPr, 'x-', color=\"r\", label=\"train TPr\")\n",
    "plt.semilogx(parameters, dfTrainScores.accuracy, '.-', color=\"r\", label=\"train accuracy\")\n",
    "\n",
    "plt.legend(loc=\"best\")\n",
    "\n",
    "plt.show()"
   ]
  },
  {
   "cell_type": "code",
   "execution_count": null,
   "metadata": {
    "collapsed": true
   },
   "outputs": [],
   "source": []
  }
 ],
 "metadata": {
  "anaconda-cloud": {},
  "kernelspec": {
   "display_name": "Python [conda root]",
   "language": "python",
   "name": "conda-root-py"
  },
  "language_info": {
   "codemirror_mode": {
    "name": "ipython",
    "version": 3
   },
   "file_extension": ".py",
   "mimetype": "text/x-python",
   "name": "python",
   "nbconvert_exporter": "python",
   "pygments_lexer": "ipython3",
   "version": "3.5.2"
  }
 },
 "nbformat": 4,
 "nbformat_minor": 0
}
