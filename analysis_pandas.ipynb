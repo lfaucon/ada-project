{
 "cells": [
  {
   "cell_type": "markdown",
   "metadata": {},
   "source": [
    "# ADA - project\n",
    "# Scala MOOC - Extraction of Learning Patterns"
   ]
  },
  {
   "cell_type": "markdown",
   "metadata": {},
   "source": [
    "## Libraries"
   ]
  },
  {
   "cell_type": "code",
   "execution_count": 1,
   "metadata": {
    "collapsed": true
   },
   "outputs": [],
   "source": [
    "%matplotlib inline\n",
    "import pandas as pd\n",
    "import matplotlib.pyplot as plt\n",
    "import numpy as np\n",
    "import random\n",
    "import math"
   ]
  },
  {
   "cell_type": "markdown",
   "metadata": {},
   "source": [
    "## Configuration"
   ]
  },
  {
   "cell_type": "code",
   "execution_count": 2,
   "metadata": {
    "collapsed": false
   },
   "outputs": [],
   "source": [
    "config = {\n",
    "    'courseName': 'progfun-002',\n",
    "}"
   ]
  },
  {
   "cell_type": "markdown",
   "metadata": {},
   "source": [
    "## Data imports"
   ]
  },
  {
   "cell_type": "markdown",
   "metadata": {},
   "source": [
    "### User Grades"
   ]
  },
  {
   "cell_type": "code",
   "execution_count": 3,
   "metadata": {
    "collapsed": false
   },
   "outputs": [
    {
     "data": {
      "text/html": [
       "<div>\n",
       "<table border=\"1\" class=\"dataframe\">\n",
       "  <thead>\n",
       "    <tr style=\"text-align: right;\">\n",
       "      <th></th>\n",
       "      <th>SessionUserID</th>\n",
       "      <th>Grade</th>\n",
       "      <th>AchievementLevel</th>\n",
       "    </tr>\n",
       "  </thead>\n",
       "  <tbody>\n",
       "    <tr>\n",
       "      <th>0</th>\n",
       "      <td>8accc2f206303b9d17a053ad7baf1dfda43106d7</td>\n",
       "      <td>0.0</td>\n",
       "      <td>Failed</td>\n",
       "    </tr>\n",
       "    <tr>\n",
       "      <th>1</th>\n",
       "      <td>72c928d78974d421ad926437dd7bfeb77df025d3</td>\n",
       "      <td>0.0</td>\n",
       "      <td>Failed</td>\n",
       "    </tr>\n",
       "    <tr>\n",
       "      <th>2</th>\n",
       "      <td>7b739a27ae755435d5be8b0d6cc2acfa9825b673</td>\n",
       "      <td>0.0</td>\n",
       "      <td>Failed</td>\n",
       "    </tr>\n",
       "    <tr>\n",
       "      <th>3</th>\n",
       "      <td>defb225fb299fb0365383acc90defd55b2fe3220</td>\n",
       "      <td>0.0</td>\n",
       "      <td>Failed</td>\n",
       "    </tr>\n",
       "    <tr>\n",
       "      <th>4</th>\n",
       "      <td>2f738f48b9e1d5b7d2ea95529026b8c4d9543fdd</td>\n",
       "      <td>0.0</td>\n",
       "      <td>Failed</td>\n",
       "    </tr>\n",
       "  </tbody>\n",
       "</table>\n",
       "</div>"
      ],
      "text/plain": [
       "                              SessionUserID  Grade AchievementLevel\n",
       "0  8accc2f206303b9d17a053ad7baf1dfda43106d7    0.0           Failed\n",
       "1  72c928d78974d421ad926437dd7bfeb77df025d3    0.0           Failed\n",
       "2  7b739a27ae755435d5be8b0d6cc2acfa9825b673    0.0           Failed\n",
       "3  defb225fb299fb0365383acc90defd55b2fe3220    0.0           Failed\n",
       "4  2f738f48b9e1d5b7d2ea95529026b8c4d9543fdd    0.0           Failed"
      ]
     },
     "execution_count": 3,
     "metadata": {},
     "output_type": "execute_result"
    }
   ],
   "source": [
    "df_User_Grades = pd.read_csv('data/' + config['courseName'] + '_User_Grades.csv')\n",
    "df_User_Grades = df_User_Grades[['SessionUserID','Grade','AchievementLevel']]\n",
    "df_User_Grades.head()"
   ]
  },
  {
   "cell_type": "markdown",
   "metadata": {},
   "source": [
    "### Assignment Events"
   ]
  },
  {
   "cell_type": "code",
   "execution_count": 4,
   "metadata": {
    "collapsed": false
   },
   "outputs": [
    {
     "data": {
      "text/html": [
       "<div>\n",
       "<table border=\"1\" class=\"dataframe\">\n",
       "  <thead>\n",
       "    <tr style=\"text-align: right;\">\n",
       "      <th></th>\n",
       "      <th>EventID</th>\n",
       "      <th>ForumUserID</th>\n",
       "      <th>MaximumSubmissions</th>\n",
       "      <th>AccountUserID</th>\n",
       "      <th>SubmissionNumber</th>\n",
       "      <th>Grade</th>\n",
       "      <th>TimeStamp</th>\n",
       "      <th>DataPackageID</th>\n",
       "      <th>ProblemID</th>\n",
       "      <th>SoftCloseTime</th>\n",
       "      <th>ProblemType</th>\n",
       "      <th>HardCloseTime</th>\n",
       "      <th>Platform</th>\n",
       "      <th>OpenTime</th>\n",
       "      <th>EventType</th>\n",
       "      <th>Title</th>\n",
       "      <th>SessionUserID</th>\n",
       "      <th>UniqueProblemID</th>\n",
       "      <th>UniqueUserID</th>\n",
       "    </tr>\n",
       "  </thead>\n",
       "  <tbody>\n",
       "    <tr>\n",
       "      <th>0</th>\n",
       "      <td>3bcd1a54ed6ddb04b4a6fb2906110a01</td>\n",
       "      <td>NaN</td>\n",
       "      <td>0.0</td>\n",
       "      <td>NaN</td>\n",
       "      <td>7</td>\n",
       "      <td>NaN</td>\n",
       "      <td>1365344171</td>\n",
       "      <td>progfun-002</td>\n",
       "      <td>7</td>\n",
       "      <td>2.147484e+09</td>\n",
       "      <td>Video</td>\n",
       "      <td>2.147484e+09</td>\n",
       "      <td>Coursera</td>\n",
       "      <td>32400.0</td>\n",
       "      <td>Problem.Check</td>\n",
       "      <td>Lecture 1.2 - Elements of Programming (14:25)</td>\n",
       "      <td>c4d4e5fcd2feba9f3234ee8d852dc7b22fbc07e4</td>\n",
       "      <td>f322944718b2ee0e53292118111533c7</td>\n",
       "      <td>21f13b3f6b50a83343b57d2f1d07dbdf</td>\n",
       "    </tr>\n",
       "  </tbody>\n",
       "</table>\n",
       "</div>"
      ],
      "text/plain": [
       "                            EventID  ForumUserID  MaximumSubmissions  \\\n",
       "0  3bcd1a54ed6ddb04b4a6fb2906110a01          NaN                 0.0   \n",
       "\n",
       "   AccountUserID  SubmissionNumber  Grade   TimeStamp DataPackageID  \\\n",
       "0            NaN                 7    NaN  1365344171   progfun-002   \n",
       "\n",
       "   ProblemID  SoftCloseTime ProblemType  HardCloseTime  Platform  OpenTime  \\\n",
       "0          7   2.147484e+09       Video   2.147484e+09  Coursera   32400.0   \n",
       "\n",
       "       EventType                                          Title  \\\n",
       "0  Problem.Check  Lecture 1.2 - Elements of Programming (14:25)   \n",
       "\n",
       "                              SessionUserID                   UniqueProblemID  \\\n",
       "0  c4d4e5fcd2feba9f3234ee8d852dc7b22fbc07e4  f322944718b2ee0e53292118111533c7   \n",
       "\n",
       "                       UniqueUserID  \n",
       "0  21f13b3f6b50a83343b57d2f1d07dbdf  "
      ]
     },
     "execution_count": 4,
     "metadata": {},
     "output_type": "execute_result"
    }
   ],
   "source": [
    "df_Problem_Event = pd.read_csv(\n",
    "    'data/' + config['courseName'] + '_Problem_Events_with_Info.csv',\n",
    "    dtype={\"Grade\":np.float64},\n",
    "    na_values=['None']\n",
    ")\n",
    "df_Problem_Event.head(1)"
   ]
  },
  {
   "cell_type": "code",
   "execution_count": 5,
   "metadata": {
    "collapsed": false
   },
   "outputs": [
    {
     "name": "stdout",
     "output_type": "stream",
     "text": [
      "(458888, 6)\n"
     ]
    },
    {
     "data": {
      "text/html": [
       "<div>\n",
       "<table border=\"1\" class=\"dataframe\">\n",
       "  <thead>\n",
       "    <tr style=\"text-align: right;\">\n",
       "      <th></th>\n",
       "      <th>SessionUserID</th>\n",
       "      <th>Grade</th>\n",
       "      <th>TimeStamp</th>\n",
       "      <th>ProblemID</th>\n",
       "      <th>ProblemType</th>\n",
       "      <th>EventType</th>\n",
       "    </tr>\n",
       "  </thead>\n",
       "  <tbody>\n",
       "    <tr>\n",
       "      <th>0</th>\n",
       "      <td>c4d4e5fcd2feba9f3234ee8d852dc7b22fbc07e4</td>\n",
       "      <td>NaN</td>\n",
       "      <td>1365344171</td>\n",
       "      <td>7</td>\n",
       "      <td>Video</td>\n",
       "      <td>Problem.Check</td>\n",
       "    </tr>\n",
       "    <tr>\n",
       "      <th>1</th>\n",
       "      <td>5c353bfbd5ef50936ba7bbefd669d68251022676</td>\n",
       "      <td>NaN</td>\n",
       "      <td>1365047925</td>\n",
       "      <td>42</td>\n",
       "      <td>Video</td>\n",
       "      <td>Problem.Check</td>\n",
       "    </tr>\n",
       "    <tr>\n",
       "      <th>2</th>\n",
       "      <td>c6883c5b19d059835444a74ae215e7127c1ae479</td>\n",
       "      <td>NaN</td>\n",
       "      <td>1368278256</td>\n",
       "      <td>128</td>\n",
       "      <td>Video</td>\n",
       "      <td>Problem.Check</td>\n",
       "    </tr>\n",
       "    <tr>\n",
       "      <th>3</th>\n",
       "      <td>17f04d65c333476dee4a60960423e124ee58958b</td>\n",
       "      <td>NaN</td>\n",
       "      <td>1364834321</td>\n",
       "      <td>50</td>\n",
       "      <td>Video</td>\n",
       "      <td>Problem.Check</td>\n",
       "    </tr>\n",
       "    <tr>\n",
       "      <th>4</th>\n",
       "      <td>c3c061e8838f096ad41555d81b6e0c82aa649a83</td>\n",
       "      <td>NaN</td>\n",
       "      <td>1367047633</td>\n",
       "      <td>78</td>\n",
       "      <td>Video</td>\n",
       "      <td>Problem.Check</td>\n",
       "    </tr>\n",
       "  </tbody>\n",
       "</table>\n",
       "</div>"
      ],
      "text/plain": [
       "                              SessionUserID  Grade   TimeStamp  ProblemID  \\\n",
       "0  c4d4e5fcd2feba9f3234ee8d852dc7b22fbc07e4    NaN  1365344171          7   \n",
       "1  5c353bfbd5ef50936ba7bbefd669d68251022676    NaN  1365047925         42   \n",
       "2  c6883c5b19d059835444a74ae215e7127c1ae479    NaN  1368278256        128   \n",
       "3  17f04d65c333476dee4a60960423e124ee58958b    NaN  1364834321         50   \n",
       "4  c3c061e8838f096ad41555d81b6e0c82aa649a83    NaN  1367047633         78   \n",
       "\n",
       "  ProblemType      EventType  \n",
       "0       Video  Problem.Check  \n",
       "1       Video  Problem.Check  \n",
       "2       Video  Problem.Check  \n",
       "3       Video  Problem.Check  \n",
       "4       Video  Problem.Check  "
      ]
     },
     "execution_count": 5,
     "metadata": {},
     "output_type": "execute_result"
    }
   ],
   "source": [
    "df_Problem_Event = df_Problem_Event[['SessionUserID','Grade','TimeStamp','ProblemID','ProblemType','EventType']]\n",
    "print(df_Problem_Event.shape)\n",
    "df_Problem_Event.head()"
   ]
  },
  {
   "cell_type": "code",
   "execution_count": 6,
   "metadata": {
    "collapsed": false
   },
   "outputs": [
    {
     "name": "stdout",
     "output_type": "stream",
     "text": [
      "(105136, 6)\n"
     ]
    },
    {
     "data": {
      "text/html": [
       "<div>\n",
       "<table border=\"1\" class=\"dataframe\">\n",
       "  <thead>\n",
       "    <tr style=\"text-align: right;\">\n",
       "      <th></th>\n",
       "      <th>SessionUserID</th>\n",
       "      <th>Grade</th>\n",
       "      <th>TimeStamp</th>\n",
       "      <th>ProblemID</th>\n",
       "      <th>EventType</th>\n",
       "    </tr>\n",
       "  </thead>\n",
       "  <tbody>\n",
       "    <tr>\n",
       "      <th>353612</th>\n",
       "      <td>d8f79efa32a560b8a46ea2b12d9bed97c9e39b4b</td>\n",
       "      <td>9.33</td>\n",
       "      <td>1366220878</td>\n",
       "      <td>6</td>\n",
       "      <td>Problem.Check</td>\n",
       "    </tr>\n",
       "    <tr>\n",
       "      <th>353613</th>\n",
       "      <td>01f3f5e9d74af6db74312f8732c5b7537d85a1f7</td>\n",
       "      <td>9.96</td>\n",
       "      <td>1368387177</td>\n",
       "      <td>17</td>\n",
       "      <td>Problem.Check</td>\n",
       "    </tr>\n",
       "    <tr>\n",
       "      <th>353614</th>\n",
       "      <td>c188ee041432748b84cb2cea79157149bcfd3839</td>\n",
       "      <td>9.58</td>\n",
       "      <td>1365562650</td>\n",
       "      <td>7</td>\n",
       "      <td>Problem.Check</td>\n",
       "    </tr>\n",
       "    <tr>\n",
       "      <th>353615</th>\n",
       "      <td>32990542ac561fc903f1d21f5261b8fd23d0b377</td>\n",
       "      <td>9.90</td>\n",
       "      <td>1367583295</td>\n",
       "      <td>12</td>\n",
       "      <td>Problem.Check</td>\n",
       "    </tr>\n",
       "    <tr>\n",
       "      <th>353616</th>\n",
       "      <td>87c90d3a59f52681f14f258687d83fbc6299cd40</td>\n",
       "      <td>10.00</td>\n",
       "      <td>1365720098</td>\n",
       "      <td>6</td>\n",
       "      <td>Problem.Check</td>\n",
       "    </tr>\n",
       "  </tbody>\n",
       "</table>\n",
       "</div>"
      ],
      "text/plain": [
       "                                   SessionUserID  Grade   TimeStamp  \\\n",
       "353612  d8f79efa32a560b8a46ea2b12d9bed97c9e39b4b   9.33  1366220878   \n",
       "353613  01f3f5e9d74af6db74312f8732c5b7537d85a1f7   9.96  1368387177   \n",
       "353614  c188ee041432748b84cb2cea79157149bcfd3839   9.58  1365562650   \n",
       "353615  32990542ac561fc903f1d21f5261b8fd23d0b377   9.90  1367583295   \n",
       "353616  87c90d3a59f52681f14f258687d83fbc6299cd40  10.00  1365720098   \n",
       "\n",
       "        ProblemID      EventType  \n",
       "353612          6  Problem.Check  \n",
       "353613         17  Problem.Check  \n",
       "353614          7  Problem.Check  \n",
       "353615         12  Problem.Check  \n",
       "353616          6  Problem.Check  "
      ]
     },
     "execution_count": 6,
     "metadata": {},
     "output_type": "execute_result"
    }
   ],
   "source": [
    "df_Assignment_Event = df_Problem_Event[df_Problem_Event.ProblemType == \"Assignment\"].dropna()\n",
    "print(df_Assignment_Event.shape)\n",
    "df_Assignment_Event.drop('ProblemType',axis=1,inplace=True)\n",
    "df_Assignment_Event.head()"
   ]
  },
  {
   "cell_type": "code",
   "execution_count": 7,
   "metadata": {
    "collapsed": false
   },
   "outputs": [
    {
     "data": {
      "text/html": [
       "<div>\n",
       "<table border=\"1\" class=\"dataframe\">\n",
       "  <thead>\n",
       "    <tr style=\"text-align: right;\">\n",
       "      <th></th>\n",
       "      <th>SessionUserID</th>\n",
       "      <th>Grade</th>\n",
       "      <th>TimeStamp</th>\n",
       "      <th>ProblemID</th>\n",
       "      <th>EventType</th>\n",
       "      <th>Date</th>\n",
       "    </tr>\n",
       "  </thead>\n",
       "  <tbody>\n",
       "    <tr>\n",
       "      <th>353612</th>\n",
       "      <td>d8f79efa32a560b8a46ea2b12d9bed97c9e39b4b</td>\n",
       "      <td>9.33</td>\n",
       "      <td>1366220878</td>\n",
       "      <td>6</td>\n",
       "      <td>Problem.Check</td>\n",
       "      <td>2013-04-17 17:47:58</td>\n",
       "    </tr>\n",
       "    <tr>\n",
       "      <th>353613</th>\n",
       "      <td>01f3f5e9d74af6db74312f8732c5b7537d85a1f7</td>\n",
       "      <td>9.96</td>\n",
       "      <td>1368387177</td>\n",
       "      <td>17</td>\n",
       "      <td>Problem.Check</td>\n",
       "      <td>2013-05-12 19:32:57</td>\n",
       "    </tr>\n",
       "    <tr>\n",
       "      <th>353614</th>\n",
       "      <td>c188ee041432748b84cb2cea79157149bcfd3839</td>\n",
       "      <td>9.58</td>\n",
       "      <td>1365562650</td>\n",
       "      <td>7</td>\n",
       "      <td>Problem.Check</td>\n",
       "      <td>2013-04-10 02:57:30</td>\n",
       "    </tr>\n",
       "    <tr>\n",
       "      <th>353615</th>\n",
       "      <td>32990542ac561fc903f1d21f5261b8fd23d0b377</td>\n",
       "      <td>9.90</td>\n",
       "      <td>1367583295</td>\n",
       "      <td>12</td>\n",
       "      <td>Problem.Check</td>\n",
       "      <td>2013-05-03 12:14:55</td>\n",
       "    </tr>\n",
       "    <tr>\n",
       "      <th>353616</th>\n",
       "      <td>87c90d3a59f52681f14f258687d83fbc6299cd40</td>\n",
       "      <td>10.00</td>\n",
       "      <td>1365720098</td>\n",
       "      <td>6</td>\n",
       "      <td>Problem.Check</td>\n",
       "      <td>2013-04-11 22:41:38</td>\n",
       "    </tr>\n",
       "  </tbody>\n",
       "</table>\n",
       "</div>"
      ],
      "text/plain": [
       "                                   SessionUserID  Grade   TimeStamp  \\\n",
       "353612  d8f79efa32a560b8a46ea2b12d9bed97c9e39b4b   9.33  1366220878   \n",
       "353613  01f3f5e9d74af6db74312f8732c5b7537d85a1f7   9.96  1368387177   \n",
       "353614  c188ee041432748b84cb2cea79157149bcfd3839   9.58  1365562650   \n",
       "353615  32990542ac561fc903f1d21f5261b8fd23d0b377   9.90  1367583295   \n",
       "353616  87c90d3a59f52681f14f258687d83fbc6299cd40  10.00  1365720098   \n",
       "\n",
       "        ProblemID      EventType                Date  \n",
       "353612          6  Problem.Check 2013-04-17 17:47:58  \n",
       "353613         17  Problem.Check 2013-05-12 19:32:57  \n",
       "353614          7  Problem.Check 2013-04-10 02:57:30  \n",
       "353615         12  Problem.Check 2013-05-03 12:14:55  \n",
       "353616          6  Problem.Check 2013-04-11 22:41:38  "
      ]
     },
     "execution_count": 7,
     "metadata": {},
     "output_type": "execute_result"
    }
   ],
   "source": [
    "df_Assignment_Event['Date'] = pd.to_datetime(df_Assignment_Event.TimeStamp,unit='s')\n",
    "df_Assignment_Event.head()"
   ]
  },
  {
   "cell_type": "markdown",
   "metadata": {},
   "source": [
    "### Video Events"
   ]
  },
  {
   "cell_type": "code",
   "execution_count": 8,
   "metadata": {
    "collapsed": false
   },
   "outputs": [
    {
     "data": {
      "text/html": [
       "<div>\n",
       "<table border=\"1\" class=\"dataframe\">\n",
       "  <thead>\n",
       "    <tr style=\"text-align: right;\">\n",
       "      <th></th>\n",
       "      <th>EventID</th>\n",
       "      <th>ForumUserID</th>\n",
       "      <th>OldTime</th>\n",
       "      <th>AccountUserID</th>\n",
       "      <th>CurrentTime</th>\n",
       "      <th>SeekType</th>\n",
       "      <th>TimeStamp</th>\n",
       "      <th>DataPackageID</th>\n",
       "      <th>UniqueRowID</th>\n",
       "      <th>TableName</th>\n",
       "      <th>VideoID</th>\n",
       "      <th>Platform</th>\n",
       "      <th>NewSpeed</th>\n",
       "      <th>EventSource</th>\n",
       "      <th>EventType</th>\n",
       "      <th>SessionUserID</th>\n",
       "      <th>NewTime</th>\n",
       "      <th>OldSpeed</th>\n",
       "    </tr>\n",
       "  </thead>\n",
       "  <tbody>\n",
       "    <tr>\n",
       "      <th>0</th>\n",
       "      <td>db75adce6b87e7ab79242ea0af4b82d4</td>\n",
       "      <td>NaN</td>\n",
       "      <td>154.696</td>\n",
       "      <td>NaN</td>\n",
       "      <td>154.697</td>\n",
       "      <td>NaN</td>\n",
       "      <td>1372391638</td>\n",
       "      <td>progfun-002</td>\n",
       "      <td>00000078c0f0685cc50a25a8d5734a88</td>\n",
       "      <td>Video_Events</td>\n",
       "      <td>33</td>\n",
       "      <td>coursera</td>\n",
       "      <td>1.0</td>\n",
       "      <td>NaN</td>\n",
       "      <td>Video.Play</td>\n",
       "      <td>ef64fb7b096008f7eaf8441684afdf99af9af54a</td>\n",
       "      <td>NaN</td>\n",
       "      <td>1.0</td>\n",
       "    </tr>\n",
       "  </tbody>\n",
       "</table>\n",
       "</div>"
      ],
      "text/plain": [
       "                            EventID  ForumUserID  OldTime  AccountUserID  \\\n",
       "0  db75adce6b87e7ab79242ea0af4b82d4          NaN  154.696            NaN   \n",
       "\n",
       "   CurrentTime  SeekType   TimeStamp DataPackageID  \\\n",
       "0      154.697       NaN  1372391638   progfun-002   \n",
       "\n",
       "                        UniqueRowID     TableName  VideoID  Platform  \\\n",
       "0  00000078c0f0685cc50a25a8d5734a88  Video_Events       33  coursera   \n",
       "\n",
       "   NewSpeed  EventSource   EventType  \\\n",
       "0       1.0          NaN  Video.Play   \n",
       "\n",
       "                              SessionUserID  NewTime  OldSpeed  \n",
       "0  ef64fb7b096008f7eaf8441684afdf99af9af54a      NaN       1.0  "
      ]
     },
     "execution_count": 8,
     "metadata": {},
     "output_type": "execute_result"
    }
   ],
   "source": [
    "df_Video_Event = pd.read_csv(\n",
    "    'data/' + config['courseName'] + '_Video_Events.csv',\n",
    "    na_values=['None']\n",
    ")\n",
    "df_Video_Event.head(1)"
   ]
  },
  {
   "cell_type": "code",
   "execution_count": 9,
   "metadata": {
    "collapsed": false
   },
   "outputs": [
    {
     "name": "stdout",
     "output_type": "stream",
     "text": [
      "(3471666, 4)\n"
     ]
    },
    {
     "data": {
      "text/html": [
       "<div>\n",
       "<table border=\"1\" class=\"dataframe\">\n",
       "  <thead>\n",
       "    <tr style=\"text-align: right;\">\n",
       "      <th></th>\n",
       "      <th>SessionUserID</th>\n",
       "      <th>TimeStamp</th>\n",
       "      <th>VideoID</th>\n",
       "      <th>EventType</th>\n",
       "    </tr>\n",
       "  </thead>\n",
       "  <tbody>\n",
       "    <tr>\n",
       "      <th>0</th>\n",
       "      <td>ef64fb7b096008f7eaf8441684afdf99af9af54a</td>\n",
       "      <td>1372391638</td>\n",
       "      <td>33</td>\n",
       "      <td>Video.Play</td>\n",
       "    </tr>\n",
       "    <tr>\n",
       "      <th>1</th>\n",
       "      <td>8d7c72c0dfe78d0dbeb187c6c46433b98c29f8bd</td>\n",
       "      <td>1366535543</td>\n",
       "      <td>39</td>\n",
       "      <td>Video.Load</td>\n",
       "    </tr>\n",
       "    <tr>\n",
       "      <th>2</th>\n",
       "      <td>21c300207e2c2f96974ebf8fc884ab299358edd8</td>\n",
       "      <td>1364980846</td>\n",
       "      <td>43</td>\n",
       "      <td>Video.Load</td>\n",
       "    </tr>\n",
       "    <tr>\n",
       "      <th>3</th>\n",
       "      <td>1d1f5d0168025bb6bfcde2ff88594d4c953090d2</td>\n",
       "      <td>1368938163</td>\n",
       "      <td>41</td>\n",
       "      <td>Video.Load</td>\n",
       "    </tr>\n",
       "    <tr>\n",
       "      <th>4</th>\n",
       "      <td>e60732a3364a4f3033f122d6bc50d385998ce0e4</td>\n",
       "      <td>1364379880</td>\n",
       "      <td>8</td>\n",
       "      <td>Video.Pause</td>\n",
       "    </tr>\n",
       "  </tbody>\n",
       "</table>\n",
       "</div>"
      ],
      "text/plain": [
       "                              SessionUserID   TimeStamp  VideoID    EventType\n",
       "0  ef64fb7b096008f7eaf8441684afdf99af9af54a  1372391638       33   Video.Play\n",
       "1  8d7c72c0dfe78d0dbeb187c6c46433b98c29f8bd  1366535543       39   Video.Load\n",
       "2  21c300207e2c2f96974ebf8fc884ab299358edd8  1364980846       43   Video.Load\n",
       "3  1d1f5d0168025bb6bfcde2ff88594d4c953090d2  1368938163       41   Video.Load\n",
       "4  e60732a3364a4f3033f122d6bc50d385998ce0e4  1364379880        8  Video.Pause"
      ]
     },
     "execution_count": 9,
     "metadata": {},
     "output_type": "execute_result"
    }
   ],
   "source": [
    "df_Video_Event = df_Video_Event[['SessionUserID','TimeStamp','VideoID','EventType']]\n",
    "print(df_Video_Event.shape)\n",
    "df_Video_Event.head()"
   ]
  },
  {
   "cell_type": "code",
   "execution_count": 10,
   "metadata": {
    "collapsed": false
   },
   "outputs": [
    {
     "data": {
      "text/html": [
       "<div>\n",
       "<table border=\"1\" class=\"dataframe\">\n",
       "  <thead>\n",
       "    <tr style=\"text-align: right;\">\n",
       "      <th></th>\n",
       "      <th>SessionUserID</th>\n",
       "      <th>TimeStamp</th>\n",
       "      <th>VideoID</th>\n",
       "      <th>EventType</th>\n",
       "      <th>Date</th>\n",
       "    </tr>\n",
       "  </thead>\n",
       "  <tbody>\n",
       "    <tr>\n",
       "      <th>0</th>\n",
       "      <td>ef64fb7b096008f7eaf8441684afdf99af9af54a</td>\n",
       "      <td>1372391638</td>\n",
       "      <td>33</td>\n",
       "      <td>Video.Play</td>\n",
       "      <td>2013-06-28 03:53:58</td>\n",
       "    </tr>\n",
       "    <tr>\n",
       "      <th>1</th>\n",
       "      <td>8d7c72c0dfe78d0dbeb187c6c46433b98c29f8bd</td>\n",
       "      <td>1366535543</td>\n",
       "      <td>39</td>\n",
       "      <td>Video.Load</td>\n",
       "      <td>2013-04-21 09:12:23</td>\n",
       "    </tr>\n",
       "    <tr>\n",
       "      <th>2</th>\n",
       "      <td>21c300207e2c2f96974ebf8fc884ab299358edd8</td>\n",
       "      <td>1364980846</td>\n",
       "      <td>43</td>\n",
       "      <td>Video.Load</td>\n",
       "      <td>2013-04-03 09:20:46</td>\n",
       "    </tr>\n",
       "    <tr>\n",
       "      <th>3</th>\n",
       "      <td>1d1f5d0168025bb6bfcde2ff88594d4c953090d2</td>\n",
       "      <td>1368938163</td>\n",
       "      <td>41</td>\n",
       "      <td>Video.Load</td>\n",
       "      <td>2013-05-19 04:36:03</td>\n",
       "    </tr>\n",
       "    <tr>\n",
       "      <th>4</th>\n",
       "      <td>e60732a3364a4f3033f122d6bc50d385998ce0e4</td>\n",
       "      <td>1364379880</td>\n",
       "      <td>8</td>\n",
       "      <td>Video.Pause</td>\n",
       "      <td>2013-03-27 10:24:40</td>\n",
       "    </tr>\n",
       "  </tbody>\n",
       "</table>\n",
       "</div>"
      ],
      "text/plain": [
       "                              SessionUserID   TimeStamp  VideoID    EventType  \\\n",
       "0  ef64fb7b096008f7eaf8441684afdf99af9af54a  1372391638       33   Video.Play   \n",
       "1  8d7c72c0dfe78d0dbeb187c6c46433b98c29f8bd  1366535543       39   Video.Load   \n",
       "2  21c300207e2c2f96974ebf8fc884ab299358edd8  1364980846       43   Video.Load   \n",
       "3  1d1f5d0168025bb6bfcde2ff88594d4c953090d2  1368938163       41   Video.Load   \n",
       "4  e60732a3364a4f3033f122d6bc50d385998ce0e4  1364379880        8  Video.Pause   \n",
       "\n",
       "                 Date  \n",
       "0 2013-06-28 03:53:58  \n",
       "1 2013-04-21 09:12:23  \n",
       "2 2013-04-03 09:20:46  \n",
       "3 2013-05-19 04:36:03  \n",
       "4 2013-03-27 10:24:40  "
      ]
     },
     "execution_count": 10,
     "metadata": {},
     "output_type": "execute_result"
    }
   ],
   "source": [
    "df_Video_Event['Date'] = pd.to_datetime(df_Video_Event.TimeStamp,unit='s')\n",
    "df_Video_Event.head()"
   ]
  },
  {
   "cell_type": "markdown",
   "metadata": {},
   "source": [
    "### Forum Events"
   ]
  },
  {
   "cell_type": "code",
   "execution_count": 11,
   "metadata": {
    "collapsed": false
   },
   "outputs": [
    {
     "data": {
      "text/html": [
       "<div>\n",
       "<table border=\"1\" class=\"dataframe\">\n",
       "  <thead>\n",
       "    <tr style=\"text-align: right;\">\n",
       "      <th></th>\n",
       "      <th>EventID</th>\n",
       "      <th>ForumUserID</th>\n",
       "      <th>PostID</th>\n",
       "      <th>AccountUserID</th>\n",
       "      <th>TimeStamp</th>\n",
       "      <th>DataPackageID</th>\n",
       "      <th>UniqueRowID</th>\n",
       "      <th>TableName</th>\n",
       "      <th>Platform</th>\n",
       "      <th>EventSource</th>\n",
       "      <th>PostType</th>\n",
       "      <th>EventType</th>\n",
       "      <th>JoinID</th>\n",
       "      <th>SessionUserID</th>\n",
       "    </tr>\n",
       "  </thead>\n",
       "  <tbody>\n",
       "    <tr>\n",
       "      <th>0</th>\n",
       "      <td>f3fdb52859b2511308aee554a573194e</td>\n",
       "      <td>NaN</td>\n",
       "      <td>17</td>\n",
       "      <td>4108315</td>\n",
       "      <td>1376254235</td>\n",
       "      <td>progfun-002</td>\n",
       "      <td>000006c12322ca29c7013dac42ef1a6a</td>\n",
       "      <td>Forum_Events</td>\n",
       "      <td>coursera</td>\n",
       "      <td>NaN</td>\n",
       "      <td>Thread</td>\n",
       "      <td>Forum.Thread.View</td>\n",
       "      <td>03b1fa287de5ef57d9c8482195b5167f</td>\n",
       "      <td>NaN</td>\n",
       "    </tr>\n",
       "  </tbody>\n",
       "</table>\n",
       "</div>"
      ],
      "text/plain": [
       "                            EventID  ForumUserID  PostID  AccountUserID  \\\n",
       "0  f3fdb52859b2511308aee554a573194e          NaN      17        4108315   \n",
       "\n",
       "    TimeStamp DataPackageID                       UniqueRowID     TableName  \\\n",
       "0  1376254235   progfun-002  000006c12322ca29c7013dac42ef1a6a  Forum_Events   \n",
       "\n",
       "   Platform  EventSource PostType          EventType  \\\n",
       "0  coursera          NaN   Thread  Forum.Thread.View   \n",
       "\n",
       "                             JoinID  SessionUserID  \n",
       "0  03b1fa287de5ef57d9c8482195b5167f            NaN  "
      ]
     },
     "execution_count": 11,
     "metadata": {},
     "output_type": "execute_result"
    }
   ],
   "source": [
    "df_Forum_Event = pd.read_csv(\n",
    "    'data/' + config['courseName'] + '_Forum_Events.csv',\n",
    "    na_values=['None']\n",
    ")\n",
    "df_Forum_Event.head(1)"
   ]
  },
  {
   "cell_type": "code",
   "execution_count": 12,
   "metadata": {
    "collapsed": false
   },
   "outputs": [
    {
     "data": {
      "text/plain": [
       "0   NaN\n",
       "1   NaN\n",
       "2   NaN\n",
       "3   NaN\n",
       "4   NaN\n",
       "Name: SessionUserID, dtype: float64"
      ]
     },
     "execution_count": 12,
     "metadata": {},
     "output_type": "execute_result"
    }
   ],
   "source": [
    "# OMG df_Video_Event does not have 'SessionUserID\n",
    "df_Forum_Event.SessionUserID.head()"
   ]
  },
  {
   "cell_type": "code",
   "execution_count": 13,
   "metadata": {
    "collapsed": false
   },
   "outputs": [
    {
     "name": "stdout",
     "output_type": "stream",
     "text": [
      "(297650, 3)\n"
     ]
    },
    {
     "data": {
      "text/html": [
       "<div>\n",
       "<table border=\"1\" class=\"dataframe\">\n",
       "  <thead>\n",
       "    <tr style=\"text-align: right;\">\n",
       "      <th></th>\n",
       "      <th>AccountUserID</th>\n",
       "      <th>TimeStamp</th>\n",
       "      <th>EventType</th>\n",
       "    </tr>\n",
       "  </thead>\n",
       "  <tbody>\n",
       "    <tr>\n",
       "      <th>0</th>\n",
       "      <td>4108315</td>\n",
       "      <td>1376254235</td>\n",
       "      <td>Forum.Thread.View</td>\n",
       "    </tr>\n",
       "    <tr>\n",
       "      <th>1</th>\n",
       "      <td>3059166</td>\n",
       "      <td>1368542545</td>\n",
       "      <td>Forum.Thread.View</td>\n",
       "    </tr>\n",
       "    <tr>\n",
       "      <th>2</th>\n",
       "      <td>2141938</td>\n",
       "      <td>1369812943</td>\n",
       "      <td>Forum.Thread.View</td>\n",
       "    </tr>\n",
       "    <tr>\n",
       "      <th>3</th>\n",
       "      <td>2862258</td>\n",
       "      <td>1369812060</td>\n",
       "      <td>Forum.Load</td>\n",
       "    </tr>\n",
       "    <tr>\n",
       "      <th>4</th>\n",
       "      <td>619801</td>\n",
       "      <td>1416843832</td>\n",
       "      <td>Forum.ThreadSubscribe</td>\n",
       "    </tr>\n",
       "  </tbody>\n",
       "</table>\n",
       "</div>"
      ],
      "text/plain": [
       "   AccountUserID   TimeStamp              EventType\n",
       "0        4108315  1376254235      Forum.Thread.View\n",
       "1        3059166  1368542545      Forum.Thread.View\n",
       "2        2141938  1369812943      Forum.Thread.View\n",
       "3        2862258  1369812060             Forum.Load\n",
       "4         619801  1416843832  Forum.ThreadSubscribe"
      ]
     },
     "execution_count": 13,
     "metadata": {},
     "output_type": "execute_result"
    }
   ],
   "source": [
    "df_Forum_Event = df_Forum_Event[['AccountUserID','TimeStamp','EventType']]\n",
    "print(df_Forum_Event.shape)\n",
    "df_Forum_Event.head()"
   ]
  },
  {
   "cell_type": "code",
   "execution_count": 14,
   "metadata": {
    "collapsed": false
   },
   "outputs": [
    {
     "data": {
      "text/html": [
       "<div>\n",
       "<table border=\"1\" class=\"dataframe\">\n",
       "  <thead>\n",
       "    <tr style=\"text-align: right;\">\n",
       "      <th></th>\n",
       "      <th>AccountUserID</th>\n",
       "      <th>TimeStamp</th>\n",
       "      <th>EventType</th>\n",
       "      <th>Date</th>\n",
       "    </tr>\n",
       "  </thead>\n",
       "  <tbody>\n",
       "    <tr>\n",
       "      <th>0</th>\n",
       "      <td>4108315</td>\n",
       "      <td>1376254235</td>\n",
       "      <td>Forum.Thread.View</td>\n",
       "      <td>2013-08-11 20:50:35</td>\n",
       "    </tr>\n",
       "    <tr>\n",
       "      <th>1</th>\n",
       "      <td>3059166</td>\n",
       "      <td>1368542545</td>\n",
       "      <td>Forum.Thread.View</td>\n",
       "      <td>2013-05-14 14:42:25</td>\n",
       "    </tr>\n",
       "    <tr>\n",
       "      <th>2</th>\n",
       "      <td>2141938</td>\n",
       "      <td>1369812943</td>\n",
       "      <td>Forum.Thread.View</td>\n",
       "      <td>2013-05-29 07:35:43</td>\n",
       "    </tr>\n",
       "    <tr>\n",
       "      <th>3</th>\n",
       "      <td>2862258</td>\n",
       "      <td>1369812060</td>\n",
       "      <td>Forum.Load</td>\n",
       "      <td>2013-05-29 07:21:00</td>\n",
       "    </tr>\n",
       "    <tr>\n",
       "      <th>4</th>\n",
       "      <td>619801</td>\n",
       "      <td>1416843832</td>\n",
       "      <td>Forum.ThreadSubscribe</td>\n",
       "      <td>2014-11-24 15:43:52</td>\n",
       "    </tr>\n",
       "  </tbody>\n",
       "</table>\n",
       "</div>"
      ],
      "text/plain": [
       "   AccountUserID   TimeStamp              EventType                Date\n",
       "0        4108315  1376254235      Forum.Thread.View 2013-08-11 20:50:35\n",
       "1        3059166  1368542545      Forum.Thread.View 2013-05-14 14:42:25\n",
       "2        2141938  1369812943      Forum.Thread.View 2013-05-29 07:35:43\n",
       "3        2862258  1369812060             Forum.Load 2013-05-29 07:21:00\n",
       "4         619801  1416843832  Forum.ThreadSubscribe 2014-11-24 15:43:52"
      ]
     },
     "execution_count": 14,
     "metadata": {},
     "output_type": "execute_result"
    }
   ],
   "source": [
    "df_Forum_Event['Date'] = pd.to_datetime(df_Forum_Event.TimeStamp,unit='s')\n",
    "df_Forum_Event.head()"
   ]
  },
  {
   "cell_type": "code",
   "execution_count": 15,
   "metadata": {
    "collapsed": false
   },
   "outputs": [
    {
     "data": {
      "text/html": [
       "<div>\n",
       "<table border=\"1\" class=\"dataframe\">\n",
       "  <thead>\n",
       "    <tr style=\"text-align: right;\">\n",
       "      <th></th>\n",
       "      <th>AccountUserID</th>\n",
       "      <th>SessionUserID</th>\n",
       "    </tr>\n",
       "  </thead>\n",
       "  <tbody>\n",
       "    <tr>\n",
       "      <th>0</th>\n",
       "      <td>2751555</td>\n",
       "      <td>3b578c343cf9c2ab6526e12d047403d18182f01a</td>\n",
       "    </tr>\n",
       "    <tr>\n",
       "      <th>1</th>\n",
       "      <td>3908554</td>\n",
       "      <td>1230a62b7edce60350f451b0a1913704d5ef669d</td>\n",
       "    </tr>\n",
       "    <tr>\n",
       "      <th>2</th>\n",
       "      <td>2736395</td>\n",
       "      <td>982c6b6175fbfec48a8d49ae6354104d72b97ea7</td>\n",
       "    </tr>\n",
       "    <tr>\n",
       "      <th>3</th>\n",
       "      <td>7755</td>\n",
       "      <td>05b151ab524e59a055886545c0f45d923d3f4c6e</td>\n",
       "    </tr>\n",
       "    <tr>\n",
       "      <th>4</th>\n",
       "      <td>30850</td>\n",
       "      <td>84a213383649f5806e6bfa4cc9d5f1282905fd48</td>\n",
       "    </tr>\n",
       "  </tbody>\n",
       "</table>\n",
       "</div>"
      ],
      "text/plain": [
       "   AccountUserID                             SessionUserID\n",
       "0        2751555  3b578c343cf9c2ab6526e12d047403d18182f01a\n",
       "1        3908554  1230a62b7edce60350f451b0a1913704d5ef669d\n",
       "2        2736395  982c6b6175fbfec48a8d49ae6354104d72b97ea7\n",
       "3           7755  05b151ab524e59a055886545c0f45d923d3f4c6e\n",
       "4          30850  84a213383649f5806e6bfa4cc9d5f1282905fd48"
      ]
     },
     "execution_count": 15,
     "metadata": {},
     "output_type": "execute_result"
    }
   ],
   "source": [
    "# Hopefully the table User_Hash_Mapping gives us the mapping between AccountUserID and SessionUserID\n",
    "df_User_Mapping = pd.read_csv(\n",
    "    'data/' + config['courseName'] + '_User_Hash_Mapping.csv',\n",
    "    na_values=['None']\n",
    ")\n",
    "df_User_Mapping = df_User_Mapping[['AccountUserID','SessionUserID']]\n",
    "df_User_Mapping.head()"
   ]
  },
  {
   "cell_type": "code",
   "execution_count": 16,
   "metadata": {
    "collapsed": false
   },
   "outputs": [
    {
     "name": "stdout",
     "output_type": "stream",
     "text": [
      "(297650, 4)\n",
      "(297650, 4)\n"
     ]
    },
    {
     "data": {
      "text/html": [
       "<div>\n",
       "<table border=\"1\" class=\"dataframe\">\n",
       "  <thead>\n",
       "    <tr style=\"text-align: right;\">\n",
       "      <th></th>\n",
       "      <th>SessionUserID</th>\n",
       "      <th>TimeStamp</th>\n",
       "      <th>EventType</th>\n",
       "      <th>Date</th>\n",
       "    </tr>\n",
       "  </thead>\n",
       "  <tbody>\n",
       "    <tr>\n",
       "      <th>0</th>\n",
       "      <td>4fa69819dfe5e5558fccced64e12be5de8a61dc7</td>\n",
       "      <td>1376254235</td>\n",
       "      <td>Forum.Thread.View</td>\n",
       "      <td>2013-08-11 20:50:35</td>\n",
       "    </tr>\n",
       "    <tr>\n",
       "      <th>1</th>\n",
       "      <td>4fa69819dfe5e5558fccced64e12be5de8a61dc7</td>\n",
       "      <td>1376173274</td>\n",
       "      <td>Forum.Thread.View</td>\n",
       "      <td>2013-08-10 22:21:14</td>\n",
       "    </tr>\n",
       "    <tr>\n",
       "      <th>2</th>\n",
       "      <td>4fa69819dfe5e5558fccced64e12be5de8a61dc7</td>\n",
       "      <td>1376176182</td>\n",
       "      <td>Forum.Thread.View</td>\n",
       "      <td>2013-08-10 23:09:42</td>\n",
       "    </tr>\n",
       "    <tr>\n",
       "      <th>3</th>\n",
       "      <td>4fa69819dfe5e5558fccced64e12be5de8a61dc7</td>\n",
       "      <td>1376173557</td>\n",
       "      <td>Forum.Thread.View</td>\n",
       "      <td>2013-08-10 22:25:57</td>\n",
       "    </tr>\n",
       "    <tr>\n",
       "      <th>4</th>\n",
       "      <td>4fa69819dfe5e5558fccced64e12be5de8a61dc7</td>\n",
       "      <td>1376174302</td>\n",
       "      <td>Forum.Thread.View</td>\n",
       "      <td>2013-08-10 22:38:22</td>\n",
       "    </tr>\n",
       "  </tbody>\n",
       "</table>\n",
       "</div>"
      ],
      "text/plain": [
       "                              SessionUserID   TimeStamp          EventType  \\\n",
       "0  4fa69819dfe5e5558fccced64e12be5de8a61dc7  1376254235  Forum.Thread.View   \n",
       "1  4fa69819dfe5e5558fccced64e12be5de8a61dc7  1376173274  Forum.Thread.View   \n",
       "2  4fa69819dfe5e5558fccced64e12be5de8a61dc7  1376176182  Forum.Thread.View   \n",
       "3  4fa69819dfe5e5558fccced64e12be5de8a61dc7  1376173557  Forum.Thread.View   \n",
       "4  4fa69819dfe5e5558fccced64e12be5de8a61dc7  1376174302  Forum.Thread.View   \n",
       "\n",
       "                 Date  \n",
       "0 2013-08-11 20:50:35  \n",
       "1 2013-08-10 22:21:14  \n",
       "2 2013-08-10 23:09:42  \n",
       "3 2013-08-10 22:25:57  \n",
       "4 2013-08-10 22:38:22  "
      ]
     },
     "execution_count": 16,
     "metadata": {},
     "output_type": "execute_result"
    }
   ],
   "source": [
    "print(df_Forum_Event.shape)\n",
    "df_Forum_Event = df_Forum_Event.merge(df_User_Mapping,on='AccountUserID')[['SessionUserID','TimeStamp','EventType','Date']]\n",
    "print(df_Forum_Event.shape)\n",
    "df_Forum_Event.head()"
   ]
  },
  {
   "cell_type": "markdown",
   "metadata": {},
   "source": [
    "### Concatenation"
   ]
  },
  {
   "cell_type": "code",
   "execution_count": 17,
   "metadata": {
    "collapsed": false,
    "scrolled": true
   },
   "outputs": [
    {
     "name": "stdout",
     "output_type": "stream",
     "text": [
      "{'videos': 3471666, 'assignments': 105136, 'forums': 297650}\n",
      "(3874452, 7)\n"
     ]
    },
    {
     "data": {
      "text/html": [
       "<div>\n",
       "<table border=\"1\" class=\"dataframe\">\n",
       "  <thead>\n",
       "    <tr style=\"text-align: right;\">\n",
       "      <th></th>\n",
       "      <th>Date</th>\n",
       "      <th>EventType</th>\n",
       "      <th>Grade</th>\n",
       "      <th>ProblemID</th>\n",
       "      <th>SessionUserID</th>\n",
       "      <th>TimeStamp</th>\n",
       "      <th>VideoID</th>\n",
       "    </tr>\n",
       "  </thead>\n",
       "  <tbody>\n",
       "    <tr>\n",
       "      <th>0</th>\n",
       "      <td>2013-04-17 17:47:58</td>\n",
       "      <td>Problem.Check</td>\n",
       "      <td>9.33</td>\n",
       "      <td>6.0</td>\n",
       "      <td>d8f79efa32a560b8a46ea2b12d9bed97c9e39b4b</td>\n",
       "      <td>1366220878</td>\n",
       "      <td>NaN</td>\n",
       "    </tr>\n",
       "    <tr>\n",
       "      <th>1</th>\n",
       "      <td>2013-05-12 19:32:57</td>\n",
       "      <td>Problem.Check</td>\n",
       "      <td>9.96</td>\n",
       "      <td>17.0</td>\n",
       "      <td>01f3f5e9d74af6db74312f8732c5b7537d85a1f7</td>\n",
       "      <td>1368387177</td>\n",
       "      <td>NaN</td>\n",
       "    </tr>\n",
       "    <tr>\n",
       "      <th>2</th>\n",
       "      <td>2013-04-10 02:57:30</td>\n",
       "      <td>Problem.Check</td>\n",
       "      <td>9.58</td>\n",
       "      <td>7.0</td>\n",
       "      <td>c188ee041432748b84cb2cea79157149bcfd3839</td>\n",
       "      <td>1365562650</td>\n",
       "      <td>NaN</td>\n",
       "    </tr>\n",
       "    <tr>\n",
       "      <th>3</th>\n",
       "      <td>2013-05-03 12:14:55</td>\n",
       "      <td>Problem.Check</td>\n",
       "      <td>9.90</td>\n",
       "      <td>12.0</td>\n",
       "      <td>32990542ac561fc903f1d21f5261b8fd23d0b377</td>\n",
       "      <td>1367583295</td>\n",
       "      <td>NaN</td>\n",
       "    </tr>\n",
       "    <tr>\n",
       "      <th>4</th>\n",
       "      <td>2013-04-11 22:41:38</td>\n",
       "      <td>Problem.Check</td>\n",
       "      <td>10.00</td>\n",
       "      <td>6.0</td>\n",
       "      <td>87c90d3a59f52681f14f258687d83fbc6299cd40</td>\n",
       "      <td>1365720098</td>\n",
       "      <td>NaN</td>\n",
       "    </tr>\n",
       "  </tbody>\n",
       "</table>\n",
       "</div>"
      ],
      "text/plain": [
       "                 Date      EventType  Grade  ProblemID  \\\n",
       "0 2013-04-17 17:47:58  Problem.Check   9.33        6.0   \n",
       "1 2013-05-12 19:32:57  Problem.Check   9.96       17.0   \n",
       "2 2013-04-10 02:57:30  Problem.Check   9.58        7.0   \n",
       "3 2013-05-03 12:14:55  Problem.Check   9.90       12.0   \n",
       "4 2013-04-11 22:41:38  Problem.Check  10.00        6.0   \n",
       "\n",
       "                              SessionUserID   TimeStamp  VideoID  \n",
       "0  d8f79efa32a560b8a46ea2b12d9bed97c9e39b4b  1366220878      NaN  \n",
       "1  01f3f5e9d74af6db74312f8732c5b7537d85a1f7  1368387177      NaN  \n",
       "2  c188ee041432748b84cb2cea79157149bcfd3839  1365562650      NaN  \n",
       "3  32990542ac561fc903f1d21f5261b8fd23d0b377  1367583295      NaN  \n",
       "4  87c90d3a59f52681f14f258687d83fbc6299cd40  1365720098      NaN  "
      ]
     },
     "execution_count": 17,
     "metadata": {},
     "output_type": "execute_result"
    }
   ],
   "source": [
    "lengths = {\n",
    "    'assignments': df_Assignment_Event.shape[0],\n",
    "    'videos': df_Video_Event.shape[0],\n",
    "    'forums': df_Forum_Event.shape[0]\n",
    "}\n",
    "print(lengths)\n",
    "[x,y] = [0,lengths['assignments']]\n",
    "df_Assignment_Event.index=range(x,y)\n",
    "[x,y] = [y,y+lengths['videos']]\n",
    "df_Video_Event.index=range(x,y)\n",
    "[x,y] = [y,y+lengths['forums']]\n",
    "df_Forum_Event.index=range(x,y)\n",
    "\n",
    "df_All_Event = pd.concat([df_Assignment_Event,df_Video_Event,df_Forum_Event])\n",
    "print(df_All_Event.shape)\n",
    "df_All_Event.head()"
   ]
  },
  {
   "cell_type": "code",
   "execution_count": 18,
   "metadata": {
    "collapsed": false
   },
   "outputs": [
    {
     "data": {
      "text/html": [
       "<div>\n",
       "<table border=\"1\" class=\"dataframe\">\n",
       "  <thead>\n",
       "    <tr style=\"text-align: right;\">\n",
       "      <th></th>\n",
       "      <th>Date</th>\n",
       "      <th>EventType</th>\n",
       "      <th>Grade</th>\n",
       "      <th>ProblemID</th>\n",
       "      <th>SessionUserID</th>\n",
       "      <th>TimeStamp</th>\n",
       "      <th>VideoID</th>\n",
       "      <th>EventTypeMain</th>\n",
       "      <th>EventTypeDetail</th>\n",
       "    </tr>\n",
       "  </thead>\n",
       "  <tbody>\n",
       "    <tr>\n",
       "      <th>0</th>\n",
       "      <td>2013-04-17 17:47:58</td>\n",
       "      <td>Problem.Check</td>\n",
       "      <td>9.33</td>\n",
       "      <td>6.0</td>\n",
       "      <td>d8f79efa32a560b8a46ea2b12d9bed97c9e39b4b</td>\n",
       "      <td>1366220878</td>\n",
       "      <td>NaN</td>\n",
       "      <td>Problem</td>\n",
       "      <td>Check</td>\n",
       "    </tr>\n",
       "    <tr>\n",
       "      <th>1</th>\n",
       "      <td>2013-05-12 19:32:57</td>\n",
       "      <td>Problem.Check</td>\n",
       "      <td>9.96</td>\n",
       "      <td>17.0</td>\n",
       "      <td>01f3f5e9d74af6db74312f8732c5b7537d85a1f7</td>\n",
       "      <td>1368387177</td>\n",
       "      <td>NaN</td>\n",
       "      <td>Problem</td>\n",
       "      <td>Check</td>\n",
       "    </tr>\n",
       "    <tr>\n",
       "      <th>2</th>\n",
       "      <td>2013-04-10 02:57:30</td>\n",
       "      <td>Problem.Check</td>\n",
       "      <td>9.58</td>\n",
       "      <td>7.0</td>\n",
       "      <td>c188ee041432748b84cb2cea79157149bcfd3839</td>\n",
       "      <td>1365562650</td>\n",
       "      <td>NaN</td>\n",
       "      <td>Problem</td>\n",
       "      <td>Check</td>\n",
       "    </tr>\n",
       "    <tr>\n",
       "      <th>3</th>\n",
       "      <td>2013-05-03 12:14:55</td>\n",
       "      <td>Problem.Check</td>\n",
       "      <td>9.90</td>\n",
       "      <td>12.0</td>\n",
       "      <td>32990542ac561fc903f1d21f5261b8fd23d0b377</td>\n",
       "      <td>1367583295</td>\n",
       "      <td>NaN</td>\n",
       "      <td>Problem</td>\n",
       "      <td>Check</td>\n",
       "    </tr>\n",
       "    <tr>\n",
       "      <th>4</th>\n",
       "      <td>2013-04-11 22:41:38</td>\n",
       "      <td>Problem.Check</td>\n",
       "      <td>10.00</td>\n",
       "      <td>6.0</td>\n",
       "      <td>87c90d3a59f52681f14f258687d83fbc6299cd40</td>\n",
       "      <td>1365720098</td>\n",
       "      <td>NaN</td>\n",
       "      <td>Problem</td>\n",
       "      <td>Check</td>\n",
       "    </tr>\n",
       "  </tbody>\n",
       "</table>\n",
       "</div>"
      ],
      "text/plain": [
       "                 Date      EventType  Grade  ProblemID  \\\n",
       "0 2013-04-17 17:47:58  Problem.Check   9.33        6.0   \n",
       "1 2013-05-12 19:32:57  Problem.Check   9.96       17.0   \n",
       "2 2013-04-10 02:57:30  Problem.Check   9.58        7.0   \n",
       "3 2013-05-03 12:14:55  Problem.Check   9.90       12.0   \n",
       "4 2013-04-11 22:41:38  Problem.Check  10.00        6.0   \n",
       "\n",
       "                              SessionUserID   TimeStamp  VideoID  \\\n",
       "0  d8f79efa32a560b8a46ea2b12d9bed97c9e39b4b  1366220878      NaN   \n",
       "1  01f3f5e9d74af6db74312f8732c5b7537d85a1f7  1368387177      NaN   \n",
       "2  c188ee041432748b84cb2cea79157149bcfd3839  1365562650      NaN   \n",
       "3  32990542ac561fc903f1d21f5261b8fd23d0b377  1367583295      NaN   \n",
       "4  87c90d3a59f52681f14f258687d83fbc6299cd40  1365720098      NaN   \n",
       "\n",
       "  EventTypeMain EventTypeDetail  \n",
       "0       Problem           Check  \n",
       "1       Problem           Check  \n",
       "2       Problem           Check  \n",
       "3       Problem           Check  \n",
       "4       Problem           Check  "
      ]
     },
     "execution_count": 18,
     "metadata": {},
     "output_type": "execute_result"
    }
   ],
   "source": [
    "df_All_Event['EventTypeMain'] = df_All_Event.EventType.apply(lambda x: x.split('.')[0])\n",
    "df_All_Event['EventTypeDetail'] = df_All_Event.EventType.apply(lambda x: x.split('.')[1])\n",
    "df_All_Event.head()"
   ]
  },
  {
   "cell_type": "code",
   "execution_count": 19,
   "metadata": {
    "collapsed": false
   },
   "outputs": [
    {
     "data": {
      "text/plain": [
       "Video      3471666\n",
       "Forum       297650\n",
       "Problem     105136\n",
       "Name: EventTypeMain, dtype: int64"
      ]
     },
     "execution_count": 19,
     "metadata": {},
     "output_type": "execute_result"
    }
   ],
   "source": [
    "df_All_Event.EventTypeMain.value_counts()"
   ]
  },
  {
   "cell_type": "markdown",
   "metadata": {},
   "source": [
    "## Data exploration and cleaning"
   ]
  },
  {
   "cell_type": "markdown",
   "metadata": {},
   "source": [
    "### User Grade"
   ]
  },
  {
   "cell_type": "code",
   "execution_count": 20,
   "metadata": {
    "collapsed": false
   },
   "outputs": [
    {
     "data": {
      "text/plain": [
       "Failed    31402\n",
       "Passed     6428\n",
       "Name: AchievementLevel, dtype: int64"
      ]
     },
     "execution_count": 20,
     "metadata": {},
     "output_type": "execute_result"
    }
   ],
   "source": [
    "successCounts = df_User_Grades.AchievementLevel.value_counts()\n",
    "successCounts"
   ]
  },
  {
   "cell_type": "code",
   "execution_count": 21,
   "metadata": {
    "collapsed": false
   },
   "outputs": [
    {
     "data": {
      "text/plain": [
       "{'MEAN': 0.19377395634152852, 'RMSE': 0.3439220051090218}"
      ]
     },
     "execution_count": 21,
     "metadata": {},
     "output_type": "execute_result"
    }
   ],
   "source": [
    "df_User_Grades['NormalisedGrade'] = df_User_Grades.Grade / 100\n",
    "df_User_Grades['Prediction'] = df_User_Grades.NormalisedGrade.mean()\n",
    "df_User_Grades['SE'] = (df_User_Grades.NormalisedGrade - df_User_Grades.Prediction)**2\n",
    "\n",
    "{\n",
    "    \"MEAN\": df_User_Grades.NormalisedGrade.mean(),\n",
    "    \"RMSE\": df_User_Grades.SE.mean()**0.5\n",
    "}"
   ]
  },
  {
   "cell_type": "markdown",
   "metadata": {},
   "source": [
    "### Assignment Events"
   ]
  },
  {
   "cell_type": "code",
   "execution_count": 22,
   "metadata": {
    "collapsed": false
   },
   "outputs": [
    {
     "data": {
      "text/plain": [
       "<matplotlib.axes._subplots.AxesSubplot at 0x7fa0385e9048>"
      ]
     },
     "execution_count": 22,
     "metadata": {},
     "output_type": "execute_result"
    },
    {
     "data": {
      "image/png": "[encoded data removed]",
      "text/plain": [
       "<matplotlib.figure.Figure at 0x7f9ffe8ca710>"
      ]
     },
     "metadata": {},
     "output_type": "display_data"
    }
   ],
   "source": [
    "df_Assignment_Event.Grade.hist(bins=25)"
   ]
  },
  {
   "cell_type": "code",
   "execution_count": 23,
   "metadata": {
    "collapsed": false
   },
   "outputs": [
    {
     "data": {
      "text/plain": [
       "6     19138\n",
       "7     18457\n",
       "12    17002\n",
       "14    15677\n",
       "5     14778\n",
       "17    10122\n",
       "20     9929\n",
       "1        13\n",
       "4        11\n",
       "2         8\n",
       "3         1\n",
       "Name: ProblemID, dtype: int64"
      ]
     },
     "execution_count": 23,
     "metadata": {},
     "output_type": "execute_result"
    }
   ],
   "source": [
    "df_Assignment_Event.ProblemID.value_counts()"
   ]
  },
  {
   "cell_type": "code",
   "execution_count": 24,
   "metadata": {
    "collapsed": false
   },
   "outputs": [
    {
     "name": "stdout",
     "output_type": "stream",
     "text": [
      "(105136, 6)\n",
      "(105103, 6)\n"
     ]
    }
   ],
   "source": [
    "# removes 1234 which seem to be fake homeworks for testing\n",
    "print(df_Assignment_Event.shape)\n",
    "df_Assignment_Event = df_Assignment_Event[df_Assignment_Event.ProblemID>4]\n",
    "print(df_Assignment_Event.shape)"
   ]
  },
  {
   "cell_type": "code",
   "execution_count": 25,
   "metadata": {
    "collapsed": false
   },
   "outputs": [
    {
     "data": {
      "text/plain": [
       "<matplotlib.axes._subplots.AxesSubplot at 0x7f9fc50b5a58>"
      ]
     },
     "execution_count": 25,
     "metadata": {},
     "output_type": "execute_result"
    },
    {
     "data": {
      "image/png": "[encoded data removed]",
      "text/plain": [
       "<matplotlib.figure.Figure at 0x7f9fc505ba20>"
      ]
     },
     "metadata": {},
     "output_type": "display_data"
    }
   ],
   "source": [
    "df_Assignment_Event[df_Assignment_Event.TimeStamp<1.37e9].TimeStamp.hist(bins=50)"
   ]
  },
  {
   "cell_type": "code",
   "execution_count": 26,
   "metadata": {
    "collapsed": false
   },
   "outputs": [
    {
     "data": {
      "text/html": [
       "<div>\n",
       "<table border=\"1\" class=\"dataframe\">\n",
       "  <thead>\n",
       "    <tr style=\"text-align: right;\">\n",
       "      <th></th>\n",
       "      <th>SessionUserID</th>\n",
       "      <th>Grade</th>\n",
       "      <th>TimeStamp</th>\n",
       "      <th>ProblemID</th>\n",
       "      <th>EventType</th>\n",
       "      <th>Date</th>\n",
       "    </tr>\n",
       "  </thead>\n",
       "  <tbody>\n",
       "    <tr>\n",
       "      <th>51797</th>\n",
       "      <td>000203e26d8ff4c482703c1c40e211b23c7a926c</td>\n",
       "      <td>10.00</td>\n",
       "      <td>1364714776</td>\n",
       "      <td>5</td>\n",
       "      <td>Problem.Check</td>\n",
       "      <td>2013-03-31 07:26:16</td>\n",
       "    </tr>\n",
       "    <tr>\n",
       "      <th>81943</th>\n",
       "      <td>000203e26d8ff4c482703c1c40e211b23c7a926c</td>\n",
       "      <td>10.00</td>\n",
       "      <td>1364757231</td>\n",
       "      <td>7</td>\n",
       "      <td>Problem.Check</td>\n",
       "      <td>2013-03-31 19:13:51</td>\n",
       "    </tr>\n",
       "    <tr>\n",
       "      <th>80686</th>\n",
       "      <td>000203e26d8ff4c482703c1c40e211b23c7a926c</td>\n",
       "      <td>10.00</td>\n",
       "      <td>1365435360</td>\n",
       "      <td>6</td>\n",
       "      <td>Problem.Check</td>\n",
       "      <td>2013-04-08 15:36:00</td>\n",
       "    </tr>\n",
       "    <tr>\n",
       "      <th>596</th>\n",
       "      <td>000203e26d8ff4c482703c1c40e211b23c7a926c</td>\n",
       "      <td>7.09</td>\n",
       "      <td>1365987021</td>\n",
       "      <td>12</td>\n",
       "      <td>Problem.Check</td>\n",
       "      <td>2013-04-15 00:50:21</td>\n",
       "    </tr>\n",
       "    <tr>\n",
       "      <th>19318</th>\n",
       "      <td>000203e26d8ff4c482703c1c40e211b23c7a926c</td>\n",
       "      <td>10.00</td>\n",
       "      <td>1365987773</td>\n",
       "      <td>12</td>\n",
       "      <td>Problem.Check</td>\n",
       "      <td>2013-04-15 01:02:53</td>\n",
       "    </tr>\n",
       "    <tr>\n",
       "      <th>74191</th>\n",
       "      <td>000203e26d8ff4c482703c1c40e211b23c7a926c</td>\n",
       "      <td>8.36</td>\n",
       "      <td>1366581976</td>\n",
       "      <td>14</td>\n",
       "      <td>Problem.Check</td>\n",
       "      <td>2013-04-21 22:06:16</td>\n",
       "    </tr>\n",
       "    <tr>\n",
       "      <th>82979</th>\n",
       "      <td>000203e26d8ff4c482703c1c40e211b23c7a926c</td>\n",
       "      <td>10.00</td>\n",
       "      <td>1366584864</td>\n",
       "      <td>14</td>\n",
       "      <td>Problem.Check</td>\n",
       "      <td>2013-04-21 22:54:24</td>\n",
       "    </tr>\n",
       "    <tr>\n",
       "      <th>63007</th>\n",
       "      <td>000203e26d8ff4c482703c1c40e211b23c7a926c</td>\n",
       "      <td>10.00</td>\n",
       "      <td>1368392652</td>\n",
       "      <td>17</td>\n",
       "      <td>Problem.Check</td>\n",
       "      <td>2013-05-12 21:04:12</td>\n",
       "    </tr>\n",
       "    <tr>\n",
       "      <th>43177</th>\n",
       "      <td>000203e26d8ff4c482703c1c40e211b23c7a926c</td>\n",
       "      <td>9.65</td>\n",
       "      <td>1368994845</td>\n",
       "      <td>20</td>\n",
       "      <td>Problem.Check</td>\n",
       "      <td>2013-05-19 20:20:45</td>\n",
       "    </tr>\n",
       "    <tr>\n",
       "      <th>23637</th>\n",
       "      <td>000203e26d8ff4c482703c1c40e211b23c7a926c</td>\n",
       "      <td>10.00</td>\n",
       "      <td>1368995671</td>\n",
       "      <td>20</td>\n",
       "      <td>Problem.Check</td>\n",
       "      <td>2013-05-19 20:34:31</td>\n",
       "    </tr>\n",
       "  </tbody>\n",
       "</table>\n",
       "</div>"
      ],
      "text/plain": [
       "                                  SessionUserID  Grade   TimeStamp  ProblemID  \\\n",
       "51797  000203e26d8ff4c482703c1c40e211b23c7a926c  10.00  1364714776          5   \n",
       "81943  000203e26d8ff4c482703c1c40e211b23c7a926c  10.00  1364757231          7   \n",
       "80686  000203e26d8ff4c482703c1c40e211b23c7a926c  10.00  1365435360          6   \n",
       "596    000203e26d8ff4c482703c1c40e211b23c7a926c   7.09  1365987021         12   \n",
       "19318  000203e26d8ff4c482703c1c40e211b23c7a926c  10.00  1365987773         12   \n",
       "74191  000203e26d8ff4c482703c1c40e211b23c7a926c   8.36  1366581976         14   \n",
       "82979  000203e26d8ff4c482703c1c40e211b23c7a926c  10.00  1366584864         14   \n",
       "63007  000203e26d8ff4c482703c1c40e211b23c7a926c  10.00  1368392652         17   \n",
       "43177  000203e26d8ff4c482703c1c40e211b23c7a926c   9.65  1368994845         20   \n",
       "23637  000203e26d8ff4c482703c1c40e211b23c7a926c  10.00  1368995671         20   \n",
       "\n",
       "           EventType                Date  \n",
       "51797  Problem.Check 2013-03-31 07:26:16  \n",
       "81943  Problem.Check 2013-03-31 19:13:51  \n",
       "80686  Problem.Check 2013-04-08 15:36:00  \n",
       "596    Problem.Check 2013-04-15 00:50:21  \n",
       "19318  Problem.Check 2013-04-15 01:02:53  \n",
       "74191  Problem.Check 2013-04-21 22:06:16  \n",
       "82979  Problem.Check 2013-04-21 22:54:24  \n",
       "63007  Problem.Check 2013-05-12 21:04:12  \n",
       "43177  Problem.Check 2013-05-19 20:20:45  \n",
       "23637  Problem.Check 2013-05-19 20:34:31  "
      ]
     },
     "execution_count": 26,
     "metadata": {},
     "output_type": "execute_result"
    }
   ],
   "source": [
    "df_Assignment_Event_sorted = df_Assignment_Event.sort_values(by=['SessionUserID','TimeStamp'])\n",
    "df_Assignment_Event_sorted.head(10)"
   ]
  },
  {
   "cell_type": "code",
   "execution_count": 27,
   "metadata": {
    "collapsed": false
   },
   "outputs": [
    {
     "data": {
      "text/html": [
       "<div>\n",
       "<table border=\"1\" class=\"dataframe\">\n",
       "  <thead>\n",
       "    <tr style=\"text-align: right;\">\n",
       "      <th></th>\n",
       "      <th>SessionUserID</th>\n",
       "      <th>Grade</th>\n",
       "      <th>TimeStamp</th>\n",
       "      <th>ProblemID</th>\n",
       "      <th>EventType</th>\n",
       "      <th>Date</th>\n",
       "    </tr>\n",
       "  </thead>\n",
       "  <tbody>\n",
       "    <tr>\n",
       "      <th>0</th>\n",
       "      <td>000203e26d8ff4c482703c1c40e211b23c7a926c</td>\n",
       "      <td>10.00</td>\n",
       "      <td>1364714776</td>\n",
       "      <td>5</td>\n",
       "      <td>Problem.Check</td>\n",
       "      <td>2013-03-31 07:26:16</td>\n",
       "    </tr>\n",
       "    <tr>\n",
       "      <th>1</th>\n",
       "      <td>000203e26d8ff4c482703c1c40e211b23c7a926c</td>\n",
       "      <td>10.00</td>\n",
       "      <td>1364757231</td>\n",
       "      <td>7</td>\n",
       "      <td>Problem.Check</td>\n",
       "      <td>2013-03-31 19:13:51</td>\n",
       "    </tr>\n",
       "    <tr>\n",
       "      <th>2</th>\n",
       "      <td>000203e26d8ff4c482703c1c40e211b23c7a926c</td>\n",
       "      <td>10.00</td>\n",
       "      <td>1365435360</td>\n",
       "      <td>6</td>\n",
       "      <td>Problem.Check</td>\n",
       "      <td>2013-04-08 15:36:00</td>\n",
       "    </tr>\n",
       "    <tr>\n",
       "      <th>3</th>\n",
       "      <td>000203e26d8ff4c482703c1c40e211b23c7a926c</td>\n",
       "      <td>7.09</td>\n",
       "      <td>1365987021</td>\n",
       "      <td>12</td>\n",
       "      <td>Problem.Check</td>\n",
       "      <td>2013-04-15 00:50:21</td>\n",
       "    </tr>\n",
       "    <tr>\n",
       "      <th>4</th>\n",
       "      <td>000203e26d8ff4c482703c1c40e211b23c7a926c</td>\n",
       "      <td>10.00</td>\n",
       "      <td>1365987773</td>\n",
       "      <td>12</td>\n",
       "      <td>Problem.Check</td>\n",
       "      <td>2013-04-15 01:02:53</td>\n",
       "    </tr>\n",
       "    <tr>\n",
       "      <th>5</th>\n",
       "      <td>000203e26d8ff4c482703c1c40e211b23c7a926c</td>\n",
       "      <td>8.36</td>\n",
       "      <td>1366581976</td>\n",
       "      <td>14</td>\n",
       "      <td>Problem.Check</td>\n",
       "      <td>2013-04-21 22:06:16</td>\n",
       "    </tr>\n",
       "    <tr>\n",
       "      <th>6</th>\n",
       "      <td>000203e26d8ff4c482703c1c40e211b23c7a926c</td>\n",
       "      <td>10.00</td>\n",
       "      <td>1366584864</td>\n",
       "      <td>14</td>\n",
       "      <td>Problem.Check</td>\n",
       "      <td>2013-04-21 22:54:24</td>\n",
       "    </tr>\n",
       "    <tr>\n",
       "      <th>7</th>\n",
       "      <td>000203e26d8ff4c482703c1c40e211b23c7a926c</td>\n",
       "      <td>10.00</td>\n",
       "      <td>1368392652</td>\n",
       "      <td>17</td>\n",
       "      <td>Problem.Check</td>\n",
       "      <td>2013-05-12 21:04:12</td>\n",
       "    </tr>\n",
       "    <tr>\n",
       "      <th>8</th>\n",
       "      <td>000203e26d8ff4c482703c1c40e211b23c7a926c</td>\n",
       "      <td>9.65</td>\n",
       "      <td>1368994845</td>\n",
       "      <td>20</td>\n",
       "      <td>Problem.Check</td>\n",
       "      <td>2013-05-19 20:20:45</td>\n",
       "    </tr>\n",
       "    <tr>\n",
       "      <th>9</th>\n",
       "      <td>000203e26d8ff4c482703c1c40e211b23c7a926c</td>\n",
       "      <td>10.00</td>\n",
       "      <td>1368995671</td>\n",
       "      <td>20</td>\n",
       "      <td>Problem.Check</td>\n",
       "      <td>2013-05-19 20:34:31</td>\n",
       "    </tr>\n",
       "  </tbody>\n",
       "</table>\n",
       "</div>"
      ],
      "text/plain": [
       "                              SessionUserID  Grade   TimeStamp  ProblemID  \\\n",
       "0  000203e26d8ff4c482703c1c40e211b23c7a926c  10.00  1364714776          5   \n",
       "1  000203e26d8ff4c482703c1c40e211b23c7a926c  10.00  1364757231          7   \n",
       "2  000203e26d8ff4c482703c1c40e211b23c7a926c  10.00  1365435360          6   \n",
       "3  000203e26d8ff4c482703c1c40e211b23c7a926c   7.09  1365987021         12   \n",
       "4  000203e26d8ff4c482703c1c40e211b23c7a926c  10.00  1365987773         12   \n",
       "5  000203e26d8ff4c482703c1c40e211b23c7a926c   8.36  1366581976         14   \n",
       "6  000203e26d8ff4c482703c1c40e211b23c7a926c  10.00  1366584864         14   \n",
       "7  000203e26d8ff4c482703c1c40e211b23c7a926c  10.00  1368392652         17   \n",
       "8  000203e26d8ff4c482703c1c40e211b23c7a926c   9.65  1368994845         20   \n",
       "9  000203e26d8ff4c482703c1c40e211b23c7a926c  10.00  1368995671         20   \n",
       "\n",
       "       EventType                Date  \n",
       "0  Problem.Check 2013-03-31 07:26:16  \n",
       "1  Problem.Check 2013-03-31 19:13:51  \n",
       "2  Problem.Check 2013-04-08 15:36:00  \n",
       "3  Problem.Check 2013-04-15 00:50:21  \n",
       "4  Problem.Check 2013-04-15 01:02:53  \n",
       "5  Problem.Check 2013-04-21 22:06:16  \n",
       "6  Problem.Check 2013-04-21 22:54:24  \n",
       "7  Problem.Check 2013-05-12 21:04:12  \n",
       "8  Problem.Check 2013-05-19 20:20:45  \n",
       "9  Problem.Check 2013-05-19 20:34:31  "
      ]
     },
     "execution_count": 27,
     "metadata": {},
     "output_type": "execute_result"
    }
   ],
   "source": [
    "# The index has gone crazy, useless, but we can reset it !\n",
    "df_Assignment_Event_sorted.reset_index(drop=True, inplace=True)\n",
    "df_Assignment_Event_sorted.head(10)"
   ]
  },
  {
   "cell_type": "code",
   "execution_count": 28,
   "metadata": {
    "collapsed": false
   },
   "outputs": [
    {
     "data": {
      "text/html": [
       "<div>\n",
       "<table border=\"1\" class=\"dataframe\">\n",
       "  <thead>\n",
       "    <tr style=\"text-align: right;\">\n",
       "      <th></th>\n",
       "      <th></th>\n",
       "      <th>Grade</th>\n",
       "      <th>TimeStamp</th>\n",
       "      <th>EventType</th>\n",
       "      <th>Date</th>\n",
       "    </tr>\n",
       "    <tr>\n",
       "      <th>SessionUserID</th>\n",
       "      <th>ProblemID</th>\n",
       "      <th></th>\n",
       "      <th></th>\n",
       "      <th></th>\n",
       "      <th></th>\n",
       "    </tr>\n",
       "  </thead>\n",
       "  <tbody>\n",
       "    <tr>\n",
       "      <th rowspan=\"7\" valign=\"top\">000203e26d8ff4c482703c1c40e211b23c7a926c</th>\n",
       "      <th>5</th>\n",
       "      <td>(10.0,)</td>\n",
       "      <td>(1364714776,)</td>\n",
       "      <td>(Problem.Check,)</td>\n",
       "      <td>(2013-03-31 07:26:16,)</td>\n",
       "    </tr>\n",
       "    <tr>\n",
       "      <th>6</th>\n",
       "      <td>(10.0,)</td>\n",
       "      <td>(1365435360,)</td>\n",
       "      <td>(Problem.Check,)</td>\n",
       "      <td>(2013-04-08 15:36:00,)</td>\n",
       "    </tr>\n",
       "    <tr>\n",
       "      <th>7</th>\n",
       "      <td>(10.0,)</td>\n",
       "      <td>(1364757231,)</td>\n",
       "      <td>(Problem.Check,)</td>\n",
       "      <td>(2013-03-31 19:13:51,)</td>\n",
       "    </tr>\n",
       "    <tr>\n",
       "      <th>12</th>\n",
       "      <td>(7.09000015259, 10.0)</td>\n",
       "      <td>(1365987021, 1365987773)</td>\n",
       "      <td>(Problem.Check, Problem.Check)</td>\n",
       "      <td>(2013-04-15 00:50:21, 2013-04-15 01:02:53)</td>\n",
       "    </tr>\n",
       "    <tr>\n",
       "      <th>14</th>\n",
       "      <td>(8.35999965668, 10.0)</td>\n",
       "      <td>(1366581976, 1366584864)</td>\n",
       "      <td>(Problem.Check, Problem.Check)</td>\n",
       "      <td>(2013-04-21 22:06:16, 2013-04-21 22:54:24)</td>\n",
       "    </tr>\n",
       "    <tr>\n",
       "      <th>17</th>\n",
       "      <td>(10.0,)</td>\n",
       "      <td>(1368392652,)</td>\n",
       "      <td>(Problem.Check,)</td>\n",
       "      <td>(2013-05-12 21:04:12,)</td>\n",
       "    </tr>\n",
       "    <tr>\n",
       "      <th>20</th>\n",
       "      <td>(9.64999961853, 10.0)</td>\n",
       "      <td>(1368994845, 1368995671)</td>\n",
       "      <td>(Problem.Check, Problem.Check)</td>\n",
       "      <td>(2013-05-19 20:20:45, 2013-05-19 20:34:31)</td>\n",
       "    </tr>\n",
       "    <tr>\n",
       "      <th rowspan=\"2\" valign=\"top\">0007e260cf0c116c93abc29af27ce465356f6359</th>\n",
       "      <th>6</th>\n",
       "      <td>(10.0,)</td>\n",
       "      <td>(1366086129,)</td>\n",
       "      <td>(Problem.Check,)</td>\n",
       "      <td>(2013-04-16 04:22:09,)</td>\n",
       "    </tr>\n",
       "    <tr>\n",
       "      <th>7</th>\n",
       "      <td>(10.0,)</td>\n",
       "      <td>(1364711553,)</td>\n",
       "      <td>(Problem.Check,)</td>\n",
       "      <td>(2013-03-31 06:32:33,)</td>\n",
       "    </tr>\n",
       "    <tr>\n",
       "      <th>0009b5effbafb95aacddc2f356f20b3d3294d3ba</th>\n",
       "      <th>7</th>\n",
       "      <td>(9.97999954224,)</td>\n",
       "      <td>(1365363836,)</td>\n",
       "      <td>(Problem.Check,)</td>\n",
       "      <td>(2013-04-07 19:43:56,)</td>\n",
       "    </tr>\n",
       "    <tr>\n",
       "      <th rowspan=\"7\" valign=\"top\">001182ce17207806e07c249602a679a35bcf454d</th>\n",
       "      <th>5</th>\n",
       "      <td>(10.0,)</td>\n",
       "      <td>(1365183457,)</td>\n",
       "      <td>(Problem.Check,)</td>\n",
       "      <td>(2013-04-05 17:37:37,)</td>\n",
       "    </tr>\n",
       "    <tr>\n",
       "      <th>6</th>\n",
       "      <td>(10.0,)</td>\n",
       "      <td>(1365702959,)</td>\n",
       "      <td>(Problem.Check,)</td>\n",
       "      <td>(2013-04-11 17:55:59,)</td>\n",
       "    </tr>\n",
       "    <tr>\n",
       "      <th>7</th>\n",
       "      <td>(10.0,)</td>\n",
       "      <td>(1365207437,)</td>\n",
       "      <td>(Problem.Check,)</td>\n",
       "      <td>(2013-04-06 00:17:17,)</td>\n",
       "    </tr>\n",
       "    <tr>\n",
       "      <th>12</th>\n",
       "      <td>(9.96000003815, 10.0)</td>\n",
       "      <td>(1366505245, 1366506334)</td>\n",
       "      <td>(Problem.Check, Problem.Check)</td>\n",
       "      <td>(2013-04-21 00:47:25, 2013-04-21 01:05:34)</td>\n",
       "    </tr>\n",
       "    <tr>\n",
       "      <th>14</th>\n",
       "      <td>(10.0,)</td>\n",
       "      <td>(1367070047,)</td>\n",
       "      <td>(Problem.Check,)</td>\n",
       "      <td>(2013-04-27 13:40:47,)</td>\n",
       "    </tr>\n",
       "    <tr>\n",
       "      <th>17</th>\n",
       "      <td>(9.53999996185, 10.0)</td>\n",
       "      <td>(1368284254, 1368285035)</td>\n",
       "      <td>(Problem.Check, Problem.Check)</td>\n",
       "      <td>(2013-05-11 14:57:34, 2013-05-11 15:10:35)</td>\n",
       "    </tr>\n",
       "    <tr>\n",
       "      <th>20</th>\n",
       "      <td>(9.30000019073, 10.0)</td>\n",
       "      <td>(1368831056, 1368832424)</td>\n",
       "      <td>(Problem.Check, Problem.Check)</td>\n",
       "      <td>(2013-05-17 22:50:56, 2013-05-17 23:13:44)</td>\n",
       "    </tr>\n",
       "    <tr>\n",
       "      <th rowspan=\"2\" valign=\"top\">001b69d1376c69a969d86e0bff96d9d6320d75ec</th>\n",
       "      <th>5</th>\n",
       "      <td>(9.97999954224, 10.0)</td>\n",
       "      <td>(1365325506, 1365326192)</td>\n",
       "      <td>(Problem.Check, Problem.Check)</td>\n",
       "      <td>(2013-04-07 09:05:06, 2013-04-07 09:16:32)</td>\n",
       "    </tr>\n",
       "    <tr>\n",
       "      <th>7</th>\n",
       "      <td>(10.0,)</td>\n",
       "      <td>(1365334060,)</td>\n",
       "      <td>(Problem.Check,)</td>\n",
       "      <td>(2013-04-07 11:27:40,)</td>\n",
       "    </tr>\n",
       "  </tbody>\n",
       "</table>\n",
       "</div>"
      ],
      "text/plain": [
       "                                                                    Grade  \\\n",
       "SessionUserID                            ProblemID                          \n",
       "000203e26d8ff4c482703c1c40e211b23c7a926c 5                        (10.0,)   \n",
       "                                         6                        (10.0,)   \n",
       "                                         7                        (10.0,)   \n",
       "                                         12         (7.09000015259, 10.0)   \n",
       "                                         14         (8.35999965668, 10.0)   \n",
       "                                         17                       (10.0,)   \n",
       "                                         20         (9.64999961853, 10.0)   \n",
       "0007e260cf0c116c93abc29af27ce465356f6359 6                        (10.0,)   \n",
       "                                         7                        (10.0,)   \n",
       "0009b5effbafb95aacddc2f356f20b3d3294d3ba 7               (9.97999954224,)   \n",
       "001182ce17207806e07c249602a679a35bcf454d 5                        (10.0,)   \n",
       "                                         6                        (10.0,)   \n",
       "                                         7                        (10.0,)   \n",
       "                                         12         (9.96000003815, 10.0)   \n",
       "                                         14                       (10.0,)   \n",
       "                                         17         (9.53999996185, 10.0)   \n",
       "                                         20         (9.30000019073, 10.0)   \n",
       "001b69d1376c69a969d86e0bff96d9d6320d75ec 5          (9.97999954224, 10.0)   \n",
       "                                         7                        (10.0,)   \n",
       "\n",
       "                                                                   TimeStamp  \\\n",
       "SessionUserID                            ProblemID                             \n",
       "000203e26d8ff4c482703c1c40e211b23c7a926c 5                     (1364714776,)   \n",
       "                                         6                     (1365435360,)   \n",
       "                                         7                     (1364757231,)   \n",
       "                                         12         (1365987021, 1365987773)   \n",
       "                                         14         (1366581976, 1366584864)   \n",
       "                                         17                    (1368392652,)   \n",
       "                                         20         (1368994845, 1368995671)   \n",
       "0007e260cf0c116c93abc29af27ce465356f6359 6                     (1366086129,)   \n",
       "                                         7                     (1364711553,)   \n",
       "0009b5effbafb95aacddc2f356f20b3d3294d3ba 7                     (1365363836,)   \n",
       "001182ce17207806e07c249602a679a35bcf454d 5                     (1365183457,)   \n",
       "                                         6                     (1365702959,)   \n",
       "                                         7                     (1365207437,)   \n",
       "                                         12         (1366505245, 1366506334)   \n",
       "                                         14                    (1367070047,)   \n",
       "                                         17         (1368284254, 1368285035)   \n",
       "                                         20         (1368831056, 1368832424)   \n",
       "001b69d1376c69a969d86e0bff96d9d6320d75ec 5          (1365325506, 1365326192)   \n",
       "                                         7                     (1365334060,)   \n",
       "\n",
       "                                                                         EventType  \\\n",
       "SessionUserID                            ProblemID                                   \n",
       "000203e26d8ff4c482703c1c40e211b23c7a926c 5                        (Problem.Check,)   \n",
       "                                         6                        (Problem.Check,)   \n",
       "                                         7                        (Problem.Check,)   \n",
       "                                         12         (Problem.Check, Problem.Check)   \n",
       "                                         14         (Problem.Check, Problem.Check)   \n",
       "                                         17                       (Problem.Check,)   \n",
       "                                         20         (Problem.Check, Problem.Check)   \n",
       "0007e260cf0c116c93abc29af27ce465356f6359 6                        (Problem.Check,)   \n",
       "                                         7                        (Problem.Check,)   \n",
       "0009b5effbafb95aacddc2f356f20b3d3294d3ba 7                        (Problem.Check,)   \n",
       "001182ce17207806e07c249602a679a35bcf454d 5                        (Problem.Check,)   \n",
       "                                         6                        (Problem.Check,)   \n",
       "                                         7                        (Problem.Check,)   \n",
       "                                         12         (Problem.Check, Problem.Check)   \n",
       "                                         14                       (Problem.Check,)   \n",
       "                                         17         (Problem.Check, Problem.Check)   \n",
       "                                         20         (Problem.Check, Problem.Check)   \n",
       "001b69d1376c69a969d86e0bff96d9d6320d75ec 5          (Problem.Check, Problem.Check)   \n",
       "                                         7                        (Problem.Check,)   \n",
       "\n",
       "                                                                                          Date  \n",
       "SessionUserID                            ProblemID                                              \n",
       "000203e26d8ff4c482703c1c40e211b23c7a926c 5                              (2013-03-31 07:26:16,)  \n",
       "                                         6                              (2013-04-08 15:36:00,)  \n",
       "                                         7                              (2013-03-31 19:13:51,)  \n",
       "                                         12         (2013-04-15 00:50:21, 2013-04-15 01:02:53)  \n",
       "                                         14         (2013-04-21 22:06:16, 2013-04-21 22:54:24)  \n",
       "                                         17                             (2013-05-12 21:04:12,)  \n",
       "                                         20         (2013-05-19 20:20:45, 2013-05-19 20:34:31)  \n",
       "0007e260cf0c116c93abc29af27ce465356f6359 6                              (2013-04-16 04:22:09,)  \n",
       "                                         7                              (2013-03-31 06:32:33,)  \n",
       "0009b5effbafb95aacddc2f356f20b3d3294d3ba 7                              (2013-04-07 19:43:56,)  \n",
       "001182ce17207806e07c249602a679a35bcf454d 5                              (2013-04-05 17:37:37,)  \n",
       "                                         6                              (2013-04-11 17:55:59,)  \n",
       "                                         7                              (2013-04-06 00:17:17,)  \n",
       "                                         12         (2013-04-21 00:47:25, 2013-04-21 01:05:34)  \n",
       "                                         14                             (2013-04-27 13:40:47,)  \n",
       "                                         17         (2013-05-11 14:57:34, 2013-05-11 15:10:35)  \n",
       "                                         20         (2013-05-17 22:50:56, 2013-05-17 23:13:44)  \n",
       "001b69d1376c69a969d86e0bff96d9d6320d75ec 5          (2013-04-07 09:05:06, 2013-04-07 09:16:32)  \n",
       "                                         7                              (2013-04-07 11:27:40,)  "
      ]
     },
     "execution_count": 28,
     "metadata": {},
     "output_type": "execute_result"
    }
   ],
   "source": [
    "# found this here: \n",
    "# http://stackoverflow.com/questions/19530568/can-pandas-groupby-aggregate-into-a-list-rather-than-sum-mean-etc\n",
    "# the big idea is to be able to manipulate the tuples with something like apply(func) later on.\n",
    "df_Assignment_Event_sorted.groupby(['SessionUserID','ProblemID']).agg(lambda x: tuple(x)).head(19)"
   ]
  },
  {
   "cell_type": "markdown",
   "metadata": {},
   "source": [
    "### Video Events"
   ]
  },
  {
   "cell_type": "code",
   "execution_count": 29,
   "metadata": {
    "collapsed": false
   },
   "outputs": [
    {
     "data": {
      "text/plain": [
       "Video.Seek           749845\n",
       "Video.Load           698560\n",
       "Video.Play           634870\n",
       "Video.Pause          587093\n",
       "Video.Download       487168\n",
       "Video.SpeedChange    231622\n",
       "Video.Stalled         56908\n",
       "Video.Error           25600\n",
       "Name: EventType, dtype: int64"
      ]
     },
     "execution_count": 29,
     "metadata": {},
     "output_type": "execute_result"
    }
   ],
   "source": [
    "# Need to make sense out of these event types\n",
    "df_Video_Event.EventType.value_counts()"
   ]
  },
  {
   "cell_type": "code",
   "execution_count": 30,
   "metadata": {
    "collapsed": false
   },
   "outputs": [
    {
     "name": "stdout",
     "output_type": "stream",
     "text": [
      "Average number of video event per student: 112.322570\n"
     ]
    },
    {
     "data": {
      "text/plain": [
       "a643162af0e4d07de09c5bc76b80ff85ee5e3c71    14570\n",
       "c05643d667c2c929d64d6d19cd30c1965af3b347    10590\n",
       "a88bbe0f2adc974e121b2c0bf175871d67725236     8929\n",
       "5cd101d3f9dab3734f30e7ddc944f6e76f0c180b     7060\n",
       "8b56ed53097ae9c28609816317c58a2c42937b15     6037\n",
       "0d36640b1e7b7d895919f9249aec534a903e3f61     5177\n",
       "5981f81f756f9aa5a681b954a28acc551ace67b5     4587\n",
       "4cac97ae974fdb79e6614ecc8b13a7de9e606716     4517\n",
       "3734f39acccc6f6c9435fb41d64a8a651668e718     4061\n",
       "c7f421b1b044a441f37fceb4ddf6e7e33ce7a7c8     4037\n",
       "Name: SessionUserID, dtype: int64"
      ]
     },
     "execution_count": 30,
     "metadata": {},
     "output_type": "execute_result"
    }
   ],
   "source": [
    "counts = df_Video_Event.SessionUserID.value_counts()\n",
    "print(\"Average number of video event per student: %f\" % counts.mean())\n",
    "counts.head(10)"
   ]
  },
  {
   "cell_type": "code",
   "execution_count": 31,
   "metadata": {
    "collapsed": false
   },
   "outputs": [
    {
     "name": "stdout",
     "output_type": "stream",
     "text": [
      "[  1   2   3   4   5   6   7   8  14  15  16  17  18  19  20  21  22  23\n",
      "  24  25  26  27  28  29  30  33  34  35  36  37  38  39  40  41  42  43\n",
      "  44  47  48  49  50  51  52  53  54  71  72  73  74  75  76  77  78  79\n",
      "  80  81  82  83  84  85  86  87  88  89  90  91  92  93  94  95  96  97\n",
      "  98 101 102 103 104 105 106 107 108 109 110 111 112 113 114 115 116 117\n",
      " 118 119 120 121 122 123 124 125 126 127 128]\n"
     ]
    },
    {
     "data": {
      "text/plain": [
       "<matplotlib.axes._subplots.AxesSubplot at 0x7f9fa8baf9b0>"
      ]
     },
     "execution_count": 31,
     "metadata": {},
     "output_type": "execute_result"
    },
    {
     "data": {
      "image/png": "[encoded data removed]",
      "text/plain": [
       "<matplotlib.figure.Figure at 0x7f9fc4ef62b0>"
      ]
     },
     "metadata": {},
     "output_type": "display_data"
    }
   ],
   "source": [
    "VideoIdList = df_Video_Event.VideoID.unique()\n",
    "VideoIdList.sort()\n",
    "print(VideoIdList)\n",
    "bins = range(df_Video_Event.VideoID.min(),df_Video_Event.VideoID.max()+1)\n",
    "df_Video_Event.VideoID.hist(bins=bins)"
   ]
  },
  {
   "cell_type": "code",
   "execution_count": 32,
   "metadata": {
    "collapsed": false
   },
   "outputs": [
    {
     "data": {
      "text/html": [
       "<div>\n",
       "<table border=\"1\" class=\"dataframe\">\n",
       "  <thead>\n",
       "    <tr style=\"text-align: right;\">\n",
       "      <th></th>\n",
       "      <th>SessionUserID</th>\n",
       "      <th>TimeStamp</th>\n",
       "      <th>VideoID</th>\n",
       "      <th>EventType</th>\n",
       "      <th>Date</th>\n",
       "    </tr>\n",
       "  </thead>\n",
       "  <tbody>\n",
       "    <tr>\n",
       "      <th>0</th>\n",
       "      <td>000203e26d8ff4c482703c1c40e211b23c7a926c</td>\n",
       "      <td>1364251130</td>\n",
       "      <td>27</td>\n",
       "      <td>Video.Load</td>\n",
       "      <td>2013-03-25 22:38:50</td>\n",
       "    </tr>\n",
       "    <tr>\n",
       "      <th>1</th>\n",
       "      <td>000203e26d8ff4c482703c1c40e211b23c7a926c</td>\n",
       "      <td>1364251640</td>\n",
       "      <td>27</td>\n",
       "      <td>Video.Load</td>\n",
       "      <td>2013-03-25 22:47:20</td>\n",
       "    </tr>\n",
       "    <tr>\n",
       "      <th>2</th>\n",
       "      <td>000203e26d8ff4c482703c1c40e211b23c7a926c</td>\n",
       "      <td>1364251777</td>\n",
       "      <td>8</td>\n",
       "      <td>Video.Load</td>\n",
       "      <td>2013-03-25 22:49:37</td>\n",
       "    </tr>\n",
       "    <tr>\n",
       "      <th>3</th>\n",
       "      <td>000203e26d8ff4c482703c1c40e211b23c7a926c</td>\n",
       "      <td>1364408481</td>\n",
       "      <td>21</td>\n",
       "      <td>Video.Load</td>\n",
       "      <td>2013-03-27 18:21:21</td>\n",
       "    </tr>\n",
       "    <tr>\n",
       "      <th>4</th>\n",
       "      <td>000203e26d8ff4c482703c1c40e211b23c7a926c</td>\n",
       "      <td>1364408483</td>\n",
       "      <td>21</td>\n",
       "      <td>Video.Play</td>\n",
       "      <td>2013-03-27 18:21:23</td>\n",
       "    </tr>\n",
       "  </tbody>\n",
       "</table>\n",
       "</div>"
      ],
      "text/plain": [
       "                              SessionUserID   TimeStamp  VideoID   EventType  \\\n",
       "0  000203e26d8ff4c482703c1c40e211b23c7a926c  1364251130       27  Video.Load   \n",
       "1  000203e26d8ff4c482703c1c40e211b23c7a926c  1364251640       27  Video.Load   \n",
       "2  000203e26d8ff4c482703c1c40e211b23c7a926c  1364251777        8  Video.Load   \n",
       "3  000203e26d8ff4c482703c1c40e211b23c7a926c  1364408481       21  Video.Load   \n",
       "4  000203e26d8ff4c482703c1c40e211b23c7a926c  1364408483       21  Video.Play   \n",
       "\n",
       "                 Date  \n",
       "0 2013-03-25 22:38:50  \n",
       "1 2013-03-25 22:47:20  \n",
       "2 2013-03-25 22:49:37  \n",
       "3 2013-03-27 18:21:21  \n",
       "4 2013-03-27 18:21:23  "
      ]
     },
     "execution_count": 32,
     "metadata": {},
     "output_type": "execute_result"
    }
   ],
   "source": [
    "df_Video_Event_sorted = df_Video_Event.sort_values(by=['SessionUserID','TimeStamp'])\n",
    "df_Video_Event_sorted.reset_index(drop=True, inplace=True)\n",
    "df_Video_Event_sorted.head(5)"
   ]
  },
  {
   "cell_type": "markdown",
   "metadata": {
    "collapsed": true
   },
   "source": [
    "### All Events"
   ]
  },
  {
   "cell_type": "code",
   "execution_count": 33,
   "metadata": {
    "collapsed": false
   },
   "outputs": [
    {
     "data": {
      "text/html": [
       "<div>\n",
       "<table border=\"1\" class=\"dataframe\">\n",
       "  <thead>\n",
       "    <tr style=\"text-align: right;\">\n",
       "      <th></th>\n",
       "      <th>Date</th>\n",
       "      <th>EventType</th>\n",
       "      <th>Grade</th>\n",
       "      <th>ProblemID</th>\n",
       "      <th>SessionUserID</th>\n",
       "      <th>TimeStamp</th>\n",
       "      <th>VideoID</th>\n",
       "      <th>EventTypeMain</th>\n",
       "      <th>EventTypeDetail</th>\n",
       "    </tr>\n",
       "  </thead>\n",
       "  <tbody>\n",
       "    <tr>\n",
       "      <th>0</th>\n",
       "      <td>2013-03-25 22:38:50</td>\n",
       "      <td>Video.Load</td>\n",
       "      <td>NaN</td>\n",
       "      <td>NaN</td>\n",
       "      <td>000203e26d8ff4c482703c1c40e211b23c7a926c</td>\n",
       "      <td>1364251130</td>\n",
       "      <td>27.0</td>\n",
       "      <td>Video</td>\n",
       "      <td>Load</td>\n",
       "    </tr>\n",
       "    <tr>\n",
       "      <th>1</th>\n",
       "      <td>2013-03-25 22:47:20</td>\n",
       "      <td>Video.Load</td>\n",
       "      <td>NaN</td>\n",
       "      <td>NaN</td>\n",
       "      <td>000203e26d8ff4c482703c1c40e211b23c7a926c</td>\n",
       "      <td>1364251640</td>\n",
       "      <td>27.0</td>\n",
       "      <td>Video</td>\n",
       "      <td>Load</td>\n",
       "    </tr>\n",
       "    <tr>\n",
       "      <th>2</th>\n",
       "      <td>2013-03-25 22:49:37</td>\n",
       "      <td>Video.Load</td>\n",
       "      <td>NaN</td>\n",
       "      <td>NaN</td>\n",
       "      <td>000203e26d8ff4c482703c1c40e211b23c7a926c</td>\n",
       "      <td>1364251777</td>\n",
       "      <td>8.0</td>\n",
       "      <td>Video</td>\n",
       "      <td>Load</td>\n",
       "    </tr>\n",
       "    <tr>\n",
       "      <th>3</th>\n",
       "      <td>2013-03-27 18:21:21</td>\n",
       "      <td>Video.Load</td>\n",
       "      <td>NaN</td>\n",
       "      <td>NaN</td>\n",
       "      <td>000203e26d8ff4c482703c1c40e211b23c7a926c</td>\n",
       "      <td>1364408481</td>\n",
       "      <td>21.0</td>\n",
       "      <td>Video</td>\n",
       "      <td>Load</td>\n",
       "    </tr>\n",
       "    <tr>\n",
       "      <th>4</th>\n",
       "      <td>2013-03-27 18:21:23</td>\n",
       "      <td>Video.Play</td>\n",
       "      <td>NaN</td>\n",
       "      <td>NaN</td>\n",
       "      <td>000203e26d8ff4c482703c1c40e211b23c7a926c</td>\n",
       "      <td>1364408483</td>\n",
       "      <td>21.0</td>\n",
       "      <td>Video</td>\n",
       "      <td>Play</td>\n",
       "    </tr>\n",
       "  </tbody>\n",
       "</table>\n",
       "</div>"
      ],
      "text/plain": [
       "                 Date   EventType  Grade  ProblemID  \\\n",
       "0 2013-03-25 22:38:50  Video.Load    NaN        NaN   \n",
       "1 2013-03-25 22:47:20  Video.Load    NaN        NaN   \n",
       "2 2013-03-25 22:49:37  Video.Load    NaN        NaN   \n",
       "3 2013-03-27 18:21:21  Video.Load    NaN        NaN   \n",
       "4 2013-03-27 18:21:23  Video.Play    NaN        NaN   \n",
       "\n",
       "                              SessionUserID   TimeStamp  VideoID  \\\n",
       "0  000203e26d8ff4c482703c1c40e211b23c7a926c  1364251130     27.0   \n",
       "1  000203e26d8ff4c482703c1c40e211b23c7a926c  1364251640     27.0   \n",
       "2  000203e26d8ff4c482703c1c40e211b23c7a926c  1364251777      8.0   \n",
       "3  000203e26d8ff4c482703c1c40e211b23c7a926c  1364408481     21.0   \n",
       "4  000203e26d8ff4c482703c1c40e211b23c7a926c  1364408483     21.0   \n",
       "\n",
       "  EventTypeMain EventTypeDetail  \n",
       "0         Video            Load  \n",
       "1         Video            Load  \n",
       "2         Video            Load  \n",
       "3         Video            Load  \n",
       "4         Video            Play  "
      ]
     },
     "execution_count": 33,
     "metadata": {},
     "output_type": "execute_result"
    }
   ],
   "source": [
    "df_All_Event_sorted = df_All_Event.sort_values(by=['SessionUserID','TimeStamp'])\n",
    "df_All_Event_sorted.reset_index(drop=True, inplace=True)\n",
    "df_All_Event_sorted.head()"
   ]
  }
 ],
 "metadata": {
  "anaconda-cloud": {},
  "kernelspec": {
   "display_name": "Python [conda root]",
   "language": "python",
   "name": "conda-root-py"
  },
  "language_info": {
   "codemirror_mode": {
    "name": "ipython",
    "version": 3
   },
   "file_extension": ".py",
   "mimetype": "text/x-python",
   "name": "python",
   "nbconvert_exporter": "python",
   "pygments_lexer": "ipython3",
   "version": "3.5.2"
  }
 },
 "nbformat": 4,
 "nbformat_minor": 0
}
