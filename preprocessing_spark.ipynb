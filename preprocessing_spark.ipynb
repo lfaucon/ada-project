{
 "cells": [
  {
   "cell_type": "markdown",
   "metadata": {},
   "source": [
    "# Preprocessing"
   ]
  },
  {
   "cell_type": "markdown",
   "metadata": {},
   "source": [
    "# Importing Spark"
   ]
  },
  {
   "cell_type": "code",
   "execution_count": 1,
   "metadata": {
    "collapsed": false,
    "scrolled": true
   },
   "outputs": [
    {
     "data": {
      "text/plain": [
       "8"
      ]
     },
     "execution_count": 1,
     "metadata": {},
     "output_type": "execute_result"
    }
   ],
   "source": [
    "from pyspark import SparkContext\n",
    "\n",
    "import pprint\n",
    "pp = pprint.PrettyPrinter(indent=4)\n",
    "\n",
    "# Defining the spark context\n",
    "sc = SparkContext(\"local[*]\", \"ADA\")\n",
    "# Display the parallelism of the current context\n",
    "sc.defaultParallelism"
   ]
  },
  {
   "cell_type": "code",
   "execution_count": 2,
   "metadata": {
    "collapsed": false
   },
   "outputs": [],
   "source": [
    "import utils"
   ]
  },
  {
   "cell_type": "markdown",
   "metadata": {},
   "source": [
    "# Configuration"
   ]
  },
  {
   "cell_type": "code",
   "execution_count": 3,
   "metadata": {
    "collapsed": true
   },
   "outputs": [],
   "source": [
    "config = {\n",
    "    \"session\":\"progfun-002\"\n",
    "}\n",
    "\n",
    "TEST_STUDENTS={\n",
    "    '6ea6949ca133acede360d3573f9d1168b3d70b51':'very good student',\n",
    "    '3b305429f93de02637949578a5f9e23f13eb0726':'did two problems',\n",
    "    '865981d5b40a693bafbadae4b1df769be03a25c3':'watched 8 videos',\n",
    "    '67cdae6073d1089b695e2a615a01187586ad7ba6':'normal student',\n",
    "    'fb4c81b3df430d1f0fbb8d0ca3e470ac6bf92a2f':'the very best student',\n",
    "    '295b3496278626b6d337812b1882b756336fd633':'whatdup with this guy?'\n",
    "}"
   ]
  },
  {
   "cell_type": "markdown",
   "metadata": {},
   "source": [
    "# Importing the data"
   ]
  },
  {
   "cell_type": "markdown",
   "metadata": {},
   "source": [
    "### Importing Event Data"
   ]
  },
  {
   "cell_type": "code",
   "execution_count": 4,
   "metadata": {
    "collapsed": false
   },
   "outputs": [],
   "source": [
    "# Reading csv files: Create RDD () with one string entry per line in the file\n",
    "rdd_problem_events = sc.textFile(\"data/\"+config['session']+\"_Problem_Events_with_Info.csv\")\n",
    "rdd_video_events = sc.textFile(\"data/\"+config['session']+\"_Video_Events.csv\")\n",
    "rdd_forum_events = sc.textFile(\"data/\"+config['session']+\"_Forum_Events.csv\")"
   ]
  },
  {
   "cell_type": "code",
   "execution_count": 5,
   "metadata": {
    "collapsed": false
   },
   "outputs": [
    {
     "name": "stdout",
     "output_type": "stream",
     "text": [
      "--- PROBLEM_EVENTS ---\n",
      "[(0, 'EventID'), (1, 'ForumUserID'), (2, 'MaximumSubmissions'), (3, 'AccountUserID'), (4, 'SubmissionNumber'), (5, 'Grade'), (6, 'TimeStamp'), (7, 'DataPackageID'), (8, 'ProblemID'), (9, 'SoftCloseTime'), (10, 'ProblemType'), (11, 'HardCloseTime'), (12, 'Platform'), (13, 'OpenTime'), (14, 'EventType'), (15, 'Title'), (16, 'SessionUserID'), (17, 'UniqueProblemID'), (18, 'UniqueUserID')] \n",
      "\n",
      "--- VIDEO_EVENTS ---\n",
      "[(0, 'EventID'), (1, 'ForumUserID'), (2, 'OldTime'), (3, 'AccountUserID'), (4, 'CurrentTime'), (5, 'SeekType'), (6, 'TimeStamp'), (7, 'DataPackageID'), (8, 'UniqueRowID'), (9, 'TableName'), (10, 'VideoID'), (11, 'Platform'), (12, 'NewSpeed'), (13, 'EventSource'), (14, 'EventType'), (15, 'SessionUserID'), (16, 'NewTime'), (17, 'OldSpeed')] \n",
      "\n",
      "--- FORUM_EVENTS ---\n",
      "[(0, 'EventID'), (1, 'ForumUserID'), (2, 'PostID'), (3, 'AccountUserID'), (4, 'TimeStamp'), (5, 'DataPackageID'), (6, 'UniqueRowID'), (7, 'TableName'), (8, 'Platform'), (9, 'EventSource'), (10, 'PostType'), (11, 'EventType'), (12, 'JoinID'), (13, 'SessionUserID')] \n",
      "\n"
     ]
    }
   ],
   "source": [
    "def printHeader(rdd):\n",
    "    print(list(enumerate(rdd.first().split(','))),'\\n')\n",
    "\n",
    "print(\"--- PROBLEM_EVENTS ---\")\n",
    "printHeader(rdd_problem_events)\n",
    "\n",
    "print(\"--- VIDEO_EVENTS ---\")\n",
    "printHeader(rdd_video_events)\n",
    "\n",
    "print(\"--- FORUM_EVENTS ---\")\n",
    "printHeader(rdd_forum_events)"
   ]
  },
  {
   "cell_type": "code",
   "execution_count": 6,
   "metadata": {
    "collapsed": false
   },
   "outputs": [],
   "source": [
    "def removeHeader(row):\n",
    "    return not row.startswith('EventID')\n",
    "\n",
    "rdd_problem_events = rdd_problem_events.filter(removeHeader)\n",
    "rdd_video_events = rdd_video_events.filter(removeHeader)\n",
    "rdd_forum_events = rdd_forum_events.filter(removeHeader)"
   ]
  },
  {
   "cell_type": "code",
   "execution_count": 7,
   "metadata": {
    "collapsed": false
   },
   "outputs": [],
   "source": [
    "# INPUT: Comma separated string\n",
    "def parse_problems(x):\n",
    "    data = x.split(',')\n",
    "    return {\n",
    "        'Grade':float(data[5]),\n",
    "        'TimeStamp':int(data[6]),\n",
    "        'ProblemID':int(data[8]),\n",
    "        'ProblemType':data[10],\n",
    "        'EventType':data[14].split('.')[0],\n",
    "        'EventSubType':data[14].split('.')[1],\n",
    "        'Title':data[15],\n",
    "        'SessionUserID':data[16]\n",
    "    }\n",
    "\n",
    "# INPUT: Comma separated string\n",
    "def parse_videos(x):\n",
    "    data = x.split(',')\n",
    "    return {\n",
    "        'TimeStamp':int(data[6]),\n",
    "        'VideoID':int(data[10]),\n",
    "        'EventType':data[14].split('.')[0],\n",
    "        'EventSubType':data[14].split('.')[1],\n",
    "        'SessionUserID':data[15]\n",
    "    }\n",
    "\n",
    "# INPUT: Comma separated string\n",
    "def parse_forums(x):\n",
    "    data = x.split(',')\n",
    "    return {\n",
    "        'AccountUserID':data[3],\n",
    "        'TimeStamp':int(data[4]),\n",
    "        'EventType':data[11].split('.')[0],\n",
    "        'EventSubType':data[11].split('.')[1]\n",
    "    }\n",
    "\n",
    "# INPUT: Comma separated string\n",
    "def filter_problems(x):\n",
    "    data = x.split(',')\n",
    "    return (\n",
    "        # Some problem event are quiz inside video, we decide to not consider these\n",
    "        (data[10]=='Assignment')\n",
    "        # We remove IDs of assignments that have been used by the teaching staff for testing the platform\n",
    "        and (not data[8] in ['1','2','3','4','5'])\n",
    "        # Discard assignments with no grade\n",
    "        and (not data[5] in ['None'])\n",
    "    )\n",
    "\n",
    "# INPUT: Comma separated string\n",
    "def filter_videos(x):\n",
    "    data = x.split(',')\n",
    "    return (\n",
    "        # We remove video that do not belong to the MOOC lectures or ar just Setup videos\n",
    "        (data[10] not in ['9','12','11','10','13','2','29','25','21','27','23'])\n",
    "        # Keeps only \"Play\" EnventSubStype for videos (makes difference between opening the page or starting the video)\n",
    "        # and (data[14].split('.')[1] in ['Play','Load'])\n",
    "    )\n",
    "\n",
    "# INPUT: Comma separated string\n",
    "def filter_forums(x):\n",
    "    data = x.split(',')\n",
    "    return (\n",
    "        True\n",
    "    )\n",
    "\n",
    "rdd_problem_events_parsed = rdd_problem_events.filter(filter_problems).map(parse_problems)\n",
    "rdd_video_events_parsed = rdd_video_events.filter(filter_videos).map(parse_videos)\n",
    "rdd_forum_events_parsed = rdd_forum_events.filter(filter_forums).map(parse_forums)"
   ]
  },
  {
   "cell_type": "code",
   "execution_count": 8,
   "metadata": {
    "collapsed": false
   },
   "outputs": [
    {
     "name": "stdout",
     "output_type": "stream",
     "text": [
      "297650\n",
      "{'SessionUserID': '16e564ed1e9b7104acde8f075c26a1872695fb5e', 'AccountUserID': '2009208', 'EventType': 'Forum', 'TimeStamp': 1368130954, 'EventSubType': 'Thread'}\n"
     ]
    }
   ],
   "source": [
    "# Handles issue with the forum events table having 'AccountUserID' instead of 'SessionUserID'\n",
    "# Using the table progfun-002_User_Hash_Mapping\n",
    "rdd_user_mapping = sc.textFile(\"data/\"+config['session']+\"_User_Hash_Mapping.csv\")\n",
    "\n",
    "def f(x):\n",
    "    x[1][1]['SessionUserID']=x[1][0] \n",
    "    return x[1][1]\n",
    "\n",
    "rdd_forum_events_parsed = (rdd_user_mapping\n",
    "    # INPUT of filter: Comma separated string\n",
    "    .filter(lambda x: not x.startswith(\"ForumUserID\"))\n",
    "    # INPUT of map: Comma separated string\n",
    "    .map(lambda x:(x.split(\",\")[1],x.split(\",\")[6]))\n",
    "    # INPUT of join:\n",
    "    # self= (key=AccountUserId (str), value=SessionUserId (str))\n",
    "    # arg= (key=AccountUserId (str), value=ForumEvent (dict))\n",
    "    .join(rdd_forum_events_parsed\n",
    "        # INPUT of map: ForumEvent (dict)\n",
    "        .map(lambda x: (x['AccountUserID'],x))\n",
    "    )\n",
    "    # (AccountUserId (str), (SessionUserId (str), ForumEvent (dict)))\n",
    "    .map(f)\n",
    ")\n",
    "\n",
    "print(rdd_forum_events_parsed.count())\n",
    "print(rdd_forum_events_parsed.take(1)[0])"
   ]
  },
  {
   "cell_type": "code",
   "execution_count": 9,
   "metadata": {
    "collapsed": false
   },
   "outputs": [
    {
     "name": "stdout",
     "output_type": "stream",
     "text": [
      "3519061\n",
      "{'SessionUserID': 'd8f79efa32a560b8a46ea2b12d9bed97c9e39b4b', 'Title': 'Functional Sets / Functional Sets', 'TimeStamp': 1366220878, 'EventSubType': 'Check', 'ProblemID': 6, 'ProblemType': 'Assignment', 'EventType': 'Problem', 'Grade': 9.32999992371}\n"
     ]
    }
   ],
   "source": [
    "# Concatenantes all three table into one big table\n",
    "rdd_events = (rdd_problem_events_parsed\n",
    "    .union(rdd_video_events_parsed)\n",
    "    .union(rdd_forum_events_parsed)\n",
    ")\n",
    "rdd_events.persist()\n",
    "print(rdd_events.count())\n",
    "print(rdd_events.first())"
   ]
  },
  {
   "cell_type": "markdown",
   "metadata": {},
   "source": [
    "# Meta data"
   ]
  },
  {
   "cell_type": "code",
   "execution_count": 10,
   "metadata": {
    "collapsed": false
   },
   "outputs": [
    {
     "name": "stdout",
     "output_type": "stream",
     "text": [
      "{   6: [35, 37, 39, 41, 43, 47, 49],\n",
      "    7: [3, 4, 5, 6, 7, 8, 33],\n",
      "    12: [51, 53, 75],\n",
      "    14: [71, 81, 85, 79, 87, 77],\n",
      "    17: [109, 105, 115, 107, 103, 113, 111],\n",
      "    20: [123, 117, 125, 121, 127, 119]}\n"
     ]
    }
   ],
   "source": [
    "LECTURES_PER_PROBLEM = {\n",
    "    7: [3,4,5,6,7,8,33], # Lecture 1\n",
    "    6: [35,37,39,41,43,47,49], # Lecture 2\n",
    "    12: [51,53,75], # Lecture 3\n",
    "    14: [71,81,85,79,87,77], # Lecture 4\n",
    "    17: [109,105,115,107,103,113,111], # Lecture 6\n",
    "    20: [123,117,125,121,127,119] # Lecture 7\n",
    "}\n",
    "pp.pprint(LECTURES_PER_PROBLEM)"
   ]
  },
  {
   "cell_type": "code",
   "execution_count": 11,
   "metadata": {
    "collapsed": false
   },
   "outputs": [
    {
     "name": "stdout",
     "output_type": "stream",
     "text": [
      "{51: 12, 3: 7, 4: 7, 49: 6, 6: 7, 7: 7, 8: 7, 119: 20, 77: 14, 79: 14, 43: 6, 75: 12, 85: 14, 87: 14, 39: 6, 71: 14, 111: 17, 81: 14, 5: 7, 33: 7, 35: 6, 37: 6, 103: 17, 105: 17, 107: 17, 109: 17, 47: 6, 113: 17, 53: 12, 115: 17, 117: 20, 41: 6, 121: 20, 123: 20, 125: 20, 127: 20}\n"
     ]
    }
   ],
   "source": [
    "PROBLEM_PER_LECTURE = {}\n",
    "for pb in LECTURES_PER_PROBLEM.keys():\n",
    "    for lc in LECTURES_PER_PROBLEM[pb]:\n",
    "        PROBLEM_PER_LECTURE[lc]=pb\n",
    "print(PROBLEM_PER_LECTURE)"
   ]
  },
  {
   "cell_type": "markdown",
   "metadata": {},
   "source": [
    "# Patterns from event sequences"
   ]
  },
  {
   "cell_type": "code",
   "execution_count": 12,
   "metadata": {
    "collapsed": false
   },
   "outputs": [
    {
     "name": "stdout",
     "output_type": "stream",
     "text": [
      "Number of students: 26989\n"
     ]
    }
   ],
   "source": [
    "rdd_events_by_students = (rdd_events\n",
    "    # INPUT: Event (dict)\n",
    "    .map(lambda x: (x['SessionUserID'],x))\n",
    "    # INPUT: (SessionUserId (str), Event (dict))\n",
    "    .groupByKey()\n",
    "    # INPUT: (SessionUserId (str), [ Event (dict), ... ])\n",
    "    .map(lambda x: (x[0],sorted(x[1], key=(lambda event: event['TimeStamp']))))\n",
    ")\n",
    "\n",
    "rdd_events_by_students.persist()\n",
    "print(\"Number of students: %d\" % rdd_events_by_students.count()) "
   ]
  },
  {
   "cell_type": "code",
   "execution_count": 13,
   "metadata": {
    "collapsed": false
   },
   "outputs": [
    {
     "data": {
      "text/plain": [
       "PythonRDD[34] at RDD at PythonRDD.scala:48"
      ]
     },
     "execution_count": 13,
     "metadata": {},
     "output_type": "execute_result"
    }
   ],
   "source": [
    "# INPUT: (SessionStudentId (str), [ Event (dict), ... ])\n",
    "def extractPatterns(x):\n",
    "    studentId = x[0]\n",
    "    events = x[1]\n",
    "    \n",
    "    patterns = {}\n",
    "    for problemID in LECTURES_PER_PROBLEM.keys():\n",
    "        patterns[problemID]=[]\n",
    "    \n",
    "    curProblem=-1\n",
    "    for event in events:\n",
    "        if event['EventType']=='Problem':\n",
    "            curProblem=event['ProblemID']\n",
    "            patterns[curProblem].append(event)\n",
    "        if event['EventType']=='Video':\n",
    "            if event['VideoID'] in PROBLEM_PER_LECTURE.keys():\n",
    "                curProblem=PROBLEM_PER_LECTURE[event['VideoID']]\n",
    "                patterns[curProblem].append(event)\n",
    "        if event['EventType']=='Forum':\n",
    "            if curProblem>0:\n",
    "                patterns[curProblem].append(event)\n",
    "                \n",
    "    return [ {\n",
    "        'studentId': studentId, \n",
    "        'problemId': problemID, \n",
    "        'pattern': patterns[problemID]\n",
    "    } for problemID in LECTURES_PER_PROBLEM.keys()]\n",
    "\n",
    "\n",
    "rdd_patterns = (rdd_events_by_students\n",
    "    # INPUT: (SessionStudentID (str), [ Event (dict), ... ] )\n",
    "    .flatMap(extractPatterns)\n",
    ")\n",
    "\n",
    "rdd_patterns.persist()"
   ]
  },
  {
   "cell_type": "code",
   "execution_count": 14,
   "metadata": {
    "collapsed": false,
    "scrolled": true
   },
   "outputs": [
    {
     "name": "stdout",
     "output_type": "stream",
     "text": [
      "865981d5b40a693bafbadae4b1df769be03a25c3 watched 8 videos\n",
      "17\t>>>  \n",
      "20\t>>>  \n",
      "6\t>>>  (V 35) (V 35) (V 35) (V 35) (V 35) (V 35) \n",
      "7\t>>>  (V 8) (V 3) (V 4) (V 5) (V 6) (V 7) (V 7) (V 33) \n",
      "12\t>>>  \n",
      "14\t>>>  \n",
      "\n",
      "3b305429f93de02637949578a5f9e23f13eb0726 did two problems\n",
      "17\t>>>  \n",
      "20\t>>>  \n",
      "6\t>>>  (P 6) \n",
      "7\t>>>  (P 7) \n",
      "12\t>>>  \n",
      "14\t>>>  \n",
      "\n",
      "295b3496278626b6d337812b1882b756336fd633 whatdup with this guy?\n",
      "17\t>>>  (V 103) (V 103) (V 103) (V 103) (V 103) (V 103) (V 103) (V 103) (V 105) (V 105) (V 105) (V 105) (V 105) (V 105) (V 107) (V 107) (V 107) (V 107) (V 107) (V 107) (V 107) (V 107) (V 109) (V 109) (V 109) (V 109) (V 109) (V 109) (V 109) (V 109) (V 109) (V 109) (V 109) (V 111) (V 111) (V 111) (V 111) (V 111) (V 111) (V 113) (V 113) (V 113) (V 113) (V 113) (V 113) (V 113) (V 113) (V 113) (V 113) (V 113) (V 113) (V 113) (V 113) (V 113) (V 113) (V 113) (V 113) (V 113) (V 113) (V 113) (V 113) (V 113) (V 113) (V 113) (V 113) (V 113) (V 113) (V 113) (V 113) (V 113) (V 113) (V 113) (V 113) (V 113) (V 113) (V 113) (V 113) (V 113) (V 113) (V 113) (V 113) (V 113) (V 113) (V 113) (V 113) (V 113) (V 113) (V 113) (V 113) (V 113) (V 113) (V 113) (V 113) (V 113) (V 113) (V 113) (V 113) (V 113) (V 113) (V 113) (V 113) (V 113) (V 113) (V 113) (V 113) (V 113) (V 113) (V 113) (V 113) (V 113) (V 113) (V 113) (V 113) (V 113) (V 113) (V 113) (V 113) (V 113) (V 113) (V 113) (V 113) (V 113) (V 113) (V 113) (V 113) (V 113) (V 113) (V 113) (V 113) (V 115) (V 115) (V 115) (V 115) (V 115) (V 115) (V 105) (V 107) (V 109) (V 111) (V 113) (P 17) (P 17) (V 103) \n",
      "20\t>>>  (V 121) (V 117) (V 117) (V 117) (V 117) (V 117) (V 117) (V 117) (V 119) (V 119) (V 119) (V 119) (V 119) (V 119) (V 119) (V 119) (V 119) (V 119) (V 119) (V 119) (V 119) (V 119) (V 119) (V 119) (V 119) (V 119) (V 119) (V 119) (V 119) (V 119) (V 119) (V 119) (V 119) (V 119) (V 119) (V 119) (V 119) (V 119) (V 119) (V 119) (V 119) (V 119) (V 119) (V 119) (V 119) (V 119) (V 119) (V 119) (V 119) (V 119) (V 119) (V 119) (V 119) (V 119) (V 119) (V 119) (V 119) (V 119) (V 119) (V 119) (V 119) (V 119) (V 119) (V 119) (V 119) (V 119) (V 119) (V 119) (V 119) (V 119) (V 119) (V 119) (V 119) (V 119) (V 119) (V 119) (V 119) (V 119) (V 119) (V 119) (V 119) (V 119) (V 119) (V 119) (V 119) (V 119) (V 119) (V 119) (V 119) (V 119) (V 119) (V 119) (V 119) (V 119) (V 119) (V 119) (V 119) (V 119) (V 119) (V 119) (V 119) (V 119) (V 119) (V 119) (V 119) (V 119) (V 119) (V 119) (V 119) (V 119) (V 119) (V 119) (V 119) (V 119) (V 119) (V 119) (V 119) (V 119) (V 119) (V 119) (V 119) (V 119) (V 119) (V 119) (V 119) (V 119) (V 119) (V 119) (V 119) (V 119) (V 119) (V 119) (V 119) (V 119) (V 119) (V 119) (V 119) (V 119) (V 119) (V 119) (V 119) (V 119) (V 119) (V 119) (V 119) (V 119) (V 119) (V 119) (V 119) (V 119) (V 119) (V 119) (V 119) (V 119) (V 119) (V 119) (V 119) (V 119) (V 119) (V 119) (V 119) (V 119) (V 119) (V 119) (V 119) (V 119) (V 119) (V 119) (V 119) (V 119) (V 119) (V 119) (V 119) (V 119) (V 119) (V 119) (V 119) (V 119) (V 119) (V 119) (V 121) (V 121) (V 121) (V 121) (V 121) (V 121) (V 121) (V 121) (V 121) (V 121) (V 121) (V 121) (V 121) (V 121) (V 121) (V 121) (V 121) (V 121) (V 121) (V 121) (V 121) (V 121) (V 121) (V 121) (V 121) (V 121) (V 121) (V 121) (V 121) (V 121) (V 121) (V 121) (V 121) (V 121) (V 121) (V 121) (V 121) (V 121) (V 121) (V 121) (V 121) (V 121) (V 121) (V 121) (V 121) (V 121) (V 121) (V 121) (V 121) (V 121) (V 121) (V 121) (V 121) (V 121) (V 121) (V 121) (V 121) (V 121) (V 121) (V 121) (V 121) (V 121) (V 121) (V 121) (V 121) (V 121) (V 121) (V 121) (V 121) (V 121) (V 121) (V 121) (V 121) (V 121) (V 121) (V 121) (V 121) (V 121) (V 121) (V 121) (V 121) (V 121) (V 121) (V 121) (V 121) (V 121) (V 121) (V 121) (V 121) (V 121) (V 121) (V 121) (V 121) (V 121) (V 121) (V 121) (V 121) (V 123) (V 123) (V 123) (V 123) (V 123) (V 123) (V 125) (V 125) (V 125) (V 125) (V 125) (V 125) (V 125) (V 125) (V 125) (V 125) (V 125) (V 125) (V 125) (V 125) (V 125) (V 125) (V 125) (V 125) (V 125) (V 125) (V 125) (V 125) (V 125) (V 125) (V 125) (V 125) (V 125) (V 125) (V 125) (V 125) (V 125) (V 125) (V 125) (V 125) (V 125) (V 125) (V 125) (V 125) (V 125) (V 125) (V 125) (V 125) (V 125) (V 125) (V 125) (V 125) (V 125) (V 125) (V 125) (V 125) (V 125) (V 125) (V 125) (V 125) (V 125) (V 125) (V 125) (V 125) (V 125) (V 125) (V 125) (V 125) (V 125) (V 125) (V 125) (V 125) (V 125) (V 125) (V 125) (V 125) (V 125) (V 125) (V 125) (V 125) (V 125) (V 125) (V 125) (P 20) (V 127) (V 117) (V 119) (V 121) (V 123) (V 125) (V 127) \n",
      "6\t>>>  (V 35) (V 37) (V 37) (V 37) (V 39) (V 41) (V 43) (V 47) (V 47) (V 49) (P 6) (V 35) (V 37) (V 39) (V 41) (V 43) (V 47) (V 49) \n",
      "7\t>>>  (V 8) (V 3) (V 3) (V 4) (V 5) (V 5) (V 6) (V 7) (V 33) (P 7) (V 8) (V 3) (V 4) (V 5) (V 6) (V 7) (V 33) \n",
      "12\t>>>  (V 51) (V 51) (V 51) (V 51) (V 51) (V 51) (V 51) (V 51) (V 51) (V 51) (V 51) (V 51) (V 51) (V 51) (V 53) (V 75) (P 12) (P 12) (V 51) (V 53) (V 75) \n",
      "14\t>>>  (V 79) (V 79) (V 77) (V 81) (V 85) (V 87) (V 71) (P 14) (P 14) (P 14) (P 14) (V 79) (V 77) (V 81) (V 85) (V 87) (V 71) \n",
      "\n",
      "67cdae6073d1089b695e2a615a01187586ad7ba6 normal student\n",
      "17\t>>>  (P 17) \n",
      "20\t>>>  (V 117) (V 119) (V 121) (V 123) (V 125) (V 127) (P 20) (F) (F) (F) (F) (F) (F) (F) (F) (F) (F) (F) (F) (F) (F) \n",
      "6\t>>>  (V 35) (V 37) (V 41) (P 6) (V 43) (V 47) (V 49) (V 39) (F) (F) \n",
      "7\t>>>  (V 8) (V 6) (V 7) (V 6) (V 3) (V 4) (V 5) (V 33) (V 6) (V 33) (P 7) \n",
      "12\t>>>  (V 51) (V 53) (V 75) (P 12) (P 12) (P 12) (P 12) \n",
      "14\t>>>  (V 79) (V 77) (V 81) (V 85) (V 85) (V 87) (V 87) (V 71) (V 71) (V 79) (V 77) (V 81) (V 85) (V 87) (P 14) \n",
      "\n",
      "6ea6949ca133acede360d3573f9d1168b3d70b51 very good student\n",
      "17\t>>>  (V 103) (V 105) (V 107) (V 109) (V 111) (V 113) (V 115) (F) (F) (F) (F) (F) (F) (F) (F) (P 17) (V 109) (V 111) (V 113) (V 107) \n",
      "20\t>>>  (V 117) (V 119) (V 121) (V 123) (V 125) (V 127) (V 125) (F) (F) (P 20) (F) (F) (V 125) (V 125) (P 20) (F) \n",
      "6\t>>>  (V 35) (V 35) (V 35) (V 35) (V 35) (V 35) (V 35) (V 35) (V 35) (V 35) (V 35) (V 35) (V 35) (V 35) (V 35) (V 35) (V 35) (V 35) (V 35) (V 35) (V 35) (V 35) (V 35) (V 35) (V 37) (V 37) (V 37) (V 37) (V 37) (V 37) (V 37) (V 37) (V 37) (V 37) (V 37) (V 37) (V 37) (V 39) (V 39) (V 39) (V 39) (V 39) (V 39) (V 39) (V 39) (V 41) (V 41) (V 41) (V 41) (V 43) (V 47) (V 49) (P 6) (P 6) (P 6) \n",
      "7\t>>>  (V 8) (V 3) (V 3) (V 4) (V 5) (V 5) (V 6) (V 6) (V 6) (V 6) (V 6) (V 6) (V 6) (V 6) (V 6) (V 6) (V 6) (V 6) (V 7) (V 7) (V 7) (V 7) (V 33) (V 33) (V 33) (V 33) (P 7) \n",
      "12\t>>>  (V 51) (V 51) (V 51) (V 51) (V 51) (V 51) (V 51) (V 53) (V 53) (V 53) (V 53) (V 53) (V 53) (V 53) (V 53) (V 53) (V 75) (V 75) (V 75) (V 75) (V 75) (V 75) (V 75) (V 75) (V 75) (V 75) (V 75) (V 75) (P 12) \n",
      "14\t>>>  (V 79) (V 77) (V 81) (V 85) (V 87) (V 71) (P 14) (P 14) (P 14) (P 14) (P 14) (P 14) (P 14) (P 14) (P 14) \n",
      "\n",
      "fb4c81b3df430d1f0fbb8d0ca3e470ac6bf92a2f the very best student\n",
      "17\t>>>  (V 103) (V 103) (V 103) (V 103) (V 103) (V 103) (V 103) (V 103) (V 103) (V 105) (V 105) (V 105) (V 105) (V 105) (V 105) (V 105) (V 105) (V 107) (V 107) (V 107) (V 107) (V 107) (V 107) (V 107) (V 107) (V 107) (V 107) (V 107) (V 107) (V 107) (V 107) (V 107) (V 107) (V 107) (V 107) (V 107) (V 107) (V 107) (V 107) (V 107) (V 109) (V 109) (V 109) (V 109) (V 109) (V 109) (V 111) (V 111) (V 111) (V 111) (V 111) (V 111) (V 111) (V 111) (V 111) (V 111) (V 113) (V 113) (V 113) (V 113) (V 115) (V 115) (V 115) (V 115) (V 115) (V 115) (P 17) (P 17) (P 17) (P 17) (P 17) (P 17) (F) (F) (F) (F) (F) (F) (F) (F) (F) (F) (F) (F) (F) (F) (F) (F) (F) (F) (F) (F) (F) (F) (F) (F) (F) (F) (F) (F) (F) (F) (F) (F) (F) (F) (F) (F) (F) (F) (F) (F) (F) (F) (F) (F) (F) (F) (F) (F) (F) (F) (F) (F) (F) (F) (F) (F) (F) (F) (F) (F) (F) (F) (F) (F) (F) (F) (F) (F) (F) (F) (F) (F) (F) (F) (F) (F) (F) (F) (F) (F) (F) (F) (F) (F) (F) (F) (F) (F) (F) (F) (F) (F) (F) (F) (F) (F) (F) (F) (F) (F) (F) (F) (F) (F) (F) (F) (F) (P 17) (P 17) \n",
      "20\t>>>  (V 117) (V 119) (V 121) (V 121) (V 123) (V 125) (V 127) (P 20) (P 20) (P 20) \n",
      "6\t>>>  (V 35) (V 35) (V 35) (V 35) (V 35) (V 35) (V 35) (V 35) (V 35) (V 35) (V 37) (V 37) (V 37) (V 37) (V 37) (V 37) (V 37) (V 37) (V 37) (V 37) (V 37) (V 37) (V 37) (V 37) (V 37) (V 37) (V 37) (V 37) (V 37) (V 37) (V 37) (V 39) (V 39) (V 39) (V 39) (V 39) (V 39) (V 39) (V 39) (V 39) (V 39) (V 39) (V 39) (V 39) (V 39) (V 41) (V 41) (V 41) (V 41) (V 41) (V 41) (V 41) (V 41) (V 41) (V 41) (V 41) (V 41) (V 43) (V 43) (V 43) (V 43) (V 43) (V 43) (V 43) (V 47) (V 47) (V 47) (V 47) (V 47) (V 47) (V 47) (V 47) (V 47) (V 47) (V 47) (V 47) (V 47) (V 47) (V 47) (V 47) (V 47) (V 47) (V 47) (V 49) (V 49) (V 49) (V 49) (V 49) (F) (F) (F) (F) (F) (P 6) (P 6) \n",
      "7\t>>>  (V 8) (V 8) (V 3) (V 4) (V 5) (V 4) (V 6) (V 7) (V 7) (V 7) (V 33) (P 7) (P 7) (P 7) (P 7) (F) (P 7) (P 7) (P 7) (F) (F) (F) (F) (F) (F) (F) (F) (F) (P 7) (F) (F) (F) (F) (F) (F) (F) (F) (F) (F) \n",
      "12\t>>>  (V 51) (V 51) (V 51) (V 51) (V 51) (V 51) (V 51) (V 51) (V 51) (V 51) (V 53) (V 53) (V 53) (V 53) (V 53) (V 53) (V 51) (V 51) (V 51) (V 51) (V 51) (V 51) (V 51) (V 51) (V 51) (V 51) (V 51) (V 51) (V 51) (V 51) (V 51) (V 51) (V 51) (V 51) (V 51) (V 51) (V 51) (V 53) (V 53) (V 53) (V 53) (V 75) (V 75) (V 75) (V 75) (V 75) (V 75) (V 75) (V 75) (P 12) (P 12) (P 12) (P 12) (P 12) (P 12) (F) (F) (F) (F) (P 12) (P 12) (P 12) (P 12) \n",
      "14\t>>>  (V 79) (V 79) (V 77) (V 81) (V 85) (V 87) (V 71) (V 71) (P 14) (P 14) (P 14) (P 14) (P 14) \n",
      "\n"
     ]
    }
   ],
   "source": [
    "def displayStudentsPatterns(rdd, students):\n",
    "    for student in students.keys():\n",
    "        print(student, students[student])\n",
    "        for item in rdd.filter(lambda x: x['studentId']==student).collect():\n",
    "            print(item['problemId'],end='\\t>>>  ')\n",
    "            for event in item['pattern']:\n",
    "                print(utils.eventToString(event), end=\" \")\n",
    "            print()\n",
    "        print()\n",
    "\n",
    "displayStudentsPatterns(rdd_patterns,TEST_STUDENTS)"
   ]
  },
  {
   "cell_type": "code",
   "execution_count": 15,
   "metadata": {
    "collapsed": false,
    "scrolled": false
   },
   "outputs": [],
   "source": [
    "import json\n",
    "import os\n",
    "from os import walk\n",
    "import shutil\n",
    "\n",
    "directory='data/spark/preprocessed'\n",
    "if os.path.exists(directory):\n",
    "    shutil.rmtree(directory)\n",
    "\n",
    "rdd_patterns.map(json.dumps).saveAsTextFile(directory)"
   ]
  },
  {
   "cell_type": "code",
   "execution_count": null,
   "metadata": {
    "collapsed": true
   },
   "outputs": [],
   "source": []
  }
 ],
 "metadata": {
  "anaconda-cloud": {},
  "kernelspec": {
   "display_name": "Python [conda root]",
   "language": "python",
   "name": "conda-root-py"
  },
  "language_info": {
   "codemirror_mode": {
    "name": "ipython",
    "version": 3
   },
   "file_extension": ".py",
   "mimetype": "text/x-python",
   "name": "python",
   "nbconvert_exporter": "python",
   "pygments_lexer": "ipython3",
   "version": "3.5.2"
  }
 },
 "nbformat": 4,
 "nbformat_minor": 0
}
