{
 "cells": [
  {
   "cell_type": "markdown",
   "metadata": {},
   "source": [
    "# ADA - Project"
   ]
  },
  {
   "cell_type": "markdown",
   "metadata": {},
   "source": [
    "# Getting started"
   ]
  },
  {
   "cell_type": "code",
   "execution_count": 1,
   "metadata": {
    "collapsed": false
   },
   "outputs": [],
   "source": [
    "from pyspark import SparkContext"
   ]
  },
  {
   "cell_type": "code",
   "execution_count": 2,
   "metadata": {
    "collapsed": false
   },
   "outputs": [
    {
     "data": {
      "text/plain": [
       "8"
      ]
     },
     "execution_count": 2,
     "metadata": {},
     "output_type": "execute_result"
    }
   ],
   "source": [
    "sc = SparkContext(\"local[*]\", \"ADA\")\n",
    "sc.defaultParallelism"
   ]
  },
  {
   "cell_type": "code",
   "execution_count": 3,
   "metadata": {
    "collapsed": false
   },
   "outputs": [
    {
     "data": {
      "text/plain": [
       "4950"
      ]
     },
     "execution_count": 3,
     "metadata": {},
     "output_type": "execute_result"
    }
   ],
   "source": [
    "data = sc.parallelize(range(100))\n",
    "data.sum()"
   ]
  },
  {
   "cell_type": "markdown",
   "metadata": {},
   "source": [
    "If you received 4950 as a result, your spark is working well :) Good job !"
   ]
  },
  {
   "cell_type": "markdown",
   "metadata": {},
   "source": [
    "# Other imports"
   ]
  },
  {
   "cell_type": "code",
   "execution_count": 4,
   "metadata": {
    "collapsed": false
   },
   "outputs": [],
   "source": [
    "import pandas as pd\n",
    "import random\n",
    "import numpy as np\n",
    "\n",
    "import matplotlib.pyplot as plt\n",
    "%matplotlib inline\n",
    "\n",
    "from sklearn.ensemble import RandomForestClassifier\n",
    "from sklearn.cluster import KMeans\n",
    "from sklearn import linear_model\n",
    "\n",
    "import pprint\n",
    "pp = pprint.PrettyPrinter(indent=4)"
   ]
  },
  {
   "cell_type": "markdown",
   "metadata": {},
   "source": [
    "# Configuration"
   ]
  },
  {
   "cell_type": "code",
   "execution_count": 5,
   "metadata": {
    "collapsed": true
   },
   "outputs": [],
   "source": [
    "config = {\n",
    "    \"session\":\"progfun-002\"\n",
    "}"
   ]
  },
  {
   "cell_type": "markdown",
   "metadata": {},
   "source": [
    "# Importing and parsing the data"
   ]
  },
  {
   "cell_type": "markdown",
   "metadata": {},
   "source": [
    "### Importing Event Data"
   ]
  },
  {
   "cell_type": "code",
   "execution_count": 6,
   "metadata": {
    "collapsed": false
   },
   "outputs": [
    {
     "name": "stdout",
     "output_type": "stream",
     "text": [
      "--- PROBLEM_EVENTS ---\n",
      "0 EventID / 1 ForumUserID / 2 MaximumSubmissions / 3 AccountUserID / 4 SubmissionNumber / 5 Grade / 6 TimeStamp / 7 DataPackageID / 8 ProblemID / 9 SoftCloseTime / 10 ProblemType / 11 HardCloseTime / 12 Platform / 13 OpenTime / 14 EventType / 15 Title / 16 SessionUserID / 17 UniqueProblemID / 18 UniqueUserID / \n",
      "\n",
      "--- VIDEO_EVENTS ---\n",
      "0 EventID / 1 ForumUserID / 2 OldTime / 3 AccountUserID / 4 CurrentTime / 5 SeekType / 6 TimeStamp / 7 DataPackageID / 8 UniqueRowID / 9 TableName / 10 VideoID / 11 Platform / 12 NewSpeed / 13 EventSource / 14 EventType / 15 SessionUserID / 16 NewTime / 17 OldSpeed / \n",
      "\n",
      "--- FORUM_EVENTS ---\n",
      "0 EventID / 1 ForumUserID / 2 PostID / 3 AccountUserID / 4 TimeStamp / 5 DataPackageID / 6 UniqueRowID / 7 TableName / 8 Platform / 9 EventSource / 10 PostType / 11 EventType / 12 JoinID / 13 SessionUserID / "
     ]
    }
   ],
   "source": [
    "# Reading csv files: Create RDD () with one string entry per line in the file\n",
    "rdd_problem_events = sc.textFile(\"data/\"+config['session']+\"_Problem_Events_with_Info.csv\")\n",
    "rdd_video_events = sc.textFile(\"data/\"+config['session']+\"_Video_Events.csv\")\n",
    "rdd_forum_events = sc.textFile(\"data/\"+config['session']+\"_Forum_Events.csv\")\n",
    "\n",
    "# Prints the first line (header) along with indices for each table\n",
    "print(\"--- PROBLEM_EVENTS ---\")\n",
    "for idx,field in enumerate(rdd_problem_events.first().split(\",\")): \n",
    "    print(idx,field, end=\" / \")\n",
    "\n",
    "print(\"\\n\\n--- VIDEO_EVENTS ---\")\n",
    "for idx,field in enumerate(rdd_video_events.first().split(\",\")): \n",
    "    print(idx,field, end=\" / \")\n",
    "\n",
    "print(\"\\n\\n--- FORUM_EVENTS ---\")\n",
    "for idx,field in enumerate(rdd_forum_events.first().split(\",\")): \n",
    "    print(idx,field, end=\" / \")"
   ]
  },
  {
   "cell_type": "code",
   "execution_count": 7,
   "metadata": {
    "collapsed": false
   },
   "outputs": [
    {
     "name": "stdout",
     "output_type": "stream",
     "text": [
      "3bcd1a54ed6ddb04b4a6fb2906110a01,None,0,None,7,None,1365344171,progfun-002,7,2147483640,Video,2147483640,Coursera,32400,Problem.Check,Lecture 1.2 - Elements of Programming (14:25),c4d4e5fcd2feba9f3234ee8d852dc7b22fbc07e4,f322944718b2ee0e53292118111533c7,21f13b3f6b50a83343b57d2f1d07dbdf \n",
      "\n",
      "db75adce6b87e7ab79242ea0af4b82d4,None,154.696,None,154.697,None,1372391638,progfun-002,00000078c0f0685cc50a25a8d5734a88,Video_Events,33,coursera,1.0,None,Video.Play,ef64fb7b096008f7eaf8441684afdf99af9af54a,None,1.0 \n",
      "\n",
      "f3fdb52859b2511308aee554a573194e,None,17,4108315,1376254235,progfun-002,000006c12322ca29c7013dac42ef1a6a,Forum_Events,coursera,None,Thread,Forum.Thread.View,03b1fa287de5ef57d9c8482195b5167f,None \n",
      "\n"
     ]
    }
   ],
   "source": [
    "# Use the filter method to remove the first line\n",
    "rdd_problem_events = rdd_problem_events.filter(lambda x: not x.startswith('EventID'))\n",
    "rdd_video_events = rdd_video_events.filter(lambda x: not x.startswith('EventID'))\n",
    "rdd_forum_events = rdd_forum_events.filter(lambda x: not x.startswith('EventID'))\n",
    "\n",
    "# Prints first record for each table\n",
    "print(rdd_problem_events.first(),\"\\n\") \n",
    "print(rdd_video_events.first(),\"\\n\") \n",
    "print(rdd_forum_events.first(),\"\\n\")"
   ]
  },
  {
   "cell_type": "code",
   "execution_count": 8,
   "metadata": {
    "collapsed": false
   },
   "outputs": [],
   "source": [
    "# Function to parse the string entries from previous dataset\n",
    "def parse_problems(x):\n",
    "    data = x.split(',')\n",
    "    return {\n",
    "        'Grade':float(data[5]),\n",
    "        'TimeStamp':int(data[6]),\n",
    "        'Date':pd.to_datetime(int(data[6]),unit='s'),\n",
    "        'ProblemID':int(data[8]),\n",
    "        'ProblemType':data[10],\n",
    "        'EventType':data[14].split('.')[0],\n",
    "        'EventSubType':data[14].split('.')[1],\n",
    "        'Title':data[15],\n",
    "        'SessionUserID':data[16]\n",
    "    }\n",
    "\n",
    "def parse_videos(x):\n",
    "    data = x.split(',')\n",
    "    return {\n",
    "        'TimeStamp':int(data[6]),\n",
    "        'Date':pd.to_datetime(int(data[6]),unit='s'),\n",
    "        'VideoID':int(data[10]),\n",
    "        'EventType':data[14].split('.')[0],\n",
    "        'EventSubType':data[14].split('.')[1],\n",
    "        'SessionUserID':data[15]\n",
    "    }\n",
    "\n",
    "def parse_forums(x):\n",
    "    data = x.split(',')\n",
    "    return {\n",
    "        'AccountUserID':data[3],\n",
    "        'TimeStamp':int(data[4]),\n",
    "        'Date':pd.to_datetime(int(data[4]),unit='s'),\n",
    "        'EventType':data[11].split('.')[0],\n",
    "        'EventSubType':data[11].split('.')[1]\n",
    "    }"
   ]
  },
  {
   "cell_type": "code",
   "execution_count": 9,
   "metadata": {
    "collapsed": false
   },
   "outputs": [],
   "source": [
    "# Function to filter the string entries from previous dataset\n",
    "def filter_problems(x):\n",
    "    data = x.split(',')\n",
    "    return (\n",
    "        # Some problem event are quiz inside video, we decide to not consider these\n",
    "        (data[10]=='Assignment')\n",
    "        # We remove IDs of assignments that have been used by the teaching staff for testing the platform\n",
    "        and (not data[8] in ['1','2','3','4','5'])\n",
    "        # Discard assignments with no grade\n",
    "        and (not data[5] in ['None'])\n",
    "    )\n",
    "\n",
    "def filter_videos(x):\n",
    "    data = x.split(',')\n",
    "    return (\n",
    "        # We remove video that do not belong to the MOOC lectures or ar just Setup videos\n",
    "        (data[10] not in ['9','12','11','10','13','2','29','25','21','27','23'])\n",
    "        # Keeps only \"Play\" EnventSubStype for videos (makes difference between opening the page or starting the video)\n",
    "        and (data[14].split('.')[1] in ['Play','Load'])\n",
    "    )\n",
    "\n",
    "def filter_forums(x):\n",
    "    data = x.split(',')\n",
    "    return (\n",
    "        True\n",
    "    )"
   ]
  },
  {
   "cell_type": "code",
   "execution_count": 10,
   "metadata": {
    "collapsed": false,
    "scrolled": false
   },
   "outputs": [
    {
     "name": "stdout",
     "output_type": "stream",
     "text": [
      "90325\n",
      "{'EventSubType': 'Check', 'Title': 'Functional Sets / Functional Sets', 'ProblemID': 6, 'SessionUserID': 'd8f79efa32a560b8a46ea2b12d9bed97c9e39b4b', 'TimeStamp': 1366220878, 'ProblemType': 'Assignment', 'Date': Timestamp('2013-04-17 17:47:58'), 'Grade': 9.32999992371, 'EventType': 'Problem'} \n",
      "\n",
      "1168226\n",
      "{'EventSubType': 'Play', 'SessionUserID': 'ef64fb7b096008f7eaf8441684afdf99af9af54a', 'TimeStamp': 1372391638, 'Date': Timestamp('2013-06-28 03:53:58'), 'VideoID': 33, 'EventType': 'Video'} \n",
      "\n",
      "297650\n",
      "{'EventSubType': 'Thread', 'TimeStamp': 1376254235, 'AccountUserID': '4108315', 'Date': Timestamp('2013-08-11 20:50:35'), 'EventType': 'Forum'} \n",
      "\n"
     ]
    }
   ],
   "source": [
    "# Use the map method to have more workable data\n",
    "rdd_problem_events_parsed = rdd_problem_events.filter(filter_problems).map(parse_problems)\n",
    "rdd_video_events_parsed = rdd_video_events.filter(filter_videos).map(parse_videos)\n",
    "rdd_forum_events_parsed = rdd_forum_events.filter(filter_forums).map(parse_forums)\n",
    "\n",
    "# Prints the count of elements along with the first element of each table\n",
    "print(rdd_problem_events_parsed.count())\n",
    "print(rdd_problem_events_parsed.first(),\"\\n\") \n",
    "print(rdd_video_events_parsed.count()) \n",
    "print(rdd_video_events_parsed.first(),\"\\n\") \n",
    "print(rdd_forum_events_parsed.count()) \n",
    "print(rdd_forum_events_parsed.first(),\"\\n\") "
   ]
  },
  {
   "cell_type": "code",
   "execution_count": 11,
   "metadata": {
    "collapsed": false
   },
   "outputs": [
    {
     "name": "stdout",
     "output_type": "stream",
     "text": [
      "ForumUserID,AccountUserID,DataPackageID,UniqueRowID,TableName,Platform,SessionUserID \n",
      "\n",
      "297650\n",
      "{'EventSubType': 'Thread', 'SessionUserID': '16e564ed1e9b7104acde8f075c26a1872695fb5e', 'TimeStamp': 1368130954, 'EventType': 'Forum', 'Date': Timestamp('2013-05-09 20:22:34'), 'AccountUserID': '2009208'}\n"
     ]
    }
   ],
   "source": [
    "# Handles issue with the forum events table having 'AccountUserID' instead of 'SessionUserID'\n",
    "# Using the table progfun-002_User_Hash_Mapping\n",
    "rdd_user_mapping = sc.textFile(\"data/\"+config['session']+\"_User_Hash_Mapping.csv\")\n",
    "print(rdd_user_mapping.take(1)[0],\"\\n\")\n",
    "\n",
    "def f(x):\n",
    "    x[1][1]['SessionUserID']=x[1][0] \n",
    "    return x[1][1]\n",
    "\n",
    "rdd_forum_events_parsed = (rdd_user_mapping\n",
    "    # removes header\n",
    "    .filter(lambda x: not x.startswith(\"ForumUserID\"))\n",
    "    # maps to have the format (Key=AccountUserID,Value=SessionUserID)\n",
    "    .map(lambda x:(x.split(\",\")[1],x.split(\",\")[6]))\n",
    "    # join with rdd_forum_event to get format (map to have the (Key=AccountUserID,Value=(SessionUserID,EventObject)) format)\n",
    "    .join(rdd_forum_events_parsed\n",
    "        # map to have the (Key=AccountUserID,Value=EventObject) format\n",
    "        .map(lambda x: (x['AccountUserID'],x))\n",
    "    )\n",
    "    # Use the function f to update EventObject with the joined SessionUserID\n",
    "    .map(f)\n",
    ")\n",
    "\n",
    "print(rdd_forum_events_parsed.count())\n",
    "print(rdd_forum_events_parsed.take(1)[0])"
   ]
  },
  {
   "cell_type": "code",
   "execution_count": 12,
   "metadata": {
    "collapsed": false
   },
   "outputs": [
    {
     "name": "stdout",
     "output_type": "stream",
     "text": [
      "1556201\n",
      "{'EventSubType': 'Check', 'Title': 'Functional Sets / Functional Sets', 'SessionUserID': 'd8f79efa32a560b8a46ea2b12d9bed97c9e39b4b', 'Date': Timestamp('2013-04-17 17:47:58'), 'TimeStamp': 1366220878, 'ProblemType': 'Assignment', 'Grade': 9.32999992371, 'ProblemID': 6, 'EventType': 'Problem'}\n"
     ]
    }
   ],
   "source": [
    "# Concatenantes all three table into one big table\n",
    "rdd_events = (rdd_problem_events_parsed\n",
    "    .union(rdd_video_events_parsed)\n",
    "    .union(rdd_forum_events_parsed)\n",
    ")\n",
    "rdd_events.persist()\n",
    "print(rdd_events.count())\n",
    "print(rdd_events.take(1)[0])"
   ]
  },
  {
   "cell_type": "markdown",
   "metadata": {},
   "source": [
    "### Importing meta data\n",
    "The goal is to have the table linking VideoIDs to corresponding ProblemIDs"
   ]
  },
  {
   "cell_type": "code",
   "execution_count": 13,
   "metadata": {
    "collapsed": false
   },
   "outputs": [],
   "source": [
    "assignments = sorted((rdd_problem_events_parsed\n",
    "    .map(lambda x: (x['ProblemID'],x['Title']))\n",
    "    .distinct()\n",
    "    .collect()\n",
    "),key=(lambda x: x[0]))"
   ]
  },
  {
   "cell_type": "code",
   "execution_count": 14,
   "metadata": {
    "collapsed": false,
    "scrolled": false
   },
   "outputs": [],
   "source": [
    "rdd_video_info = sc.textFile(\"data/\"+config['session']+\"_Video_Info.csv\")\n",
    "videos = sorted((rdd_video_info\n",
    "    .map(lambda x: x.split(','))\n",
    "    .filter(lambda x: not x[1] in ['None', 'OpenTime'] )\n",
    "    .map(lambda x: (int(x[7]),x[2]))\n",
    "    .collect()\n",
    "),key=(lambda x: x[0]))"
   ]
  },
  {
   "cell_type": "code",
   "execution_count": 15,
   "metadata": {
    "collapsed": false
   },
   "outputs": [
    {
     "data": {
      "text/plain": [
       "{6: [35, 37, 39, 41, 43, 47, 49],\n",
       " 7: [3, 4, 5, 6, 7, 8, 33],\n",
       " 12: [51, 53, 75],\n",
       " 14: [71, 81, 85, 79, 87, 77],\n",
       " 17: [109, 105, 115, 107, 103, 113, 111],\n",
       " 20: [123, 117, 125, 121, 127, 119]}"
      ]
     },
     "execution_count": 15,
     "metadata": {},
     "output_type": "execute_result"
    }
   ],
   "source": [
    "# Made by hand... so painful\n",
    "LECTURES_PER_PROBLEM = {\n",
    "    7: [3,4,5,6,7,8,33], # Lecture 1\n",
    "    6: [35,37,39,41,43,47,49], # Lecture 2\n",
    "    12: [51,53,75], # Lecture 3\n",
    "    14: [71,81,85,79,87,77], # Lecture 4\n",
    "    17: [109,105,115,107,103,113,111], # Lecture 6\n",
    "    20: [123,117,125,121,127,119] # Lecture 7\n",
    "}\n",
    "LECTURES_PER_PROBLEM"
   ]
  },
  {
   "cell_type": "code",
   "execution_count": 16,
   "metadata": {
    "collapsed": false
   },
   "outputs": [
    {
     "name": "stdout",
     "output_type": "stream",
     "text": [
      "{51: 12, 3: 7, 4: 7, 49: 6, 6: 7, 7: 7, 8: 7, 119: 20, 77: 14, 79: 14, 43: 6, 75: 12, 85: 14, 87: 14, 39: 6, 71: 14, 111: 17, 81: 14, 5: 7, 33: 7, 35: 6, 37: 6, 103: 17, 105: 17, 107: 17, 109: 17, 47: 6, 113: 17, 53: 12, 115: 17, 117: 20, 41: 6, 121: 20, 123: 20, 125: 20, 127: 20}\n"
     ]
    }
   ],
   "source": [
    "PROBLEM_PER_LECTURE = {}\n",
    "for pb in LECTURES_PER_PROBLEM.keys():\n",
    "    for lc in LECTURES_PER_PROBLEM[pb]:\n",
    "        PROBLEM_PER_LECTURE[lc]=pb\n",
    "print(PROBLEM_PER_LECTURE)"
   ]
  },
  {
   "cell_type": "markdown",
   "metadata": {},
   "source": [
    "# Working the data"
   ]
  },
  {
   "cell_type": "markdown",
   "metadata": {},
   "source": [
    "### Grouping & Sorting"
   ]
  },
  {
   "cell_type": "code",
   "execution_count": 17,
   "metadata": {
    "collapsed": false
   },
   "outputs": [
    {
     "name": "stdout",
     "output_type": "stream",
     "text": [
      "Number of students: 24626\n"
     ]
    }
   ],
   "source": [
    "# uses the function groupByKey on our events with the key 'SessionStudentID'\n",
    "rdd_events_by_students = (rdd_events\n",
    "    .map(lambda x: (x['SessionUserID'],x))\n",
    "    # Groups the list of event by student\n",
    "    .groupByKey()\n",
    "    # Sorts each student sequence by the timestamp\n",
    "    .map(lambda x: (x[0],sorted(x[1], key=(lambda event: event['TimeStamp']))))\n",
    ")\n",
    "rdd_events_by_students.persist()\n",
    "print(\"Number of students: %d\" % rdd_events_by_students.count()) "
   ]
  },
  {
   "cell_type": "code",
   "execution_count": 18,
   "metadata": {
    "collapsed": false
   },
   "outputs": [],
   "source": [
    "# Function to have a friendly way to print the events\n",
    "def eventToString(event):\n",
    "    return {\n",
    "        \"Problem\": lambda x: \"(P \"+str(event['ProblemID'])+\")\",\n",
    "        \"Video\": lambda x: \"(V \"+str(event['VideoID'])+\")\",\n",
    "        \"Forum\": lambda x: \"(F)\"\n",
    "    }[event['EventType']](event)"
   ]
  },
  {
   "cell_type": "code",
   "execution_count": 19,
   "metadata": {
    "collapsed": true
   },
   "outputs": [],
   "source": [
    "TEST_STUDENTS={\n",
    "    '6ea6949ca133acede360d3573f9d1168b3d70b51':'very good student',\n",
    "    '3b305429f93de02637949578a5f9e23f13eb0726':'did two problems',\n",
    "    '865981d5b40a693bafbadae4b1df769be03a25c3':'watched 8 videos',\n",
    "    '67cdae6073d1089b695e2a615a01187586ad7ba6':'normal student',\n",
    "    'fb4c81b3df430d1f0fbb8d0ca3e470ac6bf92a2f':'the very best student',\n",
    "    '295b3496278626b6d337812b1882b756336fd633':'whatdup with this guy?'\n",
    "}"
   ]
  },
  {
   "cell_type": "code",
   "execution_count": 20,
   "metadata": {
    "collapsed": false,
    "scrolled": false
   },
   "outputs": [
    {
     "name": "stdout",
     "output_type": "stream",
     "text": [
      "\n",
      " 6ea6949ca133acede360d3573f9d1168b3d70b51 : very good student\n",
      "(V 8) (V 3) (V 3) (V 4) (V 5) (V 5) (V 6) (V 6) (V 6) (V 6) (V 6) (V 6) (V 7) (V 7) (V 7) (V 33) (V 33) (V 33) (P 7) (V 35) (V 35) (V 35) (V 35) (V 35) (V 35) (V 35) (V 35) (V 35) (V 35) (V 35) (V 35) (V 37) (V 37) (V 37) (V 37) (V 37) (V 37) (V 37) (V 37) (V 39) (V 39) (V 39) (V 41) (V 41) (V 43) (V 47) (V 49) (P 6) (P 6) (P 6) (V 51) (V 51) (V 51) (V 53) (V 53) (V 53) (V 75) (V 75) (V 75) (V 75) (P 12) (V 79) (V 77) (V 81) (V 83) (V 85) (V 87) (V 71) (P 14) (P 14) (V 73) (V 89) (V 91) (V 93) (V 95) (V 95) (V 97) (V 101) (P 14) (P 14) (P 14) (P 14) (P 14) (P 14) (P 14) (V 103) (V 105) (V 107) (V 109) (V 111) (V 113) (V 115) (F) (F) (F) (F) (F) (F) (F) (F) (P 17) (V 109) (V 111) (V 113) (V 107) (V 117) (V 119) (V 121) (V 123) (V 125) (V 127) (V 125) (F) (F) (P 20) (F) (F) (V 125) (V 125) (P 20) (F) \n",
      "\n",
      " 865981d5b40a693bafbadae4b1df769be03a25c3 : watched 8 videos\n",
      "(V 8) (V 3) (V 4) (V 5) (V 6) (V 7) (V 7) (V 33) (V 35) (V 35) (V 35) (V 35) \n",
      "\n",
      " 3b305429f93de02637949578a5f9e23f13eb0726 : did two problems\n",
      "(P 7) (P 6) \n",
      "\n",
      " fb4c81b3df430d1f0fbb8d0ca3e470ac6bf92a2f : the very best student\n",
      "(V 8) (V 8) (V 3) (V 4) (V 5) (V 4) (V 6) (V 7) (V 7) (V 7) (V 33) (P 7) (V 35) (V 35) (V 35) (V 35) (V 37) (V 37) (V 37) (V 39) (V 39) (V 39) (V 39) (V 41) (V 41) (V 43) (V 43) (V 47) (V 47) (V 47) (V 47) (V 47) (V 47) (V 49) (V 49) (F) (F) (F) (F) (F) (P 7) (P 7) (P 7) (F) (P 7) (P 7) (P 6) (P 6) (V 51) (V 51) (V 53) (V 53) (V 53) (V 53) (V 51) (V 51) (V 51) (V 51) (V 51) (V 51) (V 51) (V 51) (V 53) (V 53) (V 75) (V 75) (P 12) (P 12) (P 12) (P 12) (P 12) (P 12) (F) (F) (F) (F) (V 79) (V 79) (V 77) (V 81) (V 83) (V 85) (V 87) (V 71) (V 71) (P 12) (P 12) (P 12) (P 12) (V 73) (V 73) (V 73) (P 14) (P 14) (P 14) (P 14) (V 73) (V 89) (V 91) (V 91) (V 93) (V 95) (V 97) (V 101) (P 14) (V 103) (V 103) (V 105) (V 105) (V 107) (V 107) (V 107) (V 107) (V 107) (V 107) (V 109) (V 109) (V 111) (V 111) (V 111) (V 111) (V 113) (V 113) (V 115) (V 115) (V 117) (V 119) (V 121) (V 121) (V 123) (P 17) (P 17) (V 125) (V 127) (P 17) (P 20) (P 20) (P 20) (P 17) (P 17) (P 17) (F) (F) (F) (F) (F) (F) (F) (F) (F) (F) (F) (F) (F) (F) (F) (F) (F) (F) (F) (F) (F) (F) (F) (F) (F) (F) (F) (F) (F) (F) (F) (F) (F) (F) (F) (F) (F) (F) (F) (F) (F) (F) (F) (F) (F) (F) (F) (F) (F) (F) (F) (F) (F) (F) (F) (F) (F) (F) (F) (F) (F) (F) (F) (F) (F) (F) (F) (F) (F) (F) (F) (F) (F) (F) (F) (F) (F) (F) (F) (F) (F) (F) (F) (F) (F) (F) (F) (F) (F) (F) (F) (F) (F) (F) (F) (F) (F) (F) (F) (F) (F) (F) (F) (F) (F) (F) (F) (P 7) (F) (F) (F) (F) (F) (F) (F) (F) (F) (P 7) (F) (F) (F) (F) (F) (F) (F) (F) (F) (F) (P 17) (P 17) \n",
      "\n",
      " 295b3496278626b6d337812b1882b756336fd633 : whatdup with this guy?\n",
      "(V 8) (V 3) (V 3) (V 4) (V 5) (V 5) (V 6) (V 7) (V 33) (P 7) (V 35) (V 37) (V 39) (V 41) (V 43) (V 47) (V 47) (V 49) (P 6) (V 51) (V 51) (V 51) (V 51) (V 51) (V 53) (V 75) (P 12) (P 12) (V 79) (V 79) (V 77) (V 81) (V 83) (V 83) (V 85) (V 87) (V 71) (P 14) (P 14) (P 14) (P 14) (V 73) (V 73) (V 73) (V 73) (V 73) (V 73) (V 73) (V 89) (V 89) (V 89) (V 91) (V 91) (V 91) (V 93) (V 93) (V 93) (V 93) (V 93) (V 93) (V 93) (V 93) (V 93) (V 95) (V 95) (V 95) (V 95) (V 97) (V 97) (V 97) (V 101) (V 101) (V 101) (V 103) (V 103) (V 103) (V 105) (V 105) (V 105) (V 107) (V 107) (V 107) (V 107) (V 109) (V 109) (V 109) (V 109) (V 111) (V 111) (V 111) (V 113) (V 113) (V 113) (V 113) (V 113) (V 113) (V 113) (V 115) (V 115) (V 121) (P 17) (P 17) (V 117) (V 117) (V 117) (V 117) (V 119) (V 119) (V 119) (V 119) (V 119) (V 119) (V 119) (V 119) (V 119) (V 119) (V 119) (V 119) (V 119) (V 119) (V 119) (V 119) (V 119) (V 119) (V 119) (V 119) (V 121) (V 121) (V 121) (V 121) (V 121) (V 121) (V 123) (V 123) (V 123) (V 125) (V 125) (V 125) (V 125) (P 20) (V 127) \n",
      "\n",
      " 67cdae6073d1089b695e2a615a01187586ad7ba6 : normal student\n",
      "(V 8) (V 6) (V 7) (V 6) (V 3) (V 4) (V 5) (V 33) (V 6) (V 33) (P 7) (V 35) (V 37) (V 41) (P 6) (V 43) (V 47) (V 49) (V 39) (F) (F) (V 51) (V 53) (V 75) (P 12) (P 12) (V 79) (V 77) (V 81) (V 83) (V 83) (V 85) (V 87) (V 87) (V 71) (P 14) (P 12) (P 12) (P 17) (P 20) (F) (F) (F) (F) (F) (F) (F) (F) (F) (F) (F) (F) (F) (F) \n"
     ]
    }
   ],
   "source": [
    "# Looks at the data for a few students\n",
    "for studentID,events in rdd_events_by_students.filter(lambda x: x[0] in TEST_STUDENTS.keys()).collect():\n",
    "    print('\\n',studentID,':',TEST_STUDENTS[studentID])\n",
    "    for event in events:\n",
    "        print(eventToString(event), end=\" \")\n",
    "    print()"
   ]
  },
  {
   "cell_type": "markdown",
   "metadata": {},
   "source": [
    "## Extracting learning patterns\n",
    "The goal is to extract what a students does between a failed attempt at an assignment and a successful attempt"
   ]
  },
  {
   "cell_type": "code",
   "execution_count": 21,
   "metadata": {
    "collapsed": false
   },
   "outputs": [],
   "source": [
    "# The goal is to extract the list corresponding to each Problem\n",
    "def extractPatterns(events):\n",
    "    patterns = {}\n",
    "    for problemID in LECTURES_PER_PROBLEM.keys():\n",
    "        patterns[problemID]=[]\n",
    "    # for each problem measure first and last entry\n",
    "    for event in events:\n",
    "        if event['EventType']=='Problem':\n",
    "            patterns[event['ProblemID']].append(event)\n",
    "        if event['EventType']=='Video':\n",
    "            if event['VideoID'] in PROBLEM_PER_LECTURE.keys():\n",
    "                patterns[PROBLEM_PER_LECTURE[event['VideoID']]].append(event)\n",
    "    return patterns\n",
    "    "
   ]
  },
  {
   "cell_type": "code",
   "execution_count": 22,
   "metadata": {
    "collapsed": true
   },
   "outputs": [],
   "source": [
    "# The goal is to concatenate small sub events into one big event\n",
    "# For example Play/Pause/Play/Pause/Play/Pause on a video counts as only a Video event\n",
    "def eventConcat(events):\n",
    "    if len(events)<2:\n",
    "        return events\n",
    "    res=[events[0]]\n",
    "    for event in events[1:]:\n",
    "        if (\n",
    "            event['EventType']!=res[-1]['EventType'] \n",
    "            or event.get('VideoID',None)!=res[-1].get('VideoID',None)\n",
    "            or event['EventType']=='Problem'\n",
    "        ):\n",
    "            res.append(event)\n",
    "    return res\n",
    "\n",
    "def patternsConcat(patterns):\n",
    "    res = {}\n",
    "    for pattern in patterns.keys():\n",
    "        res[pattern]=eventConcat(patterns[pattern])\n",
    "    return res"
   ]
  },
  {
   "cell_type": "code",
   "execution_count": 23,
   "metadata": {
    "collapsed": false,
    "scrolled": false
   },
   "outputs": [
    {
     "name": "stdout",
     "output_type": "stream",
     "text": [
      "6ea6949ca133acede360d3573f9d1168b3d70b51 very good student\n",
      "6\t>>>  (V 35) (V 37) (V 39) (V 41) (V 43) (V 47) (V 49) (P 6) (P 6) (P 6) \n",
      "7\t>>>  (V 8) (V 3) (V 4) (V 5) (V 6) (V 7) (V 33) (P 7) \n",
      "12\t>>>  (V 51) (V 53) (V 75) (P 12) \n",
      "14\t>>>  (V 79) (V 77) (V 81) (V 85) (V 87) (V 71) (P 14) (P 14) (P 14) (P 14) (P 14) (P 14) (P 14) (P 14) (P 14) \n",
      "17\t>>>  (V 103) (V 105) (V 107) (V 109) (V 111) (V 113) (V 115) (P 17) (V 109) (V 111) (V 113) (V 107) \n",
      "20\t>>>  (V 117) (V 119) (V 121) (V 123) (V 125) (V 127) (V 125) (P 20) (V 125) (P 20) \n",
      "\n",
      "865981d5b40a693bafbadae4b1df769be03a25c3 watched 8 videos\n",
      "6\t>>>  (V 35) \n",
      "7\t>>>  (V 8) (V 3) (V 4) (V 5) (V 6) (V 7) (V 33) \n",
      "12\t>>>  \n",
      "14\t>>>  \n",
      "17\t>>>  \n",
      "20\t>>>  \n",
      "\n",
      "3b305429f93de02637949578a5f9e23f13eb0726 did two problems\n",
      "6\t>>>  (P 6) \n",
      "7\t>>>  (P 7) \n",
      "12\t>>>  \n",
      "14\t>>>  \n",
      "17\t>>>  \n",
      "20\t>>>  \n",
      "\n",
      "fb4c81b3df430d1f0fbb8d0ca3e470ac6bf92a2f the very best student\n",
      "6\t>>>  (V 35) (V 37) (V 39) (V 41) (V 43) (V 47) (V 49) (P 6) (P 6) \n",
      "7\t>>>  (V 8) (V 3) (V 4) (V 5) (V 4) (V 6) (V 7) (V 33) (P 7) (P 7) (P 7) (P 7) (P 7) (P 7) (P 7) (P 7) \n",
      "12\t>>>  (V 51) (V 53) (V 51) (V 53) (V 75) (P 12) (P 12) (P 12) (P 12) (P 12) (P 12) (P 12) (P 12) (P 12) (P 12) \n",
      "14\t>>>  (V 79) (V 77) (V 81) (V 85) (V 87) (V 71) (P 14) (P 14) (P 14) (P 14) (P 14) \n",
      "17\t>>>  (V 103) (V 105) (V 107) (V 109) (V 111) (V 113) (V 115) (P 17) (P 17) (P 17) (P 17) (P 17) (P 17) (P 17) (P 17) \n",
      "20\t>>>  (V 117) (V 119) (V 121) (V 123) (V 125) (V 127) (P 20) (P 20) (P 20) \n",
      "\n",
      "295b3496278626b6d337812b1882b756336fd633 whatdup with this guy?\n",
      "6\t>>>  (V 35) (V 37) (V 39) (V 41) (V 43) (V 47) (V 49) (P 6) \n",
      "7\t>>>  (V 8) (V 3) (V 4) (V 5) (V 6) (V 7) (V 33) (P 7) \n",
      "12\t>>>  (V 51) (V 53) (V 75) (P 12) (P 12) \n",
      "14\t>>>  (V 79) (V 77) (V 81) (V 85) (V 87) (V 71) (P 14) (P 14) (P 14) (P 14) \n",
      "17\t>>>  (V 103) (V 105) (V 107) (V 109) (V 111) (V 113) (V 115) (P 17) (P 17) \n",
      "20\t>>>  (V 121) (V 117) (V 119) (V 121) (V 123) (V 125) (P 20) (V 127) \n",
      "\n",
      "67cdae6073d1089b695e2a615a01187586ad7ba6 normal student\n",
      "6\t>>>  (V 35) (V 37) (V 41) (P 6) (V 43) (V 47) (V 49) (V 39) \n",
      "7\t>>>  (V 8) (V 6) (V 7) (V 6) (V 3) (V 4) (V 5) (V 33) (V 6) (V 33) (P 7) \n",
      "12\t>>>  (V 51) (V 53) (V 75) (P 12) (P 12) (P 12) (P 12) \n",
      "14\t>>>  (V 79) (V 77) (V 81) (V 85) (V 87) (V 71) (P 14) \n",
      "17\t>>>  (P 17) \n",
      "20\t>>>  (P 20) \n",
      "\n"
     ]
    }
   ],
   "source": [
    "rdd_events_by_students_extract = (rdd_events_by_students\n",
    "    # x = (studentID,eventList)\n",
    "    .map(lambda x: (x[0],extractPatterns(x[1])))\n",
    "    # x = (studentID,{problemID:pattern,...})\n",
    "    .map(lambda x: (x[0],patternsConcat(x[1])))\n",
    ")\n",
    "\n",
    "rdd_events_by_students_extract.persist()\n",
    "\n",
    "# Looks at the data for a student, now that it's sorted by TimeStamps\n",
    "def displayStudentsPatterns(rdd,students):\n",
    "    for studentID,patterns in rdd.filter(lambda x:x[0] in students.keys()).collect():\n",
    "        print(studentID, students[studentID])\n",
    "        for pb in sorted(patterns.keys()):\n",
    "            print(pb,end='\\t>>>  ')\n",
    "            for event in patterns[pb]:\n",
    "                print(eventToString(event), end=\" \")\n",
    "            print()\n",
    "        print()\n",
    "\n",
    "displayStudentsPatterns(rdd_events_by_students_extract,TEST_STUDENTS)"
   ]
  },
  {
   "cell_type": "code",
   "execution_count": 24,
   "metadata": {
    "collapsed": false,
    "scrolled": false
   },
   "outputs": [
    {
     "name": "stdout",
     "output_type": "stream",
     "text": [
      "VVVVVVVVVVVP\n",
      "VVVVVVVP\n",
      "VVVP\n",
      "VVVVP\n",
      "VVVVPP\n",
      "PP\n",
      "P\n",
      "VVVVP\n",
      "VVVVVVVP\n",
      "VVVVVVVP\n"
     ]
    }
   ],
   "source": [
    "def eventToString(event,verbosity):\n",
    "    if verbosity == 'minimal':\n",
    "        out = {\n",
    "            \"Problem\": lambda x:\"P\",\n",
    "            \"Video\": lambda x:\"V\",\n",
    "            \"Forum\": lambda x:\"F\",\n",
    "        }\n",
    "    if verbosity == 'normal':\n",
    "        out = {\n",
    "            \"Problem\": lambda x:\"P\"+str(x['ProblemID']),\n",
    "            \"Video\": lambda x:\"V\"+str(x['VideoID']),\n",
    "            \"Forum\": lambda x:\"F\",\n",
    "        }\n",
    "    if verbosity == 'dates':\n",
    "        out = {\n",
    "            \"Problem\": lambda x:\"P\"+str(x['ProblemID'])+\".\"+str(x['Date']),\n",
    "            \"Video\": lambda x:\"V\"+str(x['VideoID'])+\".\"+str(x['Date']),\n",
    "            \"Forum\": lambda x:\"F\"+\".\"+str(x['Date']),\n",
    "        }\n",
    "    return out[event['EventType']](event)\n",
    "\n",
    "def patternToString(pattern,verbosity):\n",
    "    link = \"\" if verbosity == 'minimal' else \"-\" if verbosity == 'normal' else '\\n-> '\n",
    "    return link.join([eventToString(event,verbosity) for event in pattern])\n",
    "\n",
    "def containsProblem(pattern):\n",
    "    return 'P' in patternToString(pattern,'minimal')\n",
    "\n",
    "def getFirstProblem(pattern):\n",
    "    indexOfFirstProblem = patternToString(pattern,'minimal').find('P')\n",
    "    return pattern[indexOfFirstProblem]\n",
    "\n",
    "def getLastProblem(pattern):\n",
    "    return pattern[-1]\n",
    "\n",
    "def getBeforeLastProblem(pattern):\n",
    "    indexOfLastProblem = patternToString(pattern,'minimal').rfind('P')\n",
    "    return pattern[:(indexOfLastProblem+1)]\n",
    "\n",
    "def getBeforeFirstProblem(pattern):\n",
    "    indexOfFirstProblem = patternToString(pattern,'minimal').find('P')\n",
    "    return pattern[:indexOfFirstProblem]\n",
    "\n",
    "def getAfterFirstProblem(pattern):\n",
    "    indexOfFirstProblem = patternToString(pattern,'minimal').find('P')\n",
    "    return pattern[indexOfFirstProblem:]\n",
    "\n",
    "# Uses the method flatMap on the students patterns table to have a table of all the patterns\n",
    "rdd_patterns = (rdd_events_by_students_extract\n",
    "    # x = (studentID,{problemID:pattern,...})\n",
    "    .flatMap(lambda x: [\n",
    "        (pb,x[1][pb]) for pb in x[1].keys() \n",
    "    ])\n",
    "    # x = (problemID,pattern)\n",
    "    .filter(lambda x: containsProblem(x[1]))\n",
    "    # x = (problemID,pattern)\n",
    "    .map(lambda x: (x[0],getBeforeLastProblem(x[1])))\n",
    ")\n",
    "\n",
    "rdd_patterns.persist()\n",
    "for pattern in rdd_patterns.map(lambda x: patternToString(x[1],'minimal')).take(10):\n",
    "    print (pattern)"
   ]
  },
  {
   "cell_type": "code",
   "execution_count": 25,
   "metadata": {
    "collapsed": false,
    "scrolled": false
   },
   "outputs": [
    {
     "name": "stdout",
     "output_type": "stream",
     "text": [
      "problem 6\n",
      "pattern\n",
      "-> V35.2013-04-04 11:47:32\n",
      "-> V37.2013-04-04 12:42:22\n",
      "-> V39.2013-04-04 14:09:38\n",
      "-> V41.2013-04-04 14:21:10\n",
      "-> V43.2013-04-04 14:22:07\n",
      "-> V35.2013-04-14 12:20:06\n",
      "-> V41.2013-04-14 12:22:23\n",
      "-> V43.2013-04-14 12:22:59\n",
      "-> V47.2013-04-14 13:01:38\n",
      "-> V49.2013-04-14 13:20:42\n",
      "-> V37.2013-04-14 13:23:53\n",
      "-> P6.2013-04-14 14:07:01\n",
      "{   'firstProblemGrade': 10.0,\n",
      "    'increaseGradeFromFirstToLastProblem': 0.0,\n",
      "    'lastProblemGrade': 10.0,\n",
      "    'percentageImprovedBetweenFirstAndLastProblem': 0.0,\n",
      "    'proportionOfProblemEvents': 0.08333333333333333,\n",
      "    'repeatedVideoBeforeFirstProblem': 1.0,\n",
      "    'timeBetweenFirstAndLastProblem': 0.0,\n",
      "    'timeBetweenStartAndFirstProblem': 10.096863425925926,\n",
      "    'timeBetweenStartAndLastProblem': 10.096863425925926,\n",
      "    'totalNumberOfProblemSubmissions': 1,\n",
      "    'totalNumberOfVideoWatched': 11,\n",
      "    'watchedAllVideosBeforeFirstProblem': 1.0,\n",
      "    'watchedSomeVideoAfterFirstProblem': 0.0}\n",
      "\n"
     ]
    }
   ],
   "source": [
    "def getFeatures(problem, pattern):\n",
    "    features = {}\n",
    "    \n",
    "    videoBeforeFirstProblem = [video['VideoID'] for video in getBeforeFirstProblem(pattern)]\n",
    "    value = 0. if False in [(videoID in videoBeforeFirstProblem) for videoID in LECTURES_PER_PROBLEM[problem]] else 1. \n",
    "    features['watchedAllVideosBeforeFirstProblem'] = value\n",
    "\n",
    "    value = 1. if len(videoBeforeFirstProblem) != len(set(videoBeforeFirstProblem)) else 0.\n",
    "    features['repeatedVideoBeforeFirstProblem'] = value\n",
    "\n",
    "    value = sum([event['EventType']=='Video' for event in pattern])\n",
    "    features['totalNumberOfVideoWatched'] = value\n",
    "\n",
    "    value = sum([event['EventType']=='Problem' for event in pattern])\n",
    "    features['totalNumberOfProblemSubmissions'] = value \n",
    "            \n",
    "    value = 1. if [v for v in getAfterFirstProblem(pattern) if v['EventType']=='Video'] else 0.\n",
    "    features['watchedSomeVideoAfterFirstProblem'] = value\n",
    "\n",
    "    firstProblem = getFirstProblem(pattern)\n",
    "    value = 1. if pattern[-1]['Grade'] > firstProblem['Grade'] else 0.\n",
    "    features['increaseGradeFromFirstToLastProblem'] = value\n",
    "\n",
    "    value = sum([event['EventType']=='Problem' for event in pattern])/len(pattern)\n",
    "    features['proportionOfProblemEvents'] = value\n",
    "    \n",
    "    value = firstProblem['TimeStamp'] - pattern[0]['TimeStamp']\n",
    "    features['timeBetweenStartAndFirstProblem'] = value / (3600*24)\n",
    "    \n",
    "    value = pattern[-1]['TimeStamp'] - pattern[0]['TimeStamp']\n",
    "    features['timeBetweenStartAndLastProblem'] = value / (3600*24)\n",
    "    \n",
    "    value = pattern[-1]['TimeStamp'] - firstProblem['TimeStamp']\n",
    "    features['timeBetweenFirstAndLastProblem'] = value / (3600*24)\n",
    "    \n",
    "    value = firstProblem['Grade']\n",
    "    features['firstProblemGrade'] = value\n",
    "    \n",
    "    value = pattern[-1]['Grade']\n",
    "    features['lastProblemGrade'] = value\n",
    "    \n",
    "    value = max(0,(pattern[-1]['Grade']-firstProblem['Grade']))/(10.00001-firstProblem['Grade'])\n",
    "    features['percentageImprovedBetweenFirstAndLastProblem'] = value\n",
    "        \n",
    "    return(features)\n",
    "\n",
    "rdd_pattern_features = (rdd_patterns\n",
    "    # x = (problemID, pattern)\n",
    "    .map(lambda x: (\n",
    "        x[0],\n",
    "        patternToString(x[1],'dates'),\n",
    "        getFeatures(x[0], x[1])\n",
    "    ))\n",
    ")\n",
    "rdd_pattern_features.persist()\n",
    "\n",
    "FEATURES = list(rdd_pattern_features.first()[2].keys())\n",
    "\n",
    "for featureVector in rdd_pattern_features.take(1):\n",
    "    print('problem', featureVector[0])\n",
    "    print('pattern\\n->', featureVector[1])\n",
    "    pp.pprint(featureVector[2])\n",
    "    print()"
   ]
  },
  {
   "cell_type": "markdown",
   "metadata": {
    "collapsed": true
   },
   "source": [
    "# Kmeans"
   ]
  },
  {
   "cell_type": "code",
   "execution_count": 26,
   "metadata": {
    "collapsed": false,
    "scrolled": false
   },
   "outputs": [
    {
     "name": "stdout",
     "output_type": "stream",
     "text": [
      "[0.57339547330719731, -1.0298316959137428, -0.15740134243788759, -0.19339454657896588, 0.93613054971757703, 1.0474144588658745, -0.61534729292975288, 1.5898575698892656, 1.6753566591013342, 1.2526212075538932, -0.85687127190791879, -0.81814816798094547, 0.34657299305285455]\n"
     ]
    }
   ],
   "source": [
    "FEATURE_AVG = {}\n",
    "FEATURE_STD = {} \n",
    "for feature in FEATURES:\n",
    "    stats = rdd_pattern_features.map(lambda x: x[2][feature]).stats()\n",
    "    FEATURE_AVG[feature] = stats.mean()\n",
    "    FEATURE_STD[feature] = stats.stdev()\n",
    "\n",
    "dataKmeans = (rdd_pattern_features\n",
    "    .map(lambda x: [(x[2][feature]-FEATURE_AVG[feature])/FEATURE_STD[feature] for feature in FEATURES])\n",
    ").collect()\n",
    "\n",
    "print(dataKmeans[0])"
   ]
  },
  {
   "cell_type": "code",
   "execution_count": 27,
   "metadata": {
    "collapsed": false
   },
   "outputs": [
    {
     "name": "stdout",
     "output_type": "stream",
     "text": [
      "running Kmeans algorithm\n",
      "\n",
      "___________________\n",
      "\n",
      "student repartition\n",
      "0.373723249027\t0.297685635538\t0.328591115435\t\n",
      "___________________\n",
      "\n",
      "firstProblemGrade\n",
      "9.57172460079\t7.99785366556\t8.86725044962\t\n",
      "\n",
      "proportionOfProblemEvents\n",
      "0.157182456741\t0.325644052902\t0.884633912424\t\n",
      "\n",
      "timeBetweenFirstAndLastProblem\n",
      "0.052065721458\t1.03560482433\t0.239772254924\t\n",
      "\n",
      "watchedSomeVideoAfterFirstProblem\n",
      "0.00336243831011\t0.115209254849\t0.0014805675509\t\n",
      "\n",
      "watchedAllVideosBeforeFirstProblem\n",
      "0.813872769673\t0.767948281729\t0.000370141887603\t\n",
      "\n",
      "timeBetweenStartAndLastProblem\n",
      "5.63392995272\t5.97311598963\t0.765554182517\t\n",
      "\n",
      "totalNumberOfProblemSubmissions\n",
      "1.07185856066\t2.9288193263\t1.69784083899\t\n",
      "\n",
      "totalNumberOfVideoWatched\n",
      "6.82086881067\t6.68635590337\t0.367180752623\t\n",
      "\n",
      "repeatedVideoBeforeFirstProblem\n",
      "0.38239600846\t0.401905410003\t0.000308451573054\t\n",
      "\n",
      "timeBetweenStartAndFirstProblem\n",
      "5.58186423126\t4.9375111653\t0.525781927594\t\n",
      "\n",
      "increaseGradeFromFirstToLastProblem\n",
      "0.00233201366667\t0.99428376999\t0.384762492289\t\n",
      "\n",
      "percentageImprovedBetweenFirstAndLastProblem\n",
      "0.000109566719569\t0.917910991452\t0.345783988395\t\n",
      "\n",
      "lastProblemGrade\n",
      "9.55933238864\t9.72721197471\t9.48275693879\t\n",
      "\n",
      "\n",
      "___________________\n",
      "\n"
     ]
    }
   ],
   "source": [
    "print('running Kmeans algorithm')\n",
    "print('\\n___________________\\n')\n",
    "\n",
    "kmeansModel = KMeans(n_clusters=3)\n",
    "kmeansModel.fit(dataKmeans)\n",
    "\n",
    "centers = kmeansModel.cluster_centers_\n",
    "labels = kmeansModel.labels_\n",
    "\n",
    "print('student repartition')\n",
    "for index in range(len(centers)):\n",
    "    print(sum([label==index for label in labels])/len(labels),end='\\t')\n",
    "print('\\n___________________\\n')\n",
    "\n",
    "for index in range(len(FEATURES)):\n",
    "    feature = FEATURES[index]\n",
    "    print(feature)\n",
    "    for center in centers:\n",
    "        print((center[index]*FEATURE_STD[feature])+FEATURE_AVG[feature],end='\\t')\n",
    "    print('\\n') \n",
    "\n",
    "\n",
    "print('\\n___________________\\n')"
   ]
  },
  {
   "cell_type": "markdown",
   "metadata": {},
   "source": [
    "# Random forest "
   ]
  },
  {
   "cell_type": "code",
   "execution_count": 28,
   "metadata": {
    "collapsed": false
   },
   "outputs": [
    {
     "name": "stdout",
     "output_type": "stream",
     "text": [
      "[8.67000007629, 0.3333333333333333, 0.03528935185185185, 0.0, 0.0, 0.19217592592592592, 2, 4, 1.0, 0.15688657407407408]\n"
     ]
    }
   ],
   "source": [
    "RF_FEATURES = [f for f in FEATURES if not f in [\n",
    "    'lastProblemGrade',\n",
    "    'percentageImprovedBetweenFirstAndLastProblem', \n",
    "    #'firstProblemGrade', \n",
    "    'increaseGradeFromFirstToLastProblem',\n",
    "    ''\n",
    "]]\n",
    "\n",
    "dataRF = (rdd_pattern_features\n",
    "    .filter(lambda x: x[2]['totalNumberOfProblemSubmissions']>1 and x[2]['firstProblemGrade']<10)\n",
    "    .map(lambda x: [x[2][feature] for feature in RF_FEATURES])\n",
    ").collect()\n",
    "\n",
    "print(dataRF[0])"
   ]
  },
  {
   "cell_type": "code",
   "execution_count": 29,
   "metadata": {
    "collapsed": false
   },
   "outputs": [
    {
     "name": "stdout",
     "output_type": "stream",
     "text": [
      "[False, True, True, True, False, True, True, True, True, True]\n",
      "0.7533275791577704\n"
     ]
    }
   ],
   "source": [
    "labelsRF = (rdd_pattern_features\n",
    "    .filter(lambda x: x[2]['totalNumberOfProblemSubmissions']>1 and x[2]['firstProblemGrade']<10)\n",
    "    .map(lambda x: x[2]['lastProblemGrade']==10.)\n",
    ").collect()\n",
    "\n",
    "print(labelsRF[:10])\n",
    "print(sum(labelsRF)/len(labelsRF))"
   ]
  },
  {
   "cell_type": "code",
   "execution_count": 30,
   "metadata": {
    "collapsed": true
   },
   "outputs": [],
   "source": [
    "def getSplit(data,labels,proportion):\n",
    "    n = int(proportion * len(data))\n",
    "    Xtrain = data[:n]\n",
    "    Ytrain = labels[:n]\n",
    "    Xtest = data[n:]\n",
    "    Ytest = labels[n:]\n",
    "    return(Xtrain,Ytrain,Xtest,Ytest)"
   ]
  },
  {
   "cell_type": "code",
   "execution_count": 31,
   "metadata": {
    "collapsed": true
   },
   "outputs": [],
   "source": [
    "parameters = [2,4,8,12,16,24,32,48,64]"
   ]
  },
  {
   "cell_type": "code",
   "execution_count": 32,
   "metadata": {
    "collapsed": false
   },
   "outputs": [],
   "source": [
    "def computeScores(predictions,y):\n",
    "    measures = [ \n",
    "        (\n",
    "            'TP' if (predictions[index] and y[index]) else\n",
    "            'FP' if (predictions[index] and not y[index]) else \n",
    "            'TN' if (not predictions[index] and not y[index]) else \n",
    "            'FN'\n",
    "        \n",
    "        )\n",
    "        for index in range(len(y))\n",
    "    ]\n",
    "    TP = sum([measure == 'TP' for measure in measures])\n",
    "    FP = sum([measure == 'FP' for measure in measures])\n",
    "    TN = sum([measure == 'TN' for measure in measures])\n",
    "    FN = sum([measure == 'FN' for measure in measures])\n",
    "    \n",
    "    scores = {}\n",
    "    scores['TPr'] = TP / ( TP + FN )\n",
    "    scores['TNr'] = TN / ( TN + FP )\n",
    "    \n",
    "    scores['accuracy'] = ( TP + TN ) / ( TP + TN + FP + FN )\n",
    "    \n",
    "    scores['precision'] = TP / ( TP + FP )\n",
    "    scores['recall'] = TP / ( TP + FN )\n",
    "    \n",
    "    p = scores['precision']\n",
    "    r = scores['recall']\n",
    "    scores['Fscore'] = 2. * p * r / ( p + r )\n",
    "    \n",
    "    return scores"
   ]
  },
  {
   "cell_type": "code",
   "execution_count": 33,
   "metadata": {
    "collapsed": false
   },
   "outputs": [
    {
     "name": "stdout",
     "output_type": "stream",
     "text": [
      "{'recall': 0.682620400837571, 'accuracy': 0.6506927095162389, 'TNr': 0.55, 'precision': 0.8271112722000725, 'TPr': 0.682620400837571, 'Fscore': 0.7479514913143231}\n",
      "{'recall': 1.0, 'accuracy': 0.7592550533727004, 'TNr': 0.0, 'precision': 0.7592550533727004, 'TPr': 1.0, 'Fscore': 0.8631551768654788}\n",
      "\n",
      "{'recall': 0.7831289261142687, 'accuracy': 0.7072450601862367, 'TNr': 0.4679245283018868, 'precision': 0.8227529855436833, 'TPr': 0.7831289261142687, 'Fscore': 0.8024521072796935}\n",
      "{'recall': 1.0, 'accuracy': 0.7592550533727004, 'TNr': 0.0, 'precision': 0.7592550533727004, 'TPr': 1.0, 'Fscore': 0.8631551768654788}\n",
      "\n",
      "{'recall': 0.8423571642237512, 'accuracy': 0.7326822620940268, 'TNr': 0.3867924528301887, 'precision': 0.812463935372187, 'TPr': 0.8423571642237512, 'Fscore': 0.827140549273021}\n",
      "{'recall': 1.0, 'accuracy': 0.7592550533727004, 'TNr': 0.0, 'precision': 0.7592550533727004, 'TPr': 1.0, 'Fscore': 0.8631551768654788}\n",
      "\n",
      "{'recall': 0.8752617409512414, 'accuracy': 0.7472178060413355, 'TNr': 0.3433962264150943, 'precision': 0.8078409718387631, 'TPr': 0.8752617409512414, 'Fscore': 0.8402010050251256}\n",
      "{'recall': 1.0, 'accuracy': 0.7592550533727004, 'TNr': 0.0, 'precision': 0.7592550533727004, 'TPr': 1.0, 'Fscore': 0.8631551768654788}\n",
      "\n",
      "{'recall': 0.8794495961711039, 'accuracy': 0.7474449239155122, 'TNr': 0.3311320754716981, 'precision': 0.805700191833379, 'TPr': 0.8794495961711039, 'Fscore': 0.8409610983981693}\n",
      "{'recall': 1.0, 'accuracy': 0.7592550533727004, 'TNr': 0.0, 'precision': 0.7592550533727004, 'TPr': 1.0, 'Fscore': 0.8631551768654788}\n",
      "\n",
      "{'recall': 0.8962010170505534, 'accuracy': 0.7549398137633432, 'TNr': 0.30943396226415093, 'precision': 0.8036480686695279, 'TPr': 0.8962010170505534, 'Fscore': 0.8474048932258521}\n",
      "{'recall': 1.0, 'accuracy': 0.7592550533727004, 'TNr': 0.0, 'precision': 0.7592550533727004, 'TPr': 1.0, 'Fscore': 0.8631551768654788}\n",
      "\n",
      "{'recall': 0.9048758600059826, 'accuracy': 0.7576652282534635, 'TNr': 0.29339622641509433, 'precision': 0.8015368309485956, 'TPr': 0.9048758600059826, 'Fscore': 0.8500772797527049}\n",
      "{'recall': 1.0, 'accuracy': 0.7592550533727004, 'TNr': 0.0, 'precision': 0.7592550533727004, 'TPr': 1.0, 'Fscore': 0.8631551768654788}\n",
      "\n",
      "{'recall': 0.9075680526473228, 'accuracy': 0.7597092891210538, 'TNr': 0.29339622641509433, 'precision': 0.8020089875759979, 'TPr': 0.9075680526473228, 'Fscore': 0.8515296098793153}\n",
      "{'recall': 1.0, 'accuracy': 0.7592550533727004, 'TNr': 0.0, 'precision': 0.7592550533727004, 'TPr': 1.0, 'Fscore': 0.8631551768654788}\n",
      "\n",
      "{'recall': 0.9114567753514807, 'accuracy': 0.7583465818759937, 'TNr': 0.27547169811320754, 'precision': 0.798689384010485, 'TPr': 0.9114567753514807, 'Fscore': 0.8513551271304833}\n",
      "{'recall': 1.0, 'accuracy': 0.7592550533727004, 'TNr': 0.0, 'precision': 0.7592550533727004, 'TPr': 1.0, 'Fscore': 0.8631551768654788}\n",
      "\n"
     ]
    }
   ],
   "source": [
    "trainScores = []\n",
    "testScores = []\n",
    "for param in parameters: \n",
    "    (Xtrain,Ytrain,Xtest,Ytest) = getSplit(dataRF,labelsRF,0.8)\n",
    "    clf = RandomForestClassifier(n_estimators=param,class_weight='balanced_subsample')\n",
    "    clf.fit(Xtrain,Ytrain)\n",
    "    \n",
    "    testScore = computeScores(clf.predict(Xtest),Ytest)\n",
    "    trainScore = computeScores(clf.predict(Xtrain),Ytrain)\n",
    "    \n",
    "    print(testScore)\n",
    "    print(computeScores([True for _ in Ytest],Ytest))\n",
    "    print()\n",
    "    \n",
    "    trainScores.append(trainScore)\n",
    "    testScores.append(testScore)"
   ]
  },
  {
   "cell_type": "code",
   "execution_count": 34,
   "metadata": {
    "collapsed": false
   },
   "outputs": [
    {
     "data": {
      "text/html": [
       "<div>\n",
       "<table border=\"1\" class=\"dataframe\">\n",
       "  <thead>\n",
       "    <tr style=\"text-align: right;\">\n",
       "      <th></th>\n",
       "      <th>Fscore</th>\n",
       "      <th>TNr</th>\n",
       "      <th>TPr</th>\n",
       "      <th>accuracy</th>\n",
       "      <th>precision</th>\n",
       "      <th>recall</th>\n",
       "    </tr>\n",
       "  </thead>\n",
       "  <tbody>\n",
       "    <tr>\n",
       "      <th>0</th>\n",
       "      <td>0.747951</td>\n",
       "      <td>0.550000</td>\n",
       "      <td>0.682620</td>\n",
       "      <td>0.650693</td>\n",
       "      <td>0.827111</td>\n",
       "      <td>0.682620</td>\n",
       "    </tr>\n",
       "    <tr>\n",
       "      <th>1</th>\n",
       "      <td>0.802452</td>\n",
       "      <td>0.467925</td>\n",
       "      <td>0.783129</td>\n",
       "      <td>0.707245</td>\n",
       "      <td>0.822753</td>\n",
       "      <td>0.783129</td>\n",
       "    </tr>\n",
       "    <tr>\n",
       "      <th>2</th>\n",
       "      <td>0.827141</td>\n",
       "      <td>0.386792</td>\n",
       "      <td>0.842357</td>\n",
       "      <td>0.732682</td>\n",
       "      <td>0.812464</td>\n",
       "      <td>0.842357</td>\n",
       "    </tr>\n",
       "    <tr>\n",
       "      <th>3</th>\n",
       "      <td>0.840201</td>\n",
       "      <td>0.343396</td>\n",
       "      <td>0.875262</td>\n",
       "      <td>0.747218</td>\n",
       "      <td>0.807841</td>\n",
       "      <td>0.875262</td>\n",
       "    </tr>\n",
       "    <tr>\n",
       "      <th>4</th>\n",
       "      <td>0.840961</td>\n",
       "      <td>0.331132</td>\n",
       "      <td>0.879450</td>\n",
       "      <td>0.747445</td>\n",
       "      <td>0.805700</td>\n",
       "      <td>0.879450</td>\n",
       "    </tr>\n",
       "  </tbody>\n",
       "</table>\n",
       "</div>"
      ],
      "text/plain": [
       "     Fscore       TNr       TPr  accuracy  precision    recall\n",
       "0  0.747951  0.550000  0.682620  0.650693   0.827111  0.682620\n",
       "1  0.802452  0.467925  0.783129  0.707245   0.822753  0.783129\n",
       "2  0.827141  0.386792  0.842357  0.732682   0.812464  0.842357\n",
       "3  0.840201  0.343396  0.875262  0.747218   0.807841  0.875262\n",
       "4  0.840961  0.331132  0.879450  0.747445   0.805700  0.879450"
      ]
     },
     "execution_count": 34,
     "metadata": {},
     "output_type": "execute_result"
    }
   ],
   "source": [
    "dfTestScores = pd.DataFrame(testScores)\n",
    "dfTrainScores = pd.DataFrame(trainScores)\n",
    "dfTestScores.head()"
   ]
  },
  {
   "cell_type": "code",
   "execution_count": 35,
   "metadata": {
    "collapsed": false
   },
   "outputs": [
    {
     "name": "stdout",
     "output_type": "stream",
     "text": [
      "firstProblemGrade                        0.309469328604\n",
      "proportionOfProblemEvents                0.0579984100747\n",
      "timeBetweenFirstAndLastProblem           0.199849630282\n",
      "watchedSomeVideoAfterFirstProblem        0.00887474265995\n",
      "watchedAllVideosBeforeFirstProblem       0.0100717735069\n",
      "timeBetweenStartAndLastProblem           0.192173876772\n",
      "totalNumberOfProblemSubmissions          0.0394978990669\n",
      "totalNumberOfVideoWatched                0.0447263782112\n",
      "repeatedVideoBeforeFirstProblem          0.0110736113251\n",
      "timeBetweenStartAndFirstProblem          0.126264349497\n"
     ]
    }
   ],
   "source": [
    "feature_importances = clf.feature_importances_\n",
    "\n",
    "for index in range(len(RF_FEATURES)):\n",
    "    feature = RF_FEATURES[index]\n",
    "    print(feature + (40-len(feature))*' ',feature_importances[index])\n"
   ]
  },
  {
   "cell_type": "code",
   "execution_count": 36,
   "metadata": {
    "collapsed": false
   },
   "outputs": [
    {
     "data": {
      "image/png": "[encoded data removed]",
      "text/plain": [
       "<matplotlib.figure.Figure at 0x7ff9e3b82b38>"
      ]
     },
     "metadata": {},
     "output_type": "display_data"
    }
   ],
   "source": [
    "f, ax = plt.subplots(1)\n",
    "plt.title(\"RandomForestClassifier\")\n",
    "plt.xlabel(\"parameter\")\n",
    "plt.ylabel(\"Accuracy score\")\n",
    "plt.grid()\n",
    "ax.set_ylim(ymin=0,ymax=1.1)\n",
    "plt.plot(parameters, dfTestScores.Fscore, 'o-', color=\"g\", label=\"test Fscore\")\n",
    "plt.plot(parameters, dfTestScores.TPr, 'x-', color=\"g\", label=\"test TPr\")\n",
    "plt.plot(parameters, dfTestScores.accuracy, '.-', color=\"g\", label=\"test accuracy\")\n",
    "\n",
    "plt.plot(parameters, dfTrainScores.Fscore, 'o-', color=\"r\", label=\"train Fscore\")\n",
    "plt.plot(parameters, dfTrainScores.TPr, 'x-', color=\"r\", label=\"train TPr\")\n",
    "plt.plot(parameters, dfTrainScores.accuracy, '.-', color=\"r\", label=\"train accuracy\")\n",
    "\n",
    "plt.legend(loc=\"best\")\n",
    "\n",
    "plt.show()"
   ]
  },
  {
   "cell_type": "markdown",
   "metadata": {
    "collapsed": true
   },
   "source": [
    "# Logistic Regression"
   ]
  },
  {
   "cell_type": "code",
   "execution_count": 37,
   "metadata": {
    "collapsed": false
   },
   "outputs": [
    {
     "name": "stdout",
     "output_type": "stream",
     "text": [
      "[-0.10243540774469413, -0.32056816523771064, -0.1437414227373448, -0.19339454657896588, -1.0682270761291699, -0.69288238810776059, 0.12557403213126903, -0.1657018615164986, 1.6753566591013342, -0.70266894712284844]\n"
     ]
    }
   ],
   "source": [
    "LR_FEATURES = [f for f in FEATURES if not f in [\n",
    "    'lastProblemGrade',\n",
    "    'percentageImprovedBetweenFirstAndLastProblem', \n",
    "    #'firstProblemGrade', \n",
    "    'increaseGradeFromFirstToLastProblem',\n",
    "    ''\n",
    "]]\n",
    "\n",
    "dataLR = (rdd_pattern_features\n",
    "    .filter(lambda x: x[2]['totalNumberOfProblemSubmissions']>1 and x[2]['firstProblemGrade']<10)\n",
    "    .map(lambda x: [(x[2][feature]-FEATURE_AVG[feature])/FEATURE_STD[feature] for feature in LR_FEATURES])\n",
    ").collect()\n",
    "\n",
    "print(dataLR[0])"
   ]
  },
  {
   "cell_type": "code",
   "execution_count": 38,
   "metadata": {
    "collapsed": false
   },
   "outputs": [
    {
     "name": "stdout",
     "output_type": "stream",
     "text": [
      "[False, True, True, True, False, True, True, True, True, True]\n",
      "0.7533275791577704\n"
     ]
    }
   ],
   "source": [
    "labelsRF = (rdd_pattern_features\n",
    "    .filter(lambda x: x[2]['totalNumberOfProblemSubmissions']>1 and x[2]['firstProblemGrade']<10)\n",
    "    .map(lambda x: x[2]['lastProblemGrade']==10.)\n",
    ").collect()\n",
    "\n",
    "print(labelsRF[:10])\n",
    "print(sum(labelsRF)/len(labelsRF))"
   ]
  },
  {
   "cell_type": "code",
   "execution_count": null,
   "metadata": {
    "collapsed": true
   },
   "outputs": [],
   "source": []
  },
  {
   "cell_type": "code",
   "execution_count": 39,
   "metadata": {
    "collapsed": true
   },
   "outputs": [],
   "source": [
    "parameters = [0.0001,0.001,0.01,0.1,1,10]"
   ]
  },
  {
   "cell_type": "code",
   "execution_count": 40,
   "metadata": {
    "collapsed": false
   },
   "outputs": [
    {
     "name": "stdout",
     "output_type": "stream",
     "text": [
      "{'recall': 0.7627879150463656, 'accuracy': 0.6727231433113786, 'TNr': 0.3886792452830189, 'precision': 0.797373358348968, 'TPr': 0.7627879150463656, 'Fscore': 0.7796972939917444}\n",
      "\n",
      "{'recall': 0.9697876159138499, 'accuracy': 0.7547126958891665, 'TNr': 0.07641509433962264, 'precision': 0.7680644397062307, 'TPr': 0.9697876159138499, 'Fscore': 0.8572184029613961}\n",
      "\n",
      "{'recall': 0.9509422674244691, 'accuracy': 0.7574381103792869, 'TNr': 0.1471698113207547, 'precision': 0.7785941709527309, 'TPr': 0.9509422674244691, 'Fscore': 0.8561809857258282}\n",
      "\n",
      "{'recall': 0.9641040981154652, 'accuracy': 0.753577106518283, 'TNr': 0.08962264150943396, 'precision': 0.7695797516714422, 'TPr': 0.9641040981154652, 'Fscore': 0.8559288275129465}\n",
      "\n",
      "{'recall': 0.989530361950344, 'accuracy': 0.7565296388825801, 'TNr': 0.02169811320754717, 'precision': 0.7613348676639816, 'TPr': 0.989530361950344, 'Fscore': 0.8605619146722164}\n",
      "\n",
      "{'recall': 1.0, 'accuracy': 0.7592550533727004, 'TNr': 0.0, 'precision': 0.7592550533727004, 'TPr': 1.0, 'Fscore': 0.8631551768654788}\n",
      "\n"
     ]
    }
   ],
   "source": [
    "trainScores = []\n",
    "testScores = []\n",
    "for param in parameters: \n",
    "    (Xtrain,Ytrain,Xtest,Ytest) = getSplit(dataRF,labelsRF,0.8)\n",
    "    clf = linear_model.SGDClassifier(alpha=param, loss='log')\n",
    "    clf.fit(Xtrain,Ytrain)\n",
    "    \n",
    "    testScore = computeScores(clf.predict(Xtest),Ytest)\n",
    "    trainScore = computeScores(clf.predict(Xtrain),Ytrain)\n",
    "    \n",
    "    print(testScore)\n",
    "    print()\n",
    "    \n",
    "    trainScores.append(trainScore)\n",
    "    testScores.append(testScore)"
   ]
  },
  {
   "cell_type": "code",
   "execution_count": 41,
   "metadata": {
    "collapsed": false
   },
   "outputs": [
    {
     "data": {
      "text/html": [
       "<div>\n",
       "<table border=\"1\" class=\"dataframe\">\n",
       "  <thead>\n",
       "    <tr style=\"text-align: right;\">\n",
       "      <th></th>\n",
       "      <th>Fscore</th>\n",
       "      <th>TNr</th>\n",
       "      <th>TPr</th>\n",
       "      <th>accuracy</th>\n",
       "      <th>precision</th>\n",
       "      <th>recall</th>\n",
       "    </tr>\n",
       "  </thead>\n",
       "  <tbody>\n",
       "    <tr>\n",
       "      <th>0</th>\n",
       "      <td>0.779697</td>\n",
       "      <td>0.388679</td>\n",
       "      <td>0.762788</td>\n",
       "      <td>0.672723</td>\n",
       "      <td>0.797373</td>\n",
       "      <td>0.762788</td>\n",
       "    </tr>\n",
       "    <tr>\n",
       "      <th>1</th>\n",
       "      <td>0.857218</td>\n",
       "      <td>0.076415</td>\n",
       "      <td>0.969788</td>\n",
       "      <td>0.754713</td>\n",
       "      <td>0.768064</td>\n",
       "      <td>0.969788</td>\n",
       "    </tr>\n",
       "    <tr>\n",
       "      <th>2</th>\n",
       "      <td>0.856181</td>\n",
       "      <td>0.147170</td>\n",
       "      <td>0.950942</td>\n",
       "      <td>0.757438</td>\n",
       "      <td>0.778594</td>\n",
       "      <td>0.950942</td>\n",
       "    </tr>\n",
       "    <tr>\n",
       "      <th>3</th>\n",
       "      <td>0.855929</td>\n",
       "      <td>0.089623</td>\n",
       "      <td>0.964104</td>\n",
       "      <td>0.753577</td>\n",
       "      <td>0.769580</td>\n",
       "      <td>0.964104</td>\n",
       "    </tr>\n",
       "    <tr>\n",
       "      <th>4</th>\n",
       "      <td>0.860562</td>\n",
       "      <td>0.021698</td>\n",
       "      <td>0.989530</td>\n",
       "      <td>0.756530</td>\n",
       "      <td>0.761335</td>\n",
       "      <td>0.989530</td>\n",
       "    </tr>\n",
       "  </tbody>\n",
       "</table>\n",
       "</div>"
      ],
      "text/plain": [
       "     Fscore       TNr       TPr  accuracy  precision    recall\n",
       "0  0.779697  0.388679  0.762788  0.672723   0.797373  0.762788\n",
       "1  0.857218  0.076415  0.969788  0.754713   0.768064  0.969788\n",
       "2  0.856181  0.147170  0.950942  0.757438   0.778594  0.950942\n",
       "3  0.855929  0.089623  0.964104  0.753577   0.769580  0.964104\n",
       "4  0.860562  0.021698  0.989530  0.756530   0.761335  0.989530"
      ]
     },
     "execution_count": 41,
     "metadata": {},
     "output_type": "execute_result"
    }
   ],
   "source": [
    "dfTestScores = pd.DataFrame(testScores)\n",
    "dfTrainScores = pd.DataFrame(trainScores)\n",
    "dfTestScores.head()"
   ]
  },
  {
   "cell_type": "code",
   "execution_count": 42,
   "metadata": {
    "collapsed": false
   },
   "outputs": [
    {
     "data": {
      "image/png": "[encoded data removed]",
      "text/plain": [
       "<matplotlib.figure.Figure at 0x7ff9e230e6a0>"
      ]
     },
     "metadata": {},
     "output_type": "display_data"
    }
   ],
   "source": [
    "f, ax = plt.subplots(1)\n",
    "plt.title(\"Logistic Regression\")\n",
    "plt.xlabel(\"parameter\")\n",
    "plt.ylabel(\"Accuracy score\")\n",
    "plt.grid()\n",
    "ax.set_ylim(ymin=0,ymax=1.1)\n",
    "plt.semilogx(parameters, dfTestScores.Fscore, 'o-', color=\"g\", label=\"test Fscore\")\n",
    "plt.semilogx(parameters, dfTestScores.TPr, 'x-', color=\"g\", label=\"test TPr\")\n",
    "plt.semilogx(parameters, dfTestScores.accuracy, '.-', color=\"g\", label=\"test accuracy\")\n",
    "\n",
    "plt.semilogx(parameters, dfTrainScores.Fscore, 'o-', color=\"r\", label=\"train Fscore\")\n",
    "plt.semilogx(parameters, dfTrainScores.TPr, 'x-', color=\"r\", label=\"train TPr\")\n",
    "plt.semilogx(parameters, dfTrainScores.accuracy, '.-', color=\"r\", label=\"train accuracy\")\n",
    "\n",
    "plt.legend(loc=\"best\")\n",
    "\n",
    "plt.show()"
   ]
  },
  {
   "cell_type": "code",
   "execution_count": null,
   "metadata": {
    "collapsed": true
   },
   "outputs": [],
   "source": []
  },
  {
   "cell_type": "code",
   "execution_count": null,
   "metadata": {
    "collapsed": true
   },
   "outputs": [],
   "source": []
  },
  {
   "cell_type": "code",
   "execution_count": null,
   "metadata": {
    "collapsed": true
   },
   "outputs": [],
   "source": []
  },
  {
   "cell_type": "code",
   "execution_count": null,
   "metadata": {
    "collapsed": true
   },
   "outputs": [],
   "source": []
  },
  {
   "cell_type": "code",
   "execution_count": null,
   "metadata": {
    "collapsed": true
   },
   "outputs": [],
   "source": []
  },
  {
   "cell_type": "code",
   "execution_count": null,
   "metadata": {
    "collapsed": true
   },
   "outputs": [],
   "source": []
  },
  {
   "cell_type": "code",
   "execution_count": null,
   "metadata": {
    "collapsed": true
   },
   "outputs": [],
   "source": []
  },
  {
   "cell_type": "code",
   "execution_count": null,
   "metadata": {
    "collapsed": true
   },
   "outputs": [],
   "source": []
  }
 ],
 "metadata": {
  "anaconda-cloud": {},
  "kernelspec": {
   "display_name": "Python [conda root]",
   "language": "python",
   "name": "conda-root-py"
  },
  "language_info": {
   "codemirror_mode": {
    "name": "ipython",
    "version": 3
   },
   "file_extension": ".py",
   "mimetype": "text/x-python",
   "name": "python",
   "nbconvert_exporter": "python",
   "pygments_lexer": "ipython3",
   "version": "3.5.2"
  }
 },
 "nbformat": 4,
 "nbformat_minor": 0
}
