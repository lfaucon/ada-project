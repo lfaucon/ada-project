{
 "cells": [
  {
   "cell_type": "markdown",
   "metadata": {},
   "source": [
    "# ADA - project\n",
    "# Scala MOOC - Extraction of Learning Patterns"
   ]
  },
  {
   "cell_type": "markdown",
   "metadata": {},
   "source": [
    "## Introduction"
   ]
  },
  {
   "cell_type": "markdown",
   "metadata": {},
   "source": [
    "### Project description\n",
    "\n",
    "bla bla bla"
   ]
  },
  {
   "cell_type": "markdown",
   "metadata": {},
   "source": [
    "### Dataset description\n",
    "- Forum Events\n",
    "    * field1...\n",
    "    * field2...\n",
    "- Problem Events\n",
    "- Video Events\n",
    "- metadata"
   ]
  },
  {
   "cell_type": "markdown",
   "metadata": {},
   "source": [
    "### Team\n",
    "- Victor\n",
    "- Thibault\n",
    "- Louis"
   ]
  },
  {
   "cell_type": "markdown",
   "metadata": {},
   "source": [
    "### Summary"
   ]
  },
  {
   "cell_type": "markdown",
   "metadata": {},
   "source": [
    "## Libraries"
   ]
  },
  {
   "cell_type": "code",
   "execution_count": null,
   "metadata": {
    "collapsed": true
   },
   "outputs": [],
   "source": [
    "%matplotlib inline\n",
    "import pandas as pd\n",
    "import matplotlib.pyplot as plt\n",
    "import numpy as np\n",
    "import random\n",
    "import math"
   ]
  },
  {
   "cell_type": "markdown",
   "metadata": {},
   "source": [
    "## Configuration"
   ]
  },
  {
   "cell_type": "code",
   "execution_count": null,
   "metadata": {
    "collapsed": false
   },
   "outputs": [],
   "source": [
    "config = {\n",
    "    'courseName': 'progfun-002',\n",
    "}"
   ]
  },
  {
   "cell_type": "markdown",
   "metadata": {},
   "source": [
    "## Data imports"
   ]
  },
  {
   "cell_type": "markdown",
   "metadata": {},
   "source": [
    "### User Grades"
   ]
  },
  {
   "cell_type": "code",
   "execution_count": null,
   "metadata": {
    "collapsed": false
   },
   "outputs": [],
   "source": [
    "df_User_Grades = pd.read_csv('../data/' + config['courseName'] + '_User_Grades.csv')\n",
    "df_User_Grades = df_User_Grades[['SessionUserID','Grade','AchievementLevel']]\n",
    "df_User_Grades.head()"
   ]
  },
  {
   "cell_type": "markdown",
   "metadata": {},
   "source": [
    "### Assignment Events"
   ]
  },
  {
   "cell_type": "code",
   "execution_count": null,
   "metadata": {
    "collapsed": false
   },
   "outputs": [],
   "source": [
    "df_Problem_Event = pd.read_csv(\n",
    "    '../data/' + config['courseName'] + '_Problem_Events_with_Info.csv',\n",
    "    dtype={\"Grade\":np.float64},\n",
    "    na_values=['None']\n",
    ")\n",
    "df_Problem_Event.head(1)"
   ]
  },
  {
   "cell_type": "code",
   "execution_count": null,
   "metadata": {
    "collapsed": false
   },
   "outputs": [],
   "source": [
    "df_Problem_Event = df_Problem_Event[['SessionUserID','Grade','TimeStamp','ProblemID','ProblemType','EventType']]\n",
    "print(df_Problem_Event.shape)\n",
    "df_Problem_Event.head()"
   ]
  },
  {
   "cell_type": "code",
   "execution_count": null,
   "metadata": {
    "collapsed": false
   },
   "outputs": [],
   "source": [
    "df_Assignment_Event = df_Problem_Event[df_Problem_Event.ProblemType == \"Assignment\"].dropna()\n",
    "print(df_Assignment_Event.shape)\n",
    "df_Assignment_Event.drop('ProblemType',axis=1,inplace=True)\n",
    "df_Assignment_Event.head()"
   ]
  },
  {
   "cell_type": "code",
   "execution_count": null,
   "metadata": {
    "collapsed": false
   },
   "outputs": [],
   "source": [
    "df_Assignment_Event['Date'] = pd.to_datetime(df_Assignment_Event.TimeStamp,unit='s')\n",
    "df_Assignment_Event.head()"
   ]
  },
  {
   "cell_type": "markdown",
   "metadata": {},
   "source": [
    "### Video Events"
   ]
  },
  {
   "cell_type": "code",
   "execution_count": null,
   "metadata": {
    "collapsed": false
   },
   "outputs": [],
   "source": [
    "df_Video_Event = pd.read_csv(\n",
    "    '../data/' + config['courseName'] + '_Video_Events.csv',\n",
    "    na_values=['None']\n",
    ")\n",
    "df_Video_Event.head(1)"
   ]
  },
  {
   "cell_type": "code",
   "execution_count": null,
   "metadata": {
    "collapsed": false
   },
   "outputs": [],
   "source": [
    "df_Video_Event = df_Video_Event[['SessionUserID','TimeStamp','VideoID','EventType']]\n",
    "print(df_Video_Event.shape)\n",
    "df_Video_Event.head()"
   ]
  },
  {
   "cell_type": "code",
   "execution_count": null,
   "metadata": {
    "collapsed": false
   },
   "outputs": [],
   "source": [
    "df_Video_Event['Date'] = pd.to_datetime(df_Video_Event.TimeStamp,unit='s')\n",
    "df_Video_Event.head()"
   ]
  },
  {
   "cell_type": "markdown",
   "metadata": {},
   "source": [
    "### Forum Events"
   ]
  },
  {
   "cell_type": "code",
   "execution_count": null,
   "metadata": {
    "collapsed": false
   },
   "outputs": [],
   "source": [
    "df_Forum_Event = pd.read_csv(\n",
    "    '../data/' + config['courseName'] + '_Forum_Events.csv',\n",
    "    na_values=['None']\n",
    ")\n",
    "df_Forum_Event.head(1)"
   ]
  },
  {
   "cell_type": "code",
   "execution_count": null,
   "metadata": {
    "collapsed": false
   },
   "outputs": [],
   "source": [
    "# OMG df_Video_Event does not have 'SessionUserID\n",
    "df_Forum_Event.SessionUserID.head(10)"
   ]
  },
  {
   "cell_type": "code",
   "execution_count": null,
   "metadata": {
    "collapsed": false
   },
   "outputs": [],
   "source": [
    "df_Forum_Event = df_Forum_Event[['AccountUserID','TimeStamp','EventType']]\n",
    "print(df_Forum_Event.shape)\n",
    "df_Forum_Event.head()"
   ]
  },
  {
   "cell_type": "code",
   "execution_count": null,
   "metadata": {
    "collapsed": false
   },
   "outputs": [],
   "source": [
    "df_Forum_Event['Date'] = pd.to_datetime(df_Forum_Event.TimeStamp,unit='s')\n",
    "df_Forum_Event.head()"
   ]
  },
  {
   "cell_type": "code",
   "execution_count": null,
   "metadata": {
    "collapsed": false
   },
   "outputs": [],
   "source": [
    "# Hopefully the table User_Hash_Mapping gives us the mapping between AccountUserID and SessionUserID\n",
    "df_User_Mapping = pd.read_csv(\n",
    "    '../data/' + config['courseName'] + '_User_Hash_Mapping.csv',\n",
    "    na_values=['None']\n",
    ")\n",
    "df_User_Mapping = df_User_Mapping[['AccountUserID','SessionUserID']]\n",
    "df_User_Mapping.head()"
   ]
  },
  {
   "cell_type": "code",
   "execution_count": null,
   "metadata": {
    "collapsed": false
   },
   "outputs": [],
   "source": [
    "print(df_Forum_Event.shape)\n",
    "df_Forum_Event = df_Forum_Event.merge(df_User_Mapping,on='AccountUserID')[['SessionUserID','TimeStamp','EventType','Date']]\n",
    "print(df_Forum_Event.shape)\n",
    "df_Forum_Event.head()"
   ]
  },
  {
   "cell_type": "markdown",
   "metadata": {},
   "source": [
    "### Concatenation"
   ]
  },
  {
   "cell_type": "code",
   "execution_count": null,
   "metadata": {
    "collapsed": false,
    "scrolled": true
   },
   "outputs": [],
   "source": [
    "lengths = {\n",
    "    'assignments': df_Assignment_Event.shape[0],\n",
    "    'videos': df_Video_Event.shape[0],\n",
    "    'forums': df_Forum_Event.shape[0]\n",
    "}\n",
    "print(lengths)\n",
    "[x,y] = [0,lengths['assignments']]\n",
    "df_Assignment_Event.index=range(x,y)\n",
    "[x,y] = [y,y+lengths['videos']]\n",
    "df_Video_Event.index=range(x,y)\n",
    "[x,y] = [y,y+lengths['forums']]\n",
    "df_Forum_Event.index=range(x,y)\n",
    "\n",
    "df_All_Event = pd.concat([df_Assignment_Event,df_Video_Event,df_Forum_Event])\n",
    "print(df_All_Event.shape)\n",
    "df_All_Event.head()"
   ]
  },
  {
   "cell_type": "code",
   "execution_count": null,
   "metadata": {
    "collapsed": false
   },
   "outputs": [],
   "source": [
    "df_All_Event['EventTypeMain'] = df_All_Event.EventType.apply(lambda x: x.split('.')[0])\n",
    "df_All_Event['EventTypeDetail'] = df_All_Event.EventType.apply(lambda x: x.split('.')[1])\n",
    "df_All_Event.head()"
   ]
  },
  {
   "cell_type": "code",
   "execution_count": null,
   "metadata": {
    "collapsed": false
   },
   "outputs": [],
   "source": [
    "df_All_Event.EventTypeMain.value_counts()"
   ]
  },
  {
   "cell_type": "code",
   "execution_count": null,
   "metadata": {
    "collapsed": false
   },
   "outputs": [],
   "source": []
  },
  {
   "cell_type": "code",
   "execution_count": null,
   "metadata": {
    "collapsed": true
   },
   "outputs": [],
   "source": []
  },
  {
   "cell_type": "code",
   "execution_count": null,
   "metadata": {
    "collapsed": true
   },
   "outputs": [],
   "source": []
  },
  {
   "cell_type": "markdown",
   "metadata": {},
   "source": [
    "## Data exploration and cleaning"
   ]
  },
  {
   "cell_type": "markdown",
   "metadata": {},
   "source": [
    "### User Grade"
   ]
  },
  {
   "cell_type": "code",
   "execution_count": null,
   "metadata": {
    "collapsed": false
   },
   "outputs": [],
   "source": [
    "successCounts = df_User_Grades.AchievementLevel.value_counts()\n",
    "successCounts"
   ]
  },
  {
   "cell_type": "code",
   "execution_count": null,
   "metadata": {
    "collapsed": false
   },
   "outputs": [],
   "source": [
    "df_User_Grades['NormalisedGrade'] = df_User_Grades.Grade / 100\n",
    "df_User_Grades['Prediction'] = df_User_Grades.NormalisedGrade.mean()\n",
    "df_User_Grades['SE'] = (df_User_Grades.NormalisedGrade - df_User_Grades.Prediction)**2\n",
    "\n",
    "{\n",
    "    \"MEAN\": df_User_Grades.NormalisedGrade.mean(),\n",
    "    \"RMSE\": df_User_Grades.SE.mean()**0.5\n",
    "}"
   ]
  },
  {
   "cell_type": "markdown",
   "metadata": {},
   "source": [
    "### Assignment Events"
   ]
  },
  {
   "cell_type": "code",
   "execution_count": null,
   "metadata": {
    "collapsed": false
   },
   "outputs": [],
   "source": [
    "df_Assignment_Event.Grade.hist(bins=25)"
   ]
  },
  {
   "cell_type": "code",
   "execution_count": null,
   "metadata": {
    "collapsed": false
   },
   "outputs": [],
   "source": [
    "df_Assignment_Event.ProblemID.value_counts()"
   ]
  },
  {
   "cell_type": "code",
   "execution_count": null,
   "metadata": {
    "collapsed": false
   },
   "outputs": [],
   "source": [
    "# removes 1234 which seem to be fake homeworks for testing\n",
    "print(df_Assignment_Event.shape)\n",
    "df_Assignment_Event = df_Assignment_Event[df_Assignment_Event.ProblemID>4]\n",
    "print(df_Assignment_Event.shape)"
   ]
  },
  {
   "cell_type": "code",
   "execution_count": null,
   "metadata": {
    "collapsed": false
   },
   "outputs": [],
   "source": [
    "df_Assignment_Event[df_Assignment_Event.TimeStamp<1.37e9].TimeStamp.hist(bins=50)"
   ]
  },
  {
   "cell_type": "code",
   "execution_count": null,
   "metadata": {
    "collapsed": false
   },
   "outputs": [],
   "source": [
    "df_Assignment_Event_sorted = df_Assignment_Event.sort_values(by=['SessionUserID','TimeStamp'])\n",
    "df_Assignment_Event_sorted.head(10)"
   ]
  },
  {
   "cell_type": "code",
   "execution_count": null,
   "metadata": {
    "collapsed": false
   },
   "outputs": [],
   "source": [
    "# The index has gone crazy, useless, but we can reset it !\n",
    "df_Assignment_Event_sorted.reset_index(drop=True, inplace=True)\n",
    "df_Assignment_Event_sorted.head(10)"
   ]
  },
  {
   "cell_type": "code",
   "execution_count": null,
   "metadata": {
    "collapsed": false
   },
   "outputs": [],
   "source": [
    "# found this here: \n",
    "# http://stackoverflow.com/questions/19530568/can-pandas-groupby-aggregate-into-a-list-rather-than-sum-mean-etc\n",
    "# the big idea is to be able to manipulate the tuples with something like apply(func) later on.\n",
    "df_Assignment_Event_sorted.groupby(['SessionUserID','ProblemID']).agg(lambda x: tuple(x)).head(19)"
   ]
  },
  {
   "cell_type": "markdown",
   "metadata": {},
   "source": [
    "### Video Events"
   ]
  },
  {
   "cell_type": "code",
   "execution_count": null,
   "metadata": {
    "collapsed": false
   },
   "outputs": [],
   "source": [
    "# Need to make sense out of these event types\n",
    "df_Video_Event.EventType.value_counts()"
   ]
  },
  {
   "cell_type": "code",
   "execution_count": null,
   "metadata": {
    "collapsed": false
   },
   "outputs": [],
   "source": [
    "counts = df_Video_Event.SessionUserID.value_counts()\n",
    "print(\"Average number of video event per student: %f\" % counts.mean())\n",
    "counts.head(10)"
   ]
  },
  {
   "cell_type": "code",
   "execution_count": null,
   "metadata": {
    "collapsed": false
   },
   "outputs": [],
   "source": [
    "VideoIdList = df_Video_Event.VideoID.unique()\n",
    "VideoIdList.sort()\n",
    "print(VideoIdList)\n",
    "bins = range(df_Video_Event.VideoID.min(),df_Video_Event.VideoID.max()+1)\n",
    "df_Video_Event.VideoID.hist(bins=bins)"
   ]
  },
  {
   "cell_type": "code",
   "execution_count": null,
   "metadata": {
    "collapsed": false
   },
   "outputs": [],
   "source": [
    "df_Video_Event_sorted = df_Video_Event.sort_values(by=['SessionUserID','TimeStamp'])\n",
    "df_Video_Event_sorted.reset_index(drop=True, inplace=True)\n",
    "df_Video_Event_sorted.head(5)"
   ]
  },
  {
   "cell_type": "markdown",
   "metadata": {
    "collapsed": true
   },
   "source": [
    "### All Events"
   ]
  },
  {
   "cell_type": "code",
   "execution_count": null,
   "metadata": {
    "collapsed": false
   },
   "outputs": [],
   "source": [
    "df_All_Event_sorted = df_All_Event.sort_values(by=['SessionUserID','TimeStamp'])\n",
    "df_All_Event_sorted.reset_index(drop=True, inplace=True)\n",
    "df_All_Event_sorted.head(10)"
   ]
  },
  {
   "cell_type": "code",
   "execution_count": null,
   "metadata": {
    "collapsed": false
   },
   "outputs": [],
   "source": [
    "# found this here: \n",
    "# http://stackoverflow.com/questions/19530568/can-pandas-groupby-aggregate-into-a-list-rather-than-sum-mean-etc\n",
    "# the big idea is to be able to manipulate the tuples with something like apply(func) later on.\n",
    "df_All_Event_sorted.groupby(['SessionUserID']).agg(lambda x: tuple(x)).head(50)\n",
    "# That takes long time and I have no idea how to manipulate it afterward"
   ]
  },
  {
   "cell_type": "code",
   "execution_count": null,
   "metadata": {
    "collapsed": true
   },
   "outputs": [],
   "source": []
  },
  {
   "cell_type": "code",
   "execution_count": null,
   "metadata": {
    "collapsed": true
   },
   "outputs": [],
   "source": []
  },
  {
   "cell_type": "code",
   "execution_count": null,
   "metadata": {
    "collapsed": true
   },
   "outputs": [],
   "source": []
  }
 ],
 "metadata": {
  "anaconda-cloud": {},
  "kernelspec": {
   "display_name": "Python [Root]",
   "language": "python",
   "name": "Python [Root]"
  },
  "language_info": {
   "codemirror_mode": {
    "name": "ipython",
    "version": 3
   },
   "file_extension": ".py",
   "mimetype": "text/x-python",
   "name": "python",
   "nbconvert_exporter": "python",
   "pygments_lexer": "ipython3",
   "version": "3.5.2"
  }
 },
 "nbformat": 4,
 "nbformat_minor": 0
}
