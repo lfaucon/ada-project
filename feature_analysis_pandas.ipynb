{
 "cells": [
  {
   "cell_type": "markdown",
   "metadata": {},
   "source": [
    "# Feature Analysis"
   ]
  },
  {
   "cell_type": "code",
   "execution_count": 1,
   "metadata": {
    "collapsed": false
   },
   "outputs": [
    {
     "data": {
      "text/plain": [
       "8"
      ]
     },
     "execution_count": 1,
     "metadata": {},
     "output_type": "execute_result"
    }
   ],
   "source": [
    "from pyspark import SparkContext\n",
    "import json\n",
    "import utils\n",
    "import pprint\n",
    "pp = pprint.PrettyPrinter(indent=4)\n",
    "\n",
    "import numpy as np\n",
    "import pandas as pd\n",
    "import matplotlib.pyplot as plt\n",
    "%matplotlib inline\n",
    "\n",
    "sc = SparkContext(\"local[*]\", \"ADA\")\n",
    "sc.defaultParallelism"
   ]
  },
  {
   "cell_type": "code",
   "execution_count": 2,
   "metadata": {
    "collapsed": false
   },
   "outputs": [
    {
     "data": {
      "text/plain": [
       "49344"
      ]
     },
     "execution_count": 2,
     "metadata": {},
     "output_type": "execute_result"
    }
   ],
   "source": [
    "rdd_features = sc.textFile('data/spark/features/').map(json.loads)\n",
    "rdd_features.count()"
   ]
  },
  {
   "cell_type": "code",
   "execution_count": 3,
   "metadata": {
    "collapsed": false
   },
   "outputs": [
    {
     "data": {
      "text/html": [
       "<div>\n",
       "<table border=\"1\" class=\"dataframe\">\n",
       "  <thead>\n",
       "    <tr style=\"text-align: right;\">\n",
       "      <th></th>\n",
       "      <th>firstProblemGrade</th>\n",
       "      <th>increaseGradeFromFirstToLastProblem</th>\n",
       "      <th>lastProblemGrade</th>\n",
       "      <th>percentageImprovedBetweenFirstAndLastProblem</th>\n",
       "      <th>proportionOfProblemEvents</th>\n",
       "      <th>repeatedVideoBeforeFirstProblem</th>\n",
       "      <th>timeBetweenFirstAndLastProblem</th>\n",
       "      <th>timeBetweenStartAndFirstProblem</th>\n",
       "      <th>timeBetweenStartAndLastProblem</th>\n",
       "      <th>totalNumberOfProblemSubmissions</th>\n",
       "      <th>totalNumberOfVideoWatched</th>\n",
       "      <th>watchedAllVideosBeforeFirstProblem</th>\n",
       "      <th>watchedSomeVideoAfterFirstProblem</th>\n",
       "    </tr>\n",
       "  </thead>\n",
       "  <tbody>\n",
       "    <tr>\n",
       "      <th>0</th>\n",
       "      <td>9.69</td>\n",
       "      <td>1.0</td>\n",
       "      <td>10.0</td>\n",
       "      <td>0.999968</td>\n",
       "      <td>0.033898</td>\n",
       "      <td>1.0</td>\n",
       "      <td>0.009236</td>\n",
       "      <td>8.520023</td>\n",
       "      <td>8.529259</td>\n",
       "      <td>2</td>\n",
       "      <td>26</td>\n",
       "      <td>True</td>\n",
       "      <td>0.0</td>\n",
       "    </tr>\n",
       "    <tr>\n",
       "      <th>1</th>\n",
       "      <td>10.00</td>\n",
       "      <td>0.0</td>\n",
       "      <td>10.0</td>\n",
       "      <td>0.000000</td>\n",
       "      <td>0.015152</td>\n",
       "      <td>1.0</td>\n",
       "      <td>0.000000</td>\n",
       "      <td>4.715845</td>\n",
       "      <td>4.715845</td>\n",
       "      <td>1</td>\n",
       "      <td>57</td>\n",
       "      <td>True</td>\n",
       "      <td>0.0</td>\n",
       "    </tr>\n",
       "    <tr>\n",
       "      <th>2</th>\n",
       "      <td>10.00</td>\n",
       "      <td>0.0</td>\n",
       "      <td>10.0</td>\n",
       "      <td>0.000000</td>\n",
       "      <td>0.010526</td>\n",
       "      <td>1.0</td>\n",
       "      <td>0.000000</td>\n",
       "      <td>6.102060</td>\n",
       "      <td>6.102060</td>\n",
       "      <td>1</td>\n",
       "      <td>94</td>\n",
       "      <td>True</td>\n",
       "      <td>0.0</td>\n",
       "    </tr>\n",
       "    <tr>\n",
       "      <th>3</th>\n",
       "      <td>9.58</td>\n",
       "      <td>1.0</td>\n",
       "      <td>10.0</td>\n",
       "      <td>0.999976</td>\n",
       "      <td>0.039216</td>\n",
       "      <td>1.0</td>\n",
       "      <td>0.005590</td>\n",
       "      <td>2.375741</td>\n",
       "      <td>2.381331</td>\n",
       "      <td>2</td>\n",
       "      <td>49</td>\n",
       "      <td>True</td>\n",
       "      <td>0.0</td>\n",
       "    </tr>\n",
       "    <tr>\n",
       "      <th>4</th>\n",
       "      <td>7.09</td>\n",
       "      <td>1.0</td>\n",
       "      <td>10.0</td>\n",
       "      <td>0.999997</td>\n",
       "      <td>0.750000</td>\n",
       "      <td>0.0</td>\n",
       "      <td>6.030475</td>\n",
       "      <td>5.967859</td>\n",
       "      <td>11.998333</td>\n",
       "      <td>9</td>\n",
       "      <td>3</td>\n",
       "      <td>True</td>\n",
       "      <td>0.0</td>\n",
       "    </tr>\n",
       "  </tbody>\n",
       "</table>\n",
       "</div>"
      ],
      "text/plain": [
       "   firstProblemGrade  increaseGradeFromFirstToLastProblem  lastProblemGrade  \\\n",
       "0               9.69                                  1.0              10.0   \n",
       "1              10.00                                  0.0              10.0   \n",
       "2              10.00                                  0.0              10.0   \n",
       "3               9.58                                  1.0              10.0   \n",
       "4               7.09                                  1.0              10.0   \n",
       "\n",
       "   percentageImprovedBetweenFirstAndLastProblem  proportionOfProblemEvents  \\\n",
       "0                                      0.999968                   0.033898   \n",
       "1                                      0.000000                   0.015152   \n",
       "2                                      0.000000                   0.010526   \n",
       "3                                      0.999976                   0.039216   \n",
       "4                                      0.999997                   0.750000   \n",
       "\n",
       "   repeatedVideoBeforeFirstProblem  timeBetweenFirstAndLastProblem  \\\n",
       "0                              1.0                        0.009236   \n",
       "1                              1.0                        0.000000   \n",
       "2                              1.0                        0.000000   \n",
       "3                              1.0                        0.005590   \n",
       "4                              0.0                        6.030475   \n",
       "\n",
       "   timeBetweenStartAndFirstProblem  timeBetweenStartAndLastProblem  \\\n",
       "0                         8.520023                        8.529259   \n",
       "1                         4.715845                        4.715845   \n",
       "2                         6.102060                        6.102060   \n",
       "3                         2.375741                        2.381331   \n",
       "4                         5.967859                       11.998333   \n",
       "\n",
       "   totalNumberOfProblemSubmissions  totalNumberOfVideoWatched  \\\n",
       "0                                2                         26   \n",
       "1                                1                         57   \n",
       "2                                1                         94   \n",
       "3                                2                         49   \n",
       "4                                9                          3   \n",
       "\n",
       "  watchedAllVideosBeforeFirstProblem  watchedSomeVideoAfterFirstProblem  \n",
       "0                               True                                0.0  \n",
       "1                               True                                0.0  \n",
       "2                               True                                0.0  \n",
       "3                               True                                0.0  \n",
       "4                               True                                0.0  "
      ]
     },
     "execution_count": 3,
     "metadata": {},
     "output_type": "execute_result"
    }
   ],
   "source": [
    "df = pd.DataFrame(rdd_features.map(lambda x: x['features']).collect())\n",
    "df.head()"
   ]
  },
  {
   "cell_type": "markdown",
   "metadata": {},
   "source": [
    "# Cleaning"
   ]
  },
  {
   "cell_type": "code",
   "execution_count": 4,
   "metadata": {
    "collapsed": true
   },
   "outputs": [],
   "source": [
    "df = df[df.timeBetweenStartAndLastProblem<15]"
   ]
  },
  {
   "cell_type": "code",
   "execution_count": 5,
   "metadata": {
    "collapsed": true
   },
   "outputs": [],
   "source": [
    "df = df[df.totalNumberOfProblemSubmissions>1]"
   ]
  },
  {
   "cell_type": "markdown",
   "metadata": {},
   "source": [
    "# Feature evaluation"
   ]
  },
  {
   "cell_type": "code",
   "execution_count": 6,
   "metadata": {
    "collapsed": false
   },
   "outputs": [
    {
     "data": {
      "text/plain": [
       "<matplotlib.collections.PathCollection at 0x7f17b3ccab38>"
      ]
     },
     "execution_count": 6,
     "metadata": {},
     "output_type": "execute_result"
    },
    {
     "data": {
      "image/png": "[encoded data removed]",
      "text/plain": [
       "<matplotlib.figure.Figure at 0x7f17bb3fafd0>"
      ]
     },
     "metadata": {},
     "output_type": "display_data"
    }
   ],
   "source": [
    "x= 'firstProblemGrade'\n",
    "y= 'lastProblemGrade'\n",
    "\n",
    "plt.scatter(df[x],df[y])"
   ]
  },
  {
   "cell_type": "code",
   "execution_count": 7,
   "metadata": {
    "collapsed": false
   },
   "outputs": [
    {
     "data": {
      "image/png": "[encoded data removed]",
      "text/plain": [
       "<matplotlib.figure.Figure at 0x7f17ba95b7f0>"
      ]
     },
     "metadata": {},
     "output_type": "display_data"
    }
   ],
   "source": [
    "heatmap, xedges, yedges = np.histogram2d(df[x], df[y], bins=10)\n",
    "extent = [xedges[0], xedges[-1], yedges[0], yedges[-1]]\n",
    "\n",
    "plt.imshow(heatmap.T, extent=extent, origin='lower')\n",
    "plt.show()"
   ]
  },
  {
   "cell_type": "markdown",
   "metadata": {},
   "source": [
    "# Kmeans"
   ]
  },
  {
   "cell_type": "code",
   "execution_count": 8,
   "metadata": {
    "collapsed": false
   },
   "outputs": [
    {
     "name": "stdout",
     "output_type": "stream",
     "text": [
      "(21887, 13)\n"
     ]
    },
    {
     "data": {
      "text/html": [
       "<div>\n",
       "<table border=\"1\" class=\"dataframe\">\n",
       "  <thead>\n",
       "    <tr style=\"text-align: right;\">\n",
       "      <th></th>\n",
       "      <th>firstProblemGrade</th>\n",
       "      <th>increaseGradeFromFirstToLastProblem</th>\n",
       "      <th>lastProblemGrade</th>\n",
       "      <th>percentageImprovedBetweenFirstAndLastProblem</th>\n",
       "      <th>proportionOfProblemEvents</th>\n",
       "      <th>repeatedVideoBeforeFirstProblem</th>\n",
       "      <th>timeBetweenFirstAndLastProblem</th>\n",
       "      <th>timeBetweenStartAndFirstProblem</th>\n",
       "      <th>timeBetweenStartAndLastProblem</th>\n",
       "      <th>totalNumberOfProblemSubmissions</th>\n",
       "      <th>totalNumberOfVideoWatched</th>\n",
       "      <th>watchedAllVideosBeforeFirstProblem</th>\n",
       "      <th>watchedSomeVideoAfterFirstProblem</th>\n",
       "    </tr>\n",
       "  </thead>\n",
       "  <tbody>\n",
       "    <tr>\n",
       "      <th>0</th>\n",
       "      <td>0.698683</td>\n",
       "      <td>0.285535</td>\n",
       "      <td>0.340049</td>\n",
       "      <td>0.482665</td>\n",
       "      <td>-0.777207</td>\n",
       "      <td>0.613333</td>\n",
       "      <td>-0.409931</td>\n",
       "      <td>1.057706</td>\n",
       "      <td>0.857416</td>\n",
       "      <td>-0.538211</td>\n",
       "      <td>-0.142281</td>\n",
       "      <td>0.564340</td>\n",
       "      <td>-0.297982</td>\n",
       "    </tr>\n",
       "    <tr>\n",
       "      <th>3</th>\n",
       "      <td>0.650715</td>\n",
       "      <td>0.285535</td>\n",
       "      <td>0.340049</td>\n",
       "      <td>0.482691</td>\n",
       "      <td>-0.757767</td>\n",
       "      <td>0.613333</td>\n",
       "      <td>-0.412303</td>\n",
       "      <td>-0.542652</td>\n",
       "      <td>-0.679050</td>\n",
       "      <td>-0.538211</td>\n",
       "      <td>0.190744</td>\n",
       "      <td>0.564340</td>\n",
       "      <td>-0.297982</td>\n",
       "    </tr>\n",
       "    <tr>\n",
       "      <th>4</th>\n",
       "      <td>-0.435111</td>\n",
       "      <td>0.285535</td>\n",
       "      <td>0.340049</td>\n",
       "      <td>0.482755</td>\n",
       "      <td>1.840852</td>\n",
       "      <td>-1.630361</td>\n",
       "      <td>3.507663</td>\n",
       "      <td>0.392962</td>\n",
       "      <td>1.724393</td>\n",
       "      <td>4.202430</td>\n",
       "      <td>-0.475306</td>\n",
       "      <td>0.564340</td>\n",
       "      <td>-0.297982</td>\n",
       "    </tr>\n",
       "    <tr>\n",
       "      <th>6</th>\n",
       "      <td>0.807702</td>\n",
       "      <td>0.285535</td>\n",
       "      <td>0.340049</td>\n",
       "      <td>0.482242</td>\n",
       "      <td>2.754849</td>\n",
       "      <td>-1.630361</td>\n",
       "      <td>-0.413418</td>\n",
       "      <td>-1.161444</td>\n",
       "      <td>-1.273214</td>\n",
       "      <td>-0.538211</td>\n",
       "      <td>-0.518744</td>\n",
       "      <td>-1.771901</td>\n",
       "      <td>-0.297982</td>\n",
       "    </tr>\n",
       "    <tr>\n",
       "      <th>7</th>\n",
       "      <td>0.075097</td>\n",
       "      <td>0.285535</td>\n",
       "      <td>0.340049</td>\n",
       "      <td>0.482748</td>\n",
       "      <td>0.926855</td>\n",
       "      <td>0.613333</td>\n",
       "      <td>-0.401279</td>\n",
       "      <td>-0.996521</td>\n",
       "      <td>-1.110306</td>\n",
       "      <td>0.139024</td>\n",
       "      <td>-0.475306</td>\n",
       "      <td>-1.771901</td>\n",
       "      <td>-0.297982</td>\n",
       "    </tr>\n",
       "  </tbody>\n",
       "</table>\n",
       "</div>"
      ],
      "text/plain": [
       "   firstProblemGrade  increaseGradeFromFirstToLastProblem  lastProblemGrade  \\\n",
       "0           0.698683                             0.285535          0.340049   \n",
       "3           0.650715                             0.285535          0.340049   \n",
       "4          -0.435111                             0.285535          0.340049   \n",
       "6           0.807702                             0.285535          0.340049   \n",
       "7           0.075097                             0.285535          0.340049   \n",
       "\n",
       "   percentageImprovedBetweenFirstAndLastProblem  proportionOfProblemEvents  \\\n",
       "0                                      0.482665                  -0.777207   \n",
       "3                                      0.482691                  -0.757767   \n",
       "4                                      0.482755                   1.840852   \n",
       "6                                      0.482242                   2.754849   \n",
       "7                                      0.482748                   0.926855   \n",
       "\n",
       "   repeatedVideoBeforeFirstProblem  timeBetweenFirstAndLastProblem  \\\n",
       "0                         0.613333                       -0.409931   \n",
       "3                         0.613333                       -0.412303   \n",
       "4                        -1.630361                        3.507663   \n",
       "6                        -1.630361                       -0.413418   \n",
       "7                         0.613333                       -0.401279   \n",
       "\n",
       "   timeBetweenStartAndFirstProblem  timeBetweenStartAndLastProblem  \\\n",
       "0                         1.057706                        0.857416   \n",
       "3                        -0.542652                       -0.679050   \n",
       "4                         0.392962                        1.724393   \n",
       "6                        -1.161444                       -1.273214   \n",
       "7                        -0.996521                       -1.110306   \n",
       "\n",
       "   totalNumberOfProblemSubmissions  totalNumberOfVideoWatched  \\\n",
       "0                        -0.538211                  -0.142281   \n",
       "3                        -0.538211                   0.190744   \n",
       "4                         4.202430                  -0.475306   \n",
       "6                        -0.538211                  -0.518744   \n",
       "7                         0.139024                  -0.475306   \n",
       "\n",
       "   watchedAllVideosBeforeFirstProblem  watchedSomeVideoAfterFirstProblem  \n",
       "0                            0.564340                          -0.297982  \n",
       "3                            0.564340                          -0.297982  \n",
       "4                            0.564340                          -0.297982  \n",
       "6                           -1.771901                          -0.297982  \n",
       "7                           -1.771901                          -0.297982  "
      ]
     },
     "execution_count": 8,
     "metadata": {},
     "output_type": "execute_result"
    }
   ],
   "source": [
    "FEATURES = list(df.columns)\n",
    "\n",
    "FEATURE_AVG = {}\n",
    "FEATURE_STD = {} \n",
    "for feature in FEATURES:\n",
    "    FEATURE_AVG[feature] = df[feature].mean()\n",
    "    FEATURE_STD[feature] = df[feature].std()\n",
    "\n",
    "df_kmeans = pd.DataFrame([])\n",
    "for feature in FEATURES:\n",
    "    df_kmeans[feature] = df[feature].apply(lambda x: (x-FEATURE_AVG[feature])/FEATURE_STD[feature])\n",
    "\n",
    "print(df_kmeans.shape)\n",
    "df_kmeans.head()"
   ]
  },
  {
   "cell_type": "code",
   "execution_count": 9,
   "metadata": {
    "collapsed": false
   },
   "outputs": [
    {
     "name": "stdout",
     "output_type": "stream",
     "text": [
      "running Kmeans algorithm\n",
      "\n",
      "___________________\n",
      "\n",
      "student repartition\n",
      "0.113857541006\t0.158724356924\t0.72741810207\t\n",
      "___________________\n",
      "\n",
      "firstProblemGrade\n",
      "7.49862417551\t7.61754894823\t8.28258066924\t\n",
      "\n",
      "increaseGradeFromFirstToLastProblem\n",
      "0.38066586442\t0.969470046083\t1.0\t\n",
      "\n",
      "lastProblemGrade\n",
      "7.80237868929\t9.71897753592\t9.89397374111\t\n",
      "\n",
      "percentageImprovedBetweenFirstAndLastProblem\n",
      "0.0905744699031\t0.890510265889\t0.955239833292\t\n",
      "\n",
      "proportionOfProblemEvents\n",
      "0.202053654904\t0.733107309278\t0.147324721642\t\n",
      "\n",
      "repeatedVideoBeforeFirstProblem\n",
      "0.740874448456\t0.111463133641\t0.858560482351\t\n",
      "\n",
      "timeBetweenFirstAndLastProblem\n",
      "0.854440363574\t0.733469822069\t0.585064970958\t\n",
      "\n",
      "timeBetweenStartAndFirstProblem\n",
      "5.61574073146\t0.701970489445\t5.09736299966\t\n",
      "\n",
      "timeBetweenStartAndLastProblem\n",
      "6.47018109503\t1.43544031151\t5.68242797062\t\n",
      "\n",
      "totalNumberOfProblemSubmissions\n",
      "2.58443642198\t3.16359447005\t2.74720512498\t\n",
      "\n",
      "totalNumberOfVideoWatched\n",
      "31.7380665864\t2.45564516129\t43.7435623665\t\n",
      "\n",
      "watchedAllVideosBeforeFirstProblem\n",
      "0.795427196149\t0.103398617512\t0.895490516267\t\n",
      "\n",
      "watchedSomeVideoAfterFirstProblem\n",
      "0.0954673084637\t0.0941820276498\t0.0766235397563\t\n",
      "\n",
      "\n",
      "___________________\n",
      "\n"
     ]
    }
   ],
   "source": [
    "from sklearn.cluster import KMeans\n",
    "\n",
    "print('running Kmeans algorithm')\n",
    "print('\\n___________________\\n')\n",
    "\n",
    "kmeansModel = KMeans(n_clusters=3)\n",
    "kmeansModel.fit(df_kmeans)\n",
    "\n",
    "centers = kmeansModel.cluster_centers_\n",
    "labels = kmeansModel.labels_\n",
    "\n",
    "print('student repartition')\n",
    "for index in range(len(centers)):\n",
    "    print(sum([label==index for label in labels])/len(labels),end='\\t')\n",
    "print('\\n___________________\\n')\n",
    "\n",
    "for index in range(len(FEATURES)):\n",
    "    feature = FEATURES[index]\n",
    "    print(feature)\n",
    "    for center in centers:\n",
    "        print((center[index]*FEATURE_STD[feature])+FEATURE_AVG[feature],end='\\t')\n",
    "    print('\\n') \n",
    "\n",
    "\n",
    "print('\\n___________________\\n')"
   ]
  },
  {
   "cell_type": "code",
   "execution_count": 10,
   "metadata": {
    "collapsed": false
   },
   "outputs": [
    {
     "data": {
      "text/plain": [
       "['firstProblemGrade',\n",
       " 'increaseGradeFromFirstToLastProblem',\n",
       " 'lastProblemGrade',\n",
       " 'percentageImprovedBetweenFirstAndLastProblem',\n",
       " 'proportionOfProblemEvents',\n",
       " 'repeatedVideoBeforeFirstProblem',\n",
       " 'timeBetweenFirstAndLastProblem',\n",
       " 'timeBetweenStartAndFirstProblem',\n",
       " 'timeBetweenStartAndLastProblem',\n",
       " 'totalNumberOfProblemSubmissions',\n",
       " 'totalNumberOfVideoWatched',\n",
       " 'watchedAllVideosBeforeFirstProblem',\n",
       " 'watchedSomeVideoAfterFirstProblem']"
      ]
     },
     "execution_count": 10,
     "metadata": {},
     "output_type": "execute_result"
    }
   ],
   "source": [
    "FEATURES"
   ]
  },
  {
   "cell_type": "code",
   "execution_count": 11,
   "metadata": {
    "collapsed": false
   },
   "outputs": [
    {
     "data": {
      "image/png": "[encoded data removed]",
      "text/plain": [
       "<matplotlib.figure.Figure at 0x7f17b27ba438>"
      ]
     },
     "metadata": {},
     "output_type": "display_data"
    }
   ],
   "source": [
    "x = 'increaseGradeFromFirstToLastProblem'\n",
    "\n",
    "plt.hist((\n",
    "    df[[label==0 for label in labels]][x],\n",
    "    df[[label==1 for label in labels]][x],\n",
    "    df[[label==2 for label in labels]][x]), \n",
    "    10, normed=1, alpha=0.5\n",
    ")\n",
    "\n",
    "plt.show()"
   ]
  },
  {
   "cell_type": "markdown",
   "metadata": {
    "collapsed": true
   },
   "source": [
    "# ANOVA tests"
   ]
  },
  {
   "cell_type": "code",
   "execution_count": 12,
   "metadata": {
    "collapsed": false
   },
   "outputs": [
    {
     "name": "stdout",
     "output_type": "stream",
     "text": [
      "Ttest_indResult(statistic=-46.342971146440377, pvalue=0.0)\n",
      "Ttest_indResult(statistic=-20.081022952097069, pvalue=8.6381846494018151e-89)\n",
      "Ttest_indResult(statistic=109.36898125387512, pvalue=0.0)\n"
     ]
    }
   ],
   "source": [
    "from scipy import stats\n",
    "\n",
    "x = 'lastProblemGrade'\n",
    "\n",
    "print(stats.ttest_ind(\n",
    "    df_kmeans[[label==0 for label in labels]][x].values,\n",
    "    df_kmeans[[label==1 for label in labels]][x].values\n",
    "))\n",
    "\n",
    "print(stats.ttest_ind(\n",
    "    df_kmeans[[label==1 for label in labels]][x].values,\n",
    "    df_kmeans[[label==2 for label in labels]][x].values\n",
    "))\n",
    "\n",
    "print(stats.ttest_ind(\n",
    "    df_kmeans[[label==2 for label in labels]][x].values,\n",
    "    df_kmeans[[label==0 for label in labels]][x].values\n",
    "))"
   ]
  },
  {
   "cell_type": "markdown",
   "metadata": {
    "collapsed": true
   },
   "source": [
    "# PCA "
   ]
  },
  {
   "cell_type": "code",
   "execution_count": 13,
   "metadata": {
    "collapsed": false
   },
   "outputs": [
    {
     "name": "stdout",
     "output_type": "stream",
     "text": [
      "[  2.20034916e-01   1.72869356e-01   1.29964145e-01   1.04027410e-01\n",
      "   8.20791961e-02   6.77856334e-02   6.06403591e-02   5.54692594e-02\n",
      "   4.35381601e-02   3.42197484e-02   1.82123189e-02   1.11594979e-02\n",
      "   2.22487334e-31]\n"
     ]
    }
   ],
   "source": [
    "from sklearn.decomposition import PCA\n",
    "X = df_kmeans.values.tolist()\n",
    "pca = PCA(n_components=13, whiten=True)\n",
    "pca.fit(X)\n",
    "\n",
    "print(pca.explained_variance_ratio_)"
   ]
  },
  {
   "cell_type": "code",
   "execution_count": 14,
   "metadata": {
    "collapsed": false
   },
   "outputs": [
    {
     "name": "stdout",
     "output_type": "stream",
     "text": [
      "________________\n",
      "\n",
      "proportionOfProblemEvents -0.480516184465\n",
      "timeBetweenStartAndFirstProblem 0.444978333683\n",
      "timeBetweenStartAndLastProblem 0.432743528972\n",
      "[ 0.04512422 -0.00397592  0.02023743 -0.0045368  -0.48051618  0.39416961\n",
      "  0.01505713  0.44497833  0.43274353 -0.04445602  0.23568449  0.41015639\n",
      " -0.00109597]\n",
      "________________\n",
      "\n",
      "percentageImprovedBetweenFirstAndLastProblem -0.582651719407\n",
      "lastProblemGrade -0.514365624937\n",
      "increaseGradeFromFirstToLastProblem -0.462861204778\n",
      "[-0.25098895 -0.4628612  -0.51436562 -0.58265172  0.08370684 -0.08423457\n",
      "  0.17194688  0.12138329  0.1825154   0.10510499 -0.07294847 -0.05594797\n",
      "  0.08658241]\n",
      "________________\n",
      "\n",
      "totalNumberOfProblemSubmissions 0.47436309751\n",
      "timeBetweenFirstAndLastProblem 0.435263002621\n",
      "firstProblemGrade -0.423330754937\n",
      "[ -4.23330755e-01   3.69050540e-01  -3.85908467e-04   2.83770200e-01\n",
      "   1.08416513e-01  -6.31884301e-02   4.35263003e-01   9.08319146e-02\n",
      "   2.54344654e-01   4.74363098e-01  -3.63692079e-02  -6.86876731e-02\n",
      "   3.07999339e-01]\n",
      "________________\n",
      "\n",
      "timeBetweenStartAndFirstProblem -0.465652926445\n",
      "watchedSomeVideoAfterFirstProblem 0.429574070173\n",
      "totalNumberOfVideoWatched 0.423936481563\n",
      "[ -7.84554818e-02  -7.02140974e-02  -8.77404001e-02  -8.13043729e-02\n",
      "  -2.98092537e-01   3.54451290e-01   1.42530909e-01  -4.65652926e-01\n",
      "  -3.92049112e-01   7.07440546e-02   4.23936482e-01   3.22457642e-04\n",
      "   4.29574070e-01]\n",
      "________________\n",
      "\n",
      "firstProblemGrade 0.560610727471\n",
      "timeBetweenFirstAndLastProblem 0.485619382402\n",
      "lastProblemGrade 0.398563632434\n",
      "[ 0.56061073 -0.3042591   0.39856363 -0.05879078  0.06054035 -0.11880432\n",
      "  0.48561938  0.0195583   0.20529972 -0.05287665 -0.00915667 -0.15508666\n",
      "  0.32827541]\n",
      "________________\n",
      "\n",
      "totalNumberOfProblemSubmissions 0.594374761391\n",
      "watchedSomeVideoAfterFirstProblem -0.518052262873\n",
      "watchedAllVideosBeforeFirstProblem 0.388582679914\n",
      "[ 0.12850322 -0.18606809  0.14922368 -0.06754467  0.034874    0.12691376\n",
      "  0.23248458 -0.2284703  -0.12991819  0.59437476 -0.09449763  0.38858268\n",
      " -0.51805226]\n",
      "________________\n",
      "\n",
      "totalNumberOfVideoWatched 0.831014365864\n",
      "watchedAllVideosBeforeFirstProblem -0.273286433764\n",
      "watchedSomeVideoAfterFirstProblem -0.262275953917\n",
      "[ 0.02280682 -0.04496553  0.05353539 -0.01308375  0.20132248 -0.21091527\n",
      " -0.09627863  0.13895672  0.09634795  0.19360847  0.83101437 -0.27328643\n",
      " -0.26227595]\n",
      "________________\n",
      "\n",
      "timeBetweenFirstAndLastProblem -0.613598710603\n",
      "totalNumberOfProblemSubmissions 0.551513304055\n",
      "watchedSomeVideoAfterFirstProblem 0.396490964881\n",
      "[ 0.15027512 -0.15300878  0.15189081 -0.05223499  0.04001983  0.11570634\n",
      " -0.61359871  0.20517478 -0.03882545  0.5515133  -0.14267391 -0.10668414\n",
      "  0.39649096]\n",
      "________________\n",
      "\n",
      "watchedAllVideosBeforeFirstProblem 0.662947785415\n",
      "repeatedVideoBeforeFirstProblem -0.657308308834\n",
      "watchedSomeVideoAfterFirstProblem 0.291063103278\n",
      "[ 0.00785406 -0.00504546 -0.0159918   0.0011391  -0.01525462 -0.65730831\n",
      " -0.10439798 -0.04355939 -0.08189631 -0.00699837  0.15361988  0.66294779\n",
      "  0.2910631 ]\n",
      "________________\n",
      "\n",
      "firstProblemGrade 0.625986748646\n",
      "lastProblemGrade -0.606400931605\n",
      "increaseGradeFromFirstToLastProblem 0.456816217838\n",
      "[ 0.62598675  0.45681622 -0.60640093 -0.04556602  0.02309987  0.00591991\n",
      "  0.04938137 -0.00576754  0.0134341   0.16053168  0.01153527 -0.01255763\n",
      "  0.0194704 ]\n",
      "________________\n",
      "\n",
      "proportionOfProblemEvents 0.78339184205\n",
      "repeatedVideoBeforeFirstProblem 0.433236407273\n",
      "watchedAllVideosBeforeFirstProblem 0.35084682591\n",
      "[ 0.00225175  0.00760678 -0.00677896  0.00311493  0.78339184  0.43323641\n",
      " -0.0104215   0.03198746  0.02668914 -0.18241778  0.11999972  0.35084683\n",
      "  0.16084483]\n",
      "________________\n",
      "\n",
      "percentageImprovedBetweenFirstAndLastProblem 0.748568557379\n",
      "increaseGradeFromFirstToLastProblem -0.532186509783\n",
      "lastProblemGrade -0.390177662693\n",
      "[  6.14635598e-02  -5.32186510e-01  -3.90177663e-01   7.48568557e-01\n",
      "   1.14794621e-03   5.34270594e-03   2.23185992e-03   9.41584080e-03\n",
      "   9.89185558e-03   1.12884631e-02  -2.27088757e-04  -7.55991542e-03\n",
      "  -5.21932892e-04]\n",
      "________________\n",
      "\n",
      "timeBetweenStartAndLastProblem -0.695350819295\n",
      "timeBetweenStartAndFirstProblem 0.667194044375\n",
      "timeBetweenFirstAndLastProblem 0.267094262866\n",
      "[ -1.89911509e-16  -1.01842027e-16   1.45525990e-17   1.37994246e-17\n",
      "  -1.33857963e-15   3.09025312e-16   2.67094263e-01   6.67194044e-01\n",
      "  -6.95350819e-01   8.15019528e-17  -3.90633482e-18  -7.24969232e-17\n",
      "  -1.27141017e-16]\n",
      "________________\n",
      "\n"
     ]
    }
   ],
   "source": [
    "print('________________\\n')\n",
    "for component in pca.components_:\n",
    "    c_abs = [abs(c) for c in component]\n",
    "    indexes = [i[0] for i in sorted(enumerate(c_abs), key=lambda x:-x[1])]\n",
    "    for index in indexes[:3]:\n",
    "        print(FEATURES[index], component[index])\n",
    "    print(component)\n",
    "    print('________________\\n')"
   ]
  },
  {
   "cell_type": "code",
   "execution_count": null,
   "metadata": {
    "collapsed": false
   },
   "outputs": [],
   "source": []
  }
 ],
 "metadata": {
  "anaconda-cloud": {},
  "kernelspec": {
   "display_name": "Python [conda root]",
   "language": "python",
   "name": "conda-root-py"
  },
  "language_info": {
   "codemirror_mode": {
    "name": "ipython",
    "version": 3
   },
   "file_extension": ".py",
   "mimetype": "text/x-python",
   "name": "python",
   "nbconvert_exporter": "python",
   "pygments_lexer": "ipython3",
   "version": "3.5.2"
  }
 },
 "nbformat": 4,
 "nbformat_minor": 0
}
