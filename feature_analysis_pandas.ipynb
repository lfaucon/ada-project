{
 "cells": [
  {
   "cell_type": "markdown",
   "metadata": {},
   "source": [
    "# Analysis"
   ]
  },
  {
   "cell_type": "code",
   "execution_count": 1,
   "metadata": {
    "collapsed": false
   },
   "outputs": [
    {
     "data": {
      "text/plain": [
       "4"
      ]
     },
     "execution_count": 1,
     "metadata": {},
     "output_type": "execute_result"
    }
   ],
   "source": [
    "from pyspark import SparkContext\n",
    "import json\n",
    "import utils\n",
    "import pprint\n",
    "pp = pprint.PrettyPrinter(indent=4)\n",
    "\n",
    "import numpy as np\n",
    "import pandas as pd\n",
    "import matplotlib.pyplot as plt\n",
    "%matplotlib inline\n",
    "\n",
    "sc = SparkContext(\"local[*]\", \"ADA\")\n",
    "sc.defaultParallelism"
   ]
  },
  {
   "cell_type": "code",
   "execution_count": 2,
   "metadata": {
    "collapsed": false
   },
   "outputs": [
    {
     "data": {
      "text/plain": [
       "49344"
      ]
     },
     "execution_count": 2,
     "metadata": {},
     "output_type": "execute_result"
    }
   ],
   "source": [
    "rdd_features = sc.textFile('data/spark/features/').map(json.loads)\n",
    "rdd_features.count()"
   ]
  },
  {
   "cell_type": "code",
   "execution_count": 3,
   "metadata": {
    "collapsed": false
   },
   "outputs": [
    {
     "data": {
      "text/html": [
       "<div>\n",
       "<table border=\"1\" class=\"dataframe\">\n",
       "  <thead>\n",
       "    <tr style=\"text-align: right;\">\n",
       "      <th></th>\n",
       "      <th>firstProblemGrade</th>\n",
       "      <th>increaseGradeFromFirstToLastProblem</th>\n",
       "      <th>lastProblemGrade</th>\n",
       "      <th>percentageImprovedBetweenFirstAndLastProblem</th>\n",
       "      <th>proportionOfProblemEvents</th>\n",
       "      <th>repeatedVideoBeforeFirstProblem</th>\n",
       "      <th>timeBetweenFirstAndLastProblem</th>\n",
       "      <th>timeBetweenStartAndFirstProblem</th>\n",
       "      <th>timeBetweenStartAndLastProblem</th>\n",
       "      <th>totalNumberOfProblemSubmissions</th>\n",
       "      <th>totalNumberOfVideoWatched</th>\n",
       "      <th>watchedAllVideosBeforeFirstProblem</th>\n",
       "      <th>watchedSomeVideoAfterFirstProblem</th>\n",
       "    </tr>\n",
       "  </thead>\n",
       "  <tbody>\n",
       "    <tr>\n",
       "      <th>0</th>\n",
       "      <td>10.00</td>\n",
       "      <td>0.0</td>\n",
       "      <td>10.00</td>\n",
       "      <td>0.0</td>\n",
       "      <td>0.006993</td>\n",
       "      <td>1.0</td>\n",
       "      <td>0.000000</td>\n",
       "      <td>10.096863</td>\n",
       "      <td>10.096863</td>\n",
       "      <td>1</td>\n",
       "      <td>142</td>\n",
       "      <td>True</td>\n",
       "      <td>0.0</td>\n",
       "    </tr>\n",
       "    <tr>\n",
       "      <th>1</th>\n",
       "      <td>10.00</td>\n",
       "      <td>0.0</td>\n",
       "      <td>10.00</td>\n",
       "      <td>0.0</td>\n",
       "      <td>0.010309</td>\n",
       "      <td>1.0</td>\n",
       "      <td>0.000000</td>\n",
       "      <td>8.136968</td>\n",
       "      <td>8.136968</td>\n",
       "      <td>1</td>\n",
       "      <td>96</td>\n",
       "      <td>True</td>\n",
       "      <td>0.0</td>\n",
       "    </tr>\n",
       "    <tr>\n",
       "      <th>2</th>\n",
       "      <td>7.82</td>\n",
       "      <td>0.0</td>\n",
       "      <td>7.82</td>\n",
       "      <td>0.0</td>\n",
       "      <td>0.125000</td>\n",
       "      <td>1.0</td>\n",
       "      <td>0.000000</td>\n",
       "      <td>12.126215</td>\n",
       "      <td>12.126215</td>\n",
       "      <td>1</td>\n",
       "      <td>7</td>\n",
       "      <td>True</td>\n",
       "      <td>0.0</td>\n",
       "    </tr>\n",
       "    <tr>\n",
       "      <th>3</th>\n",
       "      <td>9.05</td>\n",
       "      <td>0.0</td>\n",
       "      <td>9.05</td>\n",
       "      <td>0.0</td>\n",
       "      <td>0.200000</td>\n",
       "      <td>0.0</td>\n",
       "      <td>0.000000</td>\n",
       "      <td>0.075822</td>\n",
       "      <td>0.075822</td>\n",
       "      <td>1</td>\n",
       "      <td>4</td>\n",
       "      <td>False</td>\n",
       "      <td>0.0</td>\n",
       "    </tr>\n",
       "    <tr>\n",
       "      <th>4</th>\n",
       "      <td>8.67</td>\n",
       "      <td>0.0</td>\n",
       "      <td>8.67</td>\n",
       "      <td>0.0</td>\n",
       "      <td>0.054054</td>\n",
       "      <td>1.0</td>\n",
       "      <td>0.035289</td>\n",
       "      <td>4.658252</td>\n",
       "      <td>4.693542</td>\n",
       "      <td>2</td>\n",
       "      <td>35</td>\n",
       "      <td>True</td>\n",
       "      <td>0.0</td>\n",
       "    </tr>\n",
       "  </tbody>\n",
       "</table>\n",
       "</div>"
      ],
      "text/plain": [
       "   firstProblemGrade  increaseGradeFromFirstToLastProblem  lastProblemGrade  \\\n",
       "0              10.00                                  0.0             10.00   \n",
       "1              10.00                                  0.0             10.00   \n",
       "2               7.82                                  0.0              7.82   \n",
       "3               9.05                                  0.0              9.05   \n",
       "4               8.67                                  0.0              8.67   \n",
       "\n",
       "   percentageImprovedBetweenFirstAndLastProblem  proportionOfProblemEvents  \\\n",
       "0                                           0.0                   0.006993   \n",
       "1                                           0.0                   0.010309   \n",
       "2                                           0.0                   0.125000   \n",
       "3                                           0.0                   0.200000   \n",
       "4                                           0.0                   0.054054   \n",
       "\n",
       "   repeatedVideoBeforeFirstProblem  timeBetweenFirstAndLastProblem  \\\n",
       "0                              1.0                        0.000000   \n",
       "1                              1.0                        0.000000   \n",
       "2                              1.0                        0.000000   \n",
       "3                              0.0                        0.000000   \n",
       "4                              1.0                        0.035289   \n",
       "\n",
       "   timeBetweenStartAndFirstProblem  timeBetweenStartAndLastProblem  \\\n",
       "0                        10.096863                       10.096863   \n",
       "1                         8.136968                        8.136968   \n",
       "2                        12.126215                       12.126215   \n",
       "3                         0.075822                        0.075822   \n",
       "4                         4.658252                        4.693542   \n",
       "\n",
       "   totalNumberOfProblemSubmissions  totalNumberOfVideoWatched  \\\n",
       "0                                1                        142   \n",
       "1                                1                         96   \n",
       "2                                1                          7   \n",
       "3                                1                          4   \n",
       "4                                2                         35   \n",
       "\n",
       "  watchedAllVideosBeforeFirstProblem  watchedSomeVideoAfterFirstProblem  \n",
       "0                               True                                0.0  \n",
       "1                               True                                0.0  \n",
       "2                               True                                0.0  \n",
       "3                              False                                0.0  \n",
       "4                               True                                0.0  "
      ]
     },
     "execution_count": 3,
     "metadata": {},
     "output_type": "execute_result"
    }
   ],
   "source": [
    "df = pd.DataFrame(rdd_features.map(lambda x: x['features']).collect())\n",
    "df.head()"
   ]
  },
  {
   "cell_type": "markdown",
   "metadata": {},
   "source": [
    "# Cleaning"
   ]
  },
  {
   "cell_type": "code",
   "execution_count": null,
   "metadata": {
    "collapsed": true
   },
   "outputs": [],
   "source": []
  },
  {
   "cell_type": "code",
   "execution_count": null,
   "metadata": {
    "collapsed": true
   },
   "outputs": [],
   "source": []
  },
  {
   "cell_type": "code",
   "execution_count": null,
   "metadata": {
    "collapsed": true
   },
   "outputs": [],
   "source": []
  },
  {
   "cell_type": "code",
   "execution_count": null,
   "metadata": {
    "collapsed": true
   },
   "outputs": [],
   "source": []
  },
  {
   "cell_type": "code",
   "execution_count": null,
   "metadata": {
    "collapsed": true
   },
   "outputs": [],
   "source": []
  },
  {
   "cell_type": "markdown",
   "metadata": {},
   "source": [
    "# Feature evaluation"
   ]
  },
  {
   "cell_type": "code",
   "execution_count": 9,
   "metadata": {
    "collapsed": false
   },
   "outputs": [
    {
     "data": {
      "text/plain": [
       "<matplotlib.collections.PathCollection at 0x1156d0978>"
      ]
     },
     "execution_count": 9,
     "metadata": {},
     "output_type": "execute_result"
    },
    {
     "data": {
      "image/png": "[encoded data removed]",
      "text/plain": [
       "<matplotlib.figure.Figure at 0x114f47358>"
      ]
     },
     "metadata": {},
     "output_type": "display_data"
    }
   ],
   "source": [
    "x= 'firstProblemGrade'\n",
    "y= 'watchedAllVideosBeforeFirstProblem'\n",
    "\n",
    "plt.scatter(df[x],df[y])"
   ]
  },
  {
   "cell_type": "code",
   "execution_count": 4,
   "metadata": {
    "collapsed": true
   },
   "outputs": [],
   "source": []
  },
  {
   "cell_type": "code",
   "execution_count": null,
   "metadata": {
    "collapsed": true
   },
   "outputs": [],
   "source": []
  },
  {
   "cell_type": "code",
   "execution_count": null,
   "metadata": {
    "collapsed": true
   },
   "outputs": [],
   "source": []
  },
  {
   "cell_type": "code",
   "execution_count": null,
   "metadata": {
    "collapsed": true
   },
   "outputs": [],
   "source": []
  }
 ],
 "metadata": {
  "anaconda-cloud": {},
  "kernelspec": {
   "display_name": "Python [Root]",
   "language": "python",
   "name": "Python [Root]"
  },
  "language_info": {
   "codemirror_mode": {
    "name": "ipython",
    "version": 3
   },
   "file_extension": ".py",
   "mimetype": "text/x-python",
   "name": "python",
   "nbconvert_exporter": "python",
   "pygments_lexer": "ipython3",
   "version": "3.5.2"
  }
 },
 "nbformat": 4,
 "nbformat_minor": 0
}
