{
 "cells": [
  {
   "cell_type": "markdown",
   "metadata": {},
   "source": [
    "# Preprocessing"
   ]
  },
  {
   "cell_type": "code",
   "execution_count": 1,
   "metadata": {
    "collapsed": false,
    "scrolled": true
   },
   "outputs": [
    {
     "data": {
      "text/plain": [
       "8"
      ]
     },
     "execution_count": 1,
     "metadata": {},
     "output_type": "execute_result"
    }
   ],
   "source": [
    "from pyspark import SparkContext\n",
    "\n",
    "# Defining the spark context\n",
    "sc = SparkContext(\"local[*]\", \"ADA\")\n",
    "# Display the parallelism of the current context\n",
    "sc.defaultParallelism"
   ]
  },
  {
   "cell_type": "code",
   "execution_count": 2,
   "metadata": {
    "collapsed": true
   },
   "outputs": [],
   "source": [
    "import utils"
   ]
  },
  {
   "cell_type": "markdown",
   "metadata": {},
   "source": [
    "# Configuration"
   ]
  },
  {
   "cell_type": "code",
   "execution_count": 3,
   "metadata": {
    "collapsed": true
   },
   "outputs": [],
   "source": [
    "config = {\n",
    "    'sessions': ['progfun-003']\n",
    "}"
   ]
  },
  {
   "cell_type": "markdown",
   "metadata": {},
   "source": [
    "# Importing the data"
   ]
  },
  {
   "cell_type": "markdown",
   "metadata": {},
   "source": [
    "## Meta data"
   ]
  },
  {
   "cell_type": "code",
   "execution_count": 4,
   "metadata": {
    "collapsed": false
   },
   "outputs": [],
   "source": [
    "meta = {}\n",
    "for session in config['sessions']:\n",
    "    meta[session] = {}"
   ]
  },
  {
   "cell_type": "code",
   "execution_count": 5,
   "metadata": {
    "collapsed": false,
    "scrolled": false
   },
   "outputs": [
    {
     "data": {
      "text/plain": [
       "{7: {'HardCloseTime': 1380452400, 'OpenTime': 1379242800},\n",
       " 21: {'HardCloseTime': 1381057200, 'OpenTime': 1379847600},\n",
       " 22: {'HardCloseTime': 1384689600, 'OpenTime': 1382875200},\n",
       " 23: {'HardCloseTime': 1382785200, 'OpenTime': 1381057200},\n",
       " 24: {'HardCloseTime': 1381662000, 'OpenTime': 1380452400},\n",
       " 25: {'HardCloseTime': 1383480000, 'OpenTime': 1382266800}}"
      ]
     },
     "execution_count": 5,
     "metadata": {},
     "output_type": "execute_result"
    }
   ],
   "source": [
    "for session in config['sessions']:\n",
    "    meta[session]['problems'] = {}\n",
    "    for ProblemID, data in (sc\n",
    "        .textFile('data/' + session + '_Problem_Events_with_Info.csv')\n",
    "        .filter(utils.filter_problems)\n",
    "        .map(utils.getHardCloseTime)\n",
    "        .reduceByKey(lambda a, b : a)\n",
    "        .collect()\n",
    "    ):\n",
    "        meta[session]['problems'][ProblemID] = data\n",
    "meta[config['sessions'][0]]['problems'] "
   ]
  },
  {
   "cell_type": "code",
   "execution_count": 6,
   "metadata": {
    "collapsed": false
   },
   "outputs": [
    {
     "data": {
      "text/plain": [
       "{2: {'OpenTime': 1348034580},\n",
       " 3: {'OpenTime': 1379242800},\n",
       " 4: {'OpenTime': 1379242800},\n",
       " 5: {'OpenTime': 1379242800},\n",
       " 6: {'OpenTime': 1379242800},\n",
       " 7: {'OpenTime': 1379242800},\n",
       " 8: {'OpenTime': 1379242800},\n",
       " 9: {'OpenTime': 1347974700},\n",
       " 10: {'OpenTime': 1347974760},\n",
       " 11: {'OpenTime': 1347974760},\n",
       " 12: {'OpenTime': 1347974760},\n",
       " 13: {'OpenTime': 1347974820},\n",
       " 21: {'OpenTime': 1379242800},\n",
       " 23: {'OpenTime': 1379242800},\n",
       " 25: {'OpenTime': 1379242800},\n",
       " 27: {'OpenTime': 1379242800},\n",
       " 29: {'OpenTime': 1379242800},\n",
       " 33: {'OpenTime': 1379242800},\n",
       " 35: {'OpenTime': 1379847600},\n",
       " 37: {'OpenTime': 1379847600},\n",
       " 39: {'OpenTime': 1379847600},\n",
       " 41: {'OpenTime': 1379847600},\n",
       " 43: {'OpenTime': 1379847600},\n",
       " 47: {'OpenTime': 1379847600},\n",
       " 49: {'OpenTime': 1379847600},\n",
       " 51: {'OpenTime': 1380452400},\n",
       " 53: {'OpenTime': 1380452400},\n",
       " 71: {'OpenTime': 1381057200},\n",
       " 73: {'OpenTime': 1381662000},\n",
       " 75: {'OpenTime': 1380452400},\n",
       " 77: {'OpenTime': 1381057200},\n",
       " 79: {'OpenTime': 1381057200},\n",
       " 81: {'OpenTime': 1381057200},\n",
       " 83: {'OpenTime': 1381057200},\n",
       " 85: {'OpenTime': 1381057200},\n",
       " 87: {'OpenTime': 1381057200},\n",
       " 89: {'OpenTime': 1381662000},\n",
       " 91: {'OpenTime': 1381662000},\n",
       " 93: {'OpenTime': 1381662000},\n",
       " 95: {'OpenTime': 1381662000},\n",
       " 97: {'OpenTime': 1381662000},\n",
       " 101: {'OpenTime': 1381662000},\n",
       " 103: {'OpenTime': 1382266800},\n",
       " 105: {'OpenTime': 1382266800},\n",
       " 107: {'OpenTime': 1382266800},\n",
       " 109: {'OpenTime': 1382266800},\n",
       " 111: {'OpenTime': 1382266800},\n",
       " 113: {'OpenTime': 1382266800},\n",
       " 115: {'OpenTime': 1382266800},\n",
       " 117: {'OpenTime': 1382875200},\n",
       " 119: {'OpenTime': 1382875200},\n",
       " 121: {'OpenTime': 1382875200},\n",
       " 123: {'OpenTime': 1382875200},\n",
       " 125: {'OpenTime': 1382875200},\n",
       " 127: {'OpenTime': 1382875200}}"
      ]
     },
     "execution_count": 6,
     "metadata": {},
     "output_type": "execute_result"
    }
   ],
   "source": [
    "for session in config['sessions']:\n",
    "    meta[session]['videos'] = {}\n",
    "    for VideoID, data in (sc\n",
    "        .textFile('data/' + session + '_Video_Info.csv')\n",
    "        .map(lambda x: x.split(','))\n",
    "        .filter(lambda x: \n",
    "            (not x[1] == 'None') \n",
    "            and (not x[1] == 'OpenTime') \n",
    "        )\n",
    "        .map(lambda x: (int(x[7]), { 'OpenTime': int(x[1]) }))\n",
    "        .reduceByKey(lambda a, b : a)\n",
    "        .collect()\n",
    "    ):\n",
    "        meta[session]['videos'][VideoID] = data\n",
    "meta[config['sessions'][0]]['videos']"
   ]
  },
  {
   "cell_type": "code",
   "execution_count": 7,
   "metadata": {
    "collapsed": false
   },
   "outputs": [
    {
     "name": "stdout",
     "output_type": "stream",
     "text": [
      "{21: [35, 37, 39, 41, 43, 47, 49], 22: [117, 119, 121, 123, 125, 127], 7: [3, 4, 5, 6, 7, 8, 21, 23, 25, 27, 29, 33], 24: [51, 53, 75], 25: [103, 105, 107, 109, 111, 113, 115], 23: [71, 77, 79, 81, 83, 85, 87]}\n",
      "{83: 23, 3: 7, 4: 7, 5: 7, 6: 7, 7: 7, 8: 7, 75: 24, 77: 23, 103: 25, 79: 23, 115: 25, 81: 23, 107: 25, 21: 7, 23: 7, 25: 7, 71: 23, 27: 7, 29: 7, 33: 7, 35: 21, 113: 25, 37: 21, 39: 21, 41: 21, 43: 21, 109: 25, 47: 21, 49: 21, 53: 24, 51: 24, 105: 25, 117: 22, 119: 22, 111: 25, 121: 22, 87: 23, 123: 22, 125: 22, 85: 23, 127: 22}\n"
     ]
    }
   ],
   "source": [
    "for session in config['sessions']:\n",
    "    meta[session]['matchingP'] = {}\n",
    "    meta[session]['matchingV'] = {}\n",
    "    for ProblemID in meta[session]['problems'].keys():\n",
    "        meta[session]['matchingP'][ProblemID] = []\n",
    "    for ProblemID in meta[session]['problems'].keys():\n",
    "        for VideoID in meta[session]['videos'].keys():\n",
    "            if meta[session]['problems'][ProblemID]['OpenTime'] == meta[session]['videos'][VideoID]['OpenTime']:\n",
    "                meta[session]['matchingP'][ProblemID].append(VideoID)\n",
    "                meta[session]['matchingV'][VideoID] = ProblemID\n",
    "print(meta[config['sessions'][0]]['matchingP'])\n",
    "print(meta[config['sessions'][0]]['matchingV'])"
   ]
  },
  {
   "cell_type": "markdown",
   "metadata": {},
   "source": [
    "## Importing Event Data"
   ]
  },
  {
   "cell_type": "code",
   "execution_count": 8,
   "metadata": {
    "collapsed": false
   },
   "outputs": [],
   "source": [
    "# Reading csv files: Create RDD () with one string entry per line in the file\n",
    "rdd_problem_events = sc.textFile(\"data/\"+session+\"_Problem_Events_with_Info.csv\")\n",
    "rdd_video_events = sc.textFile(\"data/\"+session+\"_Video_Events.csv\")\n",
    "rdd_forum_events = sc.textFile(\"data/\"+session+\"_Forum_Events.csv\")"
   ]
  },
  {
   "cell_type": "code",
   "execution_count": 9,
   "metadata": {
    "collapsed": false
   },
   "outputs": [
    {
     "name": "stdout",
     "output_type": "stream",
     "text": [
      "--- PROBLEM_EVENTS ---\n",
      "[(0, 'EventID'), (1, 'ForumUserID'), (2, 'MaximumSubmissions'), (3, 'AccountUserID'), (4, 'SubmissionNumber'), (5, 'Grade'), (6, 'TimeStamp'), (7, 'DataPackageID'), (8, 'ProblemID'), (9, 'SoftCloseTime'), (10, 'ProblemType'), (11, 'HardCloseTime'), (12, 'Platform'), (13, 'OpenTime'), (14, 'EventType'), (15, 'Title'), (16, 'SessionUserID'), (17, 'UniqueProblemID'), (18, 'UniqueUserID')] \n",
      "\n",
      "--- VIDEO_EVENTS ---\n",
      "[(0, 'EventID'), (1, 'ForumUserID'), (2, 'OldTime'), (3, 'AccountUserID'), (4, 'CurrentTime'), (5, 'SeekType'), (6, 'TimeStamp'), (7, 'DataPackageID'), (8, 'UniqueRowID'), (9, 'TableName'), (10, 'VideoID'), (11, 'Platform'), (12, 'NewSpeed'), (13, 'EventSource'), (14, 'EventType'), (15, 'SessionUserID'), (16, 'NewTime'), (17, 'OldSpeed')] \n",
      "\n",
      "--- FORUM_EVENTS ---\n",
      "[(0, 'EventID'), (1, 'ForumUserID'), (2, 'PostID'), (3, 'AccountUserID'), (4, 'TimeStamp'), (5, 'DataPackageID'), (6, 'UniqueRowID'), (7, 'TableName'), (8, 'Platform'), (9, 'EventSource'), (10, 'PostType'), (11, 'EventType'), (12, 'JoinID'), (13, 'SessionUserID')] \n",
      "\n"
     ]
    }
   ],
   "source": [
    "def printHeader(rdd):\n",
    "    print(list(enumerate(rdd.first().split(','))),'\\n')\n",
    "\n",
    "print(\"--- PROBLEM_EVENTS ---\")\n",
    "printHeader(rdd_problem_events)\n",
    "\n",
    "print(\"--- VIDEO_EVENTS ---\")\n",
    "printHeader(rdd_video_events)\n",
    "\n",
    "print(\"--- FORUM_EVENTS ---\")\n",
    "printHeader(rdd_forum_events)"
   ]
  },
  {
   "cell_type": "code",
   "execution_count": 10,
   "metadata": {
    "collapsed": false
   },
   "outputs": [],
   "source": [
    "def removeHeader(row):\n",
    "    return not row.startswith('EventID')\n",
    "\n",
    "rdd_problem_events = rdd_problem_events.filter(removeHeader)\n",
    "rdd_video_events = rdd_video_events.filter(removeHeader)\n",
    "rdd_forum_events = rdd_forum_events.filter(removeHeader)"
   ]
  },
  {
   "cell_type": "code",
   "execution_count": 11,
   "metadata": {
    "collapsed": false
   },
   "outputs": [],
   "source": [
    "rdd_problem_events_parsed = rdd_problem_events.filter(utils.filter_problems).map(utils.parse_problems)\n",
    "rdd_video_events_parsed = rdd_video_events.filter(utils.filter_videos).map(utils.parse_videos)\n",
    "rdd_forum_events_parsed = rdd_forum_events.filter(utils.filter_forums).map(utils.parse_forums)"
   ]
  },
  {
   "cell_type": "code",
   "execution_count": 12,
   "metadata": {
    "collapsed": false,
    "scrolled": false
   },
   "outputs": [
    {
     "name": "stdout",
     "output_type": "stream",
     "text": [
      "788672\n",
      "{'AccountUserID': '4754960', 'EventSubType': 'Load', 'DataPackageID': 'progfun-003', 'TimeStamp': 1384980685, 'EventType': 'Forum', 'SessionUserID': '365d40969bd5056c914e1c1cd2837a2193647da5'}\n"
     ]
    }
   ],
   "source": [
    "# Handles issue with the forum events table having 'AccountUserID' instead of 'SessionUserID'\n",
    "# Using the table progfun-002_User_Hash_Mapping\n",
    "rdd_user_mapping = sc.textFile(\"data/\"+config['sessions'][0]+\"_User_Hash_Mapping.csv\")\n",
    "\n",
    "def f(x):\n",
    "    x[1][1]['SessionUserID']=x[1][0] \n",
    "    return x[1][1]\n",
    "\n",
    "rdd_forum_events_parsed = (rdd_user_mapping\n",
    "    # INPUT of filter: Comma separated string\n",
    "    .filter(lambda x: not x.startswith(\"ForumUserID\"))\n",
    "    # INPUT of map: Comma separated string\n",
    "    .map(lambda x:(x.split(\",\")[1],x.split(\",\")[6]))\n",
    "    # INPUT of join:\n",
    "    # self= (key=AccountUserId (str), value=SessionUserId (str))\n",
    "    # arg= (key=AccountUserId (str), value=ForumEvent (dict))\n",
    "    .join(rdd_forum_events_parsed\n",
    "        # INPUT of map: ForumEvent (dict)\n",
    "        .map(lambda x: (x['AccountUserID'],x))\n",
    "    )\n",
    "    # (AccountUserId (str), (SessionUserId (str), ForumEvent (dict)))\n",
    "    .map(f)\n",
    ")\n",
    "\n",
    "print(rdd_forum_events_parsed.count())\n",
    "print(rdd_forum_events_parsed.take(1)[0])"
   ]
  },
  {
   "cell_type": "code",
   "execution_count": 13,
   "metadata": {
    "collapsed": false
   },
   "outputs": [
    {
     "name": "stdout",
     "output_type": "stream",
     "text": [
      "9027912\n",
      "{'EventSubType': 'Check', 'Grade': 10.0, 'Title': 'Functional Sets / Functional Sets', 'ProblemType': 'Assignment', 'HardCloseTime': 1381057200, 'ProblemID': 21, 'DataPackageID': 'progfun-003', 'TimeStamp': 1384935108, 'EventType': 'Problem', 'SessionUserID': '17bf18d86b2d7a5b7aa4cbe19816b7b55a50be24'}\n"
     ]
    }
   ],
   "source": [
    "# Concatenantes all three table into one big table\n",
    "rdd_events = (rdd_problem_events_parsed\n",
    "    .union(rdd_video_events_parsed)\n",
    "    .union(rdd_forum_events_parsed)\n",
    ")\n",
    "rdd_events.persist()\n",
    "print(rdd_events.count())\n",
    "print(rdd_events.first())"
   ]
  },
  {
   "cell_type": "markdown",
   "metadata": {},
   "source": [
    "# Patterns from event sequences"
   ]
  },
  {
   "cell_type": "code",
   "execution_count": 14,
   "metadata": {
    "collapsed": false
   },
   "outputs": [
    {
     "name": "stdout",
     "output_type": "stream",
     "text": [
      "Number of students: 26660\n"
     ]
    }
   ],
   "source": [
    "rdd_events_by_students = (rdd_events\n",
    "    # INPUT: Event (dict)\n",
    "    .map(lambda x: (x['SessionUserID'],x))\n",
    "    # INPUT: (SessionUserId (str), Event (dict))\n",
    "    .groupByKey()\n",
    "    # INPUT: (SessionUserId (str), [ Event (dict), ... ])\n",
    "    .map(lambda x: (x[0],sorted(x[1], key=(lambda event: event['TimeStamp']))))\n",
    ")\n",
    "\n",
    "rdd_events_by_students.persist()\n",
    "print(\"Number of students: %d\" % rdd_events_by_students.count()) "
   ]
  },
  {
   "cell_type": "code",
   "execution_count": 15,
   "metadata": {
    "collapsed": false
   },
   "outputs": [
    {
     "data": {
      "text/plain": [
       "PythonRDD[48] at RDD at PythonRDD.scala:48"
      ]
     },
     "execution_count": 15,
     "metadata": {},
     "output_type": "execute_result"
    }
   ],
   "source": [
    "# INPUT: (SessionStudentId (str), [ Event (dict), ... ])\n",
    "session = config['sessions'][0]\n",
    "\n",
    "def extractPatterns(x):\n",
    "    StudentID = x[0]\n",
    "    events = x[1]\n",
    "    \n",
    "    problemIDs = meta[session]['matchingP'].keys()\n",
    "    videoIDs = meta[session]['matchingV'].keys()\n",
    "    \n",
    "    patterns = {}\n",
    "    for ProblemID in problemIDs:\n",
    "        patterns[ProblemID] = []\n",
    "    \n",
    "    curProblem = -1\n",
    "    for event in events:\n",
    "        if event['EventType']=='Problem':\n",
    "            curProblem = event['ProblemID']\n",
    "            patterns[curProblem].append(event)\n",
    "        if event['EventType']=='Video':\n",
    "            if event['VideoID'] in videoIDs:\n",
    "                curProblem = meta[session]['matchingV'][event['VideoID']]\n",
    "                patterns[curProblem].append(event)\n",
    "        if event['EventType']=='Forum':\n",
    "            if curProblem>0:\n",
    "                patterns[curProblem].append(event)\n",
    "                \n",
    "    for ProblemID in problemIDs:\n",
    "        patternStr = utils.patternToString(patterns[ProblemID],'minimal')\n",
    "        lastProblemIndex = patternStr.rfind('P')\n",
    "        patterns[ProblemID] = patterns[ProblemID][:(lastProblemIndex+1)]\n",
    "    \n",
    "    return [ {\n",
    "        'StudentID': StudentID,\n",
    "        'ProblemID': ProblemID,\n",
    "        'Pattern': patterns[ProblemID]\n",
    "    } for ProblemID in problemIDs ] \n",
    "\n",
    "\n",
    "rdd_patterns = (rdd_events_by_students\n",
    "    # INPUT: (SessionStudentID (str), [ Event (dict), ... ] )\n",
    "    .flatMap(extractPatterns)\n",
    ")\n",
    "\n",
    "rdd_patterns.persist()"
   ]
  },
  {
   "cell_type": "code",
   "execution_count": 16,
   "metadata": {
    "collapsed": false
   },
   "outputs": [],
   "source": [
    "def cutAfterHardCloseTime(item):\n",
    "    StudentID = item['StudentID']\n",
    "    ProblemID = item['ProblemID']\n",
    "    Pattern = item['Pattern']\n",
    "        \n",
    "    return {\n",
    "        'StudentID': StudentID,\n",
    "        'ProblemID': ProblemID,\n",
    "        'Pattern': [event for event in Pattern if event['TimeStamp'] < meta[session]['problems'][ProblemID]['HardCloseTime']]\n",
    "    }\n",
    "\n",
    "rdd_patterns = (rdd_patterns\n",
    "    .map(cutAfterHardCloseTime)\n",
    ")"
   ]
  },
  {
   "cell_type": "code",
   "execution_count": 17,
   "metadata": {
    "collapsed": false
   },
   "outputs": [
    {
     "data": {
      "text/plain": [
       "PythonRDD[49] at RDD at PythonRDD.scala:48"
      ]
     },
     "execution_count": 17,
     "metadata": {},
     "output_type": "execute_result"
    }
   ],
   "source": [
    "rdd_patterns = (rdd_patterns\n",
    "    .filter(lambda x: 'P' in utils.patternToString(x['Pattern'], 'minimal'))\n",
    ")\n",
    "\n",
    "rdd_patterns.persist()"
   ]
  },
  {
   "cell_type": "code",
   "execution_count": 18,
   "metadata": {
    "collapsed": false,
    "scrolled": false
   },
   "outputs": [
    {
     "name": "stdout",
     "output_type": "stream",
     "text": [
      "21 \t 2d84329202510c31f835d09699bc0c009a02f051\t>>>  V35 V35 V35 V35 V35 V35 V35 V35 V35 V35 V35 V35 V35 V35 V35 V35 V35 V35 V35 V35 V35 V35 V35 V35 V35 F F V37 V37 V37 V37 V37 V37 V37 V37 V37 V37 V37 P21 \n",
      "7 \t 2d84329202510c31f835d09699bc0c009a02f051\t>>>  V8 V8 V8 V8 V8 V8 V8 V8 V8 V8 V8 V3 V3 V3 F F F V3 F F F F F F F V3 V3 V3 V8 V8 V8 V8 V8 V8 V8 V8 V8 V8 V8 V8 V8 V8 V3 V3 V3 V3 V3 V3 V3 V3 V3 V3 V3 V3 V3 V3 V4 V4 V4 V5 V5 V5 V5 V5 V5 F F F F F F F F F F F F V6 V6 V6 V6 V6 F F F F V6 V6 V6 V6 V6 V6 V6 V6 V6 V6 V6 V6 V6 V6 V6 V6 V6 V6 V6 V6 V6 V6 V6 V6 V6 V6 V6 V6 V6 V7 V7 V7 V7 V7 V7 V7 V7 V7 V7 V7 V7 V7 V7 V7 V7 V7 V7 V7 V7 V7 V7 V7 V33 V33 V33 V33 V33 V33 V33 V33 V33 V33 V33 V33 V33 V33 V33 V33 V33 V33 V33 V33 V33 V33 V33 V33 V33 V33 V33 V33 V33 V33 V33 V33 V33 V33 V33 V33 V33 V33 F F F F P7 P7 \n",
      "21 \t a53f4f24fdc3791e35da6d45cda5126e73b367a8\t>>>  V35 V35 P21 P21 \n",
      "7 \t a53f4f24fdc3791e35da6d45cda5126e73b367a8\t>>>  V8 V8 V8 F F F F F F F F F F F V3 V3 V3 V3 V3 V3 V3 V3 V3 V3 F F F F F F F F F F F F F F F F F F F P7 P7 \n",
      "24 \t a53f4f24fdc3791e35da6d45cda5126e73b367a8\t>>>  V51 V51 V51 V51 V51 V51 V51 V51 V51 V51 V51 V51 V51 V51 V51 V51 V51 V51 V51 V51 V51 V51 V51 V51 V51 V51 V51 F F F F F F F V51 V51 V53 V53 V53 V53 V53 V53 V53 V53 V53 V53 V51 V51 V53 V53 V53 V53 V53 V53 V53 V53 V53 V53 V53 V53 V53 V53 V53 V53 V53 V53 V53 V53 V53 V75 V75 V75 V75 V75 V75 V75 V75 V75 V75 V75 V75 V75 V75 V75 V75 V75 V75 V75 V75 V75 V53 V75 V53 V75 V75 V75 V75 V75 V75 V75 P24 P24 \n",
      "21 \t 5633e887bf7076847298b07d3a5d4e8b369ce32e\t>>>  P21 P21 \n",
      "7 \t 5633e887bf7076847298b07d3a5d4e8b369ce32e\t>>>  V8 V8 V8 V8 V8 V8 F F F F F P7 P7 \n",
      "24 \t 5633e887bf7076847298b07d3a5d4e8b369ce32e\t>>>  P24 V75 V75 V75 V75 V75 V75 V75 V75 V75 V75 V51 V51 V51 V51 V51 V51 V51 V51 V51 V51 V51 V51 V51 V51 V51 V51 V51 V51 V51 V51 V51 V51 V51 V51 V51 V51 V51 V51 V51 V51 V51 V51 V51 V51 V51 V51 P24 \n",
      "7 \t 02c84ac5f183e763efa479f2872859241e088f4d\t>>>  V8 V8 V8 V8 V8 V3 V3 V3 V3 V3 V3 V3 V4 V4 V4 V4 V5 V5 V5 V5 V5 V5 V5 V5 V5 V5 V5 V5 V5 V5 V5 V5 V5 V5 V5 V5 V5 V6 V6 V6 V6 V6 V6 V6 V6 V6 V7 V7 V7 V7 V7 V33 V33 V33 V33 V33 V33 V33 V33 V33 V33 V33 V33 V33 V33 V33 V33 P7 \n",
      "21 \t 7989a196da5ea1d0677c25f7911231bda6c9c25d\t>>>  V35 V35 V35 F V35 V35 V35 V35 V35 V35 V35 V35 V35 V35 V35 V35 V35 V35 V35 V35 V35 V35 V35 V35 V35 V35 V35 V35 V35 V35 V35 V35 V35 V37 V37 V37 V37 V37 V37 V37 V37 V37 V37 V37 V37 V37 V37 V37 V37 V37 V37 V37 V37 V37 V37 V37 V37 V37 V39 V39 V39 V39 V39 V39 V39 V39 V39 V39 V39 V39 V39 V39 V39 V39 V39 V39 V39 V39 V39 V39 V39 V39 V39 V39 V39 V39 V41 V41 V41 V39 V39 F F P21 P21 \n",
      "\n"
     ]
    }
   ],
   "source": [
    "def displayStudentsPatterns(rdd, n):\n",
    "    for item in rdd.take(n):\n",
    "        print(item['ProblemID'],'\\t', item['StudentID'], end='\\t>>>  ')\n",
    "        for event in item['Pattern']:\n",
    "            print(utils.eventToString(event), end=\" \")\n",
    "        print()\n",
    "    print()\n",
    "\n",
    "displayStudentsPatterns(rdd_patterns, 10)"
   ]
  },
  {
   "cell_type": "code",
   "execution_count": 19,
   "metadata": {
    "collapsed": false,
    "scrolled": false
   },
   "outputs": [],
   "source": [
    "import json\n",
    "import os\n",
    "import shutil\n",
    "\n",
    "directory='data/spark/preprocessed'\n",
    "if os.path.exists(directory):\n",
    "    shutil.rmtree(directory)\n",
    "\n",
    "rdd_patterns.map(json.dumps).saveAsTextFile(directory)"
   ]
  },
  {
   "cell_type": "code",
   "execution_count": null,
   "metadata": {
    "collapsed": true
   },
   "outputs": [],
   "source": []
  }
 ],
 "metadata": {
  "anaconda-cloud": {},
  "kernelspec": {
   "display_name": "Python [conda root]",
   "language": "python",
   "name": "conda-root-py"
  },
  "language_info": {
   "codemirror_mode": {
    "name": "ipython",
    "version": 3
   },
   "file_extension": ".py",
   "mimetype": "text/x-python",
   "name": "python",
   "nbconvert_exporter": "python",
   "pygments_lexer": "ipython3",
   "version": "3.5.2"
  }
 },
 "nbformat": 4,
 "nbformat_minor": 0
}
