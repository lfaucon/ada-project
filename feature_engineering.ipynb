{
 "cells": [
  {
   "cell_type": "markdown",
   "metadata": {},
   "source": [
    "# Feature Engineering"
   ]
  },
  {
   "cell_type": "code",
   "execution_count": 1,
   "metadata": {
    "collapsed": false
   },
   "outputs": [
    {
     "data": {
      "text/plain": [
       "8"
      ]
     },
     "execution_count": 1,
     "metadata": {},
     "output_type": "execute_result"
    }
   ],
   "source": [
    "from pyspark import SparkContext\n",
    "import json\n",
    "import utils\n",
    "import pprint\n",
    "pp = pprint.PrettyPrinter(indent=4)\n",
    "\n",
    "sc = SparkContext(\"local[*]\", \"ADA\")\n",
    "sc.defaultParallelism"
   ]
  },
  {
   "cell_type": "markdown",
   "metadata": {},
   "source": [
    "# Configuration"
   ]
  },
  {
   "cell_type": "code",
   "execution_count": 2,
   "metadata": {
    "collapsed": true
   },
   "outputs": [],
   "source": [
    "config = {\n",
    "    \"session\":\"progfun-002\"\n",
    "}"
   ]
  },
  {
   "cell_type": "markdown",
   "metadata": {},
   "source": [
    "# Importing the learning patterns"
   ]
  },
  {
   "cell_type": "code",
   "execution_count": 3,
   "metadata": {
    "collapsed": false
   },
   "outputs": [
    {
     "data": {
      "text/plain": [
       "161934"
      ]
     },
     "execution_count": 3,
     "metadata": {},
     "output_type": "execute_result"
    }
   ],
   "source": [
    "rdd_patterns = sc.textFile('data/spark/preprocessed/').map(json.loads)\n",
    "rdd_patterns.count()"
   ]
  },
  {
   "cell_type": "markdown",
   "metadata": {},
   "source": [
    "# Cleaning"
   ]
  },
  {
   "cell_type": "code",
   "execution_count": 4,
   "metadata": {
    "collapsed": false,
    "scrolled": false
   },
   "outputs": [
    {
     "name": "stdout",
     "output_type": "stream",
     "text": [
      "count 49344\n",
      "d59f267f54f59c8d41109495faa03d2cbf4518e5 \t 6\n",
      "VVVVVVVVVVVVVVVVVVVVVVVP\n",
      "\n",
      "d59f267f54f59c8d41109495faa03d2cbf4518e5 \t 7\n",
      "VVVVVVVVVVVVVVVVVP\n",
      "\n",
      "74ba481c090d511395398cfa4d8f547455f99c9b \t 6\n",
      "VVVVVVVVVVVVVVVVVVVVVVVVVPP\n",
      "\n",
      "74ba481c090d511395398cfa4d8f547455f99c9b \t 7\n",
      "VVVVVVVVVVVVVVVVVVVVVVVVVVVVVVVVVVVVVVVVVVVVVVVVVVVVVVVVVVVVVVVVVVVVVVVVVVVVVVVVVVVVVVVVVVVVVVVVVVVVVVVVVVVVVVVVVVVVVVVVVVVVVVVVVVVVVVVVVVVVVVVVVVVVVVVVVVVVVVVVVVVVVVVVVVVVVVVVVVVVVVVVVVVVVVVVVVVVVVVVVVVVVVVVVVVVVVVVVVVVVVVVVVVVVVVVVVVVVVVVVVVVVVVVVVVVVVVVVVVVVVVVVVVVVVVVVVVVVVVVVVVVVVVVVVVVVVVVVVVVVVVVVVVVVVVVVVVVVPPPP\n",
      "\n",
      "a88955afb807a682641445918a70389d6fdf06ae \t 17\n",
      "VVVVVVVVVVVVVVVVVVVVVVVVVVVVVVVVVVVVVVVVVVVVVVVVVVVVVVVVVVVVVVVVVVVVVVVVVFFFFFFFFFFFFFFVFFFFFFFFFFFFFFFFFFFFFFFFFFFFFFFFFFFP\n",
      "\n"
     ]
    }
   ],
   "source": [
    "def cleaning(item):\n",
    "    studentId = item['studentId']\n",
    "    problemId = item['problemId']\n",
    "    pattern = item['pattern']\n",
    "    \n",
    "    patternStr = utils.patternToString(pattern,'minimal')\n",
    "    \n",
    "    if not 'P' in patternStr:\n",
    "        return []\n",
    "    \n",
    "    lastProblemIndex = patternStr.rfind('P')\n",
    "    \n",
    "    return([{\n",
    "        \"studentId\": studentId,\n",
    "        \"problemId\": problemId,\n",
    "        \"pattern\": pattern[:(lastProblemIndex+1)]\n",
    "    }])\n",
    "\n",
    "rdd_patterns_clean = rdd_patterns.flatMap(cleaning).persist()\n",
    "print('count', rdd_patterns_clean.count())\n",
    "\n",
    "for item in rdd_patterns_clean.take(5):\n",
    "    print(item['studentId'], '\\t', item['problemId'])\n",
    "    print(utils.patternToString(item['pattern'], 'minimal'))\n",
    "    print()"
   ]
  },
  {
   "cell_type": "markdown",
   "metadata": {},
   "source": [
    "# Feature engineering"
   ]
  },
  {
   "cell_type": "code",
   "execution_count": 5,
   "metadata": {
    "collapsed": false,
    "scrolled": false
   },
   "outputs": [
    {
     "name": "stdout",
     "output_type": "stream",
     "text": [
      "{   'firstProblemGrade': 9.67000007629,\n",
      "    'increaseGradeFromFirstToLastProblem': 0.0,\n",
      "    'lastProblemGrade': 9.67000007629,\n",
      "    'percentageImprovedBetweenFirstAndLastProblem': 0.0,\n",
      "    'proportionOfProblemEvents': 0.041666666666666664,\n",
      "    'repeatedVideoBeforeFirstProblem': 1.0,\n",
      "    'timeBetweenFirstAndLastProblem': 0.0,\n",
      "    'timeBetweenStartAndFirstProblem': 1.4505092592592592,\n",
      "    'timeBetweenStartAndLastProblem': 1.4505092592592592,\n",
      "    'totalNumberOfProblemSubmissions': 1,\n",
      "    'totalNumberOfVideoWatched': 23,\n",
      "    'watchedAllVideosBeforeFirstProblem': True,\n",
      "    'watchedSomeVideoAfterFirstProblem': 0.0}\n",
      "VVVVVVVVVVVVVVVVVVVVVVVP\n",
      "\n",
      "{   'firstProblemGrade': 10.0,\n",
      "    'increaseGradeFromFirstToLastProblem': 0.0,\n",
      "    'lastProblemGrade': 10.0,\n",
      "    'percentageImprovedBetweenFirstAndLastProblem': 0.0,\n",
      "    'proportionOfProblemEvents': 0.05555555555555555,\n",
      "    'repeatedVideoBeforeFirstProblem': 1.0,\n",
      "    'timeBetweenFirstAndLastProblem': 0.0,\n",
      "    'timeBetweenStartAndFirstProblem': 4.905451388888889,\n",
      "    'timeBetweenStartAndLastProblem': 4.905451388888889,\n",
      "    'totalNumberOfProblemSubmissions': 1,\n",
      "    'totalNumberOfVideoWatched': 17,\n",
      "    'watchedAllVideosBeforeFirstProblem': True,\n",
      "    'watchedSomeVideoAfterFirstProblem': 0.0}\n",
      "VVVVVVVVVVVVVVVVVP\n",
      "\n",
      "{   'firstProblemGrade': 7.32999992371,\n",
      "    'increaseGradeFromFirstToLastProblem': 0.0,\n",
      "    'lastProblemGrade': 7.32999992371,\n",
      "    'percentageImprovedBetweenFirstAndLastProblem': 0.0,\n",
      "    'proportionOfProblemEvents': 0.07407407407407407,\n",
      "    'repeatedVideoBeforeFirstProblem': 1.0,\n",
      "    'timeBetweenFirstAndLastProblem': 0.03166666666666667,\n",
      "    'timeBetweenStartAndFirstProblem': 7.11363425925926,\n",
      "    'timeBetweenStartAndLastProblem': 7.145300925925926,\n",
      "    'totalNumberOfProblemSubmissions': 2,\n",
      "    'totalNumberOfVideoWatched': 25,\n",
      "    'watchedAllVideosBeforeFirstProblem': False,\n",
      "    'watchedSomeVideoAfterFirstProblem': 0.0}\n",
      "VVVVVVVVVVVVVVVVVVVVVVVVVPP\n",
      "\n",
      "{   'firstProblemGrade': 9.56000041962,\n",
      "    'increaseGradeFromFirstToLastProblem': 0.0,\n",
      "    'lastProblemGrade': 9.53999996185,\n",
      "    'percentageImprovedBetweenFirstAndLastProblem': 0.0,\n",
      "    'proportionOfProblemEvents': 0.012461059190031152,\n",
      "    'repeatedVideoBeforeFirstProblem': 1.0,\n",
      "    'timeBetweenFirstAndLastProblem': 0.08027777777777778,\n",
      "    'timeBetweenStartAndFirstProblem': 1.8576157407407408,\n",
      "    'timeBetweenStartAndLastProblem': 1.9378935185185184,\n",
      "    'totalNumberOfProblemSubmissions': 4,\n",
      "    'totalNumberOfVideoWatched': 317,\n",
      "    'watchedAllVideosBeforeFirstProblem': True,\n",
      "    'watchedSomeVideoAfterFirstProblem': 0.0}\n",
      "VVVVVVVVVVVVVVVVVVVVVVVVVVVVVVVVVVVVVVVVVVVVVVVVVVVVVVVVVVVVVVVVVVVVVVVVVVVVVVVVVVVVVVVVVVVVVVVVVVVVVVVVVVVVVVVVVVVVVVVVVVVVVVVVVVVVVVVVVVVVVVVVVVVVVVVVVVVVVVVVVVVVVVVVVVVVVVVVVVVVVVVVVVVVVVVVVVVVVVVVVVVVVVVVVVVVVVVVVVVVVVVVVVVVVVVVVVVVVVVVVVVVVVVVVVVVVVVVVVVVVVVVVVVVVVVVVVVVVVVVVVVVVVVVVVVVVVVVVVVVVVVVVVVVVVVVVVVVVPPPP\n",
      "\n",
      "{   'firstProblemGrade': 10.0,\n",
      "    'increaseGradeFromFirstToLastProblem': 0.0,\n",
      "    'lastProblemGrade': 10.0,\n",
      "    'percentageImprovedBetweenFirstAndLastProblem': 0.0,\n",
      "    'proportionOfProblemEvents': 0.008064516129032258,\n",
      "    'repeatedVideoBeforeFirstProblem': 1.0,\n",
      "    'timeBetweenFirstAndLastProblem': 0.0,\n",
      "    'timeBetweenStartAndFirstProblem': 11.693240740740741,\n",
      "    'timeBetweenStartAndLastProblem': 11.693240740740741,\n",
      "    'totalNumberOfProblemSubmissions': 1,\n",
      "    'totalNumberOfVideoWatched': 74,\n",
      "    'watchedAllVideosBeforeFirstProblem': True,\n",
      "    'watchedSomeVideoAfterFirstProblem': 0.0}\n",
      "VVVVVVVVVVVVVVVVVVVVVVVVVVVVVVVVVVVVVVVVVVVVVVVVVVVVVVVVVVVVVVVVVVVVVVVVVFFFFFFFFFFFFFFVFFFFFFFFFFFFFFFFFFFFFFFFFFFFFFFFFFFP\n",
      "\n"
     ]
    }
   ],
   "source": [
    "LECTURES_PER_PROBLEM = {\n",
    "    7: [3,4,5,6,7,8,33], # Lecture 1\n",
    "    6: [35,37,39,41,43,47,49], # Lecture 2\n",
    "    12: [51,53,75], # Lecture 3\n",
    "    14: [71,81,85,79,87,77], # Lecture 4\n",
    "    17: [109,105,115,107,103,113,111], # Lecture 6\n",
    "    20: [123,117,125,121,127,119] # Lecture 7\n",
    "}\n",
    "\n",
    "PROBLEM_PER_LECTURE = {}\n",
    "for pb in LECTURES_PER_PROBLEM.keys():\n",
    "    for lc in LECTURES_PER_PROBLEM[pb]:\n",
    "        PROBLEM_PER_LECTURE[lc]=pb\n",
    "\n",
    "def containsProblem(pattern):\n",
    "    return 'P' in patternToString(pattern,'minimal')\n",
    "\n",
    "def getFirstProblem(pattern):\n",
    "    indexOfFirstProblem = utils.patternToString(pattern,'minimal').find('P')\n",
    "    return pattern[indexOfFirstProblem]\n",
    "\n",
    "def getLastProblem(pattern):\n",
    "    return pattern[-1]\n",
    "\n",
    "def getBeforeFirstProblem(pattern):\n",
    "    indexOfFirstProblem = utils.patternToString(pattern,'minimal').find('P')\n",
    "    return pattern[:indexOfFirstProblem]\n",
    "\n",
    "def getAfterFirstProblem(pattern):\n",
    "    indexOfFirstProblem = utils.patternToString(pattern,'minimal').find('P')\n",
    "    return pattern[indexOfFirstProblem:]\n",
    "\n",
    "def getFeatures(item):\n",
    "    studentId = item['studentId']\n",
    "    problemId = item['problemId']\n",
    "    pattern = item['pattern']\n",
    "    \n",
    "    features = {}\n",
    "    \n",
    "    videoIdBeforeFirstProblem = [video['VideoID'] for video in getBeforeFirstProblem(pattern) if video['EventType']=='Video']\n",
    "    value = len(set(videoIdBeforeFirstProblem)) == len(LECTURES_PER_PROBLEM[problemId])\n",
    "    features['watchedAllVideosBeforeFirstProblem'] = value\n",
    "\n",
    "    value = 1. if len(videoIdBeforeFirstProblem) != len(set(videoIdBeforeFirstProblem)) else 0.\n",
    "    features['repeatedVideoBeforeFirstProblem'] = value\n",
    "\n",
    "    value = sum([event['EventType']=='Video' for event in pattern])\n",
    "    features['totalNumberOfVideoWatched'] = value\n",
    "\n",
    "    value = sum([event['EventType']=='Problem' for event in pattern])\n",
    "    features['totalNumberOfProblemSubmissions'] = value \n",
    "            \n",
    "    value = 1. if [v for v in getAfterFirstProblem(pattern) if v['EventType']=='Video'] else 0.\n",
    "    features['watchedSomeVideoAfterFirstProblem'] = value\n",
    "\n",
    "    firstProblem = getFirstProblem(pattern)\n",
    "    value = 1. if pattern[-1]['Grade'] > firstProblem['Grade'] else 0.\n",
    "    features['increaseGradeFromFirstToLastProblem'] = value\n",
    "\n",
    "    value = sum([event['EventType']=='Problem' for event in pattern])/len(pattern)\n",
    "    features['proportionOfProblemEvents'] = value\n",
    "    \n",
    "    value = firstProblem['TimeStamp'] - pattern[0]['TimeStamp']\n",
    "    features['timeBetweenStartAndFirstProblem'] = value / (3600*24)\n",
    "    \n",
    "    value = pattern[-1]['TimeStamp'] - pattern[0]['TimeStamp']\n",
    "    features['timeBetweenStartAndLastProblem'] = value / (3600*24)\n",
    "    \n",
    "    value = pattern[-1]['TimeStamp'] - firstProblem['TimeStamp']\n",
    "    features['timeBetweenFirstAndLastProblem'] = value / (3600*24)\n",
    "    \n",
    "    value = firstProblem['Grade']\n",
    "    features['firstProblemGrade'] = value\n",
    "    \n",
    "    value = pattern[-1]['Grade']\n",
    "    features['lastProblemGrade'] = value\n",
    "    \n",
    "    value = max(0,(pattern[-1]['Grade']-firstProblem['Grade']))/(10.00001-firstProblem['Grade'])\n",
    "    features['percentageImprovedBetweenFirstAndLastProblem'] = value\n",
    "        \n",
    "    return({\n",
    "        \"studentId\": studentId,\n",
    "        \"problemId\": problemId,\n",
    "        \"features\": features,\n",
    "        \"pattern\": utils.patternToString(pattern,verbosity='minimal')\n",
    "    })\n",
    "\n",
    "rdd_features = rdd_patterns_clean.map(getFeatures)\n",
    "for feature in rdd_features.take(5):\n",
    "    pp.pprint(feature['features'])\n",
    "    print(feature['pattern'])\n",
    "    print()"
   ]
  },
  {
   "cell_type": "code",
   "execution_count": 6,
   "metadata": {
    "collapsed": true
   },
   "outputs": [],
   "source": [
    "import json\n",
    "import os\n",
    "import shutil\n",
    "\n",
    "directory='data/spark/features'\n",
    "if os.path.exists(directory):\n",
    "    shutil.rmtree(directory)\n",
    "\n",
    "rdd_features.map(json.dumps).saveAsTextFile(directory)"
   ]
  },
  {
   "cell_type": "code",
   "execution_count": null,
   "metadata": {
    "collapsed": true
   },
   "outputs": [],
   "source": []
  }
 ],
 "metadata": {
  "anaconda-cloud": {},
  "kernelspec": {
   "display_name": "Python [conda root]",
   "language": "python",
   "name": "conda-root-py"
  },
  "language_info": {
   "codemirror_mode": {
    "name": "ipython",
    "version": 3
   },
   "file_extension": ".py",
   "mimetype": "text/x-python",
   "name": "python",
   "nbconvert_exporter": "python",
   "pygments_lexer": "ipython3",
   "version": "3.5.2"
  }
 },
 "nbformat": 4,
 "nbformat_minor": 0
}
