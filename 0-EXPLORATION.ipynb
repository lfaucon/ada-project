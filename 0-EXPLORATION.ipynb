{
 "cells": [
  {
   "cell_type": "markdown",
   "metadata": {},
   "source": [
    "# ADA - project\n",
    "# Scala MOOC - Extraction of Learning Navigation Patterns"
   ]
  },
  {
   "cell_type": "markdown",
   "metadata": {},
   "source": [
    "## Libraries"
   ]
  },
  {
   "cell_type": "code",
   "execution_count": 1,
   "metadata": {
    "collapsed": true
   },
   "outputs": [],
   "source": [
    "%matplotlib inline\n",
    "import pandas as pd\n",
    "import matplotlib.pyplot as plt\n",
    "import numpy as np\n",
    "import random\n",
    "import math"
   ]
  },
  {
   "cell_type": "markdown",
   "metadata": {},
   "source": [
    "## Configuration"
   ]
  },
  {
   "cell_type": "code",
   "execution_count": 2,
   "metadata": {
    "collapsed": false
   },
   "outputs": [],
   "source": [
    "config = {\n",
    "    'courseName': 'progfun-003',\n",
    "}"
   ]
  },
  {
   "cell_type": "markdown",
   "metadata": {},
   "source": [
    "## Data imports"
   ]
  },
  {
   "cell_type": "markdown",
   "metadata": {},
   "source": [
    "### User Grades"
   ]
  },
  {
   "cell_type": "code",
   "execution_count": 3,
   "metadata": {
    "collapsed": false
   },
   "outputs": [
    {
     "data": {
      "text/html": [
       "<div>\n",
       "<table border=\"1\" class=\"dataframe\">\n",
       "  <thead>\n",
       "    <tr style=\"text-align: right;\">\n",
       "      <th></th>\n",
       "      <th>SessionUserID</th>\n",
       "      <th>Grade</th>\n",
       "      <th>AchievementLevel</th>\n",
       "    </tr>\n",
       "  </thead>\n",
       "  <tbody>\n",
       "    <tr>\n",
       "      <th>0</th>\n",
       "      <td>424094493fba6a45fee8303d8f20f6b541792355</td>\n",
       "      <td>0.0</td>\n",
       "      <td>Failed</td>\n",
       "    </tr>\n",
       "    <tr>\n",
       "      <th>1</th>\n",
       "      <td>1affff455d4354bf12514fb2a57f9f510dd262a9</td>\n",
       "      <td>0.0</td>\n",
       "      <td>Failed</td>\n",
       "    </tr>\n",
       "    <tr>\n",
       "      <th>2</th>\n",
       "      <td>4efa31b50968882d8025724a268ba4942f6b54da</td>\n",
       "      <td>0.0</td>\n",
       "      <td>Failed</td>\n",
       "    </tr>\n",
       "    <tr>\n",
       "      <th>3</th>\n",
       "      <td>0139eee5e6b65a62cddf8dae1cde07b1e758be73</td>\n",
       "      <td>0.0</td>\n",
       "      <td>Failed</td>\n",
       "    </tr>\n",
       "    <tr>\n",
       "      <th>4</th>\n",
       "      <td>994bb19ed9f821576759585c54e32f4be1fafa51</td>\n",
       "      <td>0.0</td>\n",
       "      <td>Failed</td>\n",
       "    </tr>\n",
       "  </tbody>\n",
       "</table>\n",
       "</div>"
      ],
      "text/plain": [
       "                              SessionUserID  Grade AchievementLevel\n",
       "0  424094493fba6a45fee8303d8f20f6b541792355    0.0           Failed\n",
       "1  1affff455d4354bf12514fb2a57f9f510dd262a9    0.0           Failed\n",
       "2  4efa31b50968882d8025724a268ba4942f6b54da    0.0           Failed\n",
       "3  0139eee5e6b65a62cddf8dae1cde07b1e758be73    0.0           Failed\n",
       "4  994bb19ed9f821576759585c54e32f4be1fafa51    0.0           Failed"
      ]
     },
     "execution_count": 3,
     "metadata": {},
     "output_type": "execute_result"
    }
   ],
   "source": [
    "df_User_Grades = pd.read_csv('data/' + config['courseName'] + '_User_Grades.csv')\n",
    "df_User_Grades = df_User_Grades[['SessionUserID','Grade','AchievementLevel']]\n",
    "df_User_Grades.head()"
   ]
  },
  {
   "cell_type": "markdown",
   "metadata": {},
   "source": [
    "### Assignment Events"
   ]
  },
  {
   "cell_type": "code",
   "execution_count": 4,
   "metadata": {
    "collapsed": false
   },
   "outputs": [
    {
     "data": {
      "text/html": [
       "<div>\n",
       "<table border=\"1\" class=\"dataframe\">\n",
       "  <thead>\n",
       "    <tr style=\"text-align: right;\">\n",
       "      <th></th>\n",
       "      <th>EventID</th>\n",
       "      <th>ForumUserID</th>\n",
       "      <th>MaximumSubmissions</th>\n",
       "      <th>AccountUserID</th>\n",
       "      <th>SubmissionNumber</th>\n",
       "      <th>Grade</th>\n",
       "      <th>TimeStamp</th>\n",
       "      <th>DataPackageID</th>\n",
       "      <th>ProblemID</th>\n",
       "      <th>SoftCloseTime</th>\n",
       "      <th>ProblemType</th>\n",
       "      <th>HardCloseTime</th>\n",
       "      <th>Platform</th>\n",
       "      <th>OpenTime</th>\n",
       "      <th>EventType</th>\n",
       "      <th>Title</th>\n",
       "      <th>SessionUserID</th>\n",
       "      <th>UniqueProblemID</th>\n",
       "      <th>UniqueUserID</th>\n",
       "    </tr>\n",
       "  </thead>\n",
       "  <tbody>\n",
       "    <tr>\n",
       "      <th>0</th>\n",
       "      <td>080346c36f60b51da4e9e1016cb43152</td>\n",
       "      <td>NaN</td>\n",
       "      <td>0.0</td>\n",
       "      <td>NaN</td>\n",
       "      <td>3</td>\n",
       "      <td>NaN</td>\n",
       "      <td>1379942342</td>\n",
       "      <td>progfun-003</td>\n",
       "      <td>9</td>\n",
       "      <td>2.147484e+09</td>\n",
       "      <td>Video</td>\n",
       "      <td>2.147484e+09</td>\n",
       "      <td>Coursera</td>\n",
       "      <td>0.0</td>\n",
       "      <td>Problem.Check</td>\n",
       "      <td>Lecture 1.4 - Conditionals and Value Definitio...</td>\n",
       "      <td>84afce69e593093fbedc17ce19cb9408787d5dc1</td>\n",
       "      <td>da2b77432237bd969a9d4e478d1e573c</td>\n",
       "      <td>15a799d5d5ba6199e3dc67cb48580d7b</td>\n",
       "    </tr>\n",
       "  </tbody>\n",
       "</table>\n",
       "</div>"
      ],
      "text/plain": [
       "                            EventID  ForumUserID  MaximumSubmissions  \\\n",
       "0  080346c36f60b51da4e9e1016cb43152          NaN                 0.0   \n",
       "\n",
       "   AccountUserID  SubmissionNumber  Grade   TimeStamp DataPackageID  \\\n",
       "0            NaN                 3    NaN  1379942342   progfun-003   \n",
       "\n",
       "   ProblemID  SoftCloseTime ProblemType  HardCloseTime  Platform  OpenTime  \\\n",
       "0          9   2.147484e+09       Video   2.147484e+09  Coursera       0.0   \n",
       "\n",
       "       EventType                                              Title  \\\n",
       "0  Problem.Check  Lecture 1.4 - Conditionals and Value Definitio...   \n",
       "\n",
       "                              SessionUserID                   UniqueProblemID  \\\n",
       "0  84afce69e593093fbedc17ce19cb9408787d5dc1  da2b77432237bd969a9d4e478d1e573c   \n",
       "\n",
       "                       UniqueUserID  \n",
       "0  15a799d5d5ba6199e3dc67cb48580d7b  "
      ]
     },
     "execution_count": 4,
     "metadata": {},
     "output_type": "execute_result"
    }
   ],
   "source": [
    "df_Problem_Event = pd.read_csv(\n",
    "    'data/' + config['courseName'] + '_Problem_Events_with_Info.csv',\n",
    "    dtype={\"Grade\":np.float64},\n",
    "    na_values=['None']\n",
    ")\n",
    "df_Problem_Event.head(1)"
   ]
  },
  {
   "cell_type": "code",
   "execution_count": 5,
   "metadata": {
    "collapsed": false
   },
   "outputs": [
    {
     "name": "stdout",
     "output_type": "stream",
     "text": [
      "(445972, 6)\n"
     ]
    },
    {
     "data": {
      "text/html": [
       "<div>\n",
       "<table border=\"1\" class=\"dataframe\">\n",
       "  <thead>\n",
       "    <tr style=\"text-align: right;\">\n",
       "      <th></th>\n",
       "      <th>SessionUserID</th>\n",
       "      <th>Grade</th>\n",
       "      <th>TimeStamp</th>\n",
       "      <th>ProblemID</th>\n",
       "      <th>ProblemType</th>\n",
       "      <th>EventType</th>\n",
       "    </tr>\n",
       "  </thead>\n",
       "  <tbody>\n",
       "    <tr>\n",
       "      <th>0</th>\n",
       "      <td>84afce69e593093fbedc17ce19cb9408787d5dc1</td>\n",
       "      <td>NaN</td>\n",
       "      <td>1379942342</td>\n",
       "      <td>9</td>\n",
       "      <td>Video</td>\n",
       "      <td>Problem.Check</td>\n",
       "    </tr>\n",
       "    <tr>\n",
       "      <th>1</th>\n",
       "      <td>72101c44c5b67994a08435218db97edb12587b77</td>\n",
       "      <td>NaN</td>\n",
       "      <td>1380281698</td>\n",
       "      <td>42</td>\n",
       "      <td>Video</td>\n",
       "      <td>Problem.Check</td>\n",
       "    </tr>\n",
       "    <tr>\n",
       "      <th>2</th>\n",
       "      <td>76bdedd321a242e1aa792bb2cec9f7cb1b4c0cfc</td>\n",
       "      <td>NaN</td>\n",
       "      <td>1382320248</td>\n",
       "      <td>118</td>\n",
       "      <td>Video</td>\n",
       "      <td>Problem.Check</td>\n",
       "    </tr>\n",
       "    <tr>\n",
       "      <th>3</th>\n",
       "      <td>31108a404381184a0d69137be0c8b9d7f803cb08</td>\n",
       "      <td>NaN</td>\n",
       "      <td>1383933547</td>\n",
       "      <td>104</td>\n",
       "      <td>Video</td>\n",
       "      <td>Problem.Check</td>\n",
       "    </tr>\n",
       "    <tr>\n",
       "      <th>4</th>\n",
       "      <td>427821f0ed8c8dc5e3c21d100f0db0a955b126bc</td>\n",
       "      <td>NaN</td>\n",
       "      <td>1381261817</td>\n",
       "      <td>60</td>\n",
       "      <td>Video</td>\n",
       "      <td>Problem.Check</td>\n",
       "    </tr>\n",
       "  </tbody>\n",
       "</table>\n",
       "</div>"
      ],
      "text/plain": [
       "                              SessionUserID  Grade   TimeStamp  ProblemID  \\\n",
       "0  84afce69e593093fbedc17ce19cb9408787d5dc1    NaN  1379942342          9   \n",
       "1  72101c44c5b67994a08435218db97edb12587b77    NaN  1380281698         42   \n",
       "2  76bdedd321a242e1aa792bb2cec9f7cb1b4c0cfc    NaN  1382320248        118   \n",
       "3  31108a404381184a0d69137be0c8b9d7f803cb08    NaN  1383933547        104   \n",
       "4  427821f0ed8c8dc5e3c21d100f0db0a955b126bc    NaN  1381261817         60   \n",
       "\n",
       "  ProblemType      EventType  \n",
       "0       Video  Problem.Check  \n",
       "1       Video  Problem.Check  \n",
       "2       Video  Problem.Check  \n",
       "3       Video  Problem.Check  \n",
       "4       Video  Problem.Check  "
      ]
     },
     "execution_count": 5,
     "metadata": {},
     "output_type": "execute_result"
    }
   ],
   "source": [
    "df_Problem_Event = df_Problem_Event[['SessionUserID','Grade','TimeStamp','ProblemID','ProblemType','EventType']]\n",
    "print(df_Problem_Event.shape)\n",
    "df_Problem_Event.head()"
   ]
  },
  {
   "cell_type": "code",
   "execution_count": 6,
   "metadata": {
    "collapsed": false
   },
   "outputs": [
    {
     "data": {
      "text/plain": [
       "Video         346059\n",
       "Assignment     93798\n",
       "Quiz              28\n",
       "Name: ProblemType, dtype: int64"
      ]
     },
     "execution_count": 6,
     "metadata": {},
     "output_type": "execute_result"
    }
   ],
   "source": [
    "df_Problem_Event.ProblemType.value_counts()"
   ]
  },
  {
   "cell_type": "code",
   "execution_count": 7,
   "metadata": {
    "collapsed": false
   },
   "outputs": [
    {
     "name": "stdout",
     "output_type": "stream",
     "text": [
      "(93770, 6)\n"
     ]
    },
    {
     "data": {
      "text/html": [
       "<div>\n",
       "<table border=\"1\" class=\"dataframe\">\n",
       "  <thead>\n",
       "    <tr style=\"text-align: right;\">\n",
       "      <th></th>\n",
       "      <th>SessionUserID</th>\n",
       "      <th>Grade</th>\n",
       "      <th>TimeStamp</th>\n",
       "      <th>ProblemID</th>\n",
       "      <th>EventType</th>\n",
       "    </tr>\n",
       "  </thead>\n",
       "  <tbody>\n",
       "    <tr>\n",
       "      <th>352174</th>\n",
       "      <td>17bf18d86b2d7a5b7aa4cbe19816b7b55a50be24</td>\n",
       "      <td>10.00</td>\n",
       "      <td>1384935108</td>\n",
       "      <td>21</td>\n",
       "      <td>Problem.Check</td>\n",
       "    </tr>\n",
       "    <tr>\n",
       "      <th>352175</th>\n",
       "      <td>14923ce6698cd77ed1cdaa212f918d2315b507d2</td>\n",
       "      <td>8.67</td>\n",
       "      <td>1383798409</td>\n",
       "      <td>5</td>\n",
       "      <td>Problem.Check</td>\n",
       "    </tr>\n",
       "    <tr>\n",
       "      <th>352176</th>\n",
       "      <td>cfcdfcc87288668b7589e29b148f16d1f42c2385</td>\n",
       "      <td>7.85</td>\n",
       "      <td>1382900212</td>\n",
       "      <td>25</td>\n",
       "      <td>Problem.Check</td>\n",
       "    </tr>\n",
       "    <tr>\n",
       "      <th>352177</th>\n",
       "      <td>29beb1d096dd4e1f1b6735a75c44ad3b575ed66d</td>\n",
       "      <td>10.00</td>\n",
       "      <td>1380491949</td>\n",
       "      <td>21</td>\n",
       "      <td>Problem.Check</td>\n",
       "    </tr>\n",
       "    <tr>\n",
       "      <th>352178</th>\n",
       "      <td>4e26ed5717e85ad5d74800c2810b8fd59aa684a0</td>\n",
       "      <td>9.63</td>\n",
       "      <td>1382913043</td>\n",
       "      <td>22</td>\n",
       "      <td>Problem.Check</td>\n",
       "    </tr>\n",
       "  </tbody>\n",
       "</table>\n",
       "</div>"
      ],
      "text/plain": [
       "                                   SessionUserID  Grade   TimeStamp  \\\n",
       "352174  17bf18d86b2d7a5b7aa4cbe19816b7b55a50be24  10.00  1384935108   \n",
       "352175  14923ce6698cd77ed1cdaa212f918d2315b507d2   8.67  1383798409   \n",
       "352176  cfcdfcc87288668b7589e29b148f16d1f42c2385   7.85  1382900212   \n",
       "352177  29beb1d096dd4e1f1b6735a75c44ad3b575ed66d  10.00  1380491949   \n",
       "352178  4e26ed5717e85ad5d74800c2810b8fd59aa684a0   9.63  1382913043   \n",
       "\n",
       "        ProblemID      EventType  \n",
       "352174         21  Problem.Check  \n",
       "352175          5  Problem.Check  \n",
       "352176         25  Problem.Check  \n",
       "352177         21  Problem.Check  \n",
       "352178         22  Problem.Check  "
      ]
     },
     "execution_count": 7,
     "metadata": {},
     "output_type": "execute_result"
    }
   ],
   "source": [
    "df_Assignment_Event = df_Problem_Event[df_Problem_Event.ProblemType == \"Assignment\"].dropna()\n",
    "print(df_Assignment_Event.shape)\n",
    "df_Assignment_Event.drop('ProblemType',axis=1,inplace=True)\n",
    "df_Assignment_Event.head()"
   ]
  },
  {
   "cell_type": "code",
   "execution_count": 8,
   "metadata": {
    "collapsed": false
   },
   "outputs": [
    {
     "data": {
      "text/html": [
       "<div>\n",
       "<table border=\"1\" class=\"dataframe\">\n",
       "  <thead>\n",
       "    <tr style=\"text-align: right;\">\n",
       "      <th></th>\n",
       "      <th>SessionUserID</th>\n",
       "      <th>Grade</th>\n",
       "      <th>TimeStamp</th>\n",
       "      <th>ProblemID</th>\n",
       "      <th>EventType</th>\n",
       "      <th>Date</th>\n",
       "    </tr>\n",
       "  </thead>\n",
       "  <tbody>\n",
       "    <tr>\n",
       "      <th>352174</th>\n",
       "      <td>17bf18d86b2d7a5b7aa4cbe19816b7b55a50be24</td>\n",
       "      <td>10.00</td>\n",
       "      <td>1384935108</td>\n",
       "      <td>21</td>\n",
       "      <td>Problem.Check</td>\n",
       "      <td>2013-11-20 08:11:48</td>\n",
       "    </tr>\n",
       "    <tr>\n",
       "      <th>352175</th>\n",
       "      <td>14923ce6698cd77ed1cdaa212f918d2315b507d2</td>\n",
       "      <td>8.67</td>\n",
       "      <td>1383798409</td>\n",
       "      <td>5</td>\n",
       "      <td>Problem.Check</td>\n",
       "      <td>2013-11-07 04:26:49</td>\n",
       "    </tr>\n",
       "    <tr>\n",
       "      <th>352176</th>\n",
       "      <td>cfcdfcc87288668b7589e29b148f16d1f42c2385</td>\n",
       "      <td>7.85</td>\n",
       "      <td>1382900212</td>\n",
       "      <td>25</td>\n",
       "      <td>Problem.Check</td>\n",
       "      <td>2013-10-27 18:56:52</td>\n",
       "    </tr>\n",
       "    <tr>\n",
       "      <th>352177</th>\n",
       "      <td>29beb1d096dd4e1f1b6735a75c44ad3b575ed66d</td>\n",
       "      <td>10.00</td>\n",
       "      <td>1380491949</td>\n",
       "      <td>21</td>\n",
       "      <td>Problem.Check</td>\n",
       "      <td>2013-09-29 21:59:09</td>\n",
       "    </tr>\n",
       "    <tr>\n",
       "      <th>352178</th>\n",
       "      <td>4e26ed5717e85ad5d74800c2810b8fd59aa684a0</td>\n",
       "      <td>9.63</td>\n",
       "      <td>1382913043</td>\n",
       "      <td>22</td>\n",
       "      <td>Problem.Check</td>\n",
       "      <td>2013-10-27 22:30:43</td>\n",
       "    </tr>\n",
       "  </tbody>\n",
       "</table>\n",
       "</div>"
      ],
      "text/plain": [
       "                                   SessionUserID  Grade   TimeStamp  \\\n",
       "352174  17bf18d86b2d7a5b7aa4cbe19816b7b55a50be24  10.00  1384935108   \n",
       "352175  14923ce6698cd77ed1cdaa212f918d2315b507d2   8.67  1383798409   \n",
       "352176  cfcdfcc87288668b7589e29b148f16d1f42c2385   7.85  1382900212   \n",
       "352177  29beb1d096dd4e1f1b6735a75c44ad3b575ed66d  10.00  1380491949   \n",
       "352178  4e26ed5717e85ad5d74800c2810b8fd59aa684a0   9.63  1382913043   \n",
       "\n",
       "        ProblemID      EventType                Date  \n",
       "352174         21  Problem.Check 2013-11-20 08:11:48  \n",
       "352175          5  Problem.Check 2013-11-07 04:26:49  \n",
       "352176         25  Problem.Check 2013-10-27 18:56:52  \n",
       "352177         21  Problem.Check 2013-09-29 21:59:09  \n",
       "352178         22  Problem.Check 2013-10-27 22:30:43  "
      ]
     },
     "execution_count": 8,
     "metadata": {},
     "output_type": "execute_result"
    }
   ],
   "source": [
    "df_Assignment_Event['Date'] = pd.to_datetime(df_Assignment_Event.TimeStamp, unit='s')\n",
    "df_Assignment_Event.head()"
   ]
  },
  {
   "cell_type": "markdown",
   "metadata": {},
   "source": [
    "### Video Events"
   ]
  },
  {
   "cell_type": "code",
   "execution_count": 9,
   "metadata": {
    "collapsed": false
   },
   "outputs": [
    {
     "data": {
      "text/html": [
       "<div>\n",
       "<table border=\"1\" class=\"dataframe\">\n",
       "  <thead>\n",
       "    <tr style=\"text-align: right;\">\n",
       "      <th></th>\n",
       "      <th>EventID</th>\n",
       "      <th>ForumUserID</th>\n",
       "      <th>OldTime</th>\n",
       "      <th>AccountUserID</th>\n",
       "      <th>CurrentTime</th>\n",
       "      <th>SeekType</th>\n",
       "      <th>TimeStamp</th>\n",
       "      <th>DataPackageID</th>\n",
       "      <th>UniqueRowID</th>\n",
       "      <th>TableName</th>\n",
       "      <th>VideoID</th>\n",
       "      <th>Platform</th>\n",
       "      <th>NewSpeed</th>\n",
       "      <th>EventSource</th>\n",
       "      <th>EventType</th>\n",
       "      <th>SessionUserID</th>\n",
       "      <th>NewTime</th>\n",
       "      <th>OldSpeed</th>\n",
       "    </tr>\n",
       "  </thead>\n",
       "  <tbody>\n",
       "    <tr>\n",
       "      <th>0</th>\n",
       "      <td>5298ad53cfb35b012e46f879a7eca3c5</td>\n",
       "      <td>NaN</td>\n",
       "      <td>1059.69</td>\n",
       "      <td>NaN</td>\n",
       "      <td>1059.69</td>\n",
       "      <td>NaN</td>\n",
       "      <td>1381045431</td>\n",
       "      <td>progfun-003</td>\n",
       "      <td>0000024b82b6a7200aa4225849708502</td>\n",
       "      <td>Video_Events</td>\n",
       "      <td>53</td>\n",
       "      <td>coursera</td>\n",
       "      <td>1.0</td>\n",
       "      <td>NaN</td>\n",
       "      <td>Video.Seek</td>\n",
       "      <td>2bddc9fdd71bd7440e87e04bff82d504e0595099</td>\n",
       "      <td>NaN</td>\n",
       "      <td>1.0</td>\n",
       "    </tr>\n",
       "  </tbody>\n",
       "</table>\n",
       "</div>"
      ],
      "text/plain": [
       "                            EventID  ForumUserID  OldTime  AccountUserID  \\\n",
       "0  5298ad53cfb35b012e46f879a7eca3c5          NaN  1059.69            NaN   \n",
       "\n",
       "   CurrentTime  SeekType   TimeStamp DataPackageID  \\\n",
       "0      1059.69       NaN  1381045431   progfun-003   \n",
       "\n",
       "                        UniqueRowID     TableName  VideoID  Platform  \\\n",
       "0  0000024b82b6a7200aa4225849708502  Video_Events       53  coursera   \n",
       "\n",
       "   NewSpeed  EventSource   EventType  \\\n",
       "0       1.0          NaN  Video.Seek   \n",
       "\n",
       "                              SessionUserID  NewTime  OldSpeed  \n",
       "0  2bddc9fdd71bd7440e87e04bff82d504e0595099      NaN       1.0  "
      ]
     },
     "execution_count": 9,
     "metadata": {},
     "output_type": "execute_result"
    }
   ],
   "source": [
    "df_Video_Event = pd.read_csv(\n",
    "    'data/' + config['courseName'] + '_Video_Events.csv',\n",
    "    na_values=['None']\n",
    ")\n",
    "df_Video_Event.head(1)"
   ]
  },
  {
   "cell_type": "code",
   "execution_count": 10,
   "metadata": {
    "collapsed": false
   },
   "outputs": [
    {
     "name": "stdout",
     "output_type": "stream",
     "text": [
      "(9579761, 4)\n"
     ]
    },
    {
     "data": {
      "text/html": [
       "<div>\n",
       "<table border=\"1\" class=\"dataframe\">\n",
       "  <thead>\n",
       "    <tr style=\"text-align: right;\">\n",
       "      <th></th>\n",
       "      <th>SessionUserID</th>\n",
       "      <th>TimeStamp</th>\n",
       "      <th>VideoID</th>\n",
       "      <th>EventType</th>\n",
       "    </tr>\n",
       "  </thead>\n",
       "  <tbody>\n",
       "    <tr>\n",
       "      <th>0</th>\n",
       "      <td>2bddc9fdd71bd7440e87e04bff82d504e0595099</td>\n",
       "      <td>1381045431</td>\n",
       "      <td>53</td>\n",
       "      <td>Video.Seek</td>\n",
       "    </tr>\n",
       "    <tr>\n",
       "      <th>1</th>\n",
       "      <td>731e5480e4b3b1283af84ffe344e37b759344113</td>\n",
       "      <td>1380274784</td>\n",
       "      <td>37</td>\n",
       "      <td>Video.Seek</td>\n",
       "    </tr>\n",
       "    <tr>\n",
       "      <th>2</th>\n",
       "      <td>97ae9f8873d94af81802f0ad22a8d53f340f9df7</td>\n",
       "      <td>1379873932</td>\n",
       "      <td>33</td>\n",
       "      <td>Video.Stalled</td>\n",
       "    </tr>\n",
       "    <tr>\n",
       "      <th>3</th>\n",
       "      <td>3229683899078f032f3411008ddf4a11c0098eae</td>\n",
       "      <td>1384162195</td>\n",
       "      <td>83</td>\n",
       "      <td>Video.Download</td>\n",
       "    </tr>\n",
       "    <tr>\n",
       "      <th>4</th>\n",
       "      <td>2eaa6c4e803ed6159fd33007ba44e203a6790dbd</td>\n",
       "      <td>1380967922</td>\n",
       "      <td>75</td>\n",
       "      <td>Video.SpeedChange</td>\n",
       "    </tr>\n",
       "  </tbody>\n",
       "</table>\n",
       "</div>"
      ],
      "text/plain": [
       "                              SessionUserID   TimeStamp  VideoID  \\\n",
       "0  2bddc9fdd71bd7440e87e04bff82d504e0595099  1381045431       53   \n",
       "1  731e5480e4b3b1283af84ffe344e37b759344113  1380274784       37   \n",
       "2  97ae9f8873d94af81802f0ad22a8d53f340f9df7  1379873932       33   \n",
       "3  3229683899078f032f3411008ddf4a11c0098eae  1384162195       83   \n",
       "4  2eaa6c4e803ed6159fd33007ba44e203a6790dbd  1380967922       75   \n",
       "\n",
       "           EventType  \n",
       "0         Video.Seek  \n",
       "1         Video.Seek  \n",
       "2      Video.Stalled  \n",
       "3     Video.Download  \n",
       "4  Video.SpeedChange  "
      ]
     },
     "execution_count": 10,
     "metadata": {},
     "output_type": "execute_result"
    }
   ],
   "source": [
    "df_Video_Event = df_Video_Event[['SessionUserID','TimeStamp','VideoID','EventType']]\n",
    "print(df_Video_Event.shape)\n",
    "df_Video_Event.head()"
   ]
  },
  {
   "cell_type": "code",
   "execution_count": 11,
   "metadata": {
    "collapsed": false
   },
   "outputs": [
    {
     "data": {
      "text/html": [
       "<div>\n",
       "<table border=\"1\" class=\"dataframe\">\n",
       "  <thead>\n",
       "    <tr style=\"text-align: right;\">\n",
       "      <th></th>\n",
       "      <th>SessionUserID</th>\n",
       "      <th>TimeStamp</th>\n",
       "      <th>VideoID</th>\n",
       "      <th>EventType</th>\n",
       "      <th>Date</th>\n",
       "    </tr>\n",
       "  </thead>\n",
       "  <tbody>\n",
       "    <tr>\n",
       "      <th>0</th>\n",
       "      <td>2bddc9fdd71bd7440e87e04bff82d504e0595099</td>\n",
       "      <td>1381045431</td>\n",
       "      <td>53</td>\n",
       "      <td>Video.Seek</td>\n",
       "      <td>2013-10-06 07:43:51</td>\n",
       "    </tr>\n",
       "    <tr>\n",
       "      <th>1</th>\n",
       "      <td>731e5480e4b3b1283af84ffe344e37b759344113</td>\n",
       "      <td>1380274784</td>\n",
       "      <td>37</td>\n",
       "      <td>Video.Seek</td>\n",
       "      <td>2013-09-27 09:39:44</td>\n",
       "    </tr>\n",
       "    <tr>\n",
       "      <th>2</th>\n",
       "      <td>97ae9f8873d94af81802f0ad22a8d53f340f9df7</td>\n",
       "      <td>1379873932</td>\n",
       "      <td>33</td>\n",
       "      <td>Video.Stalled</td>\n",
       "      <td>2013-09-22 18:18:52</td>\n",
       "    </tr>\n",
       "    <tr>\n",
       "      <th>3</th>\n",
       "      <td>3229683899078f032f3411008ddf4a11c0098eae</td>\n",
       "      <td>1384162195</td>\n",
       "      <td>83</td>\n",
       "      <td>Video.Download</td>\n",
       "      <td>2013-11-11 09:29:55</td>\n",
       "    </tr>\n",
       "    <tr>\n",
       "      <th>4</th>\n",
       "      <td>2eaa6c4e803ed6159fd33007ba44e203a6790dbd</td>\n",
       "      <td>1380967922</td>\n",
       "      <td>75</td>\n",
       "      <td>Video.SpeedChange</td>\n",
       "      <td>2013-10-05 10:12:02</td>\n",
       "    </tr>\n",
       "  </tbody>\n",
       "</table>\n",
       "</div>"
      ],
      "text/plain": [
       "                              SessionUserID   TimeStamp  VideoID  \\\n",
       "0  2bddc9fdd71bd7440e87e04bff82d504e0595099  1381045431       53   \n",
       "1  731e5480e4b3b1283af84ffe344e37b759344113  1380274784       37   \n",
       "2  97ae9f8873d94af81802f0ad22a8d53f340f9df7  1379873932       33   \n",
       "3  3229683899078f032f3411008ddf4a11c0098eae  1384162195       83   \n",
       "4  2eaa6c4e803ed6159fd33007ba44e203a6790dbd  1380967922       75   \n",
       "\n",
       "           EventType                Date  \n",
       "0         Video.Seek 2013-10-06 07:43:51  \n",
       "1         Video.Seek 2013-09-27 09:39:44  \n",
       "2      Video.Stalled 2013-09-22 18:18:52  \n",
       "3     Video.Download 2013-11-11 09:29:55  \n",
       "4  Video.SpeedChange 2013-10-05 10:12:02  "
      ]
     },
     "execution_count": 11,
     "metadata": {},
     "output_type": "execute_result"
    }
   ],
   "source": [
    "df_Video_Event['Date'] = pd.to_datetime(df_Video_Event.TimeStamp,unit='s')\n",
    "df_Video_Event.head()"
   ]
  },
  {
   "cell_type": "markdown",
   "metadata": {},
   "source": [
    "### Forum Events"
   ]
  },
  {
   "cell_type": "code",
   "execution_count": 12,
   "metadata": {
    "collapsed": false
   },
   "outputs": [
    {
     "data": {
      "text/html": [
       "<div>\n",
       "<table border=\"1\" class=\"dataframe\">\n",
       "  <thead>\n",
       "    <tr style=\"text-align: right;\">\n",
       "      <th></th>\n",
       "      <th>EventID</th>\n",
       "      <th>ForumUserID</th>\n",
       "      <th>PostID</th>\n",
       "      <th>AccountUserID</th>\n",
       "      <th>TimeStamp</th>\n",
       "      <th>DataPackageID</th>\n",
       "      <th>UniqueRowID</th>\n",
       "      <th>TableName</th>\n",
       "      <th>Platform</th>\n",
       "      <th>EventSource</th>\n",
       "      <th>PostType</th>\n",
       "      <th>EventType</th>\n",
       "      <th>JoinID</th>\n",
       "      <th>SessionUserID</th>\n",
       "    </tr>\n",
       "  </thead>\n",
       "  <tbody>\n",
       "    <tr>\n",
       "      <th>0</th>\n",
       "      <td>fce4235f4f10f964de2ff9ae068276f7</td>\n",
       "      <td>NaN</td>\n",
       "      <td>1374</td>\n",
       "      <td>4614759</td>\n",
       "      <td>1383504875</td>\n",
       "      <td>progfun-003</td>\n",
       "      <td>00001d05c39deb35b62e2d2f6e083683</td>\n",
       "      <td>Forum_Events</td>\n",
       "      <td>coursera</td>\n",
       "      <td>NaN</td>\n",
       "      <td>Thread</td>\n",
       "      <td>Forum.Thread.View</td>\n",
       "      <td>a8d0c63b2f49dd0a85960303ff51d157</td>\n",
       "      <td>NaN</td>\n",
       "    </tr>\n",
       "  </tbody>\n",
       "</table>\n",
       "</div>"
      ],
      "text/plain": [
       "                            EventID  ForumUserID  PostID  AccountUserID  \\\n",
       "0  fce4235f4f10f964de2ff9ae068276f7          NaN    1374        4614759   \n",
       "\n",
       "    TimeStamp DataPackageID                       UniqueRowID     TableName  \\\n",
       "0  1383504875   progfun-003  00001d05c39deb35b62e2d2f6e083683  Forum_Events   \n",
       "\n",
       "   Platform  EventSource PostType          EventType  \\\n",
       "0  coursera          NaN   Thread  Forum.Thread.View   \n",
       "\n",
       "                             JoinID  SessionUserID  \n",
       "0  a8d0c63b2f49dd0a85960303ff51d157            NaN  "
      ]
     },
     "execution_count": 12,
     "metadata": {},
     "output_type": "execute_result"
    }
   ],
   "source": [
    "df_Forum_Event = pd.read_csv(\n",
    "    'data/' + config['courseName'] + '_Forum_Events.csv',\n",
    "    na_values=['None']\n",
    ")\n",
    "df_Forum_Event.head(1)"
   ]
  },
  {
   "cell_type": "code",
   "execution_count": 13,
   "metadata": {
    "collapsed": false
   },
   "outputs": [
    {
     "data": {
      "text/plain": [
       "0   NaN\n",
       "1   NaN\n",
       "2   NaN\n",
       "3   NaN\n",
       "4   NaN\n",
       "Name: SessionUserID, dtype: float64"
      ]
     },
     "execution_count": 13,
     "metadata": {},
     "output_type": "execute_result"
    }
   ],
   "source": [
    "# OMG df_Video_Event does not have 'SessionUserID\n",
    "df_Forum_Event.SessionUserID.head()"
   ]
  },
  {
   "cell_type": "code",
   "execution_count": 14,
   "metadata": {
    "collapsed": false
   },
   "outputs": [
    {
     "name": "stdout",
     "output_type": "stream",
     "text": [
      "(788672, 3)\n"
     ]
    },
    {
     "data": {
      "text/html": [
       "<div>\n",
       "<table border=\"1\" class=\"dataframe\">\n",
       "  <thead>\n",
       "    <tr style=\"text-align: right;\">\n",
       "      <th></th>\n",
       "      <th>AccountUserID</th>\n",
       "      <th>TimeStamp</th>\n",
       "      <th>EventType</th>\n",
       "    </tr>\n",
       "  </thead>\n",
       "  <tbody>\n",
       "    <tr>\n",
       "      <th>0</th>\n",
       "      <td>4614759</td>\n",
       "      <td>1383504875</td>\n",
       "      <td>Forum.Thread.View</td>\n",
       "    </tr>\n",
       "    <tr>\n",
       "      <th>1</th>\n",
       "      <td>80135</td>\n",
       "      <td>1380567303</td>\n",
       "      <td>Forum.Load</td>\n",
       "    </tr>\n",
       "    <tr>\n",
       "      <th>2</th>\n",
       "      <td>1026051</td>\n",
       "      <td>1379862686</td>\n",
       "      <td>Forum.Load</td>\n",
       "    </tr>\n",
       "    <tr>\n",
       "      <th>3</th>\n",
       "      <td>1913592</td>\n",
       "      <td>1383018165</td>\n",
       "      <td>Forum.Post.CommentOn</td>\n",
       "    </tr>\n",
       "    <tr>\n",
       "      <th>4</th>\n",
       "      <td>4405119</td>\n",
       "      <td>1383336975</td>\n",
       "      <td>Forum.Load</td>\n",
       "    </tr>\n",
       "  </tbody>\n",
       "</table>\n",
       "</div>"
      ],
      "text/plain": [
       "   AccountUserID   TimeStamp             EventType\n",
       "0        4614759  1383504875     Forum.Thread.View\n",
       "1          80135  1380567303            Forum.Load\n",
       "2        1026051  1379862686            Forum.Load\n",
       "3        1913592  1383018165  Forum.Post.CommentOn\n",
       "4        4405119  1383336975            Forum.Load"
      ]
     },
     "execution_count": 14,
     "metadata": {},
     "output_type": "execute_result"
    }
   ],
   "source": [
    "df_Forum_Event = df_Forum_Event[['AccountUserID','TimeStamp','EventType']]\n",
    "print(df_Forum_Event.shape)\n",
    "df_Forum_Event.head()"
   ]
  },
  {
   "cell_type": "code",
   "execution_count": 15,
   "metadata": {
    "collapsed": false
   },
   "outputs": [
    {
     "data": {
      "text/html": [
       "<div>\n",
       "<table border=\"1\" class=\"dataframe\">\n",
       "  <thead>\n",
       "    <tr style=\"text-align: right;\">\n",
       "      <th></th>\n",
       "      <th>AccountUserID</th>\n",
       "      <th>TimeStamp</th>\n",
       "      <th>EventType</th>\n",
       "      <th>Date</th>\n",
       "    </tr>\n",
       "  </thead>\n",
       "  <tbody>\n",
       "    <tr>\n",
       "      <th>0</th>\n",
       "      <td>4614759</td>\n",
       "      <td>1383504875</td>\n",
       "      <td>Forum.Thread.View</td>\n",
       "      <td>2013-11-03 18:54:35</td>\n",
       "    </tr>\n",
       "    <tr>\n",
       "      <th>1</th>\n",
       "      <td>80135</td>\n",
       "      <td>1380567303</td>\n",
       "      <td>Forum.Load</td>\n",
       "      <td>2013-09-30 18:55:03</td>\n",
       "    </tr>\n",
       "    <tr>\n",
       "      <th>2</th>\n",
       "      <td>1026051</td>\n",
       "      <td>1379862686</td>\n",
       "      <td>Forum.Load</td>\n",
       "      <td>2013-09-22 15:11:26</td>\n",
       "    </tr>\n",
       "    <tr>\n",
       "      <th>3</th>\n",
       "      <td>1913592</td>\n",
       "      <td>1383018165</td>\n",
       "      <td>Forum.Post.CommentOn</td>\n",
       "      <td>2013-10-29 03:42:45</td>\n",
       "    </tr>\n",
       "    <tr>\n",
       "      <th>4</th>\n",
       "      <td>4405119</td>\n",
       "      <td>1383336975</td>\n",
       "      <td>Forum.Load</td>\n",
       "      <td>2013-11-01 20:16:15</td>\n",
       "    </tr>\n",
       "  </tbody>\n",
       "</table>\n",
       "</div>"
      ],
      "text/plain": [
       "   AccountUserID   TimeStamp             EventType                Date\n",
       "0        4614759  1383504875     Forum.Thread.View 2013-11-03 18:54:35\n",
       "1          80135  1380567303            Forum.Load 2013-09-30 18:55:03\n",
       "2        1026051  1379862686            Forum.Load 2013-09-22 15:11:26\n",
       "3        1913592  1383018165  Forum.Post.CommentOn 2013-10-29 03:42:45\n",
       "4        4405119  1383336975            Forum.Load 2013-11-01 20:16:15"
      ]
     },
     "execution_count": 15,
     "metadata": {},
     "output_type": "execute_result"
    }
   ],
   "source": [
    "df_Forum_Event['Date'] = pd.to_datetime(df_Forum_Event.TimeStamp,unit='s')\n",
    "df_Forum_Event.head()"
   ]
  },
  {
   "cell_type": "code",
   "execution_count": 16,
   "metadata": {
    "collapsed": false
   },
   "outputs": [
    {
     "data": {
      "text/html": [
       "<div>\n",
       "<table border=\"1\" class=\"dataframe\">\n",
       "  <thead>\n",
       "    <tr style=\"text-align: right;\">\n",
       "      <th></th>\n",
       "      <th>AccountUserID</th>\n",
       "      <th>SessionUserID</th>\n",
       "    </tr>\n",
       "  </thead>\n",
       "  <tbody>\n",
       "    <tr>\n",
       "      <th>0</th>\n",
       "      <td>2529860</td>\n",
       "      <td>14ebb474d9a4aafe060cec8a71e347bd2b0715c4</td>\n",
       "    </tr>\n",
       "    <tr>\n",
       "      <th>1</th>\n",
       "      <td>1248344</td>\n",
       "      <td>cf5dd7dab0d4a6e4fdef047c2702492b4e605612</td>\n",
       "    </tr>\n",
       "    <tr>\n",
       "      <th>2</th>\n",
       "      <td>4502711</td>\n",
       "      <td>0e3772a0d0c730b674e23ccd77762d950553332d</td>\n",
       "    </tr>\n",
       "    <tr>\n",
       "      <th>3</th>\n",
       "      <td>5446411</td>\n",
       "      <td>791c369b99056739c8dd314b8bf51f338b56c4e2</td>\n",
       "    </tr>\n",
       "    <tr>\n",
       "      <th>4</th>\n",
       "      <td>480153</td>\n",
       "      <td>6b3b32dcd5e9c6e13255583c9db1ff39c6827e6e</td>\n",
       "    </tr>\n",
       "  </tbody>\n",
       "</table>\n",
       "</div>"
      ],
      "text/plain": [
       "   AccountUserID                             SessionUserID\n",
       "0        2529860  14ebb474d9a4aafe060cec8a71e347bd2b0715c4\n",
       "1        1248344  cf5dd7dab0d4a6e4fdef047c2702492b4e605612\n",
       "2        4502711  0e3772a0d0c730b674e23ccd77762d950553332d\n",
       "3        5446411  791c369b99056739c8dd314b8bf51f338b56c4e2\n",
       "4         480153  6b3b32dcd5e9c6e13255583c9db1ff39c6827e6e"
      ]
     },
     "execution_count": 16,
     "metadata": {},
     "output_type": "execute_result"
    }
   ],
   "source": [
    "# Hopefully the table User_Hash_Mapping gives us the mapping between AccountUserID and SessionUserID\n",
    "df_User_Mapping = pd.read_csv(\n",
    "    'data/' + config['courseName'] + '_User_Hash_Mapping.csv',\n",
    "    na_values=['None']\n",
    ")\n",
    "df_User_Mapping = df_User_Mapping[['AccountUserID','SessionUserID']]\n",
    "df_User_Mapping.head()"
   ]
  },
  {
   "cell_type": "code",
   "execution_count": 17,
   "metadata": {
    "collapsed": false
   },
   "outputs": [
    {
     "name": "stdout",
     "output_type": "stream",
     "text": [
      "(788672, 4)\n",
      "(788672, 4)\n"
     ]
    },
    {
     "data": {
      "text/html": [
       "<div>\n",
       "<table border=\"1\" class=\"dataframe\">\n",
       "  <thead>\n",
       "    <tr style=\"text-align: right;\">\n",
       "      <th></th>\n",
       "      <th>SessionUserID</th>\n",
       "      <th>TimeStamp</th>\n",
       "      <th>EventType</th>\n",
       "      <th>Date</th>\n",
       "    </tr>\n",
       "  </thead>\n",
       "  <tbody>\n",
       "    <tr>\n",
       "      <th>0</th>\n",
       "      <td>891952df6b215ab231516a31d89afdb878dd2686</td>\n",
       "      <td>1383504875</td>\n",
       "      <td>Forum.Thread.View</td>\n",
       "      <td>2013-11-03 18:54:35</td>\n",
       "    </tr>\n",
       "    <tr>\n",
       "      <th>1</th>\n",
       "      <td>891952df6b215ab231516a31d89afdb878dd2686</td>\n",
       "      <td>1381572032</td>\n",
       "      <td>Forum.Load</td>\n",
       "      <td>2013-10-12 10:00:32</td>\n",
       "    </tr>\n",
       "    <tr>\n",
       "      <th>2</th>\n",
       "      <td>891952df6b215ab231516a31d89afdb878dd2686</td>\n",
       "      <td>1383255451</td>\n",
       "      <td>Forum.Thread.View</td>\n",
       "      <td>2013-10-31 21:37:31</td>\n",
       "    </tr>\n",
       "    <tr>\n",
       "      <th>3</th>\n",
       "      <td>891952df6b215ab231516a31d89afdb878dd2686</td>\n",
       "      <td>1383504856</td>\n",
       "      <td>Forum.Load</td>\n",
       "      <td>2013-11-03 18:54:16</td>\n",
       "    </tr>\n",
       "    <tr>\n",
       "      <th>4</th>\n",
       "      <td>891952df6b215ab231516a31d89afdb878dd2686</td>\n",
       "      <td>1383397358</td>\n",
       "      <td>Forum.Thread.View</td>\n",
       "      <td>2013-11-02 13:02:38</td>\n",
       "    </tr>\n",
       "  </tbody>\n",
       "</table>\n",
       "</div>"
      ],
      "text/plain": [
       "                              SessionUserID   TimeStamp          EventType  \\\n",
       "0  891952df6b215ab231516a31d89afdb878dd2686  1383504875  Forum.Thread.View   \n",
       "1  891952df6b215ab231516a31d89afdb878dd2686  1381572032         Forum.Load   \n",
       "2  891952df6b215ab231516a31d89afdb878dd2686  1383255451  Forum.Thread.View   \n",
       "3  891952df6b215ab231516a31d89afdb878dd2686  1383504856         Forum.Load   \n",
       "4  891952df6b215ab231516a31d89afdb878dd2686  1383397358  Forum.Thread.View   \n",
       "\n",
       "                 Date  \n",
       "0 2013-11-03 18:54:35  \n",
       "1 2013-10-12 10:00:32  \n",
       "2 2013-10-31 21:37:31  \n",
       "3 2013-11-03 18:54:16  \n",
       "4 2013-11-02 13:02:38  "
      ]
     },
     "execution_count": 17,
     "metadata": {},
     "output_type": "execute_result"
    }
   ],
   "source": [
    "print(df_Forum_Event.shape)\n",
    "df_Forum_Event = df_Forum_Event.merge(df_User_Mapping,on='AccountUserID')[['SessionUserID','TimeStamp','EventType','Date']]\n",
    "print(df_Forum_Event.shape)\n",
    "df_Forum_Event.head()"
   ]
  },
  {
   "cell_type": "markdown",
   "metadata": {},
   "source": [
    "### Concatenation"
   ]
  },
  {
   "cell_type": "code",
   "execution_count": 18,
   "metadata": {
    "collapsed": false,
    "scrolled": true
   },
   "outputs": [
    {
     "name": "stdout",
     "output_type": "stream",
     "text": [
      "{'assignments': 93770, 'videos': 9579761, 'forums': 788672}\n",
      "(10462203, 7)\n"
     ]
    },
    {
     "data": {
      "text/html": [
       "<div>\n",
       "<table border=\"1\" class=\"dataframe\">\n",
       "  <thead>\n",
       "    <tr style=\"text-align: right;\">\n",
       "      <th></th>\n",
       "      <th>Date</th>\n",
       "      <th>EventType</th>\n",
       "      <th>Grade</th>\n",
       "      <th>ProblemID</th>\n",
       "      <th>SessionUserID</th>\n",
       "      <th>TimeStamp</th>\n",
       "      <th>VideoID</th>\n",
       "    </tr>\n",
       "  </thead>\n",
       "  <tbody>\n",
       "    <tr>\n",
       "      <th>0</th>\n",
       "      <td>2013-11-20 08:11:48</td>\n",
       "      <td>Problem.Check</td>\n",
       "      <td>10.00</td>\n",
       "      <td>21.0</td>\n",
       "      <td>17bf18d86b2d7a5b7aa4cbe19816b7b55a50be24</td>\n",
       "      <td>1384935108</td>\n",
       "      <td>NaN</td>\n",
       "    </tr>\n",
       "    <tr>\n",
       "      <th>1</th>\n",
       "      <td>2013-11-07 04:26:49</td>\n",
       "      <td>Problem.Check</td>\n",
       "      <td>8.67</td>\n",
       "      <td>5.0</td>\n",
       "      <td>14923ce6698cd77ed1cdaa212f918d2315b507d2</td>\n",
       "      <td>1383798409</td>\n",
       "      <td>NaN</td>\n",
       "    </tr>\n",
       "    <tr>\n",
       "      <th>2</th>\n",
       "      <td>2013-10-27 18:56:52</td>\n",
       "      <td>Problem.Check</td>\n",
       "      <td>7.85</td>\n",
       "      <td>25.0</td>\n",
       "      <td>cfcdfcc87288668b7589e29b148f16d1f42c2385</td>\n",
       "      <td>1382900212</td>\n",
       "      <td>NaN</td>\n",
       "    </tr>\n",
       "    <tr>\n",
       "      <th>3</th>\n",
       "      <td>2013-09-29 21:59:09</td>\n",
       "      <td>Problem.Check</td>\n",
       "      <td>10.00</td>\n",
       "      <td>21.0</td>\n",
       "      <td>29beb1d096dd4e1f1b6735a75c44ad3b575ed66d</td>\n",
       "      <td>1380491949</td>\n",
       "      <td>NaN</td>\n",
       "    </tr>\n",
       "    <tr>\n",
       "      <th>4</th>\n",
       "      <td>2013-10-27 22:30:43</td>\n",
       "      <td>Problem.Check</td>\n",
       "      <td>9.63</td>\n",
       "      <td>22.0</td>\n",
       "      <td>4e26ed5717e85ad5d74800c2810b8fd59aa684a0</td>\n",
       "      <td>1382913043</td>\n",
       "      <td>NaN</td>\n",
       "    </tr>\n",
       "  </tbody>\n",
       "</table>\n",
       "</div>"
      ],
      "text/plain": [
       "                 Date      EventType  Grade  ProblemID  \\\n",
       "0 2013-11-20 08:11:48  Problem.Check  10.00       21.0   \n",
       "1 2013-11-07 04:26:49  Problem.Check   8.67        5.0   \n",
       "2 2013-10-27 18:56:52  Problem.Check   7.85       25.0   \n",
       "3 2013-09-29 21:59:09  Problem.Check  10.00       21.0   \n",
       "4 2013-10-27 22:30:43  Problem.Check   9.63       22.0   \n",
       "\n",
       "                              SessionUserID   TimeStamp  VideoID  \n",
       "0  17bf18d86b2d7a5b7aa4cbe19816b7b55a50be24  1384935108      NaN  \n",
       "1  14923ce6698cd77ed1cdaa212f918d2315b507d2  1383798409      NaN  \n",
       "2  cfcdfcc87288668b7589e29b148f16d1f42c2385  1382900212      NaN  \n",
       "3  29beb1d096dd4e1f1b6735a75c44ad3b575ed66d  1380491949      NaN  \n",
       "4  4e26ed5717e85ad5d74800c2810b8fd59aa684a0  1382913043      NaN  "
      ]
     },
     "execution_count": 18,
     "metadata": {},
     "output_type": "execute_result"
    }
   ],
   "source": [
    "lengths = {\n",
    "    'assignments': df_Assignment_Event.shape[0],\n",
    "    'videos': df_Video_Event.shape[0],\n",
    "    'forums': df_Forum_Event.shape[0]\n",
    "}\n",
    "print(lengths)\n",
    "[x,y] = [0,lengths['assignments']]\n",
    "df_Assignment_Event.index=range(x,y)\n",
    "[x,y] = [y,y+lengths['videos']]\n",
    "df_Video_Event.index=range(x,y)\n",
    "[x,y] = [y,y+lengths['forums']]\n",
    "df_Forum_Event.index=range(x,y)\n",
    "\n",
    "df_All_Event = pd.concat([df_Assignment_Event,df_Video_Event,df_Forum_Event])\n",
    "print(df_All_Event.shape)\n",
    "df_All_Event.head()"
   ]
  },
  {
   "cell_type": "code",
   "execution_count": 19,
   "metadata": {
    "collapsed": false
   },
   "outputs": [
    {
     "data": {
      "text/html": [
       "<div>\n",
       "<table border=\"1\" class=\"dataframe\">\n",
       "  <thead>\n",
       "    <tr style=\"text-align: right;\">\n",
       "      <th></th>\n",
       "      <th>Date</th>\n",
       "      <th>EventType</th>\n",
       "      <th>Grade</th>\n",
       "      <th>ProblemID</th>\n",
       "      <th>SessionUserID</th>\n",
       "      <th>TimeStamp</th>\n",
       "      <th>VideoID</th>\n",
       "      <th>EventTypeMain</th>\n",
       "      <th>EventTypeDetail</th>\n",
       "    </tr>\n",
       "  </thead>\n",
       "  <tbody>\n",
       "    <tr>\n",
       "      <th>0</th>\n",
       "      <td>2013-11-20 08:11:48</td>\n",
       "      <td>Problem.Check</td>\n",
       "      <td>10.00</td>\n",
       "      <td>21.0</td>\n",
       "      <td>17bf18d86b2d7a5b7aa4cbe19816b7b55a50be24</td>\n",
       "      <td>1384935108</td>\n",
       "      <td>NaN</td>\n",
       "      <td>Problem</td>\n",
       "      <td>Check</td>\n",
       "    </tr>\n",
       "    <tr>\n",
       "      <th>1</th>\n",
       "      <td>2013-11-07 04:26:49</td>\n",
       "      <td>Problem.Check</td>\n",
       "      <td>8.67</td>\n",
       "      <td>5.0</td>\n",
       "      <td>14923ce6698cd77ed1cdaa212f918d2315b507d2</td>\n",
       "      <td>1383798409</td>\n",
       "      <td>NaN</td>\n",
       "      <td>Problem</td>\n",
       "      <td>Check</td>\n",
       "    </tr>\n",
       "    <tr>\n",
       "      <th>2</th>\n",
       "      <td>2013-10-27 18:56:52</td>\n",
       "      <td>Problem.Check</td>\n",
       "      <td>7.85</td>\n",
       "      <td>25.0</td>\n",
       "      <td>cfcdfcc87288668b7589e29b148f16d1f42c2385</td>\n",
       "      <td>1382900212</td>\n",
       "      <td>NaN</td>\n",
       "      <td>Problem</td>\n",
       "      <td>Check</td>\n",
       "    </tr>\n",
       "    <tr>\n",
       "      <th>3</th>\n",
       "      <td>2013-09-29 21:59:09</td>\n",
       "      <td>Problem.Check</td>\n",
       "      <td>10.00</td>\n",
       "      <td>21.0</td>\n",
       "      <td>29beb1d096dd4e1f1b6735a75c44ad3b575ed66d</td>\n",
       "      <td>1380491949</td>\n",
       "      <td>NaN</td>\n",
       "      <td>Problem</td>\n",
       "      <td>Check</td>\n",
       "    </tr>\n",
       "    <tr>\n",
       "      <th>4</th>\n",
       "      <td>2013-10-27 22:30:43</td>\n",
       "      <td>Problem.Check</td>\n",
       "      <td>9.63</td>\n",
       "      <td>22.0</td>\n",
       "      <td>4e26ed5717e85ad5d74800c2810b8fd59aa684a0</td>\n",
       "      <td>1382913043</td>\n",
       "      <td>NaN</td>\n",
       "      <td>Problem</td>\n",
       "      <td>Check</td>\n",
       "    </tr>\n",
       "  </tbody>\n",
       "</table>\n",
       "</div>"
      ],
      "text/plain": [
       "                 Date      EventType  Grade  ProblemID  \\\n",
       "0 2013-11-20 08:11:48  Problem.Check  10.00       21.0   \n",
       "1 2013-11-07 04:26:49  Problem.Check   8.67        5.0   \n",
       "2 2013-10-27 18:56:52  Problem.Check   7.85       25.0   \n",
       "3 2013-09-29 21:59:09  Problem.Check  10.00       21.0   \n",
       "4 2013-10-27 22:30:43  Problem.Check   9.63       22.0   \n",
       "\n",
       "                              SessionUserID   TimeStamp  VideoID  \\\n",
       "0  17bf18d86b2d7a5b7aa4cbe19816b7b55a50be24  1384935108      NaN   \n",
       "1  14923ce6698cd77ed1cdaa212f918d2315b507d2  1383798409      NaN   \n",
       "2  cfcdfcc87288668b7589e29b148f16d1f42c2385  1382900212      NaN   \n",
       "3  29beb1d096dd4e1f1b6735a75c44ad3b575ed66d  1380491949      NaN   \n",
       "4  4e26ed5717e85ad5d74800c2810b8fd59aa684a0  1382913043      NaN   \n",
       "\n",
       "  EventTypeMain EventTypeDetail  \n",
       "0       Problem           Check  \n",
       "1       Problem           Check  \n",
       "2       Problem           Check  \n",
       "3       Problem           Check  \n",
       "4       Problem           Check  "
      ]
     },
     "execution_count": 19,
     "metadata": {},
     "output_type": "execute_result"
    }
   ],
   "source": [
    "df_All_Event['EventTypeMain'] = df_All_Event.EventType.apply(lambda x: x.split('.')[0])\n",
    "df_All_Event['EventTypeDetail'] = df_All_Event.EventType.apply(lambda x: x.split('.')[1])\n",
    "df_All_Event.head()"
   ]
  },
  {
   "cell_type": "code",
   "execution_count": 20,
   "metadata": {
    "collapsed": false
   },
   "outputs": [
    {
     "data": {
      "text/plain": [
       "Video      9579761\n",
       "Forum       788672\n",
       "Problem      93770\n",
       "Name: EventTypeMain, dtype: int64"
      ]
     },
     "execution_count": 20,
     "metadata": {},
     "output_type": "execute_result"
    }
   ],
   "source": [
    "df_All_Event.EventTypeMain.value_counts()"
   ]
  },
  {
   "cell_type": "markdown",
   "metadata": {},
   "source": [
    "## Data exploration and cleaning"
   ]
  },
  {
   "cell_type": "markdown",
   "metadata": {},
   "source": [
    "### User Grade"
   ]
  },
  {
   "cell_type": "code",
   "execution_count": 21,
   "metadata": {
    "collapsed": false
   },
   "outputs": [
    {
     "data": {
      "text/plain": [
       "Failed    39165\n",
       "Passed     5693\n",
       "Name: AchievementLevel, dtype: int64"
      ]
     },
     "execution_count": 21,
     "metadata": {},
     "output_type": "execute_result"
    }
   ],
   "source": [
    "successCounts = df_User_Grades.AchievementLevel.value_counts()\n",
    "successCounts"
   ]
  },
  {
   "cell_type": "code",
   "execution_count": 22,
   "metadata": {
    "collapsed": false
   },
   "outputs": [
    {
     "data": {
      "text/plain": [
       "{'MEAN': 0.14337990823197794, 'RMSE': 0.3059509345589115}"
      ]
     },
     "execution_count": 22,
     "metadata": {},
     "output_type": "execute_result"
    }
   ],
   "source": [
    "df_User_Grades['NormalisedGrade'] = df_User_Grades.Grade / 100\n",
    "df_User_Grades['Prediction'] = df_User_Grades.NormalisedGrade.mean()\n",
    "df_User_Grades['SE'] = (df_User_Grades.NormalisedGrade - df_User_Grades.Prediction)**2\n",
    "\n",
    "{\n",
    "    \"MEAN\": df_User_Grades.NormalisedGrade.mean(),\n",
    "    \"RMSE\": df_User_Grades.SE.mean()**0.5\n",
    "}"
   ]
  },
  {
   "cell_type": "markdown",
   "metadata": {},
   "source": [
    "### Assignment Events"
   ]
  },
  {
   "cell_type": "code",
   "execution_count": 23,
   "metadata": {
    "collapsed": false
   },
   "outputs": [
    {
     "data": {
      "text/plain": [
       "<matplotlib.axes._subplots.AxesSubplot at 0x7f54f60ae518>"
      ]
     },
     "execution_count": 23,
     "metadata": {},
     "output_type": "execute_result"
    },
    {
     "data": {
      "image/png": "[encoded data removed]",
      "text/plain": [
       "<matplotlib.figure.Figure at 0x7f547aa9cb38>"
      ]
     },
     "metadata": {},
     "output_type": "display_data"
    }
   ],
   "source": [
    "df_Assignment_Event.Grade.hist(bins=25)"
   ]
  },
  {
   "cell_type": "code",
   "execution_count": 24,
   "metadata": {
    "collapsed": false
   },
   "outputs": [
    {
     "data": {
      "text/plain": [
       "21    17242\n",
       "7     17034\n",
       "24    15536\n",
       "23    13694\n",
       "5     13541\n",
       "25     8512\n",
       "22     8176\n",
       "4        13\n",
       "1        13\n",
       "2         8\n",
       "3         1\n",
       "Name: ProblemID, dtype: int64"
      ]
     },
     "execution_count": 24,
     "metadata": {},
     "output_type": "execute_result"
    }
   ],
   "source": [
    "df_Assignment_Event.ProblemID.value_counts()"
   ]
  },
  {
   "cell_type": "code",
   "execution_count": 25,
   "metadata": {
    "collapsed": false
   },
   "outputs": [
    {
     "name": "stdout",
     "output_type": "stream",
     "text": [
      "(93770, 6)\n",
      "(93735, 6)\n"
     ]
    }
   ],
   "source": [
    "# removes 1234 which seem to be fake homeworks for testing\n",
    "print(df_Assignment_Event.shape)\n",
    "df_Assignment_Event = df_Assignment_Event[df_Assignment_Event.ProblemID>4]\n",
    "print(df_Assignment_Event.shape)"
   ]
  },
  {
   "cell_type": "code",
   "execution_count": 36,
   "metadata": {
    "collapsed": false
   },
   "outputs": [
    {
     "data": {
      "text/plain": [
       "<matplotlib.axes._subplots.AxesSubplot at 0x7f5466fa29b0>"
      ]
     },
     "execution_count": 36,
     "metadata": {},
     "output_type": "execute_result"
    },
    {
     "data": {
      "image/png": "[encoded data removed]",
      "text/plain": [
       "<matplotlib.figure.Figure at 0x7f5466f198d0>"
      ]
     },
     "metadata": {},
     "output_type": "display_data"
    }
   ],
   "source": [
    "df_Assignment_Event[df_Assignment_Event.TimeStamp<1.385e9].TimeStamp.hist(bins=50)"
   ]
  },
  {
   "cell_type": "code",
   "execution_count": 27,
   "metadata": {
    "collapsed": false
   },
   "outputs": [
    {
     "data": {
      "text/html": [
       "<div>\n",
       "<table border=\"1\" class=\"dataframe\">\n",
       "  <thead>\n",
       "    <tr style=\"text-align: right;\">\n",
       "      <th></th>\n",
       "      <th>SessionUserID</th>\n",
       "      <th>Grade</th>\n",
       "      <th>TimeStamp</th>\n",
       "      <th>ProblemID</th>\n",
       "      <th>EventType</th>\n",
       "      <th>Date</th>\n",
       "    </tr>\n",
       "  </thead>\n",
       "  <tbody>\n",
       "    <tr>\n",
       "      <th>37901</th>\n",
       "      <td>0002237e8792b2891a3373f32c5eb09853d6388d</td>\n",
       "      <td>9.98</td>\n",
       "      <td>1379456090</td>\n",
       "      <td>5</td>\n",
       "      <td>Problem.Check</td>\n",
       "      <td>2013-09-17 22:14:50</td>\n",
       "    </tr>\n",
       "    <tr>\n",
       "      <th>76220</th>\n",
       "      <td>0002237e8792b2891a3373f32c5eb09853d6388d</td>\n",
       "      <td>10.00</td>\n",
       "      <td>1379456218</td>\n",
       "      <td>5</td>\n",
       "      <td>Problem.Check</td>\n",
       "      <td>2013-09-17 22:16:58</td>\n",
       "    </tr>\n",
       "    <tr>\n",
       "      <th>41503</th>\n",
       "      <td>0002237e8792b2891a3373f32c5eb09853d6388d</td>\n",
       "      <td>10.00</td>\n",
       "      <td>1379458922</td>\n",
       "      <td>7</td>\n",
       "      <td>Problem.Check</td>\n",
       "      <td>2013-09-17 23:02:02</td>\n",
       "    </tr>\n",
       "    <tr>\n",
       "      <th>34371</th>\n",
       "      <td>0002237e8792b2891a3373f32c5eb09853d6388d</td>\n",
       "      <td>9.33</td>\n",
       "      <td>1379976032</td>\n",
       "      <td>21</td>\n",
       "      <td>Problem.Check</td>\n",
       "      <td>2013-09-23 22:40:32</td>\n",
       "    </tr>\n",
       "    <tr>\n",
       "      <th>82091</th>\n",
       "      <td>0002237e8792b2891a3373f32c5eb09853d6388d</td>\n",
       "      <td>10.00</td>\n",
       "      <td>1379978239</td>\n",
       "      <td>21</td>\n",
       "      <td>Problem.Check</td>\n",
       "      <td>2013-09-23 23:17:19</td>\n",
       "    </tr>\n",
       "    <tr>\n",
       "      <th>56939</th>\n",
       "      <td>0002237e8792b2891a3373f32c5eb09853d6388d</td>\n",
       "      <td>10.00</td>\n",
       "      <td>1380577948</td>\n",
       "      <td>24</td>\n",
       "      <td>Problem.Check</td>\n",
       "      <td>2013-09-30 21:52:28</td>\n",
       "    </tr>\n",
       "    <tr>\n",
       "      <th>22630</th>\n",
       "      <td>0002237e8792b2891a3373f32c5eb09853d6388d</td>\n",
       "      <td>8.36</td>\n",
       "      <td>1381667913</td>\n",
       "      <td>23</td>\n",
       "      <td>Problem.Check</td>\n",
       "      <td>2013-10-13 12:38:33</td>\n",
       "    </tr>\n",
       "    <tr>\n",
       "      <th>15786</th>\n",
       "      <td>0002237e8792b2891a3373f32c5eb09853d6388d</td>\n",
       "      <td>9.55</td>\n",
       "      <td>1381694929</td>\n",
       "      <td>23</td>\n",
       "      <td>Problem.Check</td>\n",
       "      <td>2013-10-13 20:08:49</td>\n",
       "    </tr>\n",
       "    <tr>\n",
       "      <th>48712</th>\n",
       "      <td>0002237e8792b2891a3373f32c5eb09853d6388d</td>\n",
       "      <td>10.00</td>\n",
       "      <td>1383255384</td>\n",
       "      <td>25</td>\n",
       "      <td>Problem.Check</td>\n",
       "      <td>2013-10-31 21:36:24</td>\n",
       "    </tr>\n",
       "    <tr>\n",
       "      <th>18532</th>\n",
       "      <td>0003cbc34de6e50ae7dee801ebbb1ba9e817681d</td>\n",
       "      <td>10.00</td>\n",
       "      <td>1379468548</td>\n",
       "      <td>5</td>\n",
       "      <td>Problem.Check</td>\n",
       "      <td>2013-09-18 01:42:28</td>\n",
       "    </tr>\n",
       "  </tbody>\n",
       "</table>\n",
       "</div>"
      ],
      "text/plain": [
       "                                  SessionUserID  Grade   TimeStamp  ProblemID  \\\n",
       "37901  0002237e8792b2891a3373f32c5eb09853d6388d   9.98  1379456090          5   \n",
       "76220  0002237e8792b2891a3373f32c5eb09853d6388d  10.00  1379456218          5   \n",
       "41503  0002237e8792b2891a3373f32c5eb09853d6388d  10.00  1379458922          7   \n",
       "34371  0002237e8792b2891a3373f32c5eb09853d6388d   9.33  1379976032         21   \n",
       "82091  0002237e8792b2891a3373f32c5eb09853d6388d  10.00  1379978239         21   \n",
       "56939  0002237e8792b2891a3373f32c5eb09853d6388d  10.00  1380577948         24   \n",
       "22630  0002237e8792b2891a3373f32c5eb09853d6388d   8.36  1381667913         23   \n",
       "15786  0002237e8792b2891a3373f32c5eb09853d6388d   9.55  1381694929         23   \n",
       "48712  0002237e8792b2891a3373f32c5eb09853d6388d  10.00  1383255384         25   \n",
       "18532  0003cbc34de6e50ae7dee801ebbb1ba9e817681d  10.00  1379468548          5   \n",
       "\n",
       "           EventType                Date  \n",
       "37901  Problem.Check 2013-09-17 22:14:50  \n",
       "76220  Problem.Check 2013-09-17 22:16:58  \n",
       "41503  Problem.Check 2013-09-17 23:02:02  \n",
       "34371  Problem.Check 2013-09-23 22:40:32  \n",
       "82091  Problem.Check 2013-09-23 23:17:19  \n",
       "56939  Problem.Check 2013-09-30 21:52:28  \n",
       "22630  Problem.Check 2013-10-13 12:38:33  \n",
       "15786  Problem.Check 2013-10-13 20:08:49  \n",
       "48712  Problem.Check 2013-10-31 21:36:24  \n",
       "18532  Problem.Check 2013-09-18 01:42:28  "
      ]
     },
     "execution_count": 27,
     "metadata": {},
     "output_type": "execute_result"
    }
   ],
   "source": [
    "df_Assignment_Event_sorted = df_Assignment_Event.sort_values(by=['SessionUserID','TimeStamp'])\n",
    "df_Assignment_Event_sorted.head(10)"
   ]
  },
  {
   "cell_type": "code",
   "execution_count": 28,
   "metadata": {
    "collapsed": false
   },
   "outputs": [
    {
     "data": {
      "text/html": [
       "<div>\n",
       "<table border=\"1\" class=\"dataframe\">\n",
       "  <thead>\n",
       "    <tr style=\"text-align: right;\">\n",
       "      <th></th>\n",
       "      <th>SessionUserID</th>\n",
       "      <th>Grade</th>\n",
       "      <th>TimeStamp</th>\n",
       "      <th>ProblemID</th>\n",
       "      <th>EventType</th>\n",
       "      <th>Date</th>\n",
       "    </tr>\n",
       "  </thead>\n",
       "  <tbody>\n",
       "    <tr>\n",
       "      <th>0</th>\n",
       "      <td>0002237e8792b2891a3373f32c5eb09853d6388d</td>\n",
       "      <td>9.98</td>\n",
       "      <td>1379456090</td>\n",
       "      <td>5</td>\n",
       "      <td>Problem.Check</td>\n",
       "      <td>2013-09-17 22:14:50</td>\n",
       "    </tr>\n",
       "    <tr>\n",
       "      <th>1</th>\n",
       "      <td>0002237e8792b2891a3373f32c5eb09853d6388d</td>\n",
       "      <td>10.00</td>\n",
       "      <td>1379456218</td>\n",
       "      <td>5</td>\n",
       "      <td>Problem.Check</td>\n",
       "      <td>2013-09-17 22:16:58</td>\n",
       "    </tr>\n",
       "    <tr>\n",
       "      <th>2</th>\n",
       "      <td>0002237e8792b2891a3373f32c5eb09853d6388d</td>\n",
       "      <td>10.00</td>\n",
       "      <td>1379458922</td>\n",
       "      <td>7</td>\n",
       "      <td>Problem.Check</td>\n",
       "      <td>2013-09-17 23:02:02</td>\n",
       "    </tr>\n",
       "    <tr>\n",
       "      <th>3</th>\n",
       "      <td>0002237e8792b2891a3373f32c5eb09853d6388d</td>\n",
       "      <td>9.33</td>\n",
       "      <td>1379976032</td>\n",
       "      <td>21</td>\n",
       "      <td>Problem.Check</td>\n",
       "      <td>2013-09-23 22:40:32</td>\n",
       "    </tr>\n",
       "    <tr>\n",
       "      <th>4</th>\n",
       "      <td>0002237e8792b2891a3373f32c5eb09853d6388d</td>\n",
       "      <td>10.00</td>\n",
       "      <td>1379978239</td>\n",
       "      <td>21</td>\n",
       "      <td>Problem.Check</td>\n",
       "      <td>2013-09-23 23:17:19</td>\n",
       "    </tr>\n",
       "    <tr>\n",
       "      <th>5</th>\n",
       "      <td>0002237e8792b2891a3373f32c5eb09853d6388d</td>\n",
       "      <td>10.00</td>\n",
       "      <td>1380577948</td>\n",
       "      <td>24</td>\n",
       "      <td>Problem.Check</td>\n",
       "      <td>2013-09-30 21:52:28</td>\n",
       "    </tr>\n",
       "    <tr>\n",
       "      <th>6</th>\n",
       "      <td>0002237e8792b2891a3373f32c5eb09853d6388d</td>\n",
       "      <td>8.36</td>\n",
       "      <td>1381667913</td>\n",
       "      <td>23</td>\n",
       "      <td>Problem.Check</td>\n",
       "      <td>2013-10-13 12:38:33</td>\n",
       "    </tr>\n",
       "    <tr>\n",
       "      <th>7</th>\n",
       "      <td>0002237e8792b2891a3373f32c5eb09853d6388d</td>\n",
       "      <td>9.55</td>\n",
       "      <td>1381694929</td>\n",
       "      <td>23</td>\n",
       "      <td>Problem.Check</td>\n",
       "      <td>2013-10-13 20:08:49</td>\n",
       "    </tr>\n",
       "    <tr>\n",
       "      <th>8</th>\n",
       "      <td>0002237e8792b2891a3373f32c5eb09853d6388d</td>\n",
       "      <td>10.00</td>\n",
       "      <td>1383255384</td>\n",
       "      <td>25</td>\n",
       "      <td>Problem.Check</td>\n",
       "      <td>2013-10-31 21:36:24</td>\n",
       "    </tr>\n",
       "    <tr>\n",
       "      <th>9</th>\n",
       "      <td>0003cbc34de6e50ae7dee801ebbb1ba9e817681d</td>\n",
       "      <td>10.00</td>\n",
       "      <td>1379468548</td>\n",
       "      <td>5</td>\n",
       "      <td>Problem.Check</td>\n",
       "      <td>2013-09-18 01:42:28</td>\n",
       "    </tr>\n",
       "  </tbody>\n",
       "</table>\n",
       "</div>"
      ],
      "text/plain": [
       "                              SessionUserID  Grade   TimeStamp  ProblemID  \\\n",
       "0  0002237e8792b2891a3373f32c5eb09853d6388d   9.98  1379456090          5   \n",
       "1  0002237e8792b2891a3373f32c5eb09853d6388d  10.00  1379456218          5   \n",
       "2  0002237e8792b2891a3373f32c5eb09853d6388d  10.00  1379458922          7   \n",
       "3  0002237e8792b2891a3373f32c5eb09853d6388d   9.33  1379976032         21   \n",
       "4  0002237e8792b2891a3373f32c5eb09853d6388d  10.00  1379978239         21   \n",
       "5  0002237e8792b2891a3373f32c5eb09853d6388d  10.00  1380577948         24   \n",
       "6  0002237e8792b2891a3373f32c5eb09853d6388d   8.36  1381667913         23   \n",
       "7  0002237e8792b2891a3373f32c5eb09853d6388d   9.55  1381694929         23   \n",
       "8  0002237e8792b2891a3373f32c5eb09853d6388d  10.00  1383255384         25   \n",
       "9  0003cbc34de6e50ae7dee801ebbb1ba9e817681d  10.00  1379468548          5   \n",
       "\n",
       "       EventType                Date  \n",
       "0  Problem.Check 2013-09-17 22:14:50  \n",
       "1  Problem.Check 2013-09-17 22:16:58  \n",
       "2  Problem.Check 2013-09-17 23:02:02  \n",
       "3  Problem.Check 2013-09-23 22:40:32  \n",
       "4  Problem.Check 2013-09-23 23:17:19  \n",
       "5  Problem.Check 2013-09-30 21:52:28  \n",
       "6  Problem.Check 2013-10-13 12:38:33  \n",
       "7  Problem.Check 2013-10-13 20:08:49  \n",
       "8  Problem.Check 2013-10-31 21:36:24  \n",
       "9  Problem.Check 2013-09-18 01:42:28  "
      ]
     },
     "execution_count": 28,
     "metadata": {},
     "output_type": "execute_result"
    }
   ],
   "source": [
    "# The index has gone crazy, useless, but we can reset it !\n",
    "df_Assignment_Event_sorted.reset_index(drop=True, inplace=True)\n",
    "df_Assignment_Event_sorted.head(10)"
   ]
  },
  {
   "cell_type": "code",
   "execution_count": 29,
   "metadata": {
    "collapsed": false
   },
   "outputs": [
    {
     "data": {
      "text/html": [
       "<div>\n",
       "<table border=\"1\" class=\"dataframe\">\n",
       "  <thead>\n",
       "    <tr style=\"text-align: right;\">\n",
       "      <th></th>\n",
       "      <th></th>\n",
       "      <th>Grade</th>\n",
       "      <th>TimeStamp</th>\n",
       "      <th>EventType</th>\n",
       "      <th>Date</th>\n",
       "    </tr>\n",
       "    <tr>\n",
       "      <th>SessionUserID</th>\n",
       "      <th>ProblemID</th>\n",
       "      <th></th>\n",
       "      <th></th>\n",
       "      <th></th>\n",
       "      <th></th>\n",
       "    </tr>\n",
       "  </thead>\n",
       "  <tbody>\n",
       "    <tr>\n",
       "      <th rowspan=\"6\" valign=\"top\">0002237e8792b2891a3373f32c5eb09853d6388d</th>\n",
       "      <th>5</th>\n",
       "      <td>(9.97999954224, 10.0)</td>\n",
       "      <td>(1379456090, 1379456218)</td>\n",
       "      <td>(Problem.Check, Problem.Check)</td>\n",
       "      <td>(2013-09-17 22:14:50, 2013-09-17 22:16:58)</td>\n",
       "    </tr>\n",
       "    <tr>\n",
       "      <th>7</th>\n",
       "      <td>(10.0,)</td>\n",
       "      <td>(1379458922,)</td>\n",
       "      <td>(Problem.Check,)</td>\n",
       "      <td>(2013-09-17 23:02:02,)</td>\n",
       "    </tr>\n",
       "    <tr>\n",
       "      <th>21</th>\n",
       "      <td>(9.32999992371, 10.0)</td>\n",
       "      <td>(1379976032, 1379978239)</td>\n",
       "      <td>(Problem.Check, Problem.Check)</td>\n",
       "      <td>(2013-09-23 22:40:32, 2013-09-23 23:17:19)</td>\n",
       "    </tr>\n",
       "    <tr>\n",
       "      <th>23</th>\n",
       "      <td>(8.35999965668, 9.55000019073)</td>\n",
       "      <td>(1381667913, 1381694929)</td>\n",
       "      <td>(Problem.Check, Problem.Check)</td>\n",
       "      <td>(2013-10-13 12:38:33, 2013-10-13 20:08:49)</td>\n",
       "    </tr>\n",
       "    <tr>\n",
       "      <th>24</th>\n",
       "      <td>(10.0,)</td>\n",
       "      <td>(1380577948,)</td>\n",
       "      <td>(Problem.Check,)</td>\n",
       "      <td>(2013-09-30 21:52:28,)</td>\n",
       "    </tr>\n",
       "    <tr>\n",
       "      <th>25</th>\n",
       "      <td>(10.0,)</td>\n",
       "      <td>(1383255384,)</td>\n",
       "      <td>(Problem.Check,)</td>\n",
       "      <td>(2013-10-31 21:36:24,)</td>\n",
       "    </tr>\n",
       "    <tr>\n",
       "      <th rowspan=\"3\" valign=\"top\">0003cbc34de6e50ae7dee801ebbb1ba9e817681d</th>\n",
       "      <th>5</th>\n",
       "      <td>(10.0,)</td>\n",
       "      <td>(1379468548,)</td>\n",
       "      <td>(Problem.Check,)</td>\n",
       "      <td>(2013-09-18 01:42:28,)</td>\n",
       "    </tr>\n",
       "    <tr>\n",
       "      <th>7</th>\n",
       "      <td>(10.0,)</td>\n",
       "      <td>(1379886314,)</td>\n",
       "      <td>(Problem.Check,)</td>\n",
       "      <td>(2013-09-22 21:45:14,)</td>\n",
       "    </tr>\n",
       "    <tr>\n",
       "      <th>21</th>\n",
       "      <td>(9.97999954224, 10.0)</td>\n",
       "      <td>(1380421319, 1380421495)</td>\n",
       "      <td>(Problem.Check, Problem.Check)</td>\n",
       "      <td>(2013-09-29 02:21:59, 2013-09-29 02:24:55)</td>\n",
       "    </tr>\n",
       "    <tr>\n",
       "      <th rowspan=\"2\" valign=\"top\">000491411c1ce97b50359c971a935c71f72d5dd1</th>\n",
       "      <th>5</th>\n",
       "      <td>(3.32999992371,)</td>\n",
       "      <td>(1379425798,)</td>\n",
       "      <td>(Problem.Check,)</td>\n",
       "      <td>(2013-09-17 13:49:58,)</td>\n",
       "    </tr>\n",
       "    <tr>\n",
       "      <th>7</th>\n",
       "      <td>(9.57999992371, 9.57999992371, 10.0)</td>\n",
       "      <td>(1379864616, 1379865673, 1379867238)</td>\n",
       "      <td>(Problem.Check, Problem.Check, Problem.Check)</td>\n",
       "      <td>(2013-09-22 15:43:36, 2013-09-22 16:01:13, 201...</td>\n",
       "    </tr>\n",
       "    <tr>\n",
       "      <th>000b22f5ddf8947c5b36082fbdf7657cef83d28a</th>\n",
       "      <th>7</th>\n",
       "      <td>(9.80000019073,)</td>\n",
       "      <td>(1380033581,)</td>\n",
       "      <td>(Problem.Check,)</td>\n",
       "      <td>(2013-09-24 14:39:41,)</td>\n",
       "    </tr>\n",
       "    <tr>\n",
       "      <th>00241f6235827b4de729c204bfcd35763f482410</th>\n",
       "      <th>7</th>\n",
       "      <td>(9.57999992371, 9.57999992371)</td>\n",
       "      <td>(1380059427, 1380102400)</td>\n",
       "      <td>(Problem.Check, Problem.Check)</td>\n",
       "      <td>(2013-09-24 21:50:27, 2013-09-25 09:46:40)</td>\n",
       "    </tr>\n",
       "    <tr>\n",
       "      <th rowspan=\"6\" valign=\"top\">002839c05f5aa460b840f81585e341b8941b232c</th>\n",
       "      <th>5</th>\n",
       "      <td>(8.67000007629, 10.0, 10.0)</td>\n",
       "      <td>(1379785574, 1379786030, 1379871690)</td>\n",
       "      <td>(Problem.Check, Problem.Check, Problem.Check)</td>\n",
       "      <td>(2013-09-21 17:46:14, 2013-09-21 17:53:50, 201...</td>\n",
       "    </tr>\n",
       "    <tr>\n",
       "      <th>7</th>\n",
       "      <td>(10.0,)</td>\n",
       "      <td>(1379788062,)</td>\n",
       "      <td>(Problem.Check,)</td>\n",
       "      <td>(2013-09-21 18:27:42,)</td>\n",
       "    </tr>\n",
       "    <tr>\n",
       "      <th>21</th>\n",
       "      <td>(8.31000041962, 10.0)</td>\n",
       "      <td>(1379960627, 1379963538)</td>\n",
       "      <td>(Problem.Check, Problem.Check)</td>\n",
       "      <td>(2013-09-23 18:23:47, 2013-09-23 19:12:18)</td>\n",
       "    </tr>\n",
       "    <tr>\n",
       "      <th>22</th>\n",
       "      <td>(9.64999961853, 10.0)</td>\n",
       "      <td>(1383394948, 1383396192)</td>\n",
       "      <td>(Problem.Check, Problem.Check)</td>\n",
       "      <td>(2013-11-02 12:22:28, 2013-11-02 12:43:12)</td>\n",
       "    </tr>\n",
       "    <tr>\n",
       "      <th>23</th>\n",
       "      <td>(10.0,)</td>\n",
       "      <td>(1381086260,)</td>\n",
       "      <td>(Problem.Check,)</td>\n",
       "      <td>(2013-10-06 19:04:20,)</td>\n",
       "    </tr>\n",
       "    <tr>\n",
       "      <th>24</th>\n",
       "      <td>(10.0,)</td>\n",
       "      <td>(1380906958,)</td>\n",
       "      <td>(Problem.Check,)</td>\n",
       "      <td>(2013-10-04 17:15:58,)</td>\n",
       "    </tr>\n",
       "  </tbody>\n",
       "</table>\n",
       "</div>"
      ],
      "text/plain": [
       "                                                                                   Grade  \\\n",
       "SessionUserID                            ProblemID                                         \n",
       "0002237e8792b2891a3373f32c5eb09853d6388d 5                         (9.97999954224, 10.0)   \n",
       "                                         7                                       (10.0,)   \n",
       "                                         21                        (9.32999992371, 10.0)   \n",
       "                                         23               (8.35999965668, 9.55000019073)   \n",
       "                                         24                                      (10.0,)   \n",
       "                                         25                                      (10.0,)   \n",
       "0003cbc34de6e50ae7dee801ebbb1ba9e817681d 5                                       (10.0,)   \n",
       "                                         7                                       (10.0,)   \n",
       "                                         21                        (9.97999954224, 10.0)   \n",
       "000491411c1ce97b50359c971a935c71f72d5dd1 5                              (3.32999992371,)   \n",
       "                                         7          (9.57999992371, 9.57999992371, 10.0)   \n",
       "000b22f5ddf8947c5b36082fbdf7657cef83d28a 7                              (9.80000019073,)   \n",
       "00241f6235827b4de729c204bfcd35763f482410 7                (9.57999992371, 9.57999992371)   \n",
       "002839c05f5aa460b840f81585e341b8941b232c 5                   (8.67000007629, 10.0, 10.0)   \n",
       "                                         7                                       (10.0,)   \n",
       "                                         21                        (8.31000041962, 10.0)   \n",
       "                                         22                        (9.64999961853, 10.0)   \n",
       "                                         23                                      (10.0,)   \n",
       "                                         24                                      (10.0,)   \n",
       "\n",
       "                                                                               TimeStamp  \\\n",
       "SessionUserID                            ProblemID                                         \n",
       "0002237e8792b2891a3373f32c5eb09853d6388d 5                      (1379456090, 1379456218)   \n",
       "                                         7                                 (1379458922,)   \n",
       "                                         21                     (1379976032, 1379978239)   \n",
       "                                         23                     (1381667913, 1381694929)   \n",
       "                                         24                                (1380577948,)   \n",
       "                                         25                                (1383255384,)   \n",
       "0003cbc34de6e50ae7dee801ebbb1ba9e817681d 5                                 (1379468548,)   \n",
       "                                         7                                 (1379886314,)   \n",
       "                                         21                     (1380421319, 1380421495)   \n",
       "000491411c1ce97b50359c971a935c71f72d5dd1 5                                 (1379425798,)   \n",
       "                                         7          (1379864616, 1379865673, 1379867238)   \n",
       "000b22f5ddf8947c5b36082fbdf7657cef83d28a 7                                 (1380033581,)   \n",
       "00241f6235827b4de729c204bfcd35763f482410 7                      (1380059427, 1380102400)   \n",
       "002839c05f5aa460b840f81585e341b8941b232c 5          (1379785574, 1379786030, 1379871690)   \n",
       "                                         7                                 (1379788062,)   \n",
       "                                         21                     (1379960627, 1379963538)   \n",
       "                                         22                     (1383394948, 1383396192)   \n",
       "                                         23                                (1381086260,)   \n",
       "                                         24                                (1380906958,)   \n",
       "\n",
       "                                                                                        EventType  \\\n",
       "SessionUserID                            ProblemID                                                  \n",
       "0002237e8792b2891a3373f32c5eb09853d6388d 5                         (Problem.Check, Problem.Check)   \n",
       "                                         7                                       (Problem.Check,)   \n",
       "                                         21                        (Problem.Check, Problem.Check)   \n",
       "                                         23                        (Problem.Check, Problem.Check)   \n",
       "                                         24                                      (Problem.Check,)   \n",
       "                                         25                                      (Problem.Check,)   \n",
       "0003cbc34de6e50ae7dee801ebbb1ba9e817681d 5                                       (Problem.Check,)   \n",
       "                                         7                                       (Problem.Check,)   \n",
       "                                         21                        (Problem.Check, Problem.Check)   \n",
       "000491411c1ce97b50359c971a935c71f72d5dd1 5                                       (Problem.Check,)   \n",
       "                                         7          (Problem.Check, Problem.Check, Problem.Check)   \n",
       "000b22f5ddf8947c5b36082fbdf7657cef83d28a 7                                       (Problem.Check,)   \n",
       "00241f6235827b4de729c204bfcd35763f482410 7                         (Problem.Check, Problem.Check)   \n",
       "002839c05f5aa460b840f81585e341b8941b232c 5          (Problem.Check, Problem.Check, Problem.Check)   \n",
       "                                         7                                       (Problem.Check,)   \n",
       "                                         21                        (Problem.Check, Problem.Check)   \n",
       "                                         22                        (Problem.Check, Problem.Check)   \n",
       "                                         23                                      (Problem.Check,)   \n",
       "                                         24                                      (Problem.Check,)   \n",
       "\n",
       "                                                                                                 Date  \n",
       "SessionUserID                            ProblemID                                                     \n",
       "0002237e8792b2891a3373f32c5eb09853d6388d 5                 (2013-09-17 22:14:50, 2013-09-17 22:16:58)  \n",
       "                                         7                                     (2013-09-17 23:02:02,)  \n",
       "                                         21                (2013-09-23 22:40:32, 2013-09-23 23:17:19)  \n",
       "                                         23                (2013-10-13 12:38:33, 2013-10-13 20:08:49)  \n",
       "                                         24                                    (2013-09-30 21:52:28,)  \n",
       "                                         25                                    (2013-10-31 21:36:24,)  \n",
       "0003cbc34de6e50ae7dee801ebbb1ba9e817681d 5                                     (2013-09-18 01:42:28,)  \n",
       "                                         7                                     (2013-09-22 21:45:14,)  \n",
       "                                         21                (2013-09-29 02:21:59, 2013-09-29 02:24:55)  \n",
       "000491411c1ce97b50359c971a935c71f72d5dd1 5                                     (2013-09-17 13:49:58,)  \n",
       "                                         7          (2013-09-22 15:43:36, 2013-09-22 16:01:13, 201...  \n",
       "000b22f5ddf8947c5b36082fbdf7657cef83d28a 7                                     (2013-09-24 14:39:41,)  \n",
       "00241f6235827b4de729c204bfcd35763f482410 7                 (2013-09-24 21:50:27, 2013-09-25 09:46:40)  \n",
       "002839c05f5aa460b840f81585e341b8941b232c 5          (2013-09-21 17:46:14, 2013-09-21 17:53:50, 201...  \n",
       "                                         7                                     (2013-09-21 18:27:42,)  \n",
       "                                         21                (2013-09-23 18:23:47, 2013-09-23 19:12:18)  \n",
       "                                         22                (2013-11-02 12:22:28, 2013-11-02 12:43:12)  \n",
       "                                         23                                    (2013-10-06 19:04:20,)  \n",
       "                                         24                                    (2013-10-04 17:15:58,)  "
      ]
     },
     "execution_count": 29,
     "metadata": {},
     "output_type": "execute_result"
    }
   ],
   "source": [
    "# found this here: \n",
    "# http://stackoverflow.com/questions/19530568/can-pandas-groupby-aggregate-into-a-list-rather-than-sum-mean-etc\n",
    "# the big idea is to be able to manipulate the tuples with something like apply(func) later on.\n",
    "df_Assignment_Event_sorted.groupby(['SessionUserID','ProblemID']).agg(lambda x: tuple(x)).head(19)"
   ]
  },
  {
   "cell_type": "markdown",
   "metadata": {},
   "source": [
    "### Video Events"
   ]
  },
  {
   "cell_type": "code",
   "execution_count": 30,
   "metadata": {
    "collapsed": false
   },
   "outputs": [
    {
     "data": {
      "text/plain": [
       "Video.Seek           2664248\n",
       "Video.Play           2221592\n",
       "Video.Pause          1979796\n",
       "Video.SpeedChange    1291352\n",
       "Video.Load            673020\n",
       "Video.Download        451310\n",
       "Video.Stalled         208316\n",
       "Video.Error            90127\n",
       "Name: EventType, dtype: int64"
      ]
     },
     "execution_count": 30,
     "metadata": {},
     "output_type": "execute_result"
    }
   ],
   "source": [
    "# Need to make sense out of these event types\n",
    "df_Video_Event.EventType.value_counts()"
   ]
  },
  {
   "cell_type": "code",
   "execution_count": 31,
   "metadata": {
    "collapsed": false
   },
   "outputs": [
    {
     "name": "stdout",
     "output_type": "stream",
     "text": [
      "Average number of video event per student: 291.089669\n"
     ]
    },
    {
     "data": {
      "text/plain": [
       "071595118ab0975ac4ebb2b7c9324f7b20b54d1c    21402\n",
       "fc6602de8ded6cc166f4090a832995281b281d80    17095\n",
       "03632775e3be3ffd7e2588c701d8e481f7905949    12436\n",
       "8af73845bdb2e1eb56fcac3f5e297b0fc34f8ebc    11719\n",
       "de7967fd6151f717b4f24cc0668c92b2481ac356    11678\n",
       "91df1e1461722cbb4aa61d5ae286fe98f82e7a39    11676\n",
       "9ad21054193e3895e2b2a00235ad9c6304917515    11245\n",
       "829a573901d78a82fbd90506805f28ebf66ad9a4     9999\n",
       "71a424d548d206ed6e51aa98f5efe93875b13523     9982\n",
       "9d01503705d8dc2905dbf23609b6b0f49547769c     9023\n",
       "Name: SessionUserID, dtype: int64"
      ]
     },
     "execution_count": 31,
     "metadata": {},
     "output_type": "execute_result"
    }
   ],
   "source": [
    "counts = df_Video_Event.SessionUserID.value_counts()\n",
    "print(\"Average number of video event per student: %f\" % counts.mean())\n",
    "counts.head(10)"
   ]
  },
  {
   "cell_type": "code",
   "execution_count": 32,
   "metadata": {
    "collapsed": false
   },
   "outputs": [
    {
     "name": "stdout",
     "output_type": "stream",
     "text": [
      "[  1   2   3   4   5   6   7   8  14  15  16  17  18  20  21  22  23  24\n",
      "  25  26  27  29  30  33  34  35  36  37  38  39  40  41  43  44  47  48\n",
      "  49  51  52  53  54  71  73  75  77  79  81  83  85  87  89  91  93  95\n",
      "  97 101 103 104 105 107 109 111 112 113 115 117 119 121 123 125 127]\n"
     ]
    },
    {
     "data": {
      "text/plain": [
       "<matplotlib.axes._subplots.AxesSubplot at 0x7f53cd8c4b38>"
      ]
     },
     "execution_count": 32,
     "metadata": {},
     "output_type": "execute_result"
    },
    {
     "data": {
      "image/png": "[encoded data removed]",
      "text/plain": [
       "<matplotlib.figure.Figure at 0x7f53cd8c43c8>"
      ]
     },
     "metadata": {},
     "output_type": "display_data"
    }
   ],
   "source": [
    "VideoIdList = df_Video_Event.VideoID.unique()\n",
    "VideoIdList.sort()\n",
    "print(VideoIdList)\n",
    "bins = range(df_Video_Event.VideoID.min(),df_Video_Event.VideoID.max()+1)\n",
    "df_Video_Event.VideoID.hist(bins=bins)"
   ]
  },
  {
   "cell_type": "code",
   "execution_count": 33,
   "metadata": {
    "collapsed": false
   },
   "outputs": [
    {
     "data": {
      "text/html": [
       "<div>\n",
       "<table border=\"1\" class=\"dataframe\">\n",
       "  <thead>\n",
       "    <tr style=\"text-align: right;\">\n",
       "      <th></th>\n",
       "      <th>SessionUserID</th>\n",
       "      <th>TimeStamp</th>\n",
       "      <th>VideoID</th>\n",
       "      <th>EventType</th>\n",
       "      <th>Date</th>\n",
       "    </tr>\n",
       "  </thead>\n",
       "  <tbody>\n",
       "    <tr>\n",
       "      <th>0</th>\n",
       "      <td>00013c772eb39aea395bc893d9569e298f6e184a</td>\n",
       "      <td>1388682416</td>\n",
       "      <td>27</td>\n",
       "      <td>Video.Load</td>\n",
       "      <td>2014-01-02 17:06:56</td>\n",
       "    </tr>\n",
       "    <tr>\n",
       "      <th>1</th>\n",
       "      <td>00013c772eb39aea395bc893d9569e298f6e184a</td>\n",
       "      <td>1388682648</td>\n",
       "      <td>8</td>\n",
       "      <td>Video.Load</td>\n",
       "      <td>2014-01-02 17:10:48</td>\n",
       "    </tr>\n",
       "    <tr>\n",
       "      <th>2</th>\n",
       "      <td>00013c772eb39aea395bc893d9569e298f6e184a</td>\n",
       "      <td>1389412268</td>\n",
       "      <td>51</td>\n",
       "      <td>Video.Load</td>\n",
       "      <td>2014-01-11 03:51:08</td>\n",
       "    </tr>\n",
       "    <tr>\n",
       "      <th>3</th>\n",
       "      <td>00013c772eb39aea395bc893d9569e298f6e184a</td>\n",
       "      <td>1389549429</td>\n",
       "      <td>21</td>\n",
       "      <td>Video.Load</td>\n",
       "      <td>2014-01-12 17:57:09</td>\n",
       "    </tr>\n",
       "    <tr>\n",
       "      <th>4</th>\n",
       "      <td>00013c772eb39aea395bc893d9569e298f6e184a</td>\n",
       "      <td>1389549671</td>\n",
       "      <td>8</td>\n",
       "      <td>Video.Load</td>\n",
       "      <td>2014-01-12 18:01:11</td>\n",
       "    </tr>\n",
       "  </tbody>\n",
       "</table>\n",
       "</div>"
      ],
      "text/plain": [
       "                              SessionUserID   TimeStamp  VideoID   EventType  \\\n",
       "0  00013c772eb39aea395bc893d9569e298f6e184a  1388682416       27  Video.Load   \n",
       "1  00013c772eb39aea395bc893d9569e298f6e184a  1388682648        8  Video.Load   \n",
       "2  00013c772eb39aea395bc893d9569e298f6e184a  1389412268       51  Video.Load   \n",
       "3  00013c772eb39aea395bc893d9569e298f6e184a  1389549429       21  Video.Load   \n",
       "4  00013c772eb39aea395bc893d9569e298f6e184a  1389549671        8  Video.Load   \n",
       "\n",
       "                 Date  \n",
       "0 2014-01-02 17:06:56  \n",
       "1 2014-01-02 17:10:48  \n",
       "2 2014-01-11 03:51:08  \n",
       "3 2014-01-12 17:57:09  \n",
       "4 2014-01-12 18:01:11  "
      ]
     },
     "execution_count": 33,
     "metadata": {},
     "output_type": "execute_result"
    }
   ],
   "source": [
    "df_Video_Event_sorted = df_Video_Event.sort_values(by=['SessionUserID','TimeStamp'])\n",
    "df_Video_Event_sorted.reset_index(drop=True, inplace=True)\n",
    "df_Video_Event_sorted.head(5)"
   ]
  },
  {
   "cell_type": "markdown",
   "metadata": {
    "collapsed": true
   },
   "source": [
    "### All Events"
   ]
  },
  {
   "cell_type": "code",
   "execution_count": 34,
   "metadata": {
    "collapsed": false
   },
   "outputs": [
    {
     "data": {
      "text/html": [
       "<div>\n",
       "<table border=\"1\" class=\"dataframe\">\n",
       "  <thead>\n",
       "    <tr style=\"text-align: right;\">\n",
       "      <th></th>\n",
       "      <th>Date</th>\n",
       "      <th>EventType</th>\n",
       "      <th>Grade</th>\n",
       "      <th>ProblemID</th>\n",
       "      <th>SessionUserID</th>\n",
       "      <th>TimeStamp</th>\n",
       "      <th>VideoID</th>\n",
       "      <th>EventTypeMain</th>\n",
       "      <th>EventTypeDetail</th>\n",
       "    </tr>\n",
       "  </thead>\n",
       "  <tbody>\n",
       "    <tr>\n",
       "      <th>0</th>\n",
       "      <td>2014-01-02 17:06:56</td>\n",
       "      <td>Video.Load</td>\n",
       "      <td>NaN</td>\n",
       "      <td>NaN</td>\n",
       "      <td>00013c772eb39aea395bc893d9569e298f6e184a</td>\n",
       "      <td>1388682416</td>\n",
       "      <td>27.0</td>\n",
       "      <td>Video</td>\n",
       "      <td>Load</td>\n",
       "    </tr>\n",
       "    <tr>\n",
       "      <th>1</th>\n",
       "      <td>2014-01-02 17:10:48</td>\n",
       "      <td>Video.Load</td>\n",
       "      <td>NaN</td>\n",
       "      <td>NaN</td>\n",
       "      <td>00013c772eb39aea395bc893d9569e298f6e184a</td>\n",
       "      <td>1388682648</td>\n",
       "      <td>8.0</td>\n",
       "      <td>Video</td>\n",
       "      <td>Load</td>\n",
       "    </tr>\n",
       "    <tr>\n",
       "      <th>2</th>\n",
       "      <td>2014-01-02 17:22:58</td>\n",
       "      <td>Forum.Load</td>\n",
       "      <td>NaN</td>\n",
       "      <td>NaN</td>\n",
       "      <td>00013c772eb39aea395bc893d9569e298f6e184a</td>\n",
       "      <td>1388683378</td>\n",
       "      <td>NaN</td>\n",
       "      <td>Forum</td>\n",
       "      <td>Load</td>\n",
       "    </tr>\n",
       "    <tr>\n",
       "      <th>3</th>\n",
       "      <td>2014-01-02 17:23:08</td>\n",
       "      <td>Forum.Load</td>\n",
       "      <td>NaN</td>\n",
       "      <td>NaN</td>\n",
       "      <td>00013c772eb39aea395bc893d9569e298f6e184a</td>\n",
       "      <td>1388683388</td>\n",
       "      <td>NaN</td>\n",
       "      <td>Forum</td>\n",
       "      <td>Load</td>\n",
       "    </tr>\n",
       "    <tr>\n",
       "      <th>4</th>\n",
       "      <td>2014-01-05 15:08:15</td>\n",
       "      <td>Forum.Load</td>\n",
       "      <td>NaN</td>\n",
       "      <td>NaN</td>\n",
       "      <td>00013c772eb39aea395bc893d9569e298f6e184a</td>\n",
       "      <td>1388934495</td>\n",
       "      <td>NaN</td>\n",
       "      <td>Forum</td>\n",
       "      <td>Load</td>\n",
       "    </tr>\n",
       "  </tbody>\n",
       "</table>\n",
       "</div>"
      ],
      "text/plain": [
       "                 Date   EventType  Grade  ProblemID  \\\n",
       "0 2014-01-02 17:06:56  Video.Load    NaN        NaN   \n",
       "1 2014-01-02 17:10:48  Video.Load    NaN        NaN   \n",
       "2 2014-01-02 17:22:58  Forum.Load    NaN        NaN   \n",
       "3 2014-01-02 17:23:08  Forum.Load    NaN        NaN   \n",
       "4 2014-01-05 15:08:15  Forum.Load    NaN        NaN   \n",
       "\n",
       "                              SessionUserID   TimeStamp  VideoID  \\\n",
       "0  00013c772eb39aea395bc893d9569e298f6e184a  1388682416     27.0   \n",
       "1  00013c772eb39aea395bc893d9569e298f6e184a  1388682648      8.0   \n",
       "2  00013c772eb39aea395bc893d9569e298f6e184a  1388683378      NaN   \n",
       "3  00013c772eb39aea395bc893d9569e298f6e184a  1388683388      NaN   \n",
       "4  00013c772eb39aea395bc893d9569e298f6e184a  1388934495      NaN   \n",
       "\n",
       "  EventTypeMain EventTypeDetail  \n",
       "0         Video            Load  \n",
       "1         Video            Load  \n",
       "2         Forum            Load  \n",
       "3         Forum            Load  \n",
       "4         Forum            Load  "
      ]
     },
     "execution_count": 34,
     "metadata": {},
     "output_type": "execute_result"
    }
   ],
   "source": [
    "df_All_Event_sorted = df_All_Event.sort_values(by=['SessionUserID','TimeStamp'])\n",
    "df_All_Event_sorted.reset_index(drop=True, inplace=True)\n",
    "df_All_Event_sorted.head()"
   ]
  }
 ],
 "metadata": {
  "anaconda-cloud": {},
  "kernelspec": {
   "display_name": "Python [conda root]",
   "language": "python",
   "name": "conda-root-py"
  },
  "language_info": {
   "codemirror_mode": {
    "name": "ipython",
    "version": 3
   },
   "file_extension": ".py",
   "mimetype": "text/x-python",
   "name": "python",
   "nbconvert_exporter": "python",
   "pygments_lexer": "ipython3",
   "version": "3.5.2"
  }
 },
 "nbformat": 4,
 "nbformat_minor": 0
}
